{
 "cells": [
  {
   "cell_type": "markdown",
   "id": "83ec3d3e-c4c7-4c04-bcd0-7cf3fb1aee6e",
   "metadata": {
    "jp-MarkdownHeadingCollapsed": true,
    "tags": []
   },
   "source": [
    "## 二叉树"
   ]
  },
  {
   "cell_type": "code",
   "execution_count": 86,
   "id": "a805984d-4495-4021-845e-593832554a3f",
   "metadata": {
    "tags": []
   },
   "outputs": [],
   "source": [
    "class TreeNode:\n",
    "    \n",
    "    def __init__(self, val):\n",
    "        self.val = val\n",
    "        self.left, self.right = None, None"
   ]
  },
  {
   "cell_type": "markdown",
   "id": "8315ebb1-b863-4f39-8fd8-d6937b8cf76e",
   "metadata": {
    "jp-MarkdownHeadingCollapsed": true,
    "tags": []
   },
   "source": [
    "### 二叉树的遍历"
   ]
  },
  {
   "cell_type": "code",
   "execution_count": 87,
   "id": "690c11ba-dd21-4a4a-ac18-f7c4bf64a289",
   "metadata": {
    "tags": []
   },
   "outputs": [],
   "source": [
    "\"\"\"\n",
    "     1\n",
    "   /  \\\n",
    "  2    3\n",
    " / \\   /\n",
    "4   5  7\n",
    "\"\"\"\n",
    "root = TreeNode(1)\n",
    "root.left = TreeNode(2)\n",
    "root.right = TreeNode(3)\n",
    "root.left.left = TreeNode(4)\n",
    "root.left.right = TreeNode(5)\n",
    "root.right.left = TreeNode(7)"
   ]
  },
  {
   "cell_type": "code",
   "execution_count": 93,
   "id": "0ae66b07-71f8-413e-9867-631e7e74c155",
   "metadata": {
    "tags": []
   },
   "outputs": [],
   "source": [
    "result = []\n",
    "# 根左右\n",
    "def preorder(root: TreeNode):\n",
    "    if root == None:\n",
    "        return\n",
    "    result.append(root.val)\n",
    "    preorder(root.left)\n",
    "    preorder(root.right)"
   ]
  },
  {
   "cell_type": "code",
   "execution_count": 107,
   "id": "d890ace5-019a-4b3d-a54b-52a4d5cd2618",
   "metadata": {
    "tags": []
   },
   "outputs": [],
   "source": [
    "def preorder(root: TreeNode):\n",
    "    \"\"\"非递归形式\n",
    "    1. 从栈中弹出一个结点\n",
    "    2. 打印当前结点\n",
    "    3. 如果当前结点有右孩子将右孩子压进栈中\n",
    "    4. 如果当前结点有左孩子将左孩子压进栈中\n",
    "    \"\"\"\n",
    "    if root == None:\n",
    "        return []\n",
    "    stack, result = [], []\n",
    "    stack.append(root)\n",
    "    while stack:\n",
    "        root = stack.pop()\n",
    "        result.append(root.val)\n",
    "        if root.right:\n",
    "            stack.append(root.right)\n",
    "        if root.left:\n",
    "            stack.append(root.left)\n",
    "    return result"
   ]
  },
  {
   "cell_type": "code",
   "execution_count": 108,
   "id": "9e7777eb-0f4e-4e5d-b72c-1e4424396ff1",
   "metadata": {
    "tags": []
   },
   "outputs": [
    {
     "name": "stdout",
     "output_type": "stream",
     "text": [
      "preorder traversal: [1, 2, 4, 5, 3, 7]\n"
     ]
    }
   ],
   "source": [
    "print(f'preorder traversal: {preorder(root)}')"
   ]
  },
  {
   "cell_type": "code",
   "execution_count": 16,
   "id": "71793b29-bd6f-4b0e-82d6-f74d2d2285ef",
   "metadata": {
    "tags": []
   },
   "outputs": [],
   "source": [
    "result = []\n",
    "# 左根右\n",
    "def inorder(root: TreeNode):\n",
    "    if root == None:\n",
    "        return\n",
    "    inorder(root.left)\n",
    "    result.append(root.val)\n",
    "    inorder(root.right)"
   ]
  },
  {
   "cell_type": "code",
   "execution_count": 104,
   "id": "ca694c90-a8d8-4917-9dd1-54d59a1baa5c",
   "metadata": {
    "tags": []
   },
   "outputs": [],
   "source": [
    "def inorder(root: TreeNode):\n",
    "    \"\"\"非递归形式\n",
    "    1. 整棵树的左子树进栈\n",
    "    2. 依次弹出的过程中打印当前结点\n",
    "    3. 对当前结点的右子树周而复始\n",
    "    \"\"\"\n",
    "    if root == None:\n",
    "        return []\n",
    "    result, stack = [], []\n",
    "    while stack or root != None:\n",
    "        if root != None:\n",
    "            stack.append(root)\n",
    "            root = root.left\n",
    "        else:\n",
    "            root = stack.pop()\n",
    "            result.append(root.val)\n",
    "            root = root.right\n",
    "    return result"
   ]
  },
  {
   "cell_type": "code",
   "execution_count": 105,
   "id": "28ee4683-add2-4a38-9576-bde75417aff4",
   "metadata": {
    "tags": []
   },
   "outputs": [
    {
     "name": "stdout",
     "output_type": "stream",
     "text": [
      "inorder traversal: [4, 2, 5, 1, 7, 3]\n"
     ]
    }
   ],
   "source": [
    "\"\"\"\n",
    "     1\n",
    "   /  \\\n",
    "  2    3\n",
    " / \\   /\n",
    "4   5  7\n",
    "\"\"\"\n",
    "\n",
    "print(f'inorder traversal: {inorder(root)}')"
   ]
  },
  {
   "cell_type": "code",
   "execution_count": 17,
   "id": "9344eb89-4772-4a54-b4b5-a86d21a5216f",
   "metadata": {
    "tags": []
   },
   "outputs": [],
   "source": [
    "result = []\n",
    "# 左右根\n",
    "def postorder(root: TreeNode):\n",
    "    if root == None:\n",
    "        return\n",
    "    postorder(root.left)\n",
    "    postorder(root.right)\n",
    "    result.append(root.val)"
   ]
  },
  {
   "cell_type": "code",
   "execution_count": null,
   "id": "510f0f94-3cba-42f1-bd47-447d61234688",
   "metadata": {},
   "outputs": [],
   "source": [
    "def postorder(root: TreeNode):\n",
    "    \"\"\"非递归形式\n",
    "    \"\"\"\n",
    "    if root == None:\n",
    "        return []\n",
    "    result, stack = [], []\n",
    "    stack.append(root)\n",
    "    while stack:\n",
    "        pass"
   ]
  },
  {
   "cell_type": "code",
   "execution_count": 18,
   "id": "736d8c47-548d-4f0a-b25e-21b38a8c84fc",
   "metadata": {
    "tags": []
   },
   "outputs": [
    {
     "name": "stdout",
     "output_type": "stream",
     "text": [
      "postorder traversal: [4, 5, 2, 7, 3, 1]\n"
     ]
    }
   ],
   "source": [
    "postorder(root)\n",
    "print(f'postorder traversal: {result}')"
   ]
  },
  {
   "cell_type": "code",
   "execution_count": 24,
   "id": "1bd02042-32a1-48c9-9065-0b9c6b283629",
   "metadata": {
    "tags": []
   },
   "outputs": [],
   "source": [
    "def levelorder(root):\n",
    "    if root == None:\n",
    "        return []\n",
    "    import collections\n",
    "    deque = collections.deque()\n",
    "    deque.append(root)\n",
    "    result = []\n",
    "    while deque:\n",
    "        size = len(deque)\n",
    "        tmp = []\n",
    "        for _ in range(size):\n",
    "            node = deque.popleft()\n",
    "            if node.left:\n",
    "                deque.append(node.left)\n",
    "            if node.right:\n",
    "                deque.append(node.right)\n",
    "            tmp.append(node.val)\n",
    "        result.append(tmp)\n",
    "    return result"
   ]
  },
  {
   "cell_type": "code",
   "execution_count": 25,
   "id": "9d710907-1aec-4b2c-ac30-32908748e6e3",
   "metadata": {
    "tags": []
   },
   "outputs": [
    {
     "name": "stdout",
     "output_type": "stream",
     "text": [
      "levelorder traversal: [[1], [2, 3], [4, 5, 7]]\n"
     ]
    }
   ],
   "source": [
    "print(f'levelorder traversal: {levelorder(root)}')"
   ]
  },
  {
   "cell_type": "markdown",
   "id": "95f6d57d-8419-463e-987a-969dbea6e052",
   "metadata": {
    "jp-MarkdownHeadingCollapsed": true,
    "tags": []
   },
   "source": [
    "#### Morris 遍历"
   ]
  },
  {
   "cell_type": "code",
   "execution_count": null,
   "id": "7bb6b474-88c5-4977-b2f3-8db1a4607f14",
   "metadata": {},
   "outputs": [],
   "source": []
  },
  {
   "cell_type": "markdown",
   "id": "2d632bad-ef89-4656-9e6d-00959b75b969",
   "metadata": {
    "jp-MarkdownHeadingCollapsed": true,
    "tags": []
   },
   "source": [
    "### 求二叉树的高度"
   ]
  },
  {
   "cell_type": "code",
   "execution_count": 20,
   "id": "684501d6-a651-4e08-ae25-5beba938eead",
   "metadata": {
    "tags": []
   },
   "outputs": [],
   "source": [
    "def height(root):\n",
    "    if root == None:\n",
    "        return 0\n",
    "    return max(height(root.left), height(root.right)) + 1"
   ]
  },
  {
   "cell_type": "code",
   "execution_count": 21,
   "id": "50eff649-c7c4-44d9-ac83-0ee354d6b70a",
   "metadata": {
    "tags": []
   },
   "outputs": [
    {
     "name": "stdout",
     "output_type": "stream",
     "text": [
      "height: 3\n"
     ]
    }
   ],
   "source": [
    "print(f'height: {height(root)}')"
   ]
  },
  {
   "cell_type": "markdown",
   "id": "74e1a8d8-2a11-44bb-9a76-ee91ff0b0422",
   "metadata": {},
   "source": []
  },
  {
   "cell_type": "code",
   "execution_count": 26,
   "id": "e570955c-84b5-4a3f-a567-599aa1c34399",
   "metadata": {
    "tags": []
   },
   "outputs": [],
   "source": [
    "def isFullTree(root):\n",
    "    \"\"\"判断一棵树是不是满二叉树\n",
    "    \"\"\"\n",
    "    if root == None:\n",
    "        return True\n",
    "    if root.left == None and root.right == None:\n",
    "        return True\n",
    "    if root.left != None and root.right != None:\n",
    "        return isFullTree(root.left) and isFullTree(root.right)\n",
    "    return False"
   ]
  },
  {
   "cell_type": "code",
   "execution_count": 28,
   "id": "2e0d6c8a-f28e-454c-a117-ce2a0e5b443c",
   "metadata": {
    "tags": []
   },
   "outputs": [
    {
     "name": "stdout",
     "output_type": "stream",
     "text": [
      "isFullTree: False\n"
     ]
    }
   ],
   "source": [
    "print(f'isFullTree: {isFullTree(root)}')"
   ]
  },
  {
   "cell_type": "code",
   "execution_count": null,
   "id": "24016424-0244-40ec-9799-30b1e9b8d7f1",
   "metadata": {},
   "outputs": [],
   "source": [
    "def isCompleteTree(root):\n",
    "    \"\"\"判断一棵树是不是完全二叉树\n",
    "    方法1：\n",
    "    1. 任一结点右孩子没左孩子则不是完全二叉树\n",
    "    2. 如果遇到了第一个左右孩子不全的结点，那么后续结点必须是叶子结点\n",
    "    方法2：\n",
    "    1. 对于一棵完全二叉树来说出现空结点的情况只能是在最后一层\n",
    "    2. 如果空结点的后续还有结点的存在那么必然不是完全二叉树\n",
    "    \"\"\"\n",
    "    if root == None:\n",
    "        return True\n",
    "    import collections\n",
    "    dq = collections.deque()\n",
    "    dq.append(root)\n",
    "    last = True\n",
    "    while dq:\n",
    "        size = len(dq)\n",
    "        for i in range(size):\n",
    "            temp = dq.popleft()\n",
    "            if temp == None:\n",
    "                last = False\n",
    "            else:\n",
    "                if last == False:\n",
    "                    return False\n",
    "                dq.append(temp.left)\n",
    "                dq.append(temp.right)\n",
    "    return True"
   ]
  },
  {
   "cell_type": "code",
   "execution_count": null,
   "id": "3ef842a2-fed5-40f5-b4e2-36593e9495d6",
   "metadata": {},
   "outputs": [],
   "source": []
  },
  {
   "cell_type": "markdown",
   "id": "99c360ca-0d5e-4541-a9f8-233769c0fc5f",
   "metadata": {},
   "source": [
    "2. 判断一棵树是不是平衡二叉树\n",
    "\n",
    "平衡二叉树定义如下：\n",
    "\n",
    "1. 左子树和右子树高度差的绝对值小于等于 1\n",
    "2. 左子树和右子树都是平衡二叉树"
   ]
  },
  {
   "cell_type": "code",
   "execution_count": null,
   "id": "720efd59-319f-4a09-b8a5-4797988694c8",
   "metadata": {},
   "outputs": [],
   "source": [
    "def isBalancedTree(root):\n",
    "    if root == None:\n",
    "        return True, 0\n",
    "    left = isBalancedTree(root.left)\n",
    "    right = isBalancedTree(root.right)\n",
    "    height = 1 + max(right[1], left[1])\n",
    "    # 左子树是平衡的右子树是平衡的并且左右子树的高度差小于2\n",
    "    return left[0] and right[0] and abs(right[1] - left[1]) < 2, height"
   ]
  },
  {
   "cell_type": "markdown",
   "id": "7de7393f-057a-439a-aae7-25a7fc52ec2a",
   "metadata": {},
   "source": [
    "#### 树型 DP\n"
   ]
  },
  {
   "cell_type": "markdown",
   "id": "5b2b4fe1-8898-4f2e-ba4d-740993c48412",
   "metadata": {},
   "source": [
    "3. 给定两个二叉树的结点 ```node1``` 和 ```node2```，找到他们的最近公共祖先结点"
   ]
  },
  {
   "cell_type": "code",
   "execution_count": null,
   "id": "e335bb10-1bc4-403f-a6b1-76e083251095",
   "metadata": {},
   "outputs": [],
   "source": [
    "def solution1(root, o1, o2):\n",
    "    pass"
   ]
  },
  {
   "cell_type": "code",
   "execution_count": null,
   "id": "8c6f3c9e-8698-4cad-9235-6bc37afa4461",
   "metadata": {},
   "outputs": [],
   "source": [
    "def solution2(root, o1, o2):\n",
    "    if root == None or root == o1 or root == o2:\n",
    "        return root\n",
    "    left = solution2(root.left, o1, o2)\n",
    "    right = solution2(root.right, o1, o2)\n",
    "    # o1 和 o2 在左右子树之中\n",
    "    if left != None and right != None:\n",
    "        return root\n",
    "    return left if left else right"
   ]
  },
  {
   "cell_type": "markdown",
   "id": "edbf1125-ea9e-4716-9ff3-944170cff902",
   "metadata": {},
   "source": [
    "4. 在二叉树中找到一个结点的后记结点，二叉树结点的定义如下：\n",
    "\n",
    "```python\n",
    "class TreeNode:\n",
    "    \n",
    "    def __init__(self, val):\n",
    "        self.val = val\n",
    "        self.parent, self.left, self.right = None, None, None\n",
    "```"
   ]
  },
  {
   "cell_type": "code",
   "execution_count": null,
   "id": "b6fc1041-5efc-43bf-86ed-e945140923b7",
   "metadata": {},
   "outputs": [],
   "source": []
  },
  {
   "cell_type": "markdown",
   "id": "57b0fdec-475d-4ecb-ac59-6c44413112f1",
   "metadata": {},
   "source": [
    "5. 二叉树的序列化与反序列化"
   ]
  },
  {
   "cell_type": "code",
   "execution_count": null,
   "id": "6db29109-5869-483c-8d67-5eb79769b1f6",
   "metadata": {},
   "outputs": [],
   "source": [
    "def save(root):\n",
    "    result = []\n",
    "    def preorder(root):\n",
    "        if root == None:\n",
    "            result.append('#!')\n",
    "            return\n",
    "        result.append(str(root.val))\n",
    "        result.append('!') # 分隔符\n",
    "        preorder(root.left)\n",
    "        preorder(root.right)\n",
    "        return\n",
    "    save(root)\n",
    "    return ''.join(result)\n",
    "\n",
    "def load(s):\n",
    "    def buildTree(dq):\n",
    "        value = dq.popleft()\n",
    "        if value == '#':\n",
    "            return None\n",
    "        root = TreeNode(int(value))\n",
    "        root.left = buildTree(dq)\n",
    "        root.right = buildTree(dq)\n",
    "        return root\n",
    "    import collections\n",
    "    dq = collections.deque()\n",
    "    values = s.split('!')\n",
    "    for i in range(len(values)):\n",
    "        dq.append(values[i])\n",
    "    return buildTree(dq)"
   ]
  },
  {
   "cell_type": "markdown",
   "id": "25f08ce5-5b36-4661-94ac-628a4ae59228",
   "metadata": {},
   "source": [
    "6. 折纸问题\n",
    "\n",
    "请把一段纸条放在桌子上，然后从纸条的下边向上方对着一次，压出折痕后展开。此时折痕是凹下去的，即折痕突起的方向指向纸条的背面。如果从纸条的下边向上方连续对折两次，压出折痕后展开，此时有三条折痕，从上到下依次是下折痕，下折痕和上折痕。给定一个输入参数 $N$ 代表纸条从下边向上方连续对折 $N$ 次。请从上到下打印所有折痕的方向。\n",
    "\n",
    "例如：\n",
    "\n",
    "| N | result |\n",
    "| :--: | :--: |\n",
    "| 1 | down |\n",
    "| 2 | down down up |\n",
    "| 3 | down down up down down up up |"
   ]
  },
  {
   "cell_type": "code",
   "execution_count": 2,
   "id": "c149cc25-2cdf-41f9-a0f7-dc6c71c6223c",
   "metadata": {},
   "outputs": [],
   "source": [
    "def solution(level, N, down):\n",
    "    if level > N:\n",
    "        return\n",
    "    solution(level + 1, N, True)\n",
    "    print('down' if down else 'up', end=' ')\n",
    "    solution(level + 1, N, False)"
   ]
  },
  {
   "cell_type": "code",
   "execution_count": 6,
   "id": "cf12440f-ba68-4f49-a2ad-93d8527618ca",
   "metadata": {
    "tags": []
   },
   "outputs": [
    {
     "name": "stdout",
     "output_type": "stream",
     "text": [
      "down down up down down up up "
     ]
    }
   ],
   "source": [
    "solution(1, 3, True)"
   ]
  },
  {
   "cell_type": "markdown",
   "id": "00b8e649-72b9-4ee2-8b08-1ed2b516b48d",
   "metadata": {
    "jp-MarkdownHeadingCollapsed": true,
    "tags": []
   },
   "source": [
    "## 哈夫曼编码\n",
    "\n",
    "通常的编码方法有等长编码和不等长编码两种。\n",
    "\n",
    "**等长编码**：所有字符的编码长度相等，n 个不同的字符需要 $\\lceil log(n) \\rceil$ 位编码。\n",
    "\n",
    "**不等长编码**：经常使用的字符编码较短，不常用的字符编码较长。不等长编码方法需要解决两个关键问题：\n",
    "\n",
    "1. 编码尽可能短\n",
    "2. 不能有二义性\n",
    "\n",
    "哈夫曼编码是将所要编码的字符作为叶子结点，将该字符在文件中的使用频率作为叶子结点的权值，以自底向上的方式，通过$n - 1$次 “合并” 构造哈夫曼树。\n",
    "\n",
    "哈夫曼编码的核心思想：权值大的叶子离根近\n",
    "\n",
    "哈夫曼算法的贪心策略：每次从树的集合中取出没有双亲且权值最小的两棵树作为左右子树，构造一棵新树，新树根结点的权值为其左右孩子结点权值之和，并将新树插入树的集合中。"
   ]
  },
  {
   "cell_type": "code",
   "execution_count": null,
   "id": "fc598bb3-b302-45e9-a5e4-fb4b76913c2d",
   "metadata": {},
   "outputs": [],
   "source": [
    "class TreeNode:\n",
    "    \n",
    "    def __init__(self, weight, val):\n",
    "        self.val = val\n",
    "        self.weight = weight\n",
    "        self.parent, self.left, self.right = None, None, None"
   ]
  },
  {
   "cell_type": "markdown",
   "id": "f3e9fe0e-3d82-494f-bb84-6d630d7b4cbb",
   "metadata": {
    "jp-MarkdownHeadingCollapsed": true,
    "tags": []
   },
   "source": [
    "## 二叉搜索树\n",
    "\n",
    "二叉搜索树，也称二叉查找树、有序二叉树（Ordered Binary Tree）、排序二叉树（Sorted Binary Tree），是指一颗空树或具有下列性质的二叉树\n",
    "\n",
    "1. 若二叉搜索树的左子树不为空，则其左子树上**所有点**的值均小于它的根结点的值\n",
    "2. 若二叉搜索树的右子树不为空，则其右子树上**所有点**的值均大于它的根结点的值\n",
    "3. 以此类推：左右子树也分别为二叉查找树"
   ]
  },
  {
   "cell_type": "code",
   "execution_count": 10,
   "id": "dfcb530d-c916-4543-9b1f-de5cc7260234",
   "metadata": {},
   "outputs": [],
   "source": [
    "class BinarySearchTree:\n",
    "\n",
    "    class TreeNode:\n",
    "    \n",
    "        def __init__(self, val):\n",
    "            self.val = val\n",
    "            self.left, self.right = None, None\n",
    "\n",
    "    def __init__(self):\n",
    "        self.root = None\n",
    "    \n",
    "    def insert(self, val):\n",
    "        \"\"\"在二叉搜索树中不允许出现两个值相等的结点\n",
    "        \"\"\"\n",
    "        def _insert(root, val):\n",
    "            if root == None:\n",
    "                return type(self).TreeNode(val)\n",
    "            if val < root.val:\n",
    "                root.left = _insert(root.left, val)\n",
    "            else:\n",
    "                root.right = _insert(root.right, val)\n",
    "            return root\n",
    "        self.root = _insert(self.root, val)\n",
    "    \n",
    "    def remove(self, val):\n",
    "        def _remove(root, val):\n",
    "            if root is None:\n",
    "                return root\n",
    "            # 要删除的结点在左子树\n",
    "            if val < root.val:\n",
    "                root.left = _remove(root.left, val)\n",
    "            # 要删除的结点在右子树中\n",
    "            elif(val > root.val):\n",
    "                root.right = _remove(root.right, val)\n",
    "            else:\n",
    "                # 如果该结点只有一个孩子\n",
    "                if root.left == None:\n",
    "                    temp = root.right\n",
    "                    root = None\n",
    "                    return temp\n",
    "                elif root.right == None:\n",
    "                    temp = root.left\n",
    "                    root = None\n",
    "                    return temp\n",
    "                # 如果该结点有两个孩子\n",
    "                # 那么就将大于该结点的值的第一个结点放到当前位置\n",
    "                temp = root.right\n",
    "                while temp.left:\n",
    "                    temp = temp.left\n",
    "                root.val = temp.val\n",
    "                # 然后删除第一个大于该结点的结点\n",
    "                root.right = _remove(root.right, temp.val)\n",
    "            return root\n",
    "        self.root = _remove(self.root, val)\n",
    "    \n",
    "    def search(self, val):\n",
    "        root = self.root\n",
    "        while root:\n",
    "            if val == root.val:\n",
    "                return True\n",
    "            elif val < root.val:\n",
    "                root = root.left\n",
    "            else:\n",
    "                root = root.right\n",
    "        return False"
   ]
  },
  {
   "cell_type": "code",
   "execution_count": 15,
   "id": "2d4fcde7-b338-46b6-8aa7-e8f4fb368b57",
   "metadata": {
    "tags": []
   },
   "outputs": [
    {
     "name": "stdout",
     "output_type": "stream",
     "text": [
      "Search 5: False\n",
      "Search 6: True\n"
     ]
    }
   ],
   "source": [
    "bst = BinarySearchTree()\n",
    "\n",
    "\"\"\"\n",
    "        8\n",
    "       / \\\n",
    "      3   10\n",
    "     / \\    \\\n",
    "    1   6    14\n",
    "       / \\\n",
    "      4   7\n",
    "\"\"\"\n",
    "\n",
    "bst.insert(8)\n",
    "bst.insert(3)\n",
    "bst.insert(1)\n",
    "bst.insert(6)\n",
    "bst.insert(7)\n",
    "bst.insert(10)\n",
    "bst.insert(14)\n",
    "bst.insert(4)\n",
    "print(f'Search 5: {bst.search(5)}')\n",
    "print(f'Search 6: {bst.search(6)}')\n",
    "\"\"\"\n",
    "        8\n",
    "       / \\\n",
    "      4   10\n",
    "     / \\    \\\n",
    "    1   6    14\n",
    "         \\\n",
    "          7\n",
    "\"\"\"\n",
    "bst.remove(3)"
   ]
  },
  {
   "cell_type": "markdown",
   "id": "bc20ef37-320d-47ee-8a16-5b4060778966",
   "metadata": {
    "tags": []
   },
   "source": [
    "#### 如何判断一棵树是不是二叉搜索树\n",
    "\n",
    "由于二叉搜索树在中不存在相同的值，并且中序遍历得到的序列是递增的，所以判断得到序列的单调性就可以了"
   ]
  },
  {
   "cell_type": "code",
   "execution_count": null,
   "id": "cf19e7b4-ea5b-453a-ad6d-2e8bbb22f802",
   "metadata": {},
   "outputs": [],
   "source": [
    "preValue = -1\n",
    "def validBST(root):\n",
    "    if root == None:\n",
    "        return True\n",
    "    if not validBST(root.left):\n",
    "        return False\n",
    "    if root.val <= preValue:\n",
    "        return False\n",
    "    else:\n",
    "        preValue = root.val\n",
    "    return validBST(root.right)"
   ]
  },
  {
   "cell_type": "markdown",
   "id": "fc47c107-1b38-43bf-a15e-578ff8bde6f8",
   "metadata": {
    "tags": []
   },
   "source": [
    "## AVL 树\n",
    "\n",
    "AVL 树是一种平衡的二叉搜索树，AVL 树的性质如下：\n",
    "\n",
    "1. 空树是一颗 AVL 树\n",
    "2. 如果 T 是一棵 AVL 树，那么其左右子树也是 AVL 树，并且 $abs(h(left), h(right))<=1$，$h(left), h(right)$是其左右子树的高度\n",
    "3. 树高为 $log(n)$\n",
    "4. 平衡因子为：$h(right)-h(left)$"
   ]
  },
  {
   "cell_type": "code",
   "execution_count": null,
   "id": "beabab41-f1c9-4a38-9eec-c7354bed3f89",
   "metadata": {},
   "outputs": [],
   "source": [
    "class AVLTree:\n",
    "    \n",
    "    class TreeNode:\n",
    "        \n",
    "        def __init__(self, val):\n",
    "            self.left, self.right = None, None\n",
    "            self.height = 1\n",
    "            self.val = val\n",
    "    \n",
    "    def __init__(self):\n",
    "        self.root = None\n",
    "    \n",
    "    def _insert(self, root, val):\n",
    "        if root == None:\n",
    "            return type(self).TreeNode(val)\n",
    "        elif val < root.val:\n",
    "            root.left = self._insert(root.left, val)\n",
    "        else:\n",
    "            root.right = self._insert(root.right, val)\n",
    "        # 更新树的高度\n",
    "        root.height = 1 + max(self.Height(root.left), self.Height(root.right))\n",
    "        # 获取平衡因子\n",
    "        bf = self.BF(root)\n",
    "        if bf > 1:\n",
    "            if val < root.left.val:\n",
    "                return self._rightRotate(root)\n",
    "            else:\n",
    "                root.left = self._leftRotate(root.left)\n",
    "                return self._rightRotate(root)\n",
    "        if bf < -1:\n",
    "            if val > root.right.val:\n",
    "                return self._leftRotate(root)\n",
    "            else:\n",
    "                root.right = self._rightRotate(root.right)\n",
    "                return self._leftRotate(root)\n",
    "        return root\n",
    "    \n",
    "    def Height(self, root):\n",
    "        if root == None:\n",
    "            return 0\n",
    "        return root.height\n",
    "    \n",
    "    def BF(self, root):\n",
    "        if root == None:\n",
    "            return 0\n",
    "        return self.Height(root.left) - self.Height(root.right)\n",
    "    \n",
    "    def insert(self, val):\n",
    "        pass\n",
    "\n",
    "    # 右旋操作\n",
    "    def _rightRotate(self,  z):\n",
    "        y = z.left\n",
    "        T3 = y.right\n",
    "        y.left = z\n",
    "\n",
    "    # 左旋\n",
    "    def _leftRotate(self, z):\n",
    "        y = z.right\n",
    "        T2 = y.left\n",
    "        y.left = z\n",
    "        z.right = T2\n",
    "        z.height = 1 + max(self.Height(z.left), self.Height(z.right))\n",
    "        y.height = 1 + max(self.Height(y.height), self.Height(t.right))\n",
    "        return y\n",
    "    \n",
    "    def remove(self, val):\n",
    "        pass\n",
    "        \n",
    "    \n",
    "    def search(self, val):\n",
    "        pass"
   ]
  },
  {
   "cell_type": "markdown",
   "id": "9020bc32-ead6-4f19-9ae1-dacb7fad26f3",
   "metadata": {
    "jp-MarkdownHeadingCollapsed": true,
    "tags": []
   },
   "source": [
    "## 红黑树"
   ]
  },
  {
   "cell_type": "code",
   "execution_count": null,
   "id": "feff84de-473c-4a94-ba4f-e2c80bb46490",
   "metadata": {},
   "outputs": [],
   "source": [
    "class RedBlackTree:\n",
    "    def __init__(self):\n",
    "        pass"
   ]
  },
  {
   "cell_type": "markdown",
   "id": "8c1d95f3-db4c-4b48-b7ed-df8b3676d2e7",
   "metadata": {
    "tags": []
   },
   "source": [
    "## B 树"
   ]
  },
  {
   "cell_type": "code",
   "execution_count": null,
   "id": "60473b3b-85b4-4a26-84d8-45f9c4cbf707",
   "metadata": {},
   "outputs": [],
   "source": [
    "class BTree:\n",
    "    class TreeNode:\n",
    "        \n",
    "        def __init__(self, leaf=False):\n",
    "            self.leaf = leaf\n",
    "            self.keys = []\n",
    "            self.child = []\n",
    "\n",
    "    def __init__(self, t):\n",
    "        self.root = type(self).TreeNode(True)\n",
    "        self.t = t\n",
    "    "
   ]
  },
  {
   "cell_type": "markdown",
   "id": "c7a785ee-47bc-47c4-8069-eab11e4399a4",
   "metadata": {
    "jp-MarkdownHeadingCollapsed": true,
    "tags": []
   },
   "source": [
    "## B+ 树"
   ]
  },
  {
   "cell_type": "code",
   "execution_count": null,
   "id": "857257b4-9587-49e0-9378-412ea42f97aa",
   "metadata": {},
   "outputs": [],
   "source": [
    "class BPlusTree:\n",
    "    def __init__(self):\n",
    "        pass"
   ]
  },
  {
   "cell_type": "markdown",
   "id": "4e084879-9270-4abc-b1a9-94df4976875a",
   "metadata": {
    "jp-MarkdownHeadingCollapsed": true,
    "tags": []
   },
   "source": [
    "## Trie 树\n",
    "\n",
    "Trie 树，即字典树，又称单词查找树或键树，是一种树形结构。用于统计和排序大量的字符串（但不仅限于字符串），所以经常被搜索引擎系统用于文本词频统计。它的优点是最大限度地减少无谓的字符串比较，查询效率比哈希表高。其核心思想是**空间换时间**，利用字符串的公共前缀来降低查询时间的开销以达到提高效率的目的。\n",
    "\n",
    "基本性质：\n",
    "\n",
    "1. 根节点不包含字符，除根节点外每一个节点都只包含一个字符。\n",
    "2. 从根节点到某一节点，路径上经过的字符连接起来，为该节点对应的字符串。\n",
    "3. 每个节点的所有子节点包含的字符都不相同。\n"
   ]
  },
  {
   "cell_type": "code",
   "execution_count": 51,
   "id": "1d87cd3d-7704-4d79-9158-bedd75dc18b0",
   "metadata": {},
   "outputs": [],
   "source": [
    "class Trie:\n",
    "\n",
    "    class TrieNode:\n",
    "\n",
    "        def __init__(self):\n",
    "            self.children = {}\n",
    "            # 以该字母开头的单词个数\n",
    "            self.prefix = 0\n",
    "            # 以该字母结束的单词个数\n",
    "            self.suffix = 0\n",
    "            \n",
    "\n",
    "    def __init__(self):\n",
    "        self.root = type(self).TrieNode()\n",
    "\n",
    "    def insert(self, word: str) -> None:\n",
    "        root = self.root\n",
    "        for c in word:\n",
    "            if root.children.get(c) == None:\n",
    "                root.children[c] = type(self).TrieNode()\n",
    "            root.children[c].prefix += 1\n",
    "            root = root.children[c]\n",
    "        root.suffix += 1\n",
    "\n",
    "    def countWordsEqualTo(self, word: str) -> int:\n",
    "        root = self.root\n",
    "        for c in word:\n",
    "            if root.children.get(c) == None:\n",
    "                return 0\n",
    "            root = root.children[c]\n",
    "        return root.suffix\n",
    "\n",
    "    def countWordsStartingWith(self, prefix: str) -> int:\n",
    "        root = self.root\n",
    "        for c in prefix:\n",
    "            if root.children.get(c) == None:\n",
    "                return 0\n",
    "            root = root.children[c]\n",
    "        return root.prefix\n",
    "    \n",
    "    def search(self, word: str) -> bool:\n",
    "        root = self.root\n",
    "        for c in word:\n",
    "            if root.children.get(c) == None:\n",
    "                return False\n",
    "            root = root.children[c]\n",
    "        return root.suffix != 0\n",
    "\n",
    "    def erase(self, word: str) -> None:\n",
    "        if not self.search(word):\n",
    "            return\n",
    "        root = self.root\n",
    "        for c in word:\n",
    "            if root.children.get(c) == None:\n",
    "                return\n",
    "            root = root.children[c]\n",
    "            root.prefix -= 1\n",
    "            if root.prefix == 0:\n",
    "                del root\n",
    "                return"
   ]
  }
 ],
 "metadata": {
  "kernelspec": {
   "display_name": "Python 3 (ipykernel)",
   "language": "python",
   "name": "python3"
  },
  "language_info": {
   "codemirror_mode": {
    "name": "ipython",
    "version": 3
   },
   "file_extension": ".py",
   "mimetype": "text/x-python",
   "name": "python",
   "nbconvert_exporter": "python",
   "pygments_lexer": "ipython3",
   "version": "3.8.13"
  }
 },
 "nbformat": 4,
 "nbformat_minor": 5
}
