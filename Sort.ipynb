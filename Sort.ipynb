{
 "cells": [
  {
   "cell_type": "code",
   "execution_count": 5,
   "id": "ae821e7f-4c68-4661-ac21-19e4a1b16634",
   "metadata": {},
   "outputs": [],
   "source": [
    "def bubbleSort(array):\n",
    "    \"\"\"\n",
    "    冒泡排序\n",
    "    \"\"\"\n",
    "    for i in range(len(array)):\n",
    "        swapped = False\n",
    "        for j in range(len(array) - i - 1):\n",
    "            # 相邻元素两两比较\n",
    "            if array[j] > array[j + 1]:\n",
    "                # 元素交换\n",
    "                array[j], array[j + 1] = array[j + 1], array[j]\n",
    "                swapped = True\n",
    "        if not swapped:\n",
    "            break\n",
    "    return array"
   ]
  },
  {
   "cell_type": "code",
   "execution_count": 6,
   "id": "6bcd82e1-ea74-48b2-9744-d0af11d46505",
   "metadata": {
    "tags": []
   },
   "outputs": [
    {
     "data": {
      "text/plain": [
       "[-9, -2, 0, 11, 45]"
      ]
     },
     "execution_count": 6,
     "metadata": {},
     "output_type": "execute_result"
    }
   ],
   "source": [
    "bubbleSort([-2, 45, 0, 11, -9])"
   ]
  },
  {
   "cell_type": "code",
   "execution_count": 7,
   "id": "7ece8df8-8007-43ee-961f-b3be5fad8c74",
   "metadata": {
    "tags": []
   },
   "outputs": [],
   "source": [
    "def selectionSort(array):\n",
    "    \"\"\"\n",
    "    选择排序\n",
    "    \"\"\"\n",
    "    size = len(array)\n",
    "    # 从 i 到 len(array) - 1 中选最小值放到 i 的位置上去\n",
    "    for i in range(size):\n",
    "        minIndex = i\n",
    "        for j in range(i+1, size):\n",
    "            if array[minIndex] > array[j]:\n",
    "                minIndex = j\n",
    "        array[i], array[minIndex] = array[minIndex], array[i]\n",
    "    return array"
   ]
  },
  {
   "cell_type": "code",
   "execution_count": 8,
   "id": "594eeab8-ffd4-496c-9e0b-176456a8ca09",
   "metadata": {
    "tags": []
   },
   "outputs": [
    {
     "data": {
      "text/plain": [
       "[-9, -2, 0, 11, 45]"
      ]
     },
     "execution_count": 8,
     "metadata": {},
     "output_type": "execute_result"
    }
   ],
   "source": [
    "selectionSort([-2, 45, 0, 11, -9])"
   ]
  },
  {
   "cell_type": "code",
   "execution_count": 10,
   "id": "2610affa-7af3-4d08-93cf-83900b67ec50",
   "metadata": {
    "tags": []
   },
   "outputs": [],
   "source": [
    "def insertionSort(array):\n",
    "    \"\"\"\n",
    "    插入排序\n",
    "    \"\"\"\n",
    "    # 保持 0 到 i 是有序的\n",
    "    for i in range(1, len(array)):\n",
    "        value = array[i]\n",
    "        j = i - 1\n",
    "        while j >= 0 and value < array[j]:\n",
    "            array[j + 1] = array[j]\n",
    "            j -= 1\n",
    "        array[j + 1] = value\n",
    "    return array"
   ]
  },
  {
   "cell_type": "code",
   "execution_count": 11,
   "id": "fb5b9c82-25db-4948-a924-d11c9739e882",
   "metadata": {
    "tags": []
   },
   "outputs": [
    {
     "data": {
      "text/plain": [
       "[-9, -2, 0, 11, 45]"
      ]
     },
     "execution_count": 11,
     "metadata": {},
     "output_type": "execute_result"
    }
   ],
   "source": [
    "insertionSort([-2, 45, 0, 11, -9])"
   ]
  },
  {
   "cell_type": "code",
   "execution_count": 1,
   "id": "cb24b985-6951-4c9a-85a8-6de7ce6ba8fb",
   "metadata": {},
   "outputs": [],
   "source": [
    "def mergeSort(array):\n",
    "    \"\"\"\n",
    "    归并排序\n",
    "    \"\"\"\n",
    "    def _mergetSort(array):\n",
    "        if len(array) > 1:\n",
    "            mid = len(array) // 2\n",
    "            left = array[:mid]\n",
    "            right = array[mid:]\n",
    "            _mergetSort(left)\n",
    "            _mergetSort(right)\n",
    "            # 合并两个有序数组\n",
    "            i, j, k = 0, 0, 0\n",
    "            while i < len(left) and j < len(right):\n",
    "                if left[i] < right[j]:\n",
    "                    array[k] = left[i]\n",
    "                    i += 1\n",
    "                else:\n",
    "                    array[k] = right[j]\n",
    "                    j += 1\n",
    "                k += 1\n",
    "            while i < len(left):\n",
    "                array[k] = left[i]\n",
    "                i += 1\n",
    "                k += 1\n",
    "            while j < len(right):\n",
    "                array[k] = right[j]\n",
    "                j += 1\n",
    "                k += 1\n",
    "    _mergetSort(array)\n",
    "    return array"
   ]
  },
  {
   "cell_type": "code",
   "execution_count": 2,
   "id": "4ae48b77-fd30-48c0-baba-c806620f4c58",
   "metadata": {
    "tags": []
   },
   "outputs": [
    {
     "data": {
      "text/plain": [
       "[1, 5, 6, 9, 10, 12]"
      ]
     },
     "execution_count": 2,
     "metadata": {},
     "output_type": "execute_result"
    }
   ],
   "source": [
    "mergeSort([6, 5, 12, 10, 9, 1])"
   ]
  },
  {
   "cell_type": "code",
   "execution_count": 9,
   "id": "436727b5-90b0-4e24-bf2e-a0d6495843fb",
   "metadata": {},
   "outputs": [],
   "source": [
    "def quickSort(array):\n",
    "    \"\"\"\n",
    "    快速排序\n",
    "    \"\"\"\n",
    "    def _quickSort(left, right):\n",
    "        if left > right:\n",
    "            return\n",
    "        # 选取最左边的元素作为基准数\n",
    "        i, j, pivot = left, right, array[left]\n",
    "        while i != j:\n",
    "            # 从右边选取一个小于等于基准数的元素\n",
    "            while array[j] >= pivot and i < j:\n",
    "                j -= 1\n",
    "            # 从右边选取一个大于等于基准数的元素\n",
    "            while array[i] <= pivot and i < j:\n",
    "                i += 1\n",
    "            # 交换两个元素\n",
    "            if i < j:\n",
    "                array[i], array[j] = array[j], array[i]\n",
    "        # 将基准数放在数组的中间部分\n",
    "        array[left], array[i] = array[i], pivot\n",
    "        _quickSort(left, i - 1)\n",
    "        _quickSort(i + 1, right)\n",
    "    _quickSort(0, len(array) - 1)\n",
    "    return array"
   ]
  },
  {
   "cell_type": "code",
   "execution_count": 10,
   "id": "e81dcae0-93d5-4011-94a1-39681c836573",
   "metadata": {
    "tags": []
   },
   "outputs": [
    {
     "data": {
      "text/plain": [
       "[1, 5, 6, 9, 10, 12]"
      ]
     },
     "execution_count": 10,
     "metadata": {},
     "output_type": "execute_result"
    }
   ],
   "source": [
    "quickSort([6, 5, 12, 10, 9, 1])"
   ]
  },
  {
   "cell_type": "code",
   "execution_count": null,
   "id": "e6041d97-8919-45b2-a243-21c38ba44105",
   "metadata": {},
   "outputs": [],
   "source": [
    "def countingSort(array):\n",
    "    \"\"\"\n",
    "    计数排序\n",
    "    \"\"\"\n",
    "    pass"
   ]
  },
  {
   "cell_type": "code",
   "execution_count": null,
   "id": "a3c9a53d-eb04-4a74-bb5c-068dddf3490e",
   "metadata": {},
   "outputs": [],
   "source": [
    "def radixSort(array):\n",
    "    pass"
   ]
  },
  {
   "cell_type": "code",
   "execution_count": null,
   "id": "cd26204d-70bf-42de-9e3b-9bf9920779ae",
   "metadata": {},
   "outputs": [],
   "source": [
    "def bucketSort(array):\n",
    "    \"\"\"\n",
    "    桶排序\n",
    "    \"\"\"\n",
    "    pass"
   ]
  },
  {
   "cell_type": "code",
   "execution_count": 5,
   "id": "a8ab6dbf-4f78-48f8-a9dc-0cbf71a20700",
   "metadata": {},
   "outputs": [],
   "source": [
    "def heapSort(array):\n",
    "    \"\"\"\n",
    "    堆排序\n",
    "    \"\"\"\n",
    "    def _heapify(array, n, i):\n",
    "        largest = i\n",
    "        lchild = 2 * i + 1\n",
    "        rchild = 2 * i + 2\n",
    "        if lchild < n and array[i] < array[lchild]:\n",
    "            largest = lchild\n",
    "        if rchild < n and array[largest] < array[rchild]:\n",
    "            largest = rchild\n",
    "        if largest != i:\n",
    "            array[i], array[largest] = array[largest], array[i]\n",
    "            _heapify(array, n, largest)\n",
    "    n = len(array)\n",
    "    for i in range(n // 2, -1, -1):\n",
    "        _heapify(array, n, i)\n",
    "    for i in range(n-1, 0, -1):\n",
    "        array[i], array[0] = array[0], array[i]\n",
    "        _heapify(array, i, 0)\n",
    "    return array"
   ]
  },
  {
   "cell_type": "code",
   "execution_count": 6,
   "id": "029ba80e-b998-4562-b028-7d4a782f4444",
   "metadata": {},
   "outputs": [
    {
     "data": {
      "text/plain": [
       "[1, 5, 6, 9, 10, 12]"
      ]
     },
     "execution_count": 6,
     "metadata": {},
     "output_type": "execute_result"
    }
   ],
   "source": [
    "heapSort([1, 12, 9, 5, 6, 10])"
   ]
  }
 ],
 "metadata": {
  "kernelspec": {
   "display_name": "Python 3 (ipykernel)",
   "language": "python",
   "name": "python3"
  },
  "language_info": {
   "codemirror_mode": {
    "name": "ipython",
    "version": 3
   },
   "file_extension": ".py",
   "mimetype": "text/x-python",
   "name": "python",
   "nbconvert_exporter": "python",
   "pygments_lexer": "ipython3",
   "version": "3.8.13"
  }
 },
 "nbformat": 4,
 "nbformat_minor": 5
}
