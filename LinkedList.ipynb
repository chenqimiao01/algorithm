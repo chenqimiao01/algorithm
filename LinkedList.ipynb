{
 "cells": [
  {
   "cell_type": "markdown",
   "id": "b14c80e8-597d-480d-a39a-1b59a883f104",
   "metadata": {},
   "source": [
    "## 单链表"
   ]
  },
  {
   "cell_type": "code",
   "execution_count": 9,
   "id": "3c7b18eb-9dae-4f7d-8d64-fa7051a40b14",
   "metadata": {},
   "outputs": [],
   "source": [
    "class LinkedList:\n",
    "    \n",
    "    class ListNode:\n",
    "        \n",
    "        def __init__(self, val):\n",
    "            self.next = None\n",
    "            self.val = val\n",
    "    \n",
    "    def __init__(self, vals=[]):\n",
    "        self.head = None\n",
    "        self.length = 0\n",
    "        for val in vals:\n",
    "            self.append(val)\n",
    "    \n",
    "    def appendleft(self, new_data) -> None:\n",
    "        new_node = type(self).ListNode(new_data)\n",
    "        new_node.next = self.head\n",
    "        self.head = new_node\n",
    "        self.length += 1\n",
    "    \n",
    "    def append(self, new_data) -> None:\n",
    "        new_node = type(self).ListNode(new_data)\n",
    "        if self.head == None:\n",
    "            self.length += 1\n",
    "            self.head = new_node\n",
    "            return\n",
    "        last = self.head\n",
    "        while last.next:\n",
    "            last = last.next\n",
    "        last.next = new_node\n",
    "        self.length += 1\n",
    "    \n",
    "    def pop(self, position: int) -> bool:\n",
    "        if self.head == None:\n",
    "            return False\n",
    "        if position == 0:\n",
    "            self.head = self.head.next\n",
    "            return\n",
    "        current = self.head\n",
    "        for i in range(position - 1):\n",
    "            current = current.next\n",
    "            if current == None:\n",
    "                return False\n",
    "        current.next = current.next.next\n",
    "        self.length -= 1\n",
    "        return True\n",
    "    \n",
    "    def sort(self):\n",
    "        def bublleSort(head):\n",
    "            current = self.head\n",
    "            while current:\n",
    "                tail = current.next\n",
    "                while tail:\n",
    "                    # 冒泡排序\n",
    "                    # 每次都是找到最小的放在前面\n",
    "                    if current.val > tail.val:\n",
    "                        current.val, tail.val = tail.val, current.val\n",
    "                    tail = tail.next\n",
    "                current = current.next\n",
    "            return head\n",
    "\n",
    "        def merge(pHead1, pHead2):\n",
    "            result = ListNode(None)\n",
    "            current = result\n",
    "            while pHead1 and pHead2:\n",
    "                if pHead1.val > pHead2.val:\n",
    "                    current.next = pHead2\n",
    "                    pHead2 = pHead2.next\n",
    "                else:\n",
    "                    current.next = pHead1\n",
    "                    pHead1 = pHead1.next\n",
    "                current = current.next\n",
    "            current.next = pHead1 if pHead1 else pHead2\n",
    "            return result.next\n",
    "\n",
    "        def mergeSort(head):\n",
    "            if head.next == None or head == None:\n",
    "                return head\n",
    "            left, mid, right = head, head.next, head.next.next\n",
    "            # 找到链表的中点\n",
    "            while right and right.next:\n",
    "                left = left.next\n",
    "                mid = mid.next\n",
    "                right = right.next.next\n",
    "            # 将链表分成两块\n",
    "            left.next = None\n",
    "            return merge(mergeSort(head), mergeSort(mid))\n",
    "        # 归并排序\n",
    "        self.head = mergeSort(self.head)\n",
    "    \n",
    "    def search(self, val):\n",
    "        current = self.head\n",
    "        while current:\n",
    "            if current.val == val:\n",
    "                return True\n",
    "            current = current.next\n",
    "        return False\n",
    "    \n",
    "    def __repr__(self):\n",
    "        vals = []\n",
    "        current = self.head\n",
    "        while current:\n",
    "            vals.append(str(current.val))\n",
    "            current = current.next\n",
    "        return '->'.join(vals)\n",
    "    \n",
    "    def __iter__(self):\n",
    "        current = self.head\n",
    "        while current:\n",
    "            yield current.val\n",
    "            current = current.next\n",
    "\n",
    "    def __len__(self):\n",
    "        return self.length\n",
    "    \n",
    "    def __getitem__(self, position):\n",
    "        if position >= self.length or position < 0:\n",
    "            raise IndexError(f'list index out of range, index must be [0, {self.length - 1}]')\n",
    "        current = self.head\n",
    "        for i in range(position):\n",
    "            current = current.next\n",
    "        return current.val\n",
    "    \n",
    "    def __setitem__(self, position, val):\n",
    "        if position >= self.length or position < 0:\n",
    "            raise IndexError(f'list index out of range, index must be [0, {self.length - 1}]')\n",
    "        current = self.head\n",
    "        for i in range(position):\n",
    "            current = current.next\n",
    "        current.val = val"
   ]
  },
  {
   "cell_type": "markdown",
   "id": "b3501d41-5786-413c-8e6b-d95cb0f92b16",
   "metadata": {},
   "source": [
    "## 静态链表"
   ]
  },
  {
   "cell_type": "code",
   "execution_count": null,
   "id": "e0b833dc-7be0-48b1-bd12-e4de7884573c",
   "metadata": {},
   "outputs": [],
   "source": [
    "class LinkedList:\n",
    "    \n",
    "    def __init__(self):\n",
    "        # [value, next]\n",
    "        self.ListNode = [[]]"
   ]
  },
  {
   "cell_type": "markdown",
   "id": "413c8202-b952-452b-a79b-472d35fde65e",
   "metadata": {},
   "source": [
    "## 快慢指针"
   ]
  },
  {
   "cell_type": "code",
   "execution_count": 14,
   "id": "a9ae4b78-51b6-4b64-bc1b-8102b9dcae1a",
   "metadata": {
    "tags": []
   },
   "outputs": [],
   "source": [
    "class ListNode:\n",
    "    def __init__(self, val):\n",
    "        self.val = val\n",
    "        self.next = None"
   ]
  },
  {
   "cell_type": "code",
   "execution_count": 17,
   "id": "62d1096d-e24e-490d-a173-2c29ce6c8785",
   "metadata": {
    "tags": []
   },
   "outputs": [],
   "source": [
    "def append(val, pHead=None):\n",
    "    if pHead == None:\n",
    "        pHead = ListNode(val)\n",
    "        return pHead\n",
    "    pTail = pHead\n",
    "    while pTail and pTail.next:\n",
    "        pTail = pTail.next\n",
    "    pTail.next = ListNode(val)\n",
    "    return pHead"
   ]
  },
  {
   "cell_type": "code",
   "execution_count": 18,
   "id": "1733433b-a182-46d1-a088-7eba3cedbbcf",
   "metadata": {
    "tags": []
   },
   "outputs": [],
   "source": [
    "def length(pHead):\n",
    "    result, pTail = 0, pHead\n",
    "    while pTail:\n",
    "        result += 1\n",
    "        pTail = pTail.next\n",
    "    return result"
   ]
  },
  {
   "cell_type": "code",
   "execution_count": 24,
   "id": "5f712536-12e4-4bd5-8a07-7d3a6842721d",
   "metadata": {
    "tags": []
   },
   "outputs": [],
   "source": [
    "def show(pHead):\n",
    "    pTail = pHead\n",
    "    while pTail:\n",
    "        print(f'{pTail.val}->', end='')\n",
    "        pTail = pTail.next\n",
    "    print('None')"
   ]
  },
  {
   "cell_type": "code",
   "execution_count": 27,
   "id": "55e97269-0f33-4dcf-9fca-7862bc4ee79f",
   "metadata": {
    "tags": []
   },
   "outputs": [],
   "source": [
    "pHead0 = None\n",
    "for i in range(6):\n",
    "    pHead0 = append(i, pHead0)\n",
    "pHead1 = None\n",
    "for i in range(9):\n",
    "    pHead1 = append(i, pHead1)"
   ]
  },
  {
   "cell_type": "code",
   "execution_count": 49,
   "id": "d031ee55-2187-4a8e-8521-143e947237b2",
   "metadata": {
    "tags": []
   },
   "outputs": [],
   "source": [
    "def solution(pHead):\n",
    "    \"\"\"如果链表结点的个数是奇数个则快指针走完慢指针指向唯一中点的位置\n",
    "       如果链表结点的个数是偶数个则快指针走完慢指针指向中点的后一个结点\n",
    "    \"\"\"\n",
    "    slow, fast = pHead, pHead\n",
    "    while fast and fast.next:\n",
    "        slow = slow.next\n",
    "        fast = fast.next.next\n",
    "    return slow"
   ]
  },
  {
   "cell_type": "code",
   "execution_count": 50,
   "id": "61494ab6-3aac-46eb-9a07-d717fb15f416",
   "metadata": {
    "tags": []
   },
   "outputs": [
    {
     "name": "stdout",
     "output_type": "stream",
     "text": [
      "0->1->2->3->4->5->None\n"
     ]
    },
    {
     "data": {
      "text/plain": [
       "3"
      ]
     },
     "execution_count": 50,
     "metadata": {},
     "output_type": "execute_result"
    }
   ],
   "source": [
    "show(pHead0)\n",
    "solution(pHead0).val"
   ]
  },
  {
   "cell_type": "code",
   "execution_count": 51,
   "id": "6a24b9d9-7c75-4ff0-a7b8-62df4bd565a9",
   "metadata": {
    "tags": []
   },
   "outputs": [
    {
     "name": "stdout",
     "output_type": "stream",
     "text": [
      "0->1->2->3->4->5->6->7->8->None\n"
     ]
    },
    {
     "data": {
      "text/plain": [
       "4"
      ]
     },
     "execution_count": 51,
     "metadata": {},
     "output_type": "execute_result"
    }
   ],
   "source": [
    "show(pHead1)\n",
    "solution(pHead1).val"
   ]
  },
  {
   "cell_type": "code",
   "execution_count": 63,
   "id": "b9f35a08-54c6-4473-98e0-6f8f721b1f51",
   "metadata": {
    "tags": []
   },
   "outputs": [
    {
     "name": "stdout",
     "output_type": "stream",
     "text": [
      "0->1->None\n"
     ]
    },
    {
     "data": {
      "text/plain": [
       "1"
      ]
     },
     "execution_count": 63,
     "metadata": {},
     "output_type": "execute_result"
    }
   ],
   "source": [
    "pHead2 = None\n",
    "for i in range(2):\n",
    "    pHead2 = append(i, pHead2)\n",
    "show(pHead2)\n",
    "solution(pHead2).val"
   ]
  },
  {
   "cell_type": "code",
   "execution_count": 41,
   "id": "5217ca59-477a-4765-a48b-4aae2e89d926",
   "metadata": {
    "tags": []
   },
   "outputs": [],
   "source": [
    "def solution(pHead):\n",
    "    \"\"\" 快指针走完慢指针指向中点的前一个结点\n",
    "    \"\"\"\n",
    "    if pHead == None or pHead.next == None:\n",
    "        return pHead\n",
    "    slow, fast = pHead, pHead.next.next\n",
    "    while fast and fast.next:\n",
    "        slow = slow.next\n",
    "        fast = fast.next.next\n",
    "    return slow"
   ]
  },
  {
   "cell_type": "code",
   "execution_count": 42,
   "id": "a47c01b3-d2bf-4e02-9207-66af8707d40a",
   "metadata": {
    "tags": []
   },
   "outputs": [
    {
     "name": "stdout",
     "output_type": "stream",
     "text": [
      "0->1->2->3->4->5->None\n"
     ]
    },
    {
     "data": {
      "text/plain": [
       "2"
      ]
     },
     "execution_count": 42,
     "metadata": {},
     "output_type": "execute_result"
    }
   ],
   "source": [
    "show(pHead0)\n",
    "solution(pHead0).val"
   ]
  },
  {
   "cell_type": "code",
   "execution_count": 43,
   "id": "17a49fc6-c6d3-4934-b69c-f32c78c98a2e",
   "metadata": {
    "tags": []
   },
   "outputs": [
    {
     "name": "stdout",
     "output_type": "stream",
     "text": [
      "0->1->2->3->4->5->6->7->8->None\n"
     ]
    },
    {
     "data": {
      "text/plain": [
       "3"
      ]
     },
     "execution_count": 43,
     "metadata": {},
     "output_type": "execute_result"
    }
   ],
   "source": [
    "show(pHead1)\n",
    "solution(pHead1).val"
   ]
  },
  {
   "cell_type": "code",
   "execution_count": 45,
   "id": "858265e1-375f-44b9-8eac-9ad598839b80",
   "metadata": {
    "tags": []
   },
   "outputs": [
    {
     "name": "stdout",
     "output_type": "stream",
     "text": [
      "0->1->None\n"
     ]
    },
    {
     "data": {
      "text/plain": [
       "0"
      ]
     },
     "execution_count": 45,
     "metadata": {},
     "output_type": "execute_result"
    }
   ],
   "source": [
    "pHead2 = None\n",
    "for i in range(2):\n",
    "    pHead2 = append(i, pHead2)\n",
    "show(pHead2)\n",
    "solution(pHead2).val"
   ]
  },
  {
   "cell_type": "markdown",
   "id": "f54b703f-e223-4526-9aa9-9e853c7cbb7c",
   "metadata": {},
   "source": [
    "#### 快指针走完慢指针指向中点的前两个结点"
   ]
  },
  {
   "cell_type": "code",
   "execution_count": null,
   "id": "d27f68e3-100d-448c-9008-a283f40bfce9",
   "metadata": {},
   "outputs": [],
   "source": []
  },
  {
   "cell_type": "markdown",
   "id": "24b9b64f-853b-489c-80a7-763886094f2b",
   "metadata": {},
   "source": [
    "#### 快指针走完慢指针指向中点的后两个结点"
   ]
  },
  {
   "cell_type": "code",
   "execution_count": null,
   "id": "a633eeb7-f147-47cd-a3bd-f51994cf23c6",
   "metadata": {},
   "outputs": [],
   "source": []
  },
  {
   "cell_type": "markdown",
   "id": "023b4f6e-d0f2-4ff4-b21b-258294dae3c9",
   "metadata": {},
   "source": [
    "### 题目"
   ]
  },
  {
   "cell_type": "markdown",
   "id": "609f9c23-db57-4ad5-b646-a9bc34ddcb4e",
   "metadata": {},
   "source": [
    "1. 判断链表是不是回文结构"
   ]
  },
  {
   "cell_type": "code",
   "execution_count": null,
   "id": "4eb5fce3-7082-454f-9a3e-a318355750ed",
   "metadata": {},
   "outputs": [],
   "source": [
    "def solution1(pHead):\n",
    "    stack = []\n",
    "    pTail = pHead\n",
    "    while pTail:\n",
    "        stack.append(pTail.val)\n",
    "        pTail = pTail.next\n",
    "    pTail = pHead\n",
    "    while pTail:\n",
    "        if stack[-1] != pTail.val:\n",
    "            return False\n",
    "        stack.pop()\n",
    "        pTail = pTail.next\n",
    "    return True"
   ]
  },
  {
   "cell_type": "code",
   "execution_count": null,
   "id": "89f7504b-da57-49cf-8047-740af7446cff",
   "metadata": {},
   "outputs": [],
   "source": [
    "def solution2(pHead):\n",
    "    def reverse(pHead):\n",
    "        result = None\n",
    "        while pHead:\n",
    "            next = pHead.next\n",
    "            pHead.next = result\n",
    "            result = pHead\n",
    "            pHead = next\n",
    "        return result\n",
    "    slow, fast = pHead, pHead\n",
    "    while fast and fast.next:\n",
    "        slow = slow.next\n",
    "        fast = fast.next.next\n",
    "    pTail = reverse(slow)\n",
    "    while pTail:\n",
    "        if pHead.val != pTail.val:\n",
    "            return False\n",
    "        pTail = pTail.next\n",
    "        pHead = pHead.next\n",
    "    return True"
   ]
  },
  {
   "cell_type": "markdown",
   "id": "aae2d96a-a289-4fad-915d-9c5211f79eac",
   "metadata": {},
   "source": [
    "2. 单向链表按照某值划分成左边小中间相等右边大并且数据的顺序维持不变"
   ]
  },
  {
   "cell_type": "code",
   "execution_count": null,
   "id": "dcafac0b-4555-48d3-a79d-af01581112b7",
   "metadata": {},
   "outputs": [],
   "source": [
    "def solution(pHead, val):\n",
    "    greHead, eqHead, lesHead = ListNode(None), ListNode(None), ListNode(None)\n",
    "    greTail, eqTail, lesTail = greHead, eqHead, lesHead\n",
    "    while pHead:\n",
    "        if pHead.val > val:\n",
    "            greTail.next = pHead\n",
    "        elif pHead.val == val:\n",
    "            eqTail.next = pHead\n",
    "        else:\n",
    "            lesTail.next = pHead\n",
    "        pHead = pHead.next\n",
    "    eqTail.next = lesHead.next if lesHead.next == None else None\n",
    "    preTail.next = eqHead.next if eqHead.next == None else None\n",
    "    return preHead.next"
   ]
  },
  {
   "cell_type": "markdown",
   "id": "4627e297-55c2-47af-9f73-70f79ba0b423",
   "metadata": {},
   "source": [
    "3. 复制含有随机指针结点的链表\n",
    "\n",
    "一种特殊的单链表结点类描述如下\n",
    "\n",
    "```python\n",
    "class ListNode:\n",
    "    \n",
    "    def __init__(self, val):\n",
    "        self.val = val\n",
    "        self.rand, self.next = None, None\n",
    "```\n",
    "\n",
    "其中 rand 指针可能指向链表中任意一个结点，也可能指向 ```None```"
   ]
  },
  {
   "cell_type": "code",
   "execution_count": null,
   "id": "2a66cd4c-2359-4af8-91d2-ee385b309026",
   "metadata": {},
   "outputs": [],
   "source": [
    "def solution1(pHead):\n",
    "        \"\"\"使用哈希表记录新旧结点\n",
    "        \"\"\"\n",
    "        HashMap = {}\n",
    "        tail = pHead\n",
    "        while tail:\n",
    "            HashMap[tail] = ListNode(tail.val)\n",
    "            tail = tail.next\n",
    "        result = ListNode('-1')\n",
    "        tail = result\n",
    "        while pHead:\n",
    "            tail.next = HashMap.get(pHead)\n",
    "            tail = tail.next\n",
    "            tail.random = HashMap.get(pHead.random)\n",
    "            pHead = pHead.next\n",
    "        return result.next"
   ]
  },
  {
   "cell_type": "code",
   "execution_count": null,
   "id": "ed8247c8-c437-43a0-b101-896c3cc256b5",
   "metadata": {},
   "outputs": [],
   "source": [
    "def solution2(head):\n",
    "        tail = head\n",
    "        while tail:\n",
    "            new_node = Node(tail.val)\n",
    "            new_node.next = tail.next\n",
    "            tail.next = new_node\n",
    "            tail = tail.next.next\n",
    "        tail = head\n",
    "        while tail:\n",
    "            if tail.random != None:\n",
    "                tail.next.random = tail.random.next\n",
    "            else:\n",
    "                tail.next.random = None\n",
    "            tail = tail.next.next\n",
    "        # split\n",
    "        result = Node('-1')\n",
    "        tail = result\n",
    "        while head:\n",
    "            tail.next = head.next\n",
    "            tail = tail.next\n",
    "            head = head.next.next\n",
    "        return result.next"
   ]
  },
  {
   "cell_type": "markdown",
   "id": "85e8232e-d2ca-41ce-904a-70a52b860c42",
   "metadata": {},
   "source": [
    "4. 给定两个可能有环也可能无环的单链表，头结点 ```pHead1``` 和 ```pHead2``` 请实现一个函数，如果两个链表相交，请返回相加的第一个结点，如果不相交，返回 ```None```"
   ]
  },
  {
   "cell_type": "code",
   "execution_count": null,
   "id": "113ccbfa-3bfa-4e5a-b664-b34dc9b65323",
   "metadata": {},
   "outputs": [],
   "source": [
    "def solution(head):\n",
    "    pass"
   ]
  },
  {
   "cell_type": "code",
   "execution_count": null,
   "id": "48ed742c-c587-44c7-9d0c-2acf35fa5dc3",
   "metadata": {},
   "outputs": [],
   "source": []
  }
 ],
 "metadata": {
  "kernelspec": {
   "display_name": "Python 3 (ipykernel)",
   "language": "python",
   "name": "python3"
  },
  "language_info": {
   "codemirror_mode": {
    "name": "ipython",
    "version": 3
   },
   "file_extension": ".py",
   "mimetype": "text/x-python",
   "name": "python",
   "nbconvert_exporter": "python",
   "pygments_lexer": "ipython3",
   "version": "3.8.13"
  }
 },
 "nbformat": 4,
 "nbformat_minor": 5
}
