{
 "cells": [
  {
   "cell_type": "markdown",
   "id": "b11d9705-343c-46db-b6e1-e645fcb43f73",
   "metadata": {},
   "source": [
    "## 剑指Offer"
   ]
  },
  {
   "cell_type": "markdown",
   "id": "c8038030-adf6-473d-851b-9201dd468093",
   "metadata": {},
   "source": [
    "<a href=\"https://leetcode.cn/problems/yong-liang-ge-zhan-shi-xian-dui-lie-lcof/\">用两个栈实现队列</a>"
   ]
  },
  {
   "cell_type": "code",
   "execution_count": null,
   "id": "f6358db3-5a6d-4be2-9394-9c86fdc192ba",
   "metadata": {},
   "outputs": [],
   "source": [
    "class CQueue:\n",
    "\n",
    "    def __init__(self):\n",
    "        self.s1 = []\n",
    "        self.s2 = []\n",
    "\n",
    "    def appendTail(self, value: int) -> None:\n",
    "        self.s1.append(value)\n",
    "\n",
    "    def deleteHead(self) -> int:\n",
    "        if len(self.s2) == 0:\n",
    "            while len(self.s1) != 0:\n",
    "                self.s2.append(self.s1.pop())\n",
    "        return -1 if len(self.s2) == 0 else self.s2.pop()"
   ]
  },
  {
   "cell_type": "markdown",
   "id": "10589edb-78f0-49f1-a977-5614fd643c70",
   "metadata": {},
   "source": [
    "<a href=\"https://leetcode.cn/problems/bao-han-minhan-shu-de-zhan-lcof/\">包含min函数的栈</a>"
   ]
  },
  {
   "cell_type": "code",
   "execution_count": null,
   "id": "c9be0c0d-2281-43d8-89e9-5ee247388c9d",
   "metadata": {},
   "outputs": [],
   "source": [
    "class MinStack:\n",
    "\n",
    "    def __init__(self):\n",
    "        \"\"\"\n",
    "        initialize your data structure here.\n",
    "        \"\"\"\n",
    "        self.s1 = []\n",
    "        self.s2 = []\n",
    "\n",
    "    def push(self, x: int) -> None:\n",
    "        self.s1.append(x)\n",
    "        if len(self.s2) == 0:\n",
    "            self.s2.append(x)\n",
    "            return None\n",
    "        self.s2.append(min(self.s2[-1], x))\n",
    "\n",
    "    def pop(self) -> None:\n",
    "        self.s1.pop()\n",
    "        self.s2.pop()\n",
    "\n",
    "    def top(self) -> int:\n",
    "        return self.s1[-1]\n",
    "\n",
    "    def min(self) -> int:\n",
    "        return self.s2[-1]\n"
   ]
  },
  {
   "cell_type": "markdown",
   "id": "95169080-40db-4e77-9508-ce58c5538323",
   "metadata": {},
   "source": [
    "<a href=\"https://leetcode.cn/problems/cong-wei-dao-tou-da-yin-lian-biao-lcof/\">06. 从尾到头打印链表</a>"
   ]
  },
  {
   "cell_type": "code",
   "execution_count": null,
   "id": "08f38470-3ab7-4913-9600-e267fc9d1023",
   "metadata": {},
   "outputs": [],
   "source": [
    "class Solution:\n",
    "    def reversePrint(self, head: ListNode) -> List[int]:\n",
    "        stack = []\n",
    "        while head:\n",
    "            stack.append(head.val)\n",
    "            head = head.next\n",
    "        stack.reverse()\n",
    "        return stack"
   ]
  },
  {
   "cell_type": "markdown",
   "id": "648465a8-2337-4f59-866a-b785a9b7cfb7",
   "metadata": {},
   "source": [
    "<a href=\"https://leetcode.cn/problems/fan-zhuan-lian-biao-lcof/\">24. 反转链表</a>"
   ]
  },
  {
   "cell_type": "code",
   "execution_count": null,
   "id": "7a113abd-b921-4413-b4f1-abe35ba7ba23",
   "metadata": {},
   "outputs": [],
   "source": [
    "class Solution:\n",
    "    def reverseList(self, head: ListNode) -> ListNode:\n",
    "        result = None\n",
    "        while head:\n",
    "            next = head.next\n",
    "            head.next = result\n",
    "            result = head\n",
    "            head = next\n",
    "        return result"
   ]
  },
  {
   "cell_type": "markdown",
   "id": "7e814d41-90a0-4299-9e29-1b10e3ac13af",
   "metadata": {},
   "source": [
    "<a href=\"https://leetcode.cn/problems/fu-za-lian-biao-de-fu-zhi-lcof/\">35. 复杂链表的复制</a>"
   ]
  },
  {
   "cell_type": "code",
   "execution_count": null,
   "id": "ae9c70b6-58b5-4776-a291-5a902b8e791d",
   "metadata": {},
   "outputs": [],
   "source": [
    "class Solution:\n",
    "    def copyRandomList(self, head: 'Node') -> 'Node':\n",
    "        \"\"\"使用哈希表记录新旧结点\n",
    "        \"\"\"\n",
    "        HashMap = {}\n",
    "        tail = head\n",
    "        while tail:\n",
    "            HashMap[tail] = Node(tail.val)\n",
    "            tail = tail.next\n",
    "        result = Node('-1')\n",
    "        tail = result\n",
    "        while head:\n",
    "            tail.next = HashMap.get(head)\n",
    "            tail = tail.next\n",
    "            tail.random = HashMap.get(head.random)\n",
    "            head = head.next\n",
    "        return result.next"
   ]
  },
  {
   "cell_type": "code",
   "execution_count": null,
   "id": "7b7b9936-e7df-4752-b65a-3f24e3b3c7c8",
   "metadata": {},
   "outputs": [],
   "source": [
    "class Solution:\n",
    "    def copyRandomList(self, head: 'Node') -> 'Node':\n",
    "        tail = head\n",
    "        while tail:\n",
    "            new_node = Node(tail.val)\n",
    "            new_node.next = tail.next\n",
    "            tail.next = new_node\n",
    "            tail = tail.next.next\n",
    "        tail = head\n",
    "        while tail:\n",
    "            if tail.random != None:\n",
    "                tail.next.random = tail.random.next\n",
    "            else:\n",
    "                tail.next.random = None\n",
    "            tail = tail.next.next\n",
    "        # split\n",
    "        result = Node('-1')\n",
    "        tail = result\n",
    "        while head:\n",
    "            tail.next = head.next\n",
    "            tail = tail.next\n",
    "            head = head.next.next\n",
    "        return result.next"
   ]
  },
  {
   "cell_type": "markdown",
   "id": "ef584f45-5be0-42dc-9226-ac03569678aa",
   "metadata": {},
   "source": [
    "<a href=\"https://leetcode.cn/problems/ti-huan-kong-ge-lcof/\">05. 替换空格</a>"
   ]
  },
  {
   "cell_type": "code",
   "execution_count": null,
   "id": "1c4f096f-c746-4fb0-8dc8-ae6ebed2eb0c",
   "metadata": {},
   "outputs": [],
   "source": [
    "class Solution:\n",
    "    def replaceSpace(self, s: str) -> str:\n",
    "        return s.replace(' ', '%20')"
   ]
  },
  {
   "cell_type": "markdown",
   "id": "1fdfc360-da9c-4d68-9b02-4419d8d1fb73",
   "metadata": {},
   "source": [
    "<a href=\"https://leetcode.cn/problems/zuo-xuan-zhuan-zi-fu-chuan-lcof/\">58 - II. 左旋转字符串</a>"
   ]
  },
  {
   "cell_type": "code",
   "execution_count": null,
   "id": "5e8740f0-f3e1-4ed4-a922-c4bf5f07ccd9",
   "metadata": {},
   "outputs": [],
   "source": [
    "class Solution:\n",
    "    def reverseLeftWords(self, s: str, n: int) -> str:\n",
    "        result = []\n",
    "        def reverse(start, end):\n",
    "            nonlocal result\n",
    "            while start < end:\n",
    "                result[start], result[end] = result[end], result[start]\n",
    "                start += 1\n",
    "                end -= 1\n",
    "            return None\n",
    "        for c in s:\n",
    "            result.append(c)\n",
    "        m = len(result)\n",
    "        reverse(0, m - 1)\n",
    "        n = n % m\n",
    "        reverse(m - n, m - 1)\n",
    "        reverse(0, m - n - 1)\n",
    "        return ''.join(result)"
   ]
  },
  {
   "cell_type": "markdown",
   "id": "dcd5b032-426f-4eec-b3b8-a575b87be7b4",
   "metadata": {},
   "source": [
    "<a href=\"https://leetcode”.cn/problems/shu-zu-zhong-zhong-fu-de-shu-zi-lcof/\">03. 数组中重复的数字</a>"
   ]
  },
  {
   "cell_type": "code",
   "execution_count": null,
   "id": "76cafb49-a276-4519-b2d5-9e12691e1b5f",
   "metadata": {},
   "outputs": [],
   "source": [
    "class Solution:\n",
    "    def findRepeatNumber(self, nums: List[int]) -> int:\n",
    "        HashMap = {}\n",
    "        for num in nums:\n",
    "            if HashMap.get(num) == None:\n",
    "                HashMap[num] = 1\n",
    "            else:\n",
    "                HashMap[num] += 1\n",
    "        for num in nums:\n",
    "            if HashMap.get(num) > 1:\n",
    "                return num\n",
    "        return -1"
   ]
  },
  {
   "cell_type": "markdown",
   "id": "a214fb74-45b3-488b-a788-be6960dd6d28",
   "metadata": {},
   "source": [
    "<a href=\"https://leetcode.cn/problems/zai-pai-xu-shu-zu-zhong-cha-zhao-shu-zi-lcof/\">53 - I. 在排序数组中查找数字 I</a>"
   ]
  },
  {
   "cell_type": "code",
   "execution_count": null,
   "id": "4e499f72-24a8-4f76-9d17-192827abe56c",
   "metadata": {},
   "outputs": [],
   "source": [
    "class Solution:\n",
    "    def search(self, nums: List[int], target: int) -> int:\n",
    "        result = 0\n",
    "        for num in nums:\n",
    "            if target == num:\n",
    "                result += 1\n",
    "        return result"
   ]
  },
  {
   "cell_type": "markdown",
   "id": "f073f08d-9698-4ffd-b978-f42ca5ea5ff6",
   "metadata": {},
   "source": [
    "<a href=\"https://leetcode.cn/problems/que-shi-de-shu-zi-lcof/\">53 - II. 0～n-1中缺失的数字</a>"
   ]
  },
  {
   "cell_type": "code",
   "execution_count": null,
   "id": "f42fb83f-72ec-4d91-8f61-2fa9f6acab1d",
   "metadata": {},
   "outputs": [],
   "source": [
    "class Solution:\n",
    "    def missingNumber(self, nums: List[int]) -> int:\n",
    "        HashMap = {}\n",
    "        n = len(nums)\n",
    "        for num in nums:\n",
    "            if HashMap.get(num) == None:\n",
    "                HashMap[num] = 1\n",
    "            else:\n",
    "                HashMap[num] += 1\n",
    "        idx = 0\n",
    "        while idx < n + 1:\n",
    "            if HashMap.get(idx) == None:\n",
    "                return idx\n",
    "            idx += 1\n",
    "        return -1"
   ]
  }
 ],
 "metadata": {
  "kernelspec": {
   "display_name": "Python 3 (ipykernel)",
   "language": "python",
   "name": "python3"
  },
  "language_info": {
   "codemirror_mode": {
    "name": "ipython",
    "version": 3
   },
   "file_extension": ".py",
   "mimetype": "text/x-python",
   "name": "python",
   "nbconvert_exporter": "python",
   "pygments_lexer": "ipython3",
   "version": "3.8.13"
  }
 },
 "nbformat": 4,
 "nbformat_minor": 5
}
