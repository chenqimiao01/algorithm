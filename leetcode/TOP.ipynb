{
 "cells": [
  {
   "cell_type": "markdown",
   "id": "203e8700-cbfe-4da2-8f82-f6905d623d1a",
   "metadata": {
    "jp-MarkdownHeadingCollapsed": true,
    "tags": []
   },
   "source": [
    "### 数组/链表/跳表"
   ]
  },
  {
   "cell_type": "markdown",
   "id": "71a6b6e1-1c2c-4b2c-8e3e-2eb464db4fbd",
   "metadata": {},
   "source": [
    "<a href=\"https://leetcode.cn/problems/climbing-stairs/\">70.爬楼梯</a>"
   ]
  },
  {
   "cell_type": "code",
   "execution_count": null,
   "id": "1397f4e7-249b-43ae-b850-abdd74a0c2e1",
   "metadata": {},
   "outputs": [],
   "source": [
    "class Solution:\n",
    "    def climbStairs(self, n: int) -> int:\n",
    "        dp = [1 for i in range(n + 1)]\n",
    "        for i in range(2, n + 1):\n",
    "            dp[i] = dp[i - 1] + dp[i - 2]\n",
    "        return dp[n]"
   ]
  },
  {
   "cell_type": "markdown",
   "id": "b6ef2865-6479-4ada-bf33-03219f5f5854",
   "metadata": {},
   "source": [
    "<a href=\"https://leetcode.cn/problems/linked-list-cycle-ii\">142.环形链表 II</a>"
   ]
  },
  {
   "cell_type": "code",
   "execution_count": 38,
   "id": "a2c5ab3c-02a7-4e0e-bb01-1c3e5e9d4603",
   "metadata": {
    "tags": []
   },
   "outputs": [],
   "source": [
    "class Solution:\n",
    "\n",
    "    def hasCycle(self, head: Optional[ListNode]) -> Optional[ListNode]:\n",
    "        slow, fast = head, head\n",
    "        while fast and fast.next:\n",
    "            slow = slow.next\n",
    "            fast = fast.next.next\n",
    "            if slow == fast:\n",
    "                return slow\n",
    "        return None\n",
    "\n",
    "    def detectCycle(self, head: Optional[ListNode]) -> Optional[ListNode]:\n",
    "        slow, fast = head, self.hasCycle(head)\n",
    "        if fast == None:\n",
    "            return None\n",
    "        while fast != slow:\n",
    "            fast = fast.next\n",
    "            slow = slow.next\n",
    "        return slow"
   ]
  },
  {
   "cell_type": "markdown",
   "id": "6d6026fc-db89-419f-8883-8c0760ce12f1",
   "metadata": {},
   "source": [
    "<a href=\"https://leetcode.cn/problems/merge-sorted-array/\">88.合并两个有序数组</a>"
   ]
  },
  {
   "cell_type": "code",
   "execution_count": 43,
   "id": "b9b0480b-b2ee-47ef-ba56-66acb55c00f8",
   "metadata": {
    "tags": []
   },
   "outputs": [],
   "source": [
    "class Solution:\n",
    "    def merge(self, nums1: List[int], m: int, nums2: List[int], n: int) -> None:\n",
    "        i, j, k = m - 1, n - 1, n + m - 1\n",
    "        while i >= 0 and j >= 0:\n",
    "            if nums1[i] > nums2[j]:\n",
    "                nums1[k] = nums1[i]\n",
    "                i -= 1\n",
    "            else:\n",
    "                nums1[k] = nums2[j]\n",
    "                j -= 1\n",
    "            k -= 1\n",
    "        while j >= 0:\n",
    "            nums1[k] = nums2[j]\n",
    "            j -= 1\n",
    "            k -= 1\n",
    "        return"
   ]
  },
  {
   "cell_type": "markdown",
   "id": "06361ae3-8bb4-4a76-aca2-abf18618fc8a",
   "metadata": {
    "tags": []
   },
   "source": [
    "### 栈/队列/优先队列/双端队列"
   ]
  },
  {
   "cell_type": "markdown",
   "id": "14b31146-806f-4bc5-b9a0-6fe885d52591",
   "metadata": {
    "tags": []
   },
   "source": [
    "<a href=\"https://leetcode.cn/problems/design-circular-queue/\">622.设计循环队列</a>"
   ]
  },
  {
   "cell_type": "code",
   "execution_count": 4,
   "id": "2757dd53-4d60-4d94-8791-bd4c462ba17a",
   "metadata": {
    "tags": []
   },
   "outputs": [],
   "source": [
    "class MyCircularQueue:\n",
    "\n",
    "    def __init__(self, k: int):\n",
    "        self.capacity = k + 1\n",
    "        self.front, self.rear = 0, 0\n",
    "        self.queue = [0] * (self.capacity)\n",
    "\n",
    "    def enQueue(self, value: int) -> bool:\n",
    "        if self.isFull():\n",
    "            return False\n",
    "        self.queue[self.rear] = value\n",
    "        self.rear = (self.rear + 1) % self.capacity\n",
    "        return True\n",
    "\n",
    "    def deQueue(self) -> bool:\n",
    "        if self.isEmpty():\n",
    "            return False\n",
    "        self.front = (self.front + 1) % self.capacity\n",
    "        return True\n",
    "\n",
    "\n",
    "    def Front(self) -> int:\n",
    "        if self.isEmpty():\n",
    "            return -1\n",
    "        return self.queue[self.front]\n",
    "\n",
    "    def Rear(self) -> int:\n",
    "        if self.isEmpty():\n",
    "            return -1\n",
    "        return self.queue[self.rear-1]\n",
    "\n",
    "    def isEmpty(self) -> bool:\n",
    "        return self.front == self.rear\n",
    "\n",
    "    def isFull(self) -> bool:\n",
    "        return (self.rear + 1) % self.capacity == self.front"
   ]
  },
  {
   "cell_type": "markdown",
   "id": "002d4191-d527-402f-aa9e-89e17de4dfd0",
   "metadata": {
    "tags": []
   },
   "source": [
    "<a href=\"https://leetcode.cn/problems/min-stack/\">155.最小栈</a>"
   ]
  },
  {
   "cell_type": "code",
   "execution_count": 10,
   "id": "fdfc9319-b245-49b1-a78a-e58fa59e626b",
   "metadata": {
    "tags": []
   },
   "outputs": [],
   "source": [
    "class MinStack:\n",
    "\n",
    "    def __init__(self):\n",
    "        self.s1 = []\n",
    "        self.s2 = []\n",
    "\n",
    "    def push(self, val: int) -> None:\n",
    "        self.s1.append(val)\n",
    "        self.s2.append(val if len(self.s2) == 0 else min(val, self.s2[-1]))\n",
    "\n",
    "    def pop(self) -> None:\n",
    "        self.s1.pop()\n",
    "        self.s2.pop()\n",
    "\n",
    "    def top(self) -> int:\n",
    "        return self.s1[-1]\n",
    "\n",
    "    def getMin(self) -> int:\n",
    "        return self.s2[-1]"
   ]
  },
  {
   "cell_type": "markdown",
   "id": "f214edba-6a00-4aaa-b3ac-ed22e1a51fc5",
   "metadata": {},
   "source": [
    "<a href=\"https://leetcode.cn/problems/largest-rectangle-in-histogram/\">84.柱状图中最大的矩形</a>"
   ]
  },
  {
   "cell_type": "code",
   "execution_count": null,
   "id": "d06c08b1-92dc-48d0-9a4b-b4aa147f6f6b",
   "metadata": {},
   "outputs": [],
   "source": []
  },
  {
   "cell_type": "markdown",
   "id": "08ee6e31-e2da-44ec-bfd5-de1fa1c42953",
   "metadata": {},
   "source": [
    "<a href=\"https://leetcode.cn/problems/sliding-window-maximum/\">239.滑动窗口最大值</a>"
   ]
  },
  {
   "cell_type": "code",
   "execution_count": null,
   "id": "a7d8e20e-bca6-4839-812b-ea5f2f2d6a46",
   "metadata": {},
   "outputs": [],
   "source": []
  },
  {
   "cell_type": "markdown",
   "id": "f918f95f-7ae4-437b-b7f7-93420dabd68b",
   "metadata": {},
   "source": [
    "<a href=\"https://leetcode.cn/problems/design-circular-deque/\">641.设计循环双端队列</a>"
   ]
  },
  {
   "cell_type": "code",
   "execution_count": 30,
   "id": "753b9a42-a4f7-4755-80bf-33a5a09a0c67",
   "metadata": {
    "tags": []
   },
   "outputs": [],
   "source": [
    "class MyCircularDeque:\n",
    "\n",
    "    def __init__(self, k: int):\n",
    "        self.capacity = k\n",
    "        self.deque = []\n",
    "\n",
    "    def insertFront(self, value: int) -> bool:\n",
    "        if len(self.deque) >= self.capacity:\n",
    "            return False\n",
    "        self.deque.insert(0, value)\n",
    "        return True\n",
    "\n",
    "    def insertLast(self, value: int) -> bool:\n",
    "        if len(self.deque) >= self.capacity:\n",
    "            return False\n",
    "        self.deque.append(value)\n",
    "        return True\n",
    "\n",
    "    def deleteFront(self) -> bool:\n",
    "        if len(self.deque) == 0:\n",
    "            return False\n",
    "        self.deque.pop(0)\n",
    "        return True\n",
    "\n",
    "    def deleteLast(self) -> bool:\n",
    "        if len(self.deque) == 0:\n",
    "            return False\n",
    "        self.deque.pop()\n",
    "        return True\n",
    "\n",
    "    def getFront(self) -> int:\n",
    "        if self.isEmpty():\n",
    "            return -1\n",
    "        return self.deque[0]\n",
    "\n",
    "    def getRear(self) -> int:\n",
    "        if self.isEmpty():\n",
    "            return -1\n",
    "        return self.deque[-1]\n",
    "\n",
    "    def isEmpty(self) -> bool:\n",
    "        return len(self.deque) == 0\n",
    "\n",
    "    def isFull(self) -> bool:\n",
    "        return len(self.deque) == self.capacity"
   ]
  },
  {
   "cell_type": "markdown",
   "id": "5bc41736-9dc9-457a-a544-a6d31558ed83",
   "metadata": {},
   "source": [
    "<a href=\"https://leetcode.cn/problems/trapping-rain-water/\">42.接雨水</a>"
   ]
  },
  {
   "cell_type": "code",
   "execution_count": null,
   "id": "292d54e2-9213-4353-9e81-d67a3dbc6cfe",
   "metadata": {},
   "outputs": [],
   "source": []
  },
  {
   "cell_type": "markdown",
   "id": "8afcd269-8099-4c17-8b1b-698e0ac28adf",
   "metadata": {
    "jp-MarkdownHeadingCollapsed": true,
    "tags": []
   },
   "source": [
    "### 哈希表/映射/集合"
   ]
  },
  {
   "cell_type": "markdown",
   "id": "d6529c14-719a-4ef8-aad4-928fde88cb2d",
   "metadata": {},
   "source": [
    "<a href=\"https://leetcode.cn/problems/two-sum/\">1.两数之和</a>"
   ]
  },
  {
   "cell_type": "code",
   "execution_count": 44,
   "id": "fcd665bc-be29-4f96-a67b-bb6dc6b7d1bf",
   "metadata": {
    "tags": []
   },
   "outputs": [],
   "source": [
    "class Solution:\n",
    "    def twoSum(self, nums: List[int], target: int) -> List[int]:\n",
    "        HashMap = {}\n",
    "        for i in range(len(nums)):\n",
    "            if HashMap.get(target - nums[i]) == None:\n",
    "                HashMap[nums[i]] = i\n",
    "            else:\n",
    "                return HashMap.get(target - nums[i]), i\n",
    "        return -1, -1"
   ]
  },
  {
   "cell_type": "markdown",
   "id": "16d025a7-1cba-4515-b1b0-a628bba8d95b",
   "metadata": {},
   "source": [
    "<a href=\"https://leetcode.cn/problems/valid-anagram/description/\">242.有效的字母异位词</a>"
   ]
  },
  {
   "cell_type": "code",
   "execution_count": 73,
   "id": "2f85a4fe-c0fd-447f-acd0-5638ace2f697",
   "metadata": {
    "tags": []
   },
   "outputs": [],
   "source": [
    "class Solution:\n",
    "    def isAnagram(self, s: str, t: str) -> bool:\n",
    "        HashMap = {}\n",
    "        for c in s:\n",
    "            if HashMap.get(c) == None:\n",
    "                HashMap[c] = 1\n",
    "            else:\n",
    "                HashMap[c] += 1\n",
    "        for c in t:\n",
    "            if HashMap.get(c) == None:\n",
    "                return False\n",
    "            else:\n",
    "                HashMap[c] -= 1\n",
    "        for k, v in HashMap.items():\n",
    "            if v != 0:\n",
    "                return False\n",
    "        return True"
   ]
  },
  {
   "cell_type": "markdown",
   "id": "f18dcd7e-1f01-4ea0-aa68-f7c9487cea96",
   "metadata": {},
   "source": [
    "<a href=\"https://leetcode.cn/problems/group-anagrams/\">49.字母异位词分组</a>"
   ]
  },
  {
   "cell_type": "code",
   "execution_count": 16,
   "id": "8a7f9272-b6cf-4c11-94b4-4486120d12df",
   "metadata": {
    "tags": []
   },
   "outputs": [],
   "source": [
    "class Solution:\n",
    "    def groupAnagrams(self, strs: List[str]) -> List[List[str]]:\n",
    "        import collections\n",
    "        result = collections.defaultdict(list)\n",
    "        for str_ in strs:\n",
    "            key = \"\".join(sorted(str_))\n",
    "            result[key].append(str_)\n",
    "        return list(result.values())"
   ]
  },
  {
   "cell_type": "markdown",
   "id": "af6dc2fb-8294-4303-bb82-8fffbc95baa1",
   "metadata": {},
   "source": [
    "<a href=\"https://leetcode.cn/problems/design-hashset/\">705.设计哈希集合</a>"
   ]
  },
  {
   "cell_type": "code",
   "execution_count": 6,
   "id": "0f1c9353-80bb-46ed-b798-b14e13009fe8",
   "metadata": {
    "tags": []
   },
   "outputs": [],
   "source": [
    "class MyHashSet:\n",
    "\n",
    "    def __init__(self):\n",
    "        self.data = [[], ] * 769\n",
    "    \n",
    "    def _hash(self, key):\n",
    "        return key % 769\n",
    "\n",
    "    def add(self, key: int) -> None:\n",
    "        h = self._hash(key)\n",
    "        for i in range(len(self.data[h])):\n",
    "            if self.data[h][i] == key:\n",
    "                return\n",
    "        self.data[h].append(key)\n",
    "\n",
    "    def remove(self, key: int) -> None:\n",
    "        h = self._hash(key)\n",
    "        for i in range(len(self.data[h])):\n",
    "            if key == self.data[h][i]:\n",
    "                self.data[h].pop(i)\n",
    "                return\n",
    "\n",
    "\n",
    "    def contains(self, key: int) -> bool:\n",
    "        h = self._hash(key)\n",
    "        for i in range(len(self.data[h])):\n",
    "            if self.data[h][i] == key:\n",
    "                return True\n",
    "        return False"
   ]
  },
  {
   "cell_type": "markdown",
   "id": "789eae30-73ae-47a4-af49-4e7af1f5a700",
   "metadata": {
    "tags": []
   },
   "source": [
    "### 树/二叉树/二叉搜索树/递归"
   ]
  },
  {
   "cell_type": "markdown",
   "id": "47da5858-0f1a-4fbb-af65-69acd3ffe59b",
   "metadata": {},
   "source": [
    "<a href=\"https://leetcode.cn/problems/binary-tree-inorder-traversal/\">94.二叉树的中序遍历</a>"
   ]
  },
  {
   "cell_type": "code",
   "execution_count": 23,
   "id": "2b8c0191-cd21-40fc-a61b-eef73724db88",
   "metadata": {
    "tags": []
   },
   "outputs": [],
   "source": [
    "class Solution:\n",
    "    def inorderTraversal(self, root: Optional[TreeNode]) -> List[int]:\n",
    "        result = []\n",
    "        def _inorderTraversal(root):\n",
    "            nonlocal result\n",
    "            if root == None:\n",
    "                return\n",
    "            _inorderTraversal(root.left)\n",
    "            result.append(root.val)\n",
    "            _inorderTraversal(root.right)\n",
    "        _inorderTraversal(root)\n",
    "        return result"
   ]
  },
  {
   "cell_type": "markdown",
   "id": "b09e7581-44b9-47f6-a1ea-edfaa26367c5",
   "metadata": {},
   "source": [
    "<a href=\"https://leetcode.cn/problems/binary-tree-preorder-traversal/\">144.二叉树的前序遍历</a>"
   ]
  },
  {
   "cell_type": "code",
   "execution_count": 26,
   "id": "27d9248e-9d5b-4516-8f30-532b0fb21654",
   "metadata": {
    "tags": []
   },
   "outputs": [],
   "source": [
    "class Solution:\n",
    "    def preorderTraversal(self, root: Optional[TreeNode]) -> List[int]:\n",
    "        result = []\n",
    "        def _preorderTraversal(root):\n",
    "            # 根左右\n",
    "            nonlocal result\n",
    "            if root == None:\n",
    "                return\n",
    "            result.append(root.val)\n",
    "            _preorderTraversal(root.left)\n",
    "            _preorderTraversal(root.right)\n",
    "        _preorderTraversal(root)\n",
    "        return result"
   ]
  },
  {
   "cell_type": "markdown",
   "id": "f11245b7-15f2-4382-96f1-66391832dd3e",
   "metadata": {},
   "source": [
    "<a href=\"https://leetcode.cn/problems/n-ary-tree-postorder-traversal/\">590.N 叉树的后序遍历</a>"
   ]
  },
  {
   "cell_type": "code",
   "execution_count": 27,
   "id": "7ad5d71a-8051-4ab7-a577-3cb0093485b9",
   "metadata": {
    "tags": []
   },
   "outputs": [],
   "source": [
    "class Solution:\n",
    "    def postorder(self, root: 'Node') -> List[int]:\n",
    "        result = []\n",
    "        def _postorder(root):\n",
    "            nonlocal result\n",
    "            if root == None:\n",
    "                return\n",
    "            for children in root.children:\n",
    "                _postorder(children)\n",
    "            result.append(root.val)\n",
    "        _postorder(root)\n",
    "        return result"
   ]
  },
  {
   "cell_type": "markdown",
   "id": "cec9893f-9504-41a2-9949-6c78068604e2",
   "metadata": {},
   "source": [
    "<a href=\"https://leetcode.cn/problems/n-ary-tree-preorder-traversal/\">589.N 叉树的前序遍历</a>"
   ]
  },
  {
   "cell_type": "code",
   "execution_count": 28,
   "id": "e4757c3b-60aa-41d1-93d1-4f93d4183fc1",
   "metadata": {
    "tags": []
   },
   "outputs": [],
   "source": [
    "class Solution:\n",
    "    def preorder(self, root: 'Node') -> List[int]:\n",
    "        result = []\n",
    "        def _preorder(root):\n",
    "            nonlocal result\n",
    "            if root == None:\n",
    "                return\n",
    "            result.append(root.val)\n",
    "            for children in root.children:\n",
    "                _preorder(children)\n",
    "        _preorder(root)\n",
    "        return result"
   ]
  },
  {
   "cell_type": "markdown",
   "id": "9c2f2c06-46f8-444f-83c4-299ab2f57fe5",
   "metadata": {},
   "source": [
    "<a href=\"https://leetcode.cn/problems/n-ary-tree-level-order-traversal/\">429.N 叉树的层序遍历</a>"
   ]
  },
  {
   "cell_type": "code",
   "execution_count": 29,
   "id": "abf839f3-018e-43be-b674-fe24417867a8",
   "metadata": {
    "tags": []
   },
   "outputs": [],
   "source": [
    "class Solution:\n",
    "    def levelOrder(self, root: 'Node') -> List[List[int]]:\n",
    "        if root == None:\n",
    "            return []\n",
    "        results = []\n",
    "        import collections\n",
    "        deque = collections.deque()\n",
    "        deque.append(root)\n",
    "        while deque:\n",
    "            size = len(deque)\n",
    "            result = []\n",
    "            for _ in range(size):\n",
    "                node = deque.popleft()\n",
    "                result.append(node.val)\n",
    "                for children in node.children:\n",
    "                    deque.append(children)\n",
    "            results.append(result)\n",
    "        return results"
   ]
  },
  {
   "cell_type": "markdown",
   "id": "83c754fb-b5a7-4117-a6ff-cc2c402645fa",
   "metadata": {},
   "source": [
    "<a href=\"https://leetcode.cn/problems/climbing-stairs/\">70.爬楼梯</a>"
   ]
  },
  {
   "cell_type": "code",
   "execution_count": null,
   "id": "02103f94-7845-44dd-9213-60293408f207",
   "metadata": {},
   "outputs": [],
   "source": [
    "class Solution:\n",
    "    def climbStairs(self, n: int) -> int:\n",
    "        cache = [0 for i in range(n + 1)]\n",
    "        def _climbStairs(n):\n",
    "            nonlocal cache\n",
    "            if n <= 2:\n",
    "                return n\n",
    "            if cache[n] != 0:\n",
    "                return cache[n]\n",
    "            cache[n] = _climbStairs(n - 1) + _climbStairs(n - 2)\n",
    "            return cache[n]\n",
    "        return _climbStairs(n)"
   ]
  },
  {
   "cell_type": "markdown",
   "id": "827b02bf-c3f6-432c-b321-538b98471922",
   "metadata": {},
   "source": [
    "<a href=\"https://leetcode.cn/problems/generate-parentheses/\">22.括号生成</a>"
   ]
  },
  {
   "cell_type": "code",
   "execution_count": 56,
   "id": "7ec87bb1-b29e-4a0c-aaca-f7fc07172cd0",
   "metadata": {
    "tags": []
   },
   "outputs": [],
   "source": [
    "class Solution:\n",
    "    def generateParenthesis(self, n: int) -> List[str]:\n",
    "        result = []\n",
    "        def _generateParenthesis(left, right, n, s):\n",
    "            nonlocal result\n",
    "            # 左右括号都用完\n",
    "            if left == n and right == n:\n",
    "                result.append(s)\n",
    "                return\n",
    "            # 左括号什么时候添加都可以只需要左括号的个数还没用完\n",
    "            if left < n:\n",
    "                _generateParenthesis(left + 1, right, n, s + '(')\n",
    "            # 只有左括号的个数大于右括号的个数时才能添加右括号\n",
    "            if left > right:\n",
    "                _generateParenthesis(left, right + 1, n, s + ')')\n",
    "        _generateParenthesis(0, 0, n, \"\")\n",
    "        return result"
   ]
  },
  {
   "cell_type": "markdown",
   "id": "d893030f-e893-4c79-a954-490863821407",
   "metadata": {},
   "source": [
    "<a href=\"https://leetcode.cn/problems/invert-binary-tree/description/\">226.翻转二叉树</a>"
   ]
  },
  {
   "cell_type": "code",
   "execution_count": 48,
   "id": "16c56142-feb8-48d9-b6fb-55fe64e92384",
   "metadata": {
    "tags": []
   },
   "outputs": [],
   "source": [
    "class Solution:\n",
    "    def invertTree(self, root: Optional[TreeNode]) -> Optional[TreeNode]:\n",
    "        def _invertTree(root):\n",
    "            if root == None:\n",
    "                return None\n",
    "            root.left = _invertTree(root.left)\n",
    "            root.right = _invertTree(root.right)\n",
    "            root.left, root.right = root.right, root.left\n",
    "            return root\n",
    "        return _invertTree(root)"
   ]
  },
  {
   "cell_type": "markdown",
   "id": "9ee47509-d34a-404d-a213-417983d9272b",
   "metadata": {},
   "source": [
    "<a href=\"https://leetcode.cn/problems/validate-binary-search-tree/\">98.验证二叉搜索树</a>"
   ]
  },
  {
   "cell_type": "code",
   "execution_count": 50,
   "id": "77d25bd7-d1d0-44ad-a667-e0ebc90e378b",
   "metadata": {
    "tags": []
   },
   "outputs": [],
   "source": [
    "class Solution:\n",
    "    def isValidBST(self, root: Optional[TreeNode]) -> bool:\n",
    "        nodes = []\n",
    "        def inorderTraversal(root):\n",
    "            nonlocal nodes\n",
    "            if root == None:\n",
    "                return\n",
    "            inorderTraversal(root.left)\n",
    "            nodes.append(root.val)\n",
    "            inorderTraversal(root.right)\n",
    "        inorderTraversal(root) # 中序遍历二叉搜索树得到一个严格递增的序列\n",
    "        for i in range(1, len(nodes)):\n",
    "            if nodes[i] <= nodes[i-1]:\n",
    "                return False\n",
    "        return True"
   ]
  },
  {
   "cell_type": "markdown",
   "id": "ab6aed1b-82dc-4a92-ad5f-5b6d83efef69",
   "metadata": {},
   "source": [
    "<a href=\"https://leetcode.cn/problems/maximum-depth-of-binary-tree/\">104.二叉树的最大深度</a>"
   ]
  },
  {
   "cell_type": "code",
   "execution_count": 51,
   "id": "57a0e319-ff70-41a5-ad7b-eef29f47b313",
   "metadata": {
    "tags": []
   },
   "outputs": [],
   "source": [
    "class Solution:\n",
    "    def maxDepth(self, root: Optional[TreeNode]) -> int:\n",
    "        def _r(root):\n",
    "            if root == None:\n",
    "                return 0\n",
    "            return max(_r(root.left), _r(root.right)) + 1\n",
    "        return _r(root)"
   ]
  },
  {
   "cell_type": "markdown",
   "id": "bec981ce-b2d2-4794-8d7a-0c0d6e97eabe",
   "metadata": {},
   "source": [
    "<a href=\"https://leetcode.cn/problems/minimum-depth-of-binary-tree/\">111.二叉树的最小深度</a>"
   ]
  },
  {
   "cell_type": "code",
   "execution_count": null,
   "id": "612dfb21-2025-4919-a3bd-bc6443211960",
   "metadata": {},
   "outputs": [],
   "source": []
  },
  {
   "cell_type": "markdown",
   "id": "1a43d7d7-8391-4020-96e9-32c1ee5134fd",
   "metadata": {},
   "source": [
    "<a href=\"https://leetcode.cn/problems/serialize-and-deserialize-binary-tree/\">297.二叉树的序列化与反序列化</a>"
   ]
  },
  {
   "cell_type": "code",
   "execution_count": null,
   "id": "955a25b5-18ed-46b1-bcd1-9cbf9ee74dfe",
   "metadata": {},
   "outputs": [],
   "source": [
    "class Codec:\n",
    "\n",
    "    def serialize(self, root):\n",
    "        # 先序遍历二叉树\n",
    "        def preorderTraversal(root):\n",
    "            nonlocal result\n",
    "            if root == None:\n",
    "                # 空结点使用 # 符号来代替\n",
    "                result.append('#')\n",
    "                return\n",
    "            result.append(str(root.val))\n",
    "            result.append('!') # 结点与结点的分割符\n",
    "            preorderTraversal(root.left)\n",
    "            preorderTraversal(root.right)\n",
    "        result = []\n",
    "        if root == None:\n",
    "            return '#'\n",
    "        preorderTraversal(root)\n",
    "        return ''.join(result)\n",
    "        \n",
    "\n",
    "    def deserialize(self, data):\n",
    "        index = 0\n",
    "        def _decode():\n",
    "            nonlocal index\n",
    "            if data[index] == '#':\n",
    "                index += 1\n",
    "                return None\n",
    "            val = 0\n",
    "            toggle = True\n",
    "            while data[index] != '!' and index < len(data):\n",
    "                # 判断是不是负数\n",
    "                if data[index] == '-':\n",
    "                    toggle = False\n",
    "                else:\n",
    "                    val = val * 10 + (ord(data[index]) - ord('0'))\n",
    "                index = index + 1\n",
    "            if not toggle:\n",
    "                val = -val\n",
    "            root = TreeNode(val)\n",
    "            if index >= len(data):\n",
    "                return root\n",
    "            else:\n",
    "                index = index + 1\n",
    "            root.left = _decode()\n",
    "            root.right = _decode()\n",
    "            return root\n",
    "        if data == '#':\n",
    "            return None\n",
    "        return _decode()"
   ]
  },
  {
   "cell_type": "markdown",
   "id": "f47ac1c7-a92c-4e9b-b658-d4a5df454003",
   "metadata": {},
   "source": [
    "<a href=\"https://leetcode.cn/problems/lowest-common-ancestor-of-a-binary-tree/\">236.二叉树的最近公共祖先</a>"
   ]
  },
  {
   "cell_type": "code",
   "execution_count": 1,
   "id": "da7e4683-9268-4697-82c3-d2344ca9af9c",
   "metadata": {},
   "outputs": [],
   "source": [
    "class Solution:\n",
    "    def lowestCommonAncestor(self, root: 'TreeNode', p: 'TreeNode', q: 'TreeNode') -> 'TreeNode':\n",
    "        def _lowestCommonAncestor(root, p, q):\n",
    "            if not root or root == q or root == p:\n",
    "                return root\n",
    "            left = _lowestCommonAncestor(root.left, p, q)\n",
    "            right = _lowestCommonAncestor(root.right, p, q)\n",
    "            if left and right:\n",
    "                return root\n",
    "            return left if left else right\n",
    "        return _lowestCommonAncestor(root, p, q)"
   ]
  },
  {
   "cell_type": "markdown",
   "id": "86ba7b65-eb01-42d6-884e-b7752ab4437c",
   "metadata": {},
   "source": [
    "<a href=\"https://leetcode.cn/problems/construct-binary-tree-from-preorder-and-inorder-traversal/\">105.从前序与中序遍历序列构造二叉树</a>"
   ]
  },
  {
   "cell_type": "code",
   "execution_count": 75,
   "id": "d8807088-5b1c-4819-b02a-b7f34412bb9b",
   "metadata": {},
   "outputs": [],
   "source": [
    "class Solution:\n",
    "    def buildTree(self, preorder: List[int], inorder: List[int]) -> Optional[TreeNode]:\n",
    "        def _buildTree(preorder, inorder):\n",
    "            if len(preorder) == 0 or len(inorder) == 0:\n",
    "                return None\n",
    "            root = TreeNode(preorder[0])\n",
    "            index = 0\n",
    "            for i in range(len(inorder)):\n",
    "                if inorder[i] == preorder[0]:\n",
    "                    index = i\n",
    "                    break\n",
    "            # 将前序遍历结点划分成左右子树结点\n",
    "            left = _buildTree(preorder[1: index+1], inorder[:index])\n",
    "            right = _buildTree(preorder[index+1:], inorder[index+1:])\n",
    "            root.left = left\n",
    "            root.right = right\n",
    "            return root\n",
    "        return _buildTree(preorder, inorder)"
   ]
  },
  {
   "cell_type": "markdown",
   "id": "82b6a0d3-c754-4a62-8421-9e4f9d2c73d2",
   "metadata": {
    "jp-MarkdownHeadingCollapsed": true,
    "tags": []
   },
   "source": [
    "### 分治/回溯"
   ]
  },
  {
   "cell_type": "markdown",
   "id": "af4376ce-ea35-411b-9862-cf7f620bee5b",
   "metadata": {},
   "source": [
    "<a href=\"https://leetcode.cn/problems/combinations/\">77.组合</a>"
   ]
  },
  {
   "cell_type": "code",
   "execution_count": 77,
   "id": "ec0452f3-a747-4d8d-a8f6-99af7434b322",
   "metadata": {},
   "outputs": [],
   "source": [
    "class Solution:\n",
    "    def combine(self, n: int, k: int) -> List[List[int]]:\n",
    "        result = []\n",
    "        def _combine(start, status):\n",
    "            nonlocal result\n",
    "            if len(status) == k:\n",
    "                if len(status) != 0:\n",
    "                    result.append([status[i] for i in range(len(status))])\n",
    "                return\n",
    "            for i in range(start, n+1):\n",
    "                # 取当前这个数\n",
    "                status.append(i)\n",
    "                # 下探到下一层中不过 start 的取值应该是 i+1\n",
    "                _combine(i+1, status)\n",
    "                status.pop()\n",
    "        _combine(1, [])\n",
    "        return result"
   ]
  },
  {
   "cell_type": "markdown",
   "id": "dd7d57aa-fcd1-4f01-87e1-b90aafdac5f0",
   "metadata": {},
   "source": [
    "<a href=\"https://leetcode.cn/problems/permutations/\">46.全排列</a>"
   ]
  },
  {
   "cell_type": "code",
   "execution_count": 78,
   "id": "41564803-26df-4d84-a318-3ec3642e9edc",
   "metadata": {},
   "outputs": [],
   "source": [
    "class Solution:\n",
    "    def permute(self, nums: List[int]) -> List[List[int]]:\n",
    "        result = []\n",
    "        n = len(nums)\n",
    "        def _permute(status, nums):\n",
    "            nonlocal result\n",
    "            if len(status) == n:\n",
    "                result.append([status[i] for i in range(n)])\n",
    "                return\n",
    "            for i in range(len(nums)):\n",
    "                status.append(nums[i])\n",
    "                _permute(status, nums[:i] + nums[i+1:])\n",
    "                status.pop()\n",
    "        _permute([], nums)\n",
    "        return result"
   ]
  },
  {
   "cell_type": "markdown",
   "id": "5fb3a750-efde-4050-861a-964077fb90a4",
   "metadata": {},
   "source": [
    "<a href=\"https://leetcode.cn/problems/permutations-ii/\">47.全排列 II</a>"
   ]
  },
  {
   "cell_type": "code",
   "execution_count": 79,
   "id": "22ed2d29-a59a-491d-8904-d20cbb2dff18",
   "metadata": {},
   "outputs": [],
   "source": [
    "class Solution:\n",
    "    def permuteUnique(self, nums: List[int]) -> List[List[int]]:\n",
    "        result = []\n",
    "        n = len(nums)\n",
    "        def _r(status, nums):\n",
    "            nonlocal result\n",
    "            if len(status) == n and status not in result:\n",
    "                result.append([status[i] for i in range(n)])\n",
    "                return\n",
    "            for i in range(len(nums)):\n",
    "                status.append(nums[i])\n",
    "                _r(status, nums[:i] + nums[i+1:])\n",
    "                status.pop()\n",
    "        _r([], nums)\n",
    "        return result"
   ]
  },
  {
   "cell_type": "markdown",
   "id": "fd725ba2-8557-434e-b911-f9118e518fa0",
   "metadata": {},
   "source": []
  },
  {
   "cell_type": "code",
   "execution_count": 58,
   "id": "91702824-851f-4883-b011-bb1a9f43d1a6",
   "metadata": {
    "tags": []
   },
   "outputs": [],
   "source": [
    "class Solution:\n",
    "    def myPow(self, x: float, n: int) -> float:\n",
    "        def device_conquer(x, n):\n",
    "            if n == 0:\n",
    "                return 1.0\n",
    "            # 拆分问题\n",
    "            half = device_conquer(x, n // 2)\n",
    "            if n % 2 == 1:\n",
    "                return x * half * half\n",
    "            return half * half\n",
    "        if n < 0:\n",
    "            return 1.0 / device_conquer(x, -n)\n",
    "        return device_conquer(x, n)"
   ]
  },
  {
   "cell_type": "markdown",
   "id": "23e5d94c-8467-468f-be3a-7a50ed23b07b",
   "metadata": {},
   "source": [
    "<a href=\"https://leetcode.cn/problems/subsets/\">子集</a>"
   ]
  },
  {
   "cell_type": "code",
   "execution_count": 64,
   "id": "c4f3ff5f-0152-485a-94b8-a749c0ac82ae",
   "metadata": {
    "tags": []
   },
   "outputs": [],
   "source": [
    "class Solution:\n",
    "    def subsets(self, nums: List[int]) -> List[List[int]]:\n",
    "        result = []\n",
    "        def backtrack(index, nums, subset):\n",
    "            nonlocal result\n",
    "            if index == len(nums):\n",
    "                result.append([subset[i] for i in range(len(subset))])\n",
    "                return\n",
    "            backtrack(index + 1, nums, subset)\n",
    "            subset.append(nums[index])\n",
    "            backtrack(index + 1, nums, subset)\n",
    "            subset.pop()\n",
    "        backtrack(0, nums, [])\n",
    "        return result"
   ]
  },
  {
   "cell_type": "markdown",
   "id": "c2e2dd7d-9c74-4bf6-958f-c86bec275b04",
   "metadata": {},
   "source": [
    "<a href=\"https://leetcode.cn/problems/majority-element/description/\">多数元素</a>"
   ]
  },
  {
   "cell_type": "code",
   "execution_count": 66,
   "id": "965d2606-1082-4e96-81d3-bb641f5c5dc2",
   "metadata": {
    "tags": []
   },
   "outputs": [],
   "source": [
    "class Solution:\n",
    "    def majorityElement(self, nums: List[int]) -> int:\n",
    "        \"\"\"\n",
    "        如果数 a 是数组 nums 的众数，如果将数组 nums 分成两部分，那么 a 必定是至少一部分的众数\n",
    "        \"\"\"\n",
    "        def devide_conquer(lo, hi):\n",
    "            if lo == hi:\n",
    "                return nums[lo]\n",
    "\n",
    "            mid = (hi - lo) // 2 + lo\n",
    "            left = devide_conquer(lo, mid)\n",
    "            right = devide_conquer(mid + 1, hi)\n",
    "            if left == right:\n",
    "                return left\n",
    "            # 统计众数出现的次数\n",
    "            left_count = sum(1 for i in range(lo, hi + 1) if nums[i] == left)\n",
    "            right_count = sum(1 for i in range(lo, hi + 1) if nums[i] == right)\n",
    "\n",
    "            return left if left_count > right_count else right\n",
    "        return devide_conquer(0, len(nums) - 1)"
   ]
  },
  {
   "cell_type": "markdown",
   "id": "ef9c8ad3-61fb-4cac-b163-4b98443b66a1",
   "metadata": {},
   "source": [
    "<a href=\"https://leetcode.cn/problems/letter-combinations-of-a-phone-number/\">电话号码的字母组合</a>"
   ]
  },
  {
   "cell_type": "code",
   "execution_count": 69,
   "id": "ea7a8951-2838-476f-8e34-db1020c356e1",
   "metadata": {},
   "outputs": [],
   "source": [
    "class Solution:\n",
    "    def letterCombinations(self, digits: str) -> List[str]:\n",
    "        result = []\n",
    "        mapping = {\n",
    "            '2': 'abc',\n",
    "            '3': 'def',\n",
    "            '4': 'ghi',\n",
    "            '5': 'jkl',\n",
    "            '6': 'mno',\n",
    "            '7': 'pqrs',\n",
    "            '8': 'tuv',\n",
    "            '9': 'wxyz'\n",
    "        }\n",
    "        def backtrack(index, digits, letter):\n",
    "            nonlocal result\n",
    "            if index == len(digits):\n",
    "                if letter != []:\n",
    "                    result.append(''.join(letter))\n",
    "                return\n",
    "            for c in mapping.get(digits[index]):\n",
    "                letter.append(c)\n",
    "                backtrack(index + 1, digits, letter)\n",
    "                letter.pop()\n",
    "        backtrack(0, digits, [])\n",
    "        return result"
   ]
  },
  {
   "cell_type": "markdown",
   "id": "0940dd33-c284-48ba-97f6-ec93435dca0a",
   "metadata": {},
   "source": [
    "<a href=\"https://leetcode.cn/problems/n-queens/\">N 皇后</a>\n",
    "\n",
    "皇后的攻击范围\n",
    "\n",
    "1. 该皇后所在的行和列\n",
    "2. 该皇后所在的对角线"
   ]
  },
  {
   "cell_type": "code",
   "execution_count": 72,
   "id": "a6dbd992-d48c-4586-95da-d6a4e8218e6e",
   "metadata": {},
   "outputs": [],
   "source": [
    "class Solution:\n",
    "    def solveNQueens(self, n: int) -> List[List[str]]:\n",
    "        results = []\n",
    "        major = set()\n",
    "        sub = set()\n",
    "        column = set()\n",
    "        def backtrack(row, status):\n",
    "            nonlocal results\n",
    "            if row == n:\n",
    "                results.append([status[i] for i in range(len(status))])\n",
    "                return\n",
    "            for col in range(n):\n",
    "                if col in column or row + col in sub or row - col in major:\n",
    "                    continue\n",
    "                column.add(col)\n",
    "                major.add(row - col)\n",
    "                sub.add(row + col)\n",
    "                status.append(col)\n",
    "                backtrack(row + 1, status)\n",
    "                status.pop()\n",
    "                column.remove(col)\n",
    "                major.remove(row - col)\n",
    "                sub.remove(row + col)\n",
    "        backtrack(0, [])\n",
    "        return [['.' * i + 'Q' + '.' * (n - i - 1) for i in result] for result in results]"
   ]
  },
  {
   "cell_type": "markdown",
   "id": "c0538715-b8d1-43fb-b85d-0f5ab1d3663c",
   "metadata": {
    "jp-MarkdownHeadingCollapsed": true,
    "tags": []
   },
   "source": [
    "### 搜索"
   ]
  },
  {
   "cell_type": "markdown",
   "id": "24e064bf-4a31-40af-a207-292c95159d6c",
   "metadata": {},
   "source": [
    "<a href=\"https://leetcode.cn/problems/binary-tree-level-order-traversal/#/description\">二叉树的层序遍历</a>"
   ]
  },
  {
   "cell_type": "code",
   "execution_count": 52,
   "id": "490c0775-e252-4895-9488-d1bbf746438e",
   "metadata": {
    "tags": []
   },
   "outputs": [],
   "source": [
    "class Solution:\n",
    "    def levelOrder(self, root: Optional[TreeNode]) -> List[List[int]]:\n",
    "        if root == None:\n",
    "            return []\n",
    "        import collections\n",
    "        deque = collections.deque()\n",
    "        result = []\n",
    "        deque.append(root)\n",
    "        while deque:\n",
    "            size = len(deque)\n",
    "            temp = []\n",
    "            for _ in range(size):\n",
    "                node = deque.popleft()\n",
    "                if node.left != None:\n",
    "                    deque.append(node.left)\n",
    "                if node.right != None:\n",
    "                    deque.append(node.right)\n",
    "                temp.append(node.val)\n",
    "            result.append(temp)\n",
    "        return result"
   ]
  },
  {
   "cell_type": "markdown",
   "id": "6fc30a04-35f3-4f70-aa26-ae9c86f0d1e0",
   "metadata": {},
   "source": [
    "<a href=\"https://leetcode.cn/problems/minimum-genetic-mutation/#/description\">最小基因变化</a>"
   ]
  },
  {
   "cell_type": "code",
   "execution_count": null,
   "id": "466eb918-16f4-4dc8-a308-76416643a50d",
   "metadata": {},
   "outputs": [],
   "source": []
  },
  {
   "cell_type": "markdown",
   "id": "1fd97e4e-7d3c-4742-95e9-5aab98b8816f",
   "metadata": {},
   "source": [
    "<a href=\"https://leetcode.cn/problems/find-largest-value-in-each-tree-row/#/description\">在每个树行中找最大值</a>"
   ]
  },
  {
   "cell_type": "code",
   "execution_count": 54,
   "id": "1f32ee2c-50c7-4f1b-8b77-becfb09e0434",
   "metadata": {
    "tags": []
   },
   "outputs": [],
   "source": [
    "class Solution:\n",
    "    def largestValues(self, root: Optional[TreeNode]) -> List[int]:\n",
    "        if root == None:\n",
    "            return []\n",
    "        import collections\n",
    "        deque = collections.deque()\n",
    "        result = []\n",
    "        deque.append(root)\n",
    "        # 层序遍历然后取最大值\n",
    "        while deque:\n",
    "            size = len(deque)\n",
    "            temp = []\n",
    "            for _ in range(size):\n",
    "                node = deque.popleft()\n",
    "                if node.left != None:\n",
    "                    deque.append(node.left)\n",
    "                if node.right != None:\n",
    "                    deque.append(node.right)\n",
    "                temp.append(node.val)\n",
    "            result.append(max(temp))\n",
    "        return result"
   ]
  },
  {
   "cell_type": "markdown",
   "id": "5ebe550d-7134-4bf5-8aba-d45111553cb9",
   "metadata": {},
   "source": [
    "<a href=\"https://leetcode.cn/problems/word-ladder/description/\">单词接龙</a>"
   ]
  },
  {
   "cell_type": "code",
   "execution_count": null,
   "id": "4d49188a-dcc0-4d51-b2be-b522ca81aacc",
   "metadata": {},
   "outputs": [],
   "source": []
  },
  {
   "cell_type": "markdown",
   "id": "a5348259-19de-4353-85d2-e8b2a12dcdad",
   "metadata": {},
   "source": [
    "<a href=\"https://leetcode.cn/problems/word-ladder-ii/description/\">单词接龙 II</a>"
   ]
  },
  {
   "cell_type": "code",
   "execution_count": null,
   "id": "bcfc2bcd-a9e5-4f37-b8f6-d797d69c734f",
   "metadata": {},
   "outputs": [],
   "source": []
  },
  {
   "cell_type": "markdown",
   "id": "72d71bf7-265d-4289-bef4-41af817511de",
   "metadata": {},
   "source": [
    "<a href=\"https://leetcode.cn/problems/number-of-islands/\">岛屿数量</a>"
   ]
  },
  {
   "cell_type": "code",
   "execution_count": null,
   "id": "32fbaf90-c9c8-4f40-ac77-f25a904165a2",
   "metadata": {},
   "outputs": [],
   "source": [
    "class Solution:\n",
    "        \n",
    "    def numIslands(self, grid: List[List[str]]) -> int:\n",
    "        # 沉岛法\n",
    "        def dfs(i, j):\n",
    "            nonlocal grid\n",
    "            if i  - 1 >= 0 and grid[i - 1][j] == '1':\n",
    "                grid[i - 1][j] = '0'\n",
    "                dfs(i - 1, j)\n",
    "            if i + 1 < n and grid[i + 1][j] == '1':\n",
    "                grid[i + 1][j] = '0'\n",
    "                dfs(i + 1, j)\n",
    "            if j + 1 < m and grid[i][j + 1] == '1':\n",
    "                grid[i][j + 1] = '0'\n",
    "                dfs(i, j + 1)\n",
    "            if j - 1 >= 0 and grid[i][j - 1] == '1':\n",
    "                grid[i][j - 1] = '0'\n",
    "                dfs(i, j - 1)\n",
    "        result = 0\n",
    "        n, m = len(grid), len(grid[0])\n",
    "        for i in range(n):\n",
    "            for j in range(m):\n",
    "                if grid[i][j] == '1':\n",
    "                    result += 1\n",
    "                    dfs(i, j)\n",
    "        return result"
   ]
  },
  {
   "cell_type": "markdown",
   "id": "8092e9bf-2f3b-4aa7-95e0-0c545e474fa1",
   "metadata": {},
   "source": [
    "<a href=\"https://leetcode.cn/problems/minesweeper/description/\">扫雷游戏</a>"
   ]
  },
  {
   "cell_type": "code",
   "execution_count": null,
   "id": "19f1473d-760b-464f-b583-541e0f5e312c",
   "metadata": {},
   "outputs": [],
   "source": []
  },
  {
   "cell_type": "markdown",
   "id": "84ab65b5-0eee-4ad9-ba5e-34e3a2c9f3a6",
   "metadata": {},
   "source": [
    "<a href=\"https://leetcode.cn/problems/valid-sudoku/description/\">有效的数独</a>"
   ]
  },
  {
   "cell_type": "markdown",
   "id": "2b3d852e-c0d0-47f8-8fa9-d45e8ddb19d8",
   "metadata": {},
   "source": [
    "<a href=\"https://leetcode.cn/problems/sudoku-solver/\">解数独</a>"
   ]
  },
  {
   "cell_type": "markdown",
   "id": "8bad6c62-fbf1-4be0-aa57-fb78396eb3d5",
   "metadata": {},
   "source": [
    "<a href=\"https://leetcode.cn/problems/shortest-path-in-binary-matrix/\">二进制矩阵中的最短路径</a>"
   ]
  },
  {
   "cell_type": "markdown",
   "id": "3dccf8ba-99ca-42e4-97df-ed9fe51d1b83",
   "metadata": {},
   "source": [
    "<a href=\"https://leetcode.cn/problems/sliding-puzzle/\">滑动谜题</a>"
   ]
  },
  {
   "cell_type": "markdown",
   "id": "ecc49ebf-1e09-4b9d-904c-a87c068f1d2e",
   "metadata": {
    "jp-MarkdownHeadingCollapsed": true,
    "tags": []
   },
   "source": [
    "### 二分查找"
   ]
  },
  {
   "cell_type": "markdown",
   "id": "f2921dcc-3ecb-4678-811d-f84c0b32e785",
   "metadata": {},
   "source": [
    "<a href=\"https://leetcode.cn/problems/sqrtx/\">x 的平方根</a>"
   ]
  },
  {
   "cell_type": "code",
   "execution_count": null,
   "id": "6aa4bf46-f774-485b-9336-0bf1fb55bb9f",
   "metadata": {},
   "outputs": [],
   "source": [
    "class Solution:\n",
    "    def mySqrt(self, x: int) -> int:\n",
    "        if x == 0 or x == 1:\n",
    "            return x\n",
    "        left, right = 1, x\n",
    "        while left <= right:\n",
    "            mid = left + (right - left) // 2\n",
    "            if mid * mid > x:\n",
    "                right = mid - 1\n",
    "            else:\n",
    "                left = mid + 1\n",
    "        return right"
   ]
  },
  {
   "cell_type": "markdown",
   "id": "26deb628-064a-47c4-8aa0-63874ef0085e",
   "metadata": {},
   "source": [
    "<a href=\"https://leetcode.cn/problems/valid-perfect-square/\">有效的完全平方数</a>"
   ]
  },
  {
   "cell_type": "code",
   "execution_count": null,
   "id": "dc8a8435-ac17-48c2-850e-8df5d6a5f4a9",
   "metadata": {},
   "outputs": [],
   "source": []
  },
  {
   "cell_type": "markdown",
   "id": "68c28678-de2f-4b9a-944c-9fdb6735f56b",
   "metadata": {},
   "source": [
    "<a href=\"https://leetcode.cn/problems/search-in-rotated-sorted-array/\">搜索旋转排序数组</a>"
   ]
  },
  {
   "cell_type": "code",
   "execution_count": null,
   "id": "88e40564-f001-4ea2-ba3f-ef4e60a9e4ac",
   "metadata": {},
   "outputs": [],
   "source": []
  },
  {
   "cell_type": "markdown",
   "id": "2dbebc68-aced-43f7-9c31-edf6e5b03a1a",
   "metadata": {},
   "source": [
    "<a href=\"https://leetcode.cn/problems/search-a-2d-matrix/\">搜索二维矩阵</a>"
   ]
  },
  {
   "cell_type": "code",
   "execution_count": null,
   "id": "115a4194-6322-4e63-a1e8-16c0a3094789",
   "metadata": {},
   "outputs": [],
   "source": [
    "class Solution:\n",
    "    def searchMatrix(self, matrix: List[List[int]], target: int) -> bool:\n",
    "        row, col = 0, len(matrix[0]) - 1 # 左上角\n",
    "        while row < len(matrix) and col >= 0:\n",
    "            if target == matrix[row][col]:\n",
    "                return True\n",
    "            elif matrix[row][col] > target:\n",
    "                col -= 1\n",
    "            else:\n",
    "                row += 1\n",
    "        return False"
   ]
  },
  {
   "cell_type": "markdown",
   "id": "a65b84e4-1c5b-4181-90a2-aabd89c343d6",
   "metadata": {},
   "source": [
    "<a href=\"https://leetcode.cn/problems/find-minimum-in-rotated-sorted-array/\">寻找旋转排序数组中的最小值</a>"
   ]
  },
  {
   "cell_type": "code",
   "execution_count": null,
   "id": "2ccc9db4-28fe-4c90-8fd8-2c0bcc6ff100",
   "metadata": {},
   "outputs": [],
   "source": []
  },
  {
   "cell_type": "markdown",
   "id": "fc8d3318-42c1-416c-b446-478e558bf9cd",
   "metadata": {
    "tags": []
   },
   "source": [
    "### 贪心"
   ]
  },
  {
   "cell_type": "markdown",
   "id": "1ac39dbf-ccb8-452e-836b-3d388af57afb",
   "metadata": {},
   "source": [
    "<a href=\"https://leetcode.cn/problems/lemonade-change/description/\">柠檬水找零</a>"
   ]
  },
  {
   "cell_type": "code",
   "execution_count": null,
   "id": "c04043c0-00e4-4053-8f07-1414a8b89194",
   "metadata": {},
   "outputs": [],
   "source": []
  },
  {
   "cell_type": "markdown",
   "id": "fab7943b-f48d-4c0f-9763-70316b49c637",
   "metadata": {},
   "source": [
    "<a href=\"https://leetcode.cn/problems/best-time-to-buy-and-sell-stock-ii/description/\">买卖股票的最佳时机 II</a>"
   ]
  },
  {
   "cell_type": "code",
   "execution_count": null,
   "id": "5e0ccd62-b243-4582-b68b-3187e0cef2f9",
   "metadata": {},
   "outputs": [],
   "source": []
  },
  {
   "cell_type": "markdown",
   "id": "781526e7-e72e-44ce-bea7-6137e1049c4c",
   "metadata": {},
   "source": [
    "<a href=\"https://leetcode.cn/problems/assign-cookies/description/\">分发饼干</a>"
   ]
  },
  {
   "cell_type": "code",
   "execution_count": null,
   "id": "869a594a-b088-4679-b4a0-b77b4b3fa950",
   "metadata": {},
   "outputs": [],
   "source": []
  },
  {
   "cell_type": "markdown",
   "id": "a16a4490-4926-4a85-b470-f9d720c95fff",
   "metadata": {},
   "source": [
    "<a href=\"https://leetcode.cn/problems/walking-robot-simulation/description/\">模拟行走机器人</a>"
   ]
  },
  {
   "cell_type": "code",
   "execution_count": null,
   "id": "a6becf82-e27e-448f-bbb9-534ca8bac614",
   "metadata": {},
   "outputs": [],
   "source": []
  },
  {
   "cell_type": "markdown",
   "id": "ec18763e-7347-4cd6-b582-2019aed6ac26",
   "metadata": {},
   "source": [
    "<a href=\"https://leetcode.cn/problems/jump-game/\">跳跃游戏</a>"
   ]
  },
  {
   "cell_type": "code",
   "execution_count": null,
   "id": "3c26b8a7-6e04-40f2-a3c6-787bd536d993",
   "metadata": {},
   "outputs": [],
   "source": []
  },
  {
   "cell_type": "markdown",
   "id": "f7d6a061-7397-43ab-a5ef-b2fff7c73310",
   "metadata": {},
   "source": [
    "<a href=\"https://leetcode.cn/problems/jump-game-ii/\">跳跃游戏 II</a>"
   ]
  },
  {
   "cell_type": "code",
   "execution_count": null,
   "id": "9bea5320-3460-4424-ab4c-b123a1eaa986",
   "metadata": {},
   "outputs": [],
   "source": []
  },
  {
   "cell_type": "markdown",
   "id": "5a08ba41-7cfd-492a-bc1d-152fed37529c",
   "metadata": {
    "jp-MarkdownHeadingCollapsed": true,
    "tags": []
   },
   "source": [
    "### 动态规划"
   ]
  },
  {
   "cell_type": "markdown",
   "id": "38e57cd1-b0b5-461a-9a14-fb9d75ca1c4f",
   "metadata": {},
   "source": [
    "<a href=\"https://leetcode.cn/problems/find-pivot-index/\">寻找数组的中心下标</a>"
   ]
  },
  {
   "cell_type": "code",
   "execution_count": null,
   "id": "3616b388-99a9-476d-829c-a54b2158cdb0",
   "metadata": {},
   "outputs": [],
   "source": [
    "class Solution:\n",
    "\n",
    "    def pivotIndex(self, nums: List[int]) -> int:\n",
    "        \"\"\"\n",
    "        当中心索引左侧或右侧没有元素时，即为零个项相加，这在数学上称作「空和」。在程序设计中「空和是零」。\n",
    "        \"\"\"\n",
    "        left, right = 0, sum(nums)\n",
    "        for i in range(len(nums)):\n",
    "            right -= nums[i]\n",
    "            if left == right:\n",
    "                return i\n",
    "            left += nums[i]\n",
    "        return -1"
   ]
  },
  {
   "cell_type": "markdown",
   "id": "a722f519-7061-448c-a648-2af8587595be",
   "metadata": {},
   "source": [
    "<a href=\"https://leetcode.cn/problems/running-sum-of-1d-array/\">一维数组的动态和</a>"
   ]
  },
  {
   "cell_type": "code",
   "execution_count": null,
   "id": "093c505f-00c8-4571-961b-ba5dc3f46320",
   "metadata": {},
   "outputs": [],
   "source": [
    "class Solution:\n",
    "    def runningSum(self, nums: List[int]) -> List[int]:\n",
    "        dp = [0] * len(nums)\n",
    "        for i in range(len(nums)):\n",
    "            if i == 0:\n",
    "                dp[i] = nums[i]\n",
    "            else:\n",
    "                dp[i] = nums[i] + dp[i-1]\n",
    "        return dp"
   ]
  },
  {
   "cell_type": "markdown",
   "id": "1c4ad1be-8635-4cec-8d30-52ee9a0b4404",
   "metadata": {},
   "source": [
    "<a href=\"https://leetcode.cn/problems/climbing-stairs/\">爬楼梯</a>"
   ]
  },
  {
   "cell_type": "markdown",
   "id": "003cd04f-fc92-4443-a1b4-86c9d4f9e623",
   "metadata": {},
   "source": [
    "<a href=\"https://leetcode.cn/problems/triangle/description/\">三角形最小路径和</a>"
   ]
  },
  {
   "cell_type": "markdown",
   "id": "b2f2b3ce-c4de-470d-9b26-4e5713416071",
   "metadata": {},
   "source": [
    "<a href=\"https://leetcode.cn/problems/maximum-subarray/\">最大子数组和</a>"
   ]
  },
  {
   "cell_type": "markdown",
   "id": "c6aa3b80-c7d1-4601-8f6f-b89936a46e49",
   "metadata": {},
   "source": [
    "<a href=\"https://leetcode.cn/problems/maximum-product-subarray/description/\">乘积最大子数组</a>"
   ]
  },
  {
   "cell_type": "markdown",
   "id": "70be3001-b03f-4e3c-9d6e-0199400b2bbf",
   "metadata": {},
   "source": [
    "<a href=\"https://leetcode.cn/problems/coin-change/description/\">零钱兑换</a>"
   ]
  },
  {
   "cell_type": "markdown",
   "id": "4a05fd37-4697-4b3f-82c8-eb6604151b8d",
   "metadata": {},
   "source": [
    "<a href=\"https://leetcode.cn/problems/longest-common-subsequence\">最长公共子序列</a>"
   ]
  },
  {
   "cell_type": "code",
   "execution_count": null,
   "id": "feeddac3-80f1-4468-b62c-6721df896aaf",
   "metadata": {},
   "outputs": [],
   "source": [
    "class Solution:\n",
    "    def longestCommonSubsequence(self, text1: str, text2: str) -> int:\n",
    "        m, n = len(text1), len(text2)\n",
    "        dp = [[0] * (n + 1) for _ in range(m + 1)]\n",
    "        \n",
    "        for i in range(1, m + 1):\n",
    "            for j in range(1, n + 1):\n",
    "                if text1[i - 1] == text2[j - 1]:\n",
    "                    dp[i][j] = dp[i - 1][j - 1] + 1\n",
    "                else:\n",
    "                    dp[i][j] = max(dp[i - 1][j], dp[i][j - 1])\n",
    "        return dp[m][n]"
   ]
  },
  {
   "cell_type": "markdown",
   "id": "85a9fbfb-ee22-4b6d-9f8b-f800b752374d",
   "metadata": {},
   "source": [
    "<a href=\"https://leetcode.cn/problems/house-robber/\">打家劫舍</a>"
   ]
  },
  {
   "cell_type": "markdown",
   "id": "ab63943f-0f34-4ff3-96e6-ebdebc1bb2b6",
   "metadata": {},
   "source": [
    "<a href=\"https://leetcode.cn/problems/house-robber-ii/description/\">打家劫舍 II</a>"
   ]
  },
  {
   "cell_type": "markdown",
   "id": "0bb51bf9-75ae-484b-a8a5-77e5c919bde6",
   "metadata": {
    "tags": []
   },
   "source": [
    "<a href=\"https://leetcode.cn/problems/best-time-to-buy-and-sell-stock/\">买卖股票的最佳时机</a>"
   ]
  },
  {
   "cell_type": "markdown",
   "id": "134d7db8-b060-4237-aa22-c4133121261a",
   "metadata": {},
   "source": [
    "<a href=\"https://leetcode.cn/problems/best-time-to-buy-and-sell-stock-ii/\">买卖股票的最佳时机 II</a>"
   ]
  },
  {
   "cell_type": "markdown",
   "id": "44db671e-ad70-4642-a2f2-618903a4c29b",
   "metadata": {},
   "source": [
    "<a href=\"https://leetcode.cn/problems/best-time-to-buy-and-sell-stock-iii/\">买卖股票的最佳时机 III</a>"
   ]
  },
  {
   "cell_type": "markdown",
   "id": "7d6f8ab2-7e04-4e9c-aa29-c35dd8601ebe",
   "metadata": {},
   "source": [
    "<a href=\"https://leetcode.cn/problems/best-time-to-buy-and-sell-stock-with-cooldown/\">最佳买卖股票时机含冷冻期</a>"
   ]
  },
  {
   "cell_type": "markdown",
   "id": "7829f884-e6f1-424b-a7ff-0073c121da6b",
   "metadata": {},
   "source": [
    "<a href=\"https://leetcode.cn/problems/best-time-to-buy-and-sell-stock-iv/\">买卖股票的最佳时机 IV/</a>"
   ]
  },
  {
   "cell_type": "markdown",
   "id": "6f4bd038-b776-4708-b97d-b716b66c3d12",
   "metadata": {},
   "source": [
    "<a href=\"https://leetcode.cn/problems/best-time-to-buy-and-sell-stock-with-transaction-fee/\">买卖股票的最佳时机含手续费</a>"
   ]
  },
  {
   "cell_type": "markdown",
   "id": "0001f271-8a96-429c-8d71-e7d51cf0b3b5",
   "metadata": {},
   "source": [
    "<a href=\"https://leetcode.cn/problems/perfect-squares/\">完全平方数</a>"
   ]
  },
  {
   "cell_type": "markdown",
   "id": "9152a3d7-b859-4d84-b2b4-c6bc117a06e6",
   "metadata": {},
   "source": [
    "<a href=\"https://leetcode.cn/problems/edit-distance/\">编辑距离</a>"
   ]
  },
  {
   "cell_type": "markdown",
   "id": "7491155d-aa72-4434-a761-4c9026c7f441",
   "metadata": {},
   "source": [
    "<a href=\"https://leetcode.cn/problems/jump-game/\">跳跃游戏</a>"
   ]
  },
  {
   "cell_type": "markdown",
   "id": "1af014ab-9cce-4898-8deb-b2358a1a0780",
   "metadata": {},
   "source": [
    "<a href=\"https://leetcode.cn/problems/jump-game-ii/\">跳跃游戏 II</a>"
   ]
  },
  {
   "cell_type": "markdown",
   "id": "f8e0308c-755c-4057-84d2-b85a9ac9f2f8",
   "metadata": {},
   "source": [
    "<a href=\"https://leetcode.cn/problems/unique-paths/\">不同路径</a>"
   ]
  },
  {
   "cell_type": "markdown",
   "id": "bf25c6af-4364-48e5-8538-0255ef1ef25e",
   "metadata": {},
   "source": [
    "<a href=\"https://leetcode.cn/problems/unique-paths-ii/\">不同路径 II</a>"
   ]
  },
  {
   "cell_type": "markdown",
   "id": "f8b3e2e6-a2bf-4371-a894-404fbe614417",
   "metadata": {},
   "source": [
    "<a href=\"https://leetcode.cn/problems/unique-paths-iii/\">不同路径 III</a>"
   ]
  },
  {
   "cell_type": "markdown",
   "id": "5160a9d3-8fa8-44c5-8830-f6d8e962feb1",
   "metadata": {},
   "source": [
    "<a href=\"https://leetcode.cn/problems/coin-change-ii/\">零钱兑换 II</a>"
   ]
  },
  {
   "cell_type": "markdown",
   "id": "0861f343-0afd-408d-bbb1-ed3954b2b0d6",
   "metadata": {},
   "source": [
    "<a href=\"https://leetcode.cn/problems/longest-valid-parentheses/\">最长有效括号</a>"
   ]
  },
  {
   "cell_type": "markdown",
   "id": "971c7663-f5cb-4257-af24-7c57eae680da",
   "metadata": {},
   "source": [
    "<a href=\"https://leetcode.cn/problems/minimum-path-sum/\">最小路径和</a>"
   ]
  },
  {
   "cell_type": "markdown",
   "id": "f3ec40b3-b007-4dd6-8b97-e564582f3482",
   "metadata": {},
   "source": [
    "<a href=\"https://leetcode.cn/problems/decode-ways/\">解码方法</a>"
   ]
  },
  {
   "cell_type": "markdown",
   "id": "72134bbf-ac83-4021-bb70-f87981b96171",
   "metadata": {},
   "source": [
    "<a href=\"https://leetcode.cn/problems/maximal-square/\">最大正方形</a>"
   ]
  },
  {
   "cell_type": "markdown",
   "id": "40bd5773-0db0-43fc-bfc5-1694e6fe1e69",
   "metadata": {},
   "source": [
    "<a href=\"https://leetcode.cn/problems/max-sum-of-rectangle-no-larger-than-k/\">矩形区域不超过 K 的最大数值和</a>"
   ]
  },
  {
   "cell_type": "markdown",
   "id": "f3b1a681-c6f0-4b4c-b9eb-b1428bc506c6",
   "metadata": {},
   "source": [
    "<a href=\"https://leetcode.cn/problems/frog-jump/\">青蛙过河</a>"
   ]
  },
  {
   "cell_type": "markdown",
   "id": "d29dea6a-eabc-42d7-9093-03f7d34d6488",
   "metadata": {},
   "source": [
    "<a href=\"https://leetcode.cn/problems/split-array-largest-sum/\">青蛙过河</a>"
   ]
  },
  {
   "cell_type": "markdown",
   "id": "40f52119-1fbc-48c2-b61f-a0afd45dcd30",
   "metadata": {},
   "source": [
    "<a href=\"https://leetcode.cn/problems/student-attendance-record-ii/\">学生出勤记录 II</a>"
   ]
  },
  {
   "cell_type": "markdown",
   "id": "c0c6ff65-05f0-47e2-9d04-522d6e6214be",
   "metadata": {},
   "source": [
    "<a href=\"https://leetcode.cn/problems/task-scheduler/\">任务调度器</a>"
   ]
  },
  {
   "cell_type": "markdown",
   "id": "7cd3b2e0-0884-45c4-9a13-72fd7010d620",
   "metadata": {},
   "source": [
    "<a href=\"https://leetcode.cn/problems/palindromic-substrings/\">回文子串</a>"
   ]
  },
  {
   "cell_type": "markdown",
   "id": "79c5efb2-2716-4cf2-8beb-b10d31d2f2db",
   "metadata": {},
   "source": [
    "<a href=\"https://leetcode.cn/problems/minimum-window-substring/\">最小覆盖子串</a>"
   ]
  },
  {
   "cell_type": "markdown",
   "id": "4506b3ad-b8b3-49d7-9a6a-507f6e331fa1",
   "metadata": {},
   "source": [
    "<a href=\"https://leetcode.cn/problems/burst-balloons/\">戳气球</a>"
   ]
  },
  {
   "cell_type": "markdown",
   "id": "c8e91b6b-86f5-4b2c-96fd-a264c4a14960",
   "metadata": {},
   "source": [
    "<a href=\"https://leetcode.cn/problems/longest-increasing-subsequence/\">最长递增子序列</a>"
   ]
  },
  {
   "cell_type": "markdown",
   "id": "c566f070-90f5-411f-9ab0-c69a26528453",
   "metadata": {},
   "source": [
    "<a href=\"https://leetcode.cn/problems/maximal-rectangle/\">最大矩形</a>"
   ]
  },
  {
   "cell_type": "markdown",
   "id": "ecd73d54-d8c0-4695-a535-f6a6ea0e07ad",
   "metadata": {},
   "source": [
    "<a href=\"https://leetcode.cn/problems/distinct-subsequences/\">不同的子序列</a>"
   ]
  },
  {
   "cell_type": "markdown",
   "id": "59967f43-84e2-4136-898d-0915dc76c6a8",
   "metadata": {},
   "source": [
    "<a href=\"https://leetcode.cn/problems/race-car/\">赛车</a>"
   ]
  },
  {
   "cell_type": "markdown",
   "id": "033d3c82-8d84-49da-9eaf-adc87d9b9e73",
   "metadata": {
    "jp-MarkdownHeadingCollapsed": true,
    "tags": []
   },
   "source": [
    "### 字典树和并查集"
   ]
  },
  {
   "cell_type": "markdown",
   "id": "dbf78e1f-4f15-4f45-8a02-d4662bf6246b",
   "metadata": {},
   "source": [
    "<a href=\"https://leetcode.cn/problems/implement-trie-prefix-tree/#/description\">实现 Trie (前缀树)</a>"
   ]
  },
  {
   "cell_type": "code",
   "execution_count": null,
   "id": "58515235-49ee-4688-a8ed-aea59a1b176a",
   "metadata": {},
   "outputs": [],
   "source": [
    "class Trie:\n",
    "\n",
    "    def __init__(self):\n",
    "        self.children = {}\n",
    "        self.end_of_word = '#'\n",
    "\n",
    "    def insert(self, word: str) -> None:\n",
    "        root = self.children\n",
    "        for w in word:\n",
    "            if root.get(w) == None:\n",
    "                root[w] = {}\n",
    "            root = root[w]\n",
    "        root[self.end_of_word] = self.end_of_word\n",
    "\n",
    "    def search(self, word: str) -> bool:\n",
    "        root = self.children\n",
    "        for w in word:\n",
    "            if root.get(w) == None:\n",
    "                return False\n",
    "            root = root[w]\n",
    "        return self.end_of_word in root\n",
    "\n",
    "    def startsWith(self, prefix: str) -> bool:\n",
    "        root = self.children\n",
    "        for w in prefix:\n",
    "            if root.get(w) == None:\n",
    "                return False\n",
    "            root = root[w]\n",
    "        return True"
   ]
  },
  {
   "cell_type": "markdown",
   "id": "e20894c5-4f38-493a-bef6-bca0840aba8d",
   "metadata": {},
   "source": [
    "<a href=\"https://leetcode.cn/problems/word-search-ii/\">单词搜索 II</a>"
   ]
  },
  {
   "cell_type": "code",
   "execution_count": null,
   "id": "a6b53bad-5bdf-47f5-8968-61c9de68577e",
   "metadata": {},
   "outputs": [],
   "source": []
  },
  {
   "cell_type": "markdown",
   "id": "80185669-964d-47df-ae1f-5e4bd7d50821",
   "metadata": {},
   "source": [
    "<a href=\"https://leetcode.cn/problems/friend-circles/\">朋友圈</a>"
   ]
  },
  {
   "cell_type": "code",
   "execution_count": null,
   "id": "b1d9fbf7-d826-435c-b312-c6077549a910",
   "metadata": {},
   "outputs": [],
   "source": []
  },
  {
   "cell_type": "markdown",
   "id": "a12973ff-56f6-4e53-9593-94839db0a304",
   "metadata": {},
   "source": [
    "<a href=\"https://leetcode.cn/problems/number-of-islands/\">岛屿数量</a>"
   ]
  },
  {
   "cell_type": "code",
   "execution_count": null,
   "id": "6f8501e3-135a-414a-b455-6bf8fda16927",
   "metadata": {},
   "outputs": [],
   "source": []
  },
  {
   "cell_type": "markdown",
   "id": "e70e0844-7b86-43df-9e13-32f098f02485",
   "metadata": {},
   "source": [
    "<a href=\"https://leetcode.cn/problems/surrounded-regions/\">被围绕的区域</a>"
   ]
  },
  {
   "cell_type": "code",
   "execution_count": null,
   "id": "0bcdd73e-a50e-45d8-be0c-d7562a217c32",
   "metadata": {},
   "outputs": [],
   "source": []
  },
  {
   "cell_type": "markdown",
   "id": "c0d3f48f-32e6-41e4-8dcf-9bff2e0d6329",
   "metadata": {
    "jp-MarkdownHeadingCollapsed": true,
    "tags": []
   },
   "source": [
    "### 位运算"
   ]
  },
  {
   "cell_type": "markdown",
   "id": "3da509d2-c323-451b-9f9f-1971d96f2dce",
   "metadata": {},
   "source": [
    "<a href=\"https://leetcode.cn/problems/number-of-1-bits/\">位1的个数</a>"
   ]
  },
  {
   "cell_type": "code",
   "execution_count": 81,
   "id": "fa97ad1f-5409-4c82-880a-382ea845e79e",
   "metadata": {
    "tags": []
   },
   "outputs": [],
   "source": [
    "class Solution:\n",
    "    def hammingWeight(self, n: int) -> int:\n",
    "        result = 0\n",
    "        while n:\n",
    "            result += (n % 2)\n",
    "            n //= 2\n",
    "        return result"
   ]
  },
  {
   "cell_type": "markdown",
   "id": "a02c94a5-7d58-4191-a8d8-b501e200e9c8",
   "metadata": {},
   "source": [
    "<a href=\"https://leetcode.cn/problems/power-of-two/\">2 的幂</a>"
   ]
  },
  {
   "cell_type": "code",
   "execution_count": 82,
   "id": "78a0782b-60bb-4a2a-bc14-89c08cb1b77c",
   "metadata": {
    "tags": []
   },
   "outputs": [],
   "source": [
    "class Solution:\n",
    "    def isPowerOfTwo(self, n: int) -> bool:\n",
    "        result = 0\n",
    "        while n > 0:\n",
    "            result += (n % 2)\n",
    "            n //= 2\n",
    "        return True if result == 1 else False"
   ]
  },
  {
   "cell_type": "markdown",
   "id": "4d1d11e2-c020-4653-9175-919ab76ca41c",
   "metadata": {},
   "source": [
    "<a href=\"https://leetcode.cn/problems/reverse-bits/\">颠倒二进制位</a>"
   ]
  },
  {
   "cell_type": "code",
   "execution_count": 93,
   "id": "8558d8b7-2858-4500-aa81-4fc212aa5b7e",
   "metadata": {
    "tags": []
   },
   "outputs": [],
   "source": [
    "class Solution:\n",
    "    def reverseBits(self, n: int) -> int:\n",
    "        bits = []\n",
    "        for _ in range(32):\n",
    "            if n % 2 == 1:\n",
    "                bits.append(1)\n",
    "            else:\n",
    "                bits.append(0)\n",
    "            n //= 2\n",
    "        start, end = 0, len(bits) - 1\n",
    "        while start < end:\n",
    "            bits[start], bits[end] = bits[end], bits[start]\n",
    "            start += 1\n",
    "            end -= 1\n",
    "        result = 0\n",
    "        for i in range(32):\n",
    "            if bits[i] == 1:\n",
    "                result += 2 ** i\n",
    "        return result"
   ]
  },
  {
   "cell_type": "markdown",
   "id": "4c75e8ca-e8e0-4ad1-a8d9-b6d3a2c61b19",
   "metadata": {},
   "source": [
    "<a href=\"https://leetcode.cn/problems/n-queens/description/\">N 皇后</a>"
   ]
  },
  {
   "cell_type": "code",
   "execution_count": null,
   "id": "7826251d-5464-48c7-bca7-47aa2b0064f5",
   "metadata": {},
   "outputs": [],
   "source": []
  },
  {
   "cell_type": "markdown",
   "id": "862760b9-6623-4c1b-8c40-e63ad484e809",
   "metadata": {},
   "source": [
    "<a href=\"https://leetcode.cn/problems/n-queens-ii/description/\">N 皇后 II</a>"
   ]
  },
  {
   "cell_type": "code",
   "execution_count": null,
   "id": "cbf1bfb6-3649-4ef1-80ae-5195699e2522",
   "metadata": {},
   "outputs": [],
   "source": []
  },
  {
   "cell_type": "markdown",
   "id": "18728467-be31-4853-80b9-2b4ccf097472",
   "metadata": {},
   "source": [
    "<a href=\"https://leetcode.cn/problems/counting-bits/description/\">比特位计数</a>"
   ]
  },
  {
   "cell_type": "code",
   "execution_count": 94,
   "id": "cd28e85e-3144-4818-83b7-06e3d6ef38a1",
   "metadata": {
    "tags": []
   },
   "outputs": [],
   "source": [
    "class Solution:\n",
    "    def countBits(self, n: int) -> List[int]:\n",
    "        result = [0 for _ in range(n+1)]\n",
    "        for i in range(1, n+1):\n",
    "            result[i] += result[i & (i - 1)] + 1\n",
    "        return result"
   ]
  },
  {
   "cell_type": "markdown",
   "id": "0dfe4e3d-6a22-4249-b652-f8d923bc92b4",
   "metadata": {
    "jp-MarkdownHeadingCollapsed": true,
    "tags": []
   },
   "source": [
    "### 缓存"
   ]
  },
  {
   "cell_type": "markdown",
   "id": "9492f810-1958-4482-acce-d0fa13ac8111",
   "metadata": {},
   "source": [
    "<a href=\"https://leetcode.cn/problems/lru-cache/\">LRU 缓存</a>"
   ]
  },
  {
   "cell_type": "code",
   "execution_count": 2,
   "id": "9da1f078-f7d1-4a50-88ed-a82c105834c9",
   "metadata": {
    "tags": []
   },
   "outputs": [],
   "source": [
    "class LRUCache:\n",
    "\n",
    "    class ListNode:\n",
    "\n",
    "        def __init__(self, key, value):\n",
    "            self.key = key\n",
    "            self.value = value\n",
    "            self.next, self.prev = None, None\n",
    "\n",
    "    def __init__(self, capacity: int):\n",
    "        self.head = type(self).ListNode(None, None)\n",
    "        self.tail = type(self).ListNode(None, None)\n",
    "        self.head.next, self.tail.prev = self.tail, self.head\n",
    "        self.capacity = capacity\n",
    "        self.HashMap = {}\n",
    "\n",
    "    def get(self, key: int) -> int:\n",
    "        if self.HashMap.get(key) == None:\n",
    "            return -1\n",
    "        node = self.HashMap.get(key)\n",
    "        # 将结点从链表中删除\n",
    "        node.prev.next = node.next\n",
    "        node.next.prev = node.prev\n",
    "        # 将结点插入到链表头中\n",
    "        node.next = self.head.next\n",
    "        self.head.next.prev = node\n",
    "        self.head.next = node\n",
    "        node.prev = self.head\n",
    "        return node.value\n",
    "\n",
    "    def put(self, key: int, value: int) -> None:\n",
    "        # 如果在缓存中\n",
    "        if self.HashMap.get(key) == None:\n",
    "            # 如果缓存满了就删除最后一个再插入一个新的\n",
    "            if len(self.HashMap) >= self.capacity:\n",
    "                last = self.tail.prev\n",
    "                last.prev.next = last.next\n",
    "                last.next.prev = last.prev\n",
    "                self.HashMap.pop(last.key)\n",
    "            node = type(self).ListNode(key, value)\n",
    "            self.HashMap[key] = node\n",
    "            node.next = self.head.next\n",
    "            self.head.next.prev = node\n",
    "            self.head.next = node\n",
    "            node.prev = self.head\n",
    "        # 不在缓存中直接添加一个结点\n",
    "        else:\n",
    "            node = self.HashMap.get(key)\n",
    "            node.prev.next = node.next\n",
    "            node.next.prev = node.prev\n",
    "            node.next = self.head.next\n",
    "            self.head.next.prev = node\n",
    "            self.head.next = node\n",
    "            node.prev = self.head\n",
    "            node.value = value"
   ]
  },
  {
   "cell_type": "markdown",
   "id": "6ae56af3-48bd-4c2e-8c0e-fb2212363188",
   "metadata": {
    "jp-MarkdownHeadingCollapsed": true,
    "tags": []
   },
   "source": [
    "### 排序"
   ]
  },
  {
   "cell_type": "markdown",
   "id": "2659adc3-a8f6-4504-b209-a05f1f292246",
   "metadata": {},
   "source": [
    "<a href=\"https://leetcode.cn/problems/design-a-leaderboard/\">力扣排行榜</a>"
   ]
  },
  {
   "cell_type": "code",
   "execution_count": 5,
   "id": "bb0125b0-d9db-4252-9f82-9f738a108aa6",
   "metadata": {
    "tags": []
   },
   "outputs": [],
   "source": [
    "class Leaderboard:\n",
    "\n",
    "    def __init__(self):\n",
    "        self.score = []\n",
    "        self.HashMap = {}\n",
    "\n",
    "    def addScore(self, playerId: int, score: int) -> None:\n",
    "        index = self.HashMap.get(playerId)\n",
    "        if index == None:\n",
    "            self.score.append(score)\n",
    "            self.HashMap[playerId] = len(self.score) - 1\n",
    "        else:\n",
    "            self.score[index] += score\n",
    "\n",
    "    def top(self, K: int) -> int:\n",
    "        score_ = sorted(self.score)\n",
    "        return sum(score_[len(score_)-K:])\n",
    "\n",
    "\n",
    "    def reset(self, playerId: int) -> None:\n",
    "        index = self.HashMap.get(playerId)\n",
    "        if index == None:\n",
    "            return\n",
    "        self.score[index] = 0"
   ]
  },
  {
   "cell_type": "markdown",
   "id": "b287dd5c-3c86-433b-b7fc-8b561e7ec847",
   "metadata": {},
   "source": [
    "<a href=\"https://leetcode.cn/problems/merge-intervals/\">合并区间</a>"
   ]
  },
  {
   "cell_type": "code",
   "execution_count": null,
   "id": "777096f2-84fd-4892-b155-12bcb8008412",
   "metadata": {},
   "outputs": [],
   "source": [
    "class Solution:\n",
    "    def merge(self, intervals: List[List[int]]) -> List[List[int]]:\n",
    "        \"\"\"\n",
    "        由于每个区间的 start 都是小于 end 的，对于区间 [start1, end1] 和区间 [start2, end2] 其中 start1 <= start2\n",
    "        如果 start2 不在区间 [start1, end1] 的范围则有 end2 >= start2 > end1 显然这两个区间不能够合并\n",
    "        如果 start2 在区间 [start1, end1] 的范围之中所以这两个区间是可以合并的，那么有 end2 >= start2, start2 <= end1 所以合并之后的区间的结束值是这两个区间的结束值的较大值\n",
    "        \"\"\"\n",
    "        if intervals == []:\n",
    "            return []\n",
    "        intervals = sorted(intervals, key=lambda x: x[0])# 按照起始值进行排序\n",
    "        j = 0\n",
    "        result = [intervals[0]]\n",
    "        for i in range(1, len(intervals)):\n",
    "            # 如果 intervals[i] 的起始值在 result[j] 的区间中则将 result[j] 的结束值设置成 result[j] 的结束值和 intervals[i] 的结束值的最大值\n",
    "            if intervals[i][0] >= result[j][0] and intervals[i][0] <= result[j][1]:\n",
    "                result[j][1] = max(intervals[i][1], result[j][1])\n",
    "            else:\n",
    "                result.append(intervals[i])\n",
    "                j += 1\n",
    "        return result"
   ]
  },
  {
   "cell_type": "markdown",
   "id": "6f33036d-241e-4014-91e0-297dd83e65f8",
   "metadata": {},
   "source": [
    "<a href=\"https://leetcode.cn/problems/valid-anagram/\">有效的字母异位词</a>"
   ]
  },
  {
   "cell_type": "code",
   "execution_count": null,
   "id": "4a12ac8c-e216-4de6-bc51-7c60dd1ad9b4",
   "metadata": {},
   "outputs": [],
   "source": [
    "class Solution:\n",
    "    def isAnagram(self, s: str, t: str) -> bool:\n",
    "        s = sorted(s)\n",
    "        t = sorted(t)\n",
    "        if len(s) != len(t):\n",
    "            return False\n",
    "        for i in range(len(s)):\n",
    "            if s[i] != t[i]:\n",
    "                return False\n",
    "        return True"
   ]
  },
  {
   "cell_type": "markdown",
   "id": "b14eb66e-5b0c-4570-a788-12974b080684",
   "metadata": {},
   "source": [
    "<a href=\"https://leetcode.cn/problems/reverse-pairs/\">翻转对</a>"
   ]
  },
  {
   "cell_type": "code",
   "execution_count": null,
   "id": "b11b2aca-8aa2-4b7a-910d-6adffd16ed0c",
   "metadata": {},
   "outputs": [],
   "source": []
  },
  {
   "cell_type": "markdown",
   "id": "2cf64df6-5107-437c-af51-c4bbd3e5aa19",
   "metadata": {},
   "source": [
    "<a href=\"https://leetcode.cn/problems/relative-sort-array/\">数组的相对排序</a>"
   ]
  },
  {
   "cell_type": "code",
   "execution_count": null,
   "id": "e9539674-bd26-4992-a9bc-217744d36a60",
   "metadata": {},
   "outputs": [],
   "source": []
  },
  {
   "cell_type": "markdown",
   "id": "e0944e1f-57a3-4701-ba34-b5040ffd4240",
   "metadata": {
    "jp-MarkdownHeadingCollapsed": true,
    "tags": []
   },
   "source": [
    "### 字符串"
   ]
  },
  {
   "cell_type": "markdown",
   "id": "d2879368-450d-461f-a9af-5eeecb7393af",
   "metadata": {
    "tags": []
   },
   "source": [
    "#### 字符串基础问题"
   ]
  },
  {
   "cell_type": "markdown",
   "id": "93809f75-0a9e-4b93-ab09-9cf11c6d1229",
   "metadata": {},
   "source": [
    "<a herf=\"https://leetcode.cn/problems/to-lower-case/\">转换成小写字母</a>"
   ]
  },
  {
   "cell_type": "code",
   "execution_count": null,
   "id": "0b0c6fd8-7882-4616-80d0-4cdbe9eb2457",
   "metadata": {},
   "outputs": [],
   "source": [
    "class Solution:\n",
    "    def toLowerCase(self, s: str) -> str:\n",
    "        return s.lower()"
   ]
  },
  {
   "cell_type": "markdown",
   "id": "59296700-a176-444e-bc28-b036f94b984b",
   "metadata": {},
   "source": [
    "<a herf=\"https://leetcode.cn/problems/length-of-last-word/\">最后一个单词的长度</a>"
   ]
  },
  {
   "cell_type": "code",
   "execution_count": null,
   "id": "32044e93-6bcb-4134-9a3e-1808c6e08155",
   "metadata": {},
   "outputs": [],
   "source": [
    "class Solution:\n",
    "    def lengthOfLastWord(self, s: str) -> int:\n",
    "        # 去掉前后的空格\n",
    "        s = s.strip()\n",
    "        result = 0\n",
    "        # 从后往前遍历如果遇到空格了就证明遍历了一个单词\n",
    "        for i in range(len(s) - 1, -1, -1):\n",
    "            #\n",
    "            if s[i] == ' ':\n",
    "                break\n",
    "            result += 1\n",
    "        return result"
   ]
  },
  {
   "cell_type": "markdown",
   "id": "824ba445-5915-4de9-896f-7d49e62ea2d7",
   "metadata": {},
   "source": [
    "<a herf=\"https://leetcode.cn/problems/jewels-and-stones/\">宝石与石头</a>"
   ]
  },
  {
   "cell_type": "code",
   "execution_count": null,
   "id": "46d2ab6a-f1df-4168-bc39-3b8e68a14018",
   "metadata": {},
   "outputs": [],
   "source": [
    "class Solution:\n",
    "    def numJewelsInStones(self, jewels: str, stones: str) -> int:\n",
    "        HashMap = {}\n",
    "        # 记录每个石头的个数\n",
    "        for stone in stones:\n",
    "            if HashMap.get(stone) == None:\n",
    "                HashMap[stone] = 1\n",
    "            else:\n",
    "                HashMap[stone] += 1\n",
    "        result = 0\n",
    "        for jewel in jewels:\n",
    "            result += HashMap.get(jewel, 0)\n",
    "        return result"
   ]
  },
  {
   "cell_type": "markdown",
   "id": "cc93431f-7374-4c9e-9c76-cfff514a18f0",
   "metadata": {},
   "source": [
    "<a herf=\"https://leetcode.cn/problems/first-unique-character-in-a-string/\">字符串中的第一个唯一字符</a>"
   ]
  },
  {
   "cell_type": "code",
   "execution_count": null,
   "id": "10b9fae3-b4b7-42b2-9dc2-670e5ee73e9a",
   "metadata": {},
   "outputs": [],
   "source": [
    "class Solution:\n",
    "    def firstUniqChar(self, s: str) -> int:\n",
    "        HashMap = {}\n",
    "        for i in range(len(s)):\n",
    "            if HashMap.get(s[i]) == None:\n",
    "                HashMap[s[i]] = 1\n",
    "            else:\n",
    "                HashMap[s[i]] += 1\n",
    "        for i in range(len(s)):\n",
    "            if HashMap.get(s[i]) == 1:\n",
    "                return i\n",
    "        return -1"
   ]
  },
  {
   "cell_type": "markdown",
   "id": "8680b2fe-ae2e-466a-8967-5823278c7fd5",
   "metadata": {},
   "source": [
    "<a herf=\"https://leetcode.cn/problems/string-to-integer-atoi/\">字符串转换整数 (atoi)</a>"
   ]
  },
  {
   "cell_type": "markdown",
   "id": "35ddb96c-4780-4aff-a21b-4c39c2b2639a",
   "metadata": {},
   "source": [
    "#### 字符串操作问题"
   ]
  },
  {
   "cell_type": "markdown",
   "id": "ab5d6033-9bf7-471a-bdd2-6bb6ad3a796a",
   "metadata": {},
   "source": [
    "<a herf=\"https://leetcode.cn/problems/longest-common-prefix/description/\">最长公共前缀</a>"
   ]
  },
  {
   "cell_type": "code",
   "execution_count": null,
   "id": "d366a97a-a39c-4462-b38a-fa23da1abb62",
   "metadata": {},
   "outputs": [],
   "source": [
    "class Solution:\n",
    "    class TrieNode:\n",
    "\n",
    "        def __init__(self):\n",
    "            self.chidlren = {}\n",
    "            self.is_word = False\n",
    "    \n",
    "    def insert(self, word):\n",
    "        root = self.root\n",
    "        for c in word:\n",
    "            if root.chidlren.get(c) == None:\n",
    "                root.chidlren[c] = type(self).TrieNode()\n",
    "            root = root.chidlren[c]\n",
    "        root.is_word = True\n",
    "\n",
    "    def longestCommonPrefix(self, strs: List[str]) -> str:\n",
    "        if len(strs) == 0:\n",
    "            return \"\"\n",
    "        self.root = type(self).TrieNode()\n",
    "        # 记录最短字符串的位置\n",
    "        index = 0\n",
    "        for i in range(len(strs)):\n",
    "            self.insert(strs[i])\n",
    "            if len(strs[i]) < len(strs[index]):\n",
    "                index = i\n",
    "        result = []\n",
    "        # 遍历最短的字符串\n",
    "        for c in strs[index]:\n",
    "            # 如果当前字符没有在字典树中出现说明不是公共前缀\n",
    "            # 如果当前字符的子结点不为 1\n",
    "            if self.root.chidlren.get(c) == None or len(self.root.chidlren) > 1:\n",
    "                break\n",
    "            result.append(c)\n",
    "            self.root = self.root.chidlren[c]\n",
    "        return ''.join(result)"
   ]
  },
  {
   "cell_type": "markdown",
   "id": "d65215a0-14af-4a48-85a3-67bb532d60f2",
   "metadata": {},
   "source": [
    "<a herf=\"https://leetcode.cn/problems/reverse-string/\">反转字符串</a>"
   ]
  },
  {
   "cell_type": "code",
   "execution_count": null,
   "id": "01968008-04a3-46d3-b168-a4faad583111",
   "metadata": {},
   "outputs": [],
   "source": [
    "class Solution:\n",
    "    def reverseString(self, s: List[str]) -> None:\n",
    "        \"\"\"\n",
    "        Do not return anything, modify s in-place instead.\n",
    "        \"\"\"\n",
    "        start, end = 0, len(s) - 1\n",
    "        while start < end:\n",
    "            s[start], s[end] = s[end], s[start]\n",
    "            start += 1\n",
    "            end -= 1\n",
    "        return"
   ]
  },
  {
   "cell_type": "markdown",
   "id": "7c231ccc-aaf6-4957-aea6-6aa51890a7be",
   "metadata": {},
   "source": [
    "<a herf=\"https://leetcode.cn/problems/reverse-string-ii/\">反转字符串 II</a>"
   ]
  },
  {
   "cell_type": "markdown",
   "id": "5a74d576-1fbd-4906-a2f0-944240737bc1",
   "metadata": {},
   "source": [
    "<a herf=\"https://leetcode.cn/problems/reverse-words-in-a-string/\">反转字符串中的单词</a>"
   ]
  },
  {
   "cell_type": "markdown",
   "id": "0826bab3-98a1-4020-bc6f-1fc932889367",
   "metadata": {},
   "source": [
    "<a herf=\"https://leetcode.cn/problems/reverse-words-in-a-string-iii/\">反转字符串中的单词 III</a>"
   ]
  },
  {
   "cell_type": "code",
   "execution_count": null,
   "id": "72efe654-9ff6-42c8-bded-93d92feaaefe",
   "metadata": {},
   "outputs": [],
   "source": [
    "class Solution:\n",
    "    def reverseWords(self, s: str) -> str:\n",
    "        def reverse(start, end):\n",
    "            while start < end:\n",
    "                result[start], result[end] = result[end], result[start]\n",
    "                start += 1\n",
    "                end -= 1\n",
    "            return\n",
    "        result = []\n",
    "        i, n = 0, len(s)\n",
    "        start = 0\n",
    "        while i < n:\n",
    "            result.append(s[i])\n",
    "            if s[i] == ' ':\n",
    "                reverse(start, i - 1)\n",
    "                start = i + 1\n",
    "            i += 1\n",
    "        reverse(start, i-1)\n",
    "        return ''.join(result)"
   ]
  },
  {
   "cell_type": "markdown",
   "id": "70235729-5578-4d85-8f3f-f5a8a595aa5f",
   "metadata": {},
   "source": [
    "<a herf=\"https://leetcode.cn/problems/reverse-only-letters/\">仅仅反转字母</a>"
   ]
  },
  {
   "cell_type": "markdown",
   "id": "e6613576-6d27-4796-bf03-eee3db46c650",
   "metadata": {},
   "source": [
    "#### 异位词问题"
   ]
  },
  {
   "cell_type": "markdown",
   "id": "b973a384-4a45-46ed-a362-adde4d3cbcfc",
   "metadata": {},
   "source": [
    "<a herf=\"https://leetcode.cn/problems/valid-anagram/\">有效的字母异位词</a>"
   ]
  },
  {
   "cell_type": "markdown",
   "id": "1bbf1ae4-bf4a-46f8-b519-eca50e21c1e3",
   "metadata": {},
   "source": [
    "<a herf=\"https://leetcode.cn/problems/group-anagrams/\">字母异位词分组</a>"
   ]
  },
  {
   "cell_type": "markdown",
   "id": "0516c70c-13ab-40ab-917d-99045df0b0aa",
   "metadata": {},
   "source": [
    "<a herf=\"https://leetcode.cn/problems/find-all-anagrams-in-a-string/\">找到字符串中所有字母异位词</a>"
   ]
  },
  {
   "cell_type": "markdown",
   "id": "8db35500-c04b-46d2-8592-cd4a77a963b1",
   "metadata": {},
   "source": [
    "#### 回文串问题"
   ]
  },
  {
   "cell_type": "markdown",
   "id": "8884e5d7-9e3d-452d-8530-a4a0267ef86b",
   "metadata": {},
   "source": [
    "<a herf=\"https://leetcode.cn/problems/valid-palindrome/\">验证回文串</a>"
   ]
  },
  {
   "cell_type": "markdown",
   "id": "055807f3-7dfc-4198-8305-0771855d26e3",
   "metadata": {},
   "source": [
    "<a herf=\"https://leetcode.cn/problems/valid-palindrome-ii/\">验证回文串 II</a>"
   ]
  },
  {
   "cell_type": "markdown",
   "id": "c8e65c36-e8c4-4915-a953-72901e78b4c1",
   "metadata": {
    "tags": []
   },
   "source": [
    "<a herf=\"https://leetcode.cn/problems/longest-palindromic-substring/\">最长回文子串</a>"
   ]
  },
  {
   "cell_type": "markdown",
   "id": "31d1fbe4-7aed-4640-bc33-ab7b278f0ea7",
   "metadata": {},
   "source": [
    "#### 最长子串、子序列问题"
   ]
  },
  {
   "cell_type": "markdown",
   "id": "72f68c23-de4d-4dae-b23d-f829955e7712",
   "metadata": {},
   "source": [
    "<a href=\"https://leetcode.cn/problems/longest-common-subsequence/\">最长公共子序列</a>"
   ]
  },
  {
   "cell_type": "markdown",
   "id": "dbd924df-0446-432c-a55f-9886dae98a7d",
   "metadata": {},
   "source": [
    "<a href=\"https://leetcode.cn/problems/edit-distance/\">编辑距离</a>"
   ]
  },
  {
   "cell_type": "markdown",
   "id": "7c26eba2-5f8f-47d0-a60b-7c973d6a83c0",
   "metadata": {},
   "source": [
    "<a href=\"https://leetcode.cn/problems/longest-palindromic-substring/\">最长回文子串</a>"
   ]
  },
  {
   "cell_type": "markdown",
   "id": "de744457-2527-436f-89f9-77fa9f460c22",
   "metadata": {
    "tags": []
   },
   "source": [
    "#### 字符串+DP 问题"
   ]
  },
  {
   "cell_type": "markdown",
   "id": "88a8f27c-c6b3-4e61-9d8b-7742ca1fe606",
   "metadata": {},
   "source": [
    "<a href=\"https://leetcode.cn/problems/regular-expression-matching/\">正则表达式匹配</a>"
   ]
  },
  {
   "cell_type": "markdown",
   "id": "89542a4d-f140-40df-85a7-8222a1f880ec",
   "metadata": {},
   "source": [
    "<a href=\"https://leetcode.cn/problems/wildcard-matching/\">通配符匹配</a>"
   ]
  },
  {
   "cell_type": "markdown",
   "id": "a3d658a3-4192-4e98-aae2-dacdeefe18ab",
   "metadata": {},
   "source": [
    "<a href=\"https://leetcode.cn/problems/distinct-subsequences/\">不同的子序列</a>"
   ]
  },
  {
   "cell_type": "markdown",
   "id": "5ca2360a-e88f-456f-a5d3-51951f1dc186",
   "metadata": {
    "tags": []
   },
   "source": [
    "#### 课后作业"
   ]
  },
  {
   "cell_type": "markdown",
   "id": "a7a290b1-d4ad-4d11-8209-9359e1d21104",
   "metadata": {},
   "source": [
    "<a href=\"\"></a>"
   ]
  },
  {
   "cell_type": "markdown",
   "id": "9bf736e1-a2cf-4b06-bfb0-570768d76d2f",
   "metadata": {},
   "source": [
    "<a href=\"https://leetcode.cn/problems/first-unique-character-in-a-string/\">字符串中的第一个唯一字符</a>"
   ]
  },
  {
   "cell_type": "code",
   "execution_count": null,
   "id": "ea413fec-cf41-4208-b3f2-de0c489ea311",
   "metadata": {},
   "outputs": [],
   "source": [
    "class Solution:\n",
    "    def firstUniqChar(self, s: str) -> int:\n",
    "        HashMap = {}\n",
    "        for i in range(len(s)):\n",
    "            if HashMap.get(s[i]) == None:\n",
    "                HashMap[s[i]] = 1\n",
    "            else:\n",
    "                HashMap[s[i]] += 1\n",
    "        for i in range(len(s)):\n",
    "            if HashMap.get(s[i]) == 1:\n",
    "                return i\n",
    "        return -1"
   ]
  },
  {
   "cell_type": "markdown",
   "id": "827870ca-0c74-480e-badc-2ada61bf35be",
   "metadata": {},
   "source": [
    "<a href=\"https://leetcode.cn/problems/string-to-integer-atoi/\">字符串转换整数 (atoi)</a>"
   ]
  },
  {
   "cell_type": "markdown",
   "id": "ea20d560-2ff0-4ba6-8fa3-b4ec37afbf69",
   "metadata": {},
   "source": [
    "<a href=\"https://leetcode.cn/problems/reverse-string-ii/\">反转字符串 II</a>"
   ]
  },
  {
   "cell_type": "markdown",
   "id": "c1043698-81d2-4680-acdd-337b70529fe7",
   "metadata": {},
   "source": [
    "<a href=\"https://leetcode.cn/problems/reverse-words-in-a-string/\">反转字符串中的单词</a>"
   ]
  },
  {
   "cell_type": "markdown",
   "id": "48526b91-ad3b-406c-9223-505659859322",
   "metadata": {},
   "source": [
    "<a href=\"https://leetcode.cn/problems/reverse-words-in-a-string-iii/\">反转字符串中的单词 III</a>"
   ]
  },
  {
   "cell_type": "markdown",
   "id": "c3c1ffa7-1dd2-46cb-b8fc-e15934f9a636",
   "metadata": {},
   "source": [
    "<a href=\"https://leetcode.cn/problems/reverse-only-letters/\">仅仅反转字母</a>"
   ]
  },
  {
   "cell_type": "markdown",
   "id": "38bc9345-e853-40f4-a299-916141458397",
   "metadata": {},
   "source": [
    "<a href=\"https://leetcode.cn/problems/find-all-anagrams-in-a-string/\">找到字符串中所有字母异位词</a>"
   ]
  },
  {
   "cell_type": "markdown",
   "id": "fd8906ca-a64e-460d-90ee-f55048d2b66d",
   "metadata": {},
   "source": [
    "<a href=\"https://leetcode.cn/problems/longest-palindromic-substring/\">最长回文子串</a>"
   ]
  },
  {
   "cell_type": "markdown",
   "id": "7c73e4c6-1eeb-468c-bfbc-bfdaa366004c",
   "metadata": {},
   "source": [
    "<a href=\"https://leetcode.cn/problems/isomorphic-strings/\">同构字符串</a>"
   ]
  },
  {
   "cell_type": "markdown",
   "id": "8a2622a7-e55d-4271-8ccc-12fcef22b0e6",
   "metadata": {},
   "source": [
    "<a href=\"https://leetcode.cn/problems/valid-palindrome-ii/\">验证回文串 II</a>"
   ]
  },
  {
   "cell_type": "markdown",
   "id": "059ea4c0-babd-477b-a2d5-94cdf18c5592",
   "metadata": {},
   "source": [
    "<a href=\"https://leetcode.cn/problems/wildcard-matching/\">通配符匹配</a>"
   ]
  },
  {
   "cell_type": "markdown",
   "id": "f8bd5343-03d9-4b8f-8f0a-ab2868c17c28",
   "metadata": {},
   "source": [
    "<a href=\"https://leetcode.cn/problems/longest-valid-parentheses/\">最长有效括号</a>"
   ]
  },
  {
   "cell_type": "markdown",
   "id": "6ba4e93c-5ed2-4e8f-babf-0daaa0ecd905",
   "metadata": {},
   "source": [
    "<a href=\"https://leetcode.cn/problems/distinct-subsequences/\">不同的子序列</a>"
   ]
  }
 ],
 "metadata": {
  "kernelspec": {
   "display_name": "Python 3 (ipykernel)",
   "language": "python",
   "name": "python3"
  },
  "language_info": {
   "codemirror_mode": {
    "name": "ipython",
    "version": 3
   },
   "file_extension": ".py",
   "mimetype": "text/x-python",
   "name": "python",
   "nbconvert_exporter": "python",
   "pygments_lexer": "ipython3",
   "version": "3.8.13"
  }
 },
 "nbformat": 4,
 "nbformat_minor": 5
}
