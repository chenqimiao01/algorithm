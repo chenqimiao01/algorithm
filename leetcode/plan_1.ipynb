{
 "cells": [
  {
   "cell_type": "markdown",
   "id": "10ad6159-3d0d-464b-9068-55162787404d",
   "metadata": {},
   "source": [
    "## 华为春招"
   ]
  },
  {
   "cell_type": "code",
   "execution_count": null,
   "id": "db6b0ec3-cec5-4984-9fb7-8758b039ea14",
   "metadata": {},
   "outputs": [],
   "source": []
  },
  {
   "cell_type": "code",
   "execution_count": null,
   "id": "9d773838-0701-45e3-91d7-e53b298e1add",
   "metadata": {},
   "outputs": [],
   "source": []
  },
  {
   "cell_type": "code",
   "execution_count": null,
   "id": "ff96e426-d369-430f-b688-dae2cd0d836d",
   "metadata": {},
   "outputs": [],
   "source": []
  },
  {
   "cell_type": "code",
   "execution_count": null,
   "id": "6e4023fd-b818-4ef0-8ac0-e229e6d6fc28",
   "metadata": {},
   "outputs": [],
   "source": []
  },
  {
   "cell_type": "markdown",
   "id": "5f98ef06-325f-49ea-9885-64ef79286cdd",
   "metadata": {},
   "source": [
    "<a href=\"\"></a>"
   ]
  },
  {
   "cell_type": "code",
   "execution_count": null,
   "id": "6dc31e18-5514-473a-9570-ebe153f6394c",
   "metadata": {},
   "outputs": [],
   "source": [
    "class Solution:\n",
    "        \n",
    "    def numIslands(self, grid: List[List[str]]) -> int:\n",
    "\n",
    "        def dfs(i, j):\n",
    "            nonlocal grid\n",
    "            if i  - 1 >= 0 and grid[i - 1][j] == '1':\n",
    "                grid[i - 1][j] = '0'\n",
    "                dfs(i - 1, j)\n",
    "            if i + 1 < n and grid[i + 1][j] == '1':\n",
    "                grid[i + 1][j] = '0'\n",
    "                dfs(i + 1, j)\n",
    "            if j + 1 < m and grid[i][j + 1] == '1':\n",
    "                grid[i][j + 1] = '0'\n",
    "                dfs(i, j + 1)\n",
    "            if j - 1 >= 0 and grid[i][j - 1] == '1':\n",
    "                grid[i][j - 1] = '0'\n",
    "                dfs(i, j - 1)\n",
    "        result = 0\n",
    "        n, m = len(grid), len(grid[0])\n",
    "        for i in range(n):\n",
    "            for j in range(m):\n",
    "                if grid[i][j] == '1':\n",
    "                    result += 1\n",
    "                    dfs(i, j)\n",
    "        return result"
   ]
  }
 ],
 "metadata": {
  "kernelspec": {
   "display_name": "Python 3 (ipykernel)",
   "language": "python",
   "name": "python3"
  },
  "language_info": {
   "codemirror_mode": {
    "name": "ipython",
    "version": 3
   },
   "file_extension": ".py",
   "mimetype": "text/x-python",
   "name": "python",
   "nbconvert_exporter": "python",
   "pygments_lexer": "ipython3",
   "version": "3.8.13"
  }
 },
 "nbformat": 4,
 "nbformat_minor": 5
}
