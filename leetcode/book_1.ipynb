{
 "cells": [
  {
   "cell_type": "markdown",
   "id": "7ef87f4e-d550-4034-ae18-14cb4c2f3ce8",
   "metadata": {
    "tags": []
   },
   "source": [
    "## 程序员面试金典"
   ]
  },
  {
   "cell_type": "markdown",
   "id": "a4b89430-f86c-40f2-954c-7be60e6cbf0f",
   "metadata": {},
   "source": [
    "<a href=\"https://leetcode.cn/problems/is-unique-lcci/\">判定字符是否唯一</a>"
   ]
  },
  {
   "cell_type": "code",
   "execution_count": null,
   "id": "83b33967-7200-4ccd-bd1a-bba8377b2eba",
   "metadata": {},
   "outputs": [],
   "source": [
    "class Solution:\n",
    "    def isUnique(self, astr: str) -> bool:\n",
    "        HashMap = {}\n",
    "        # 统计每个字符出现的次数\n",
    "        for c in astr:\n",
    "            if HashMap.get(c) == None:\n",
    "                HashMap[c] = 1\n",
    "            else:\n",
    "                HashMap[c] += 1\n",
    "        # 如果哈希表的长度和字符串的长度一样说明所有字符都只出现一次\n",
    "        return len(HashMap) == len(astr)"
   ]
  },
  {
   "cell_type": "code",
   "execution_count": null,
   "id": "4223f9e6-34a4-4344-98eb-22210a8de5fa",
   "metadata": {},
   "outputs": [],
   "source": [
    "<a href=\"https://leetcode.cn/problems/check-permutation-lcci/\">判定是否互为字符重排</a>"
   ]
  },
  {
   "cell_type": "code",
   "execution_count": null,
   "id": "284cd024-ff45-45be-a878-84623e0a4956",
   "metadata": {},
   "outputs": [],
   "source": [
    "<a href=\"\"></a>"
   ]
  },
  {
   "cell_type": "code",
   "execution_count": null,
   "id": "47e92c5d-d8a4-4039-8b94-bdf57ae057c3",
   "metadata": {},
   "outputs": [],
   "source": [
    "<a href=\"\"></a>"
   ]
  },
  {
   "cell_type": "code",
   "execution_count": null,
   "id": "5821a68a-9857-46de-878c-5468b0ef6293",
   "metadata": {},
   "outputs": [],
   "source": [
    "<a href=\"\"></a>"
   ]
  },
  {
   "cell_type": "code",
   "execution_count": null,
   "id": "4d8639ac-96a8-4662-ba51-3893f3c4cbba",
   "metadata": {},
   "outputs": [],
   "source": [
    "<a href=\"https://leetcode.cn/problems/compress-string-lcci/\">字符串压缩</a>"
   ]
  },
  {
   "cell_type": "code",
   "execution_count": null,
   "id": "6eee769e-39a7-46e6-8e74-106733b393d4",
   "metadata": {},
   "outputs": [],
   "source": [
    "class Solution:\n",
    "    def compressString(self, S: str) -> str:\n",
    "        result = []\n",
    "        i = 0\n",
    "        while i < len(S):\n",
    "            c = S[i]\n",
    "            count = 1\n",
    "            i += 1\n",
    "            # 统计相同字符的个数\n",
    "            while i < len(S) and c == S[i]:\n",
    "                count += 1\n",
    "                i += 1\n",
    "            result.append(c)\n",
    "            result.append(str(count))\n",
    "        # 如果压缩后的字符串长度大于等于原字符串的长度那么压缩就显得没意义了\n",
    "        if len(result) >= len(S):\n",
    "            return S\n",
    "        return ''.join(result)"
   ]
  },
  {
   "cell_type": "markdown",
   "id": "e3d457a5-92a1-41c7-871c-87b9f8b1c121",
   "metadata": {},
   "source": [
    "<a href=\"https://leetcode.cn/problems/rotate-matrix-lcci/\">旋转矩阵</a>"
   ]
  },
  {
   "cell_type": "code",
   "execution_count": null,
   "id": "0e0a645d-565c-4dd5-9734-90b26db6135a",
   "metadata": {},
   "outputs": [],
   "source": [
    "class Solution:\n",
    "    def rotate(self, matrix: List[List[int]]) -> None:\n",
    "        \"\"\"\n",
    "        Do not return anything, modify matrix in-place instead.\n",
    "        \"\"\"\n",
    "        def reverse(row):\n",
    "            start, end = 0, len(matrix[row]) - 1\n",
    "            while start < end:\n",
    "                matrix[row][start], matrix[row][end] = matrix[row][end], matrix[row][start]\n",
    "                start += 1\n",
    "                end -= 1\n",
    "        # 遍历上三角矩阵\n",
    "        for i in range(len(matrix)):\n",
    "            for j in range(len(matrix[i])):\n",
    "                # 交换矩阵中对称的元素\n",
    "                if i < j:\n",
    "                    matrix[i][j], matrix[j][i] = matrix[j][i], matrix[i][j]\n",
    "        # 按行旋转\n",
    "        for i in range(len(matrix)):\n",
    "            reverse(i)"
   ]
  },
  {
   "cell_type": "markdown",
   "id": "12ff9d48-1798-4a8a-afb0-c88eb415dfd0",
   "metadata": {},
   "source": [
    "<a href=\"https://leetcode.cn/problems/zero-matrix-lcci/\">零矩阵</a>"
   ]
  },
  {
   "cell_type": "code",
   "execution_count": null,
   "id": "a0987727-4aed-42b5-ad03-c3dbe1589d05",
   "metadata": {},
   "outputs": [],
   "source": [
    "class Solution:\n",
    "    def setZeroes(self, matrix: List[List[int]]) -> None:\n",
    "        \"\"\"\n",
    "        Do not return anything, modify matrix in-place instead.\n",
    "        \"\"\"\n",
    "        import copy\n",
    "        def bf(row, col):\n",
    "            # 列清零\n",
    "            for i in range(len(matrix)):\n",
    "                matrix[i][col] = 0\n",
    "            # 行清零\n",
    "            for i in range(len(matrix[0])):\n",
    "                matrix[row][i] = 0\n",
    "            return\n",
    "        matrix_1 = copy.deepcopy(matrix)\n",
    "        for i in range(len(matrix_1)):\n",
    "            for j in range(len(matrix_1[i])):\n",
    "                if matrix_1[i][j] == 0:\n",
    "                    bf(i, j)"
   ]
  },
  {
   "cell_type": "code",
   "execution_count": null,
   "id": "99099307-7419-4d61-a823-7e1592315f3d",
   "metadata": {},
   "outputs": [],
   "source": [
    "<a href=\"https://leetcode.cn/problems/string-rotation-lcci/\">字符串轮转</a>"
   ]
  },
  {
   "cell_type": "code",
   "execution_count": null,
   "id": "cc1c89fb-9d07-4401-ba28-b738374f54f7",
   "metadata": {},
   "outputs": [],
   "source": [
    "class Solution:\n",
    "    def isFlipedString(self, s1: str, s2: str) -> bool:\n",
    "        def reverse(s, start1, end1, start2, end2):\n",
    "            result = []\n",
    "            for i in range(start2, end2):\n",
    "                result.append(s[i])\n",
    "            for i in range(start1, end1):\n",
    "                result.append(s[i])\n",
    "            return ''.join(result)\n",
    "        if len(s1) != len(s2):\n",
    "            return False\n",
    "        if len(s1) == 0 and len(s2) == 0:\n",
    "            return True\n",
    "        for i in range(len(s1)):\n",
    "            if reverse(s1, 0, i, i, len(s1)) == s2:\n",
    "                return True\n",
    "        return False"
   ]
  },
  {
   "cell_type": "code",
   "execution_count": null,
   "id": "72a24578-81ed-4c6f-9d84-0f29d798c433",
   "metadata": {},
   "outputs": [],
   "source": [
    "<a href=\"\"></a>"
   ]
  },
  {
   "cell_type": "code",
   "execution_count": null,
   "id": "0a880378-2939-4c37-bcd8-95964c6c3c90",
   "metadata": {},
   "outputs": [],
   "source": [
    "<a href=\"\"></a>"
   ]
  },
  {
   "cell_type": "code",
   "execution_count": null,
   "id": "e3d7e070-09bf-4d42-9cd5-7a795bc93333",
   "metadata": {},
   "outputs": [],
   "source": [
    "<a href=\"\"></a>"
   ]
  },
  {
   "cell_type": "code",
   "execution_count": null,
   "id": "a389ba55-cac7-4bd3-8297-1d71e650d69f",
   "metadata": {},
   "outputs": [],
   "source": [
    "<a href=\"\"></a>"
   ]
  },
  {
   "cell_type": "code",
   "execution_count": null,
   "id": "30f45b19-c827-4e14-a64e-eb055487b62f",
   "metadata": {},
   "outputs": [],
   "source": [
    "<a href=\"\"></a>"
   ]
  },
  {
   "cell_type": "code",
   "execution_count": null,
   "id": "e96fa24b-c1c5-4d20-a97f-4e7962f91968",
   "metadata": {},
   "outputs": [],
   "source": [
    "<a href=\"\"></a>"
   ]
  },
  {
   "cell_type": "code",
   "execution_count": null,
   "id": "2d1983d4-536b-42d3-b48f-6d23c9b6ab3a",
   "metadata": {},
   "outputs": [],
   "source": [
    "<a href=\"\"></a>"
   ]
  },
  {
   "cell_type": "code",
   "execution_count": null,
   "id": "196f8c62-67d7-41ae-8f4e-453c61ac4c61",
   "metadata": {},
   "outputs": [],
   "source": [
    "<a href=\"\"></a>"
   ]
  },
  {
   "cell_type": "code",
   "execution_count": null,
   "id": "d85b471e-dca6-4509-a112-652b6d998008",
   "metadata": {},
   "outputs": [],
   "source": [
    "<a href=\"\"></a>"
   ]
  },
  {
   "cell_type": "code",
   "execution_count": null,
   "id": "d303e237-d947-42a6-b024-a0e1275e9da8",
   "metadata": {},
   "outputs": [],
   "source": [
    "<a href=\"\"></a>"
   ]
  },
  {
   "cell_type": "code",
   "execution_count": null,
   "id": "8357569f-3ffa-4e59-91b2-6f90a4e6ddf4",
   "metadata": {},
   "outputs": [],
   "source": [
    "<a href=\"\"></a>"
   ]
  },
  {
   "cell_type": "code",
   "execution_count": null,
   "id": "1e79a054-db4a-41da-b431-8d8fd60ac032",
   "metadata": {},
   "outputs": [],
   "source": [
    "<a href=\"\"></a>"
   ]
  },
  {
   "cell_type": "code",
   "execution_count": null,
   "id": "7d603a71-8ec1-4759-a08f-8756756f00f4",
   "metadata": {},
   "outputs": [],
   "source": [
    "<a href=\"\"></a>"
   ]
  },
  {
   "cell_type": "code",
   "execution_count": null,
   "id": "34ad4a5e-1914-4295-9b1a-81d915677772",
   "metadata": {},
   "outputs": [],
   "source": [
    "<a href=\"\"></a>"
   ]
  },
  {
   "cell_type": "code",
   "execution_count": null,
   "id": "e11160da-d309-4904-ae1a-4780bb622046",
   "metadata": {},
   "outputs": [],
   "source": [
    "<a href=\"\"></a>"
   ]
  },
  {
   "cell_type": "code",
   "execution_count": null,
   "id": "9051da85-6bf2-4c07-89e5-51ea29d7559b",
   "metadata": {},
   "outputs": [],
   "source": [
    "<a href=\"\"></a>"
   ]
  },
  {
   "cell_type": "code",
   "execution_count": null,
   "id": "3dd7f81a-098b-4811-aea8-b2be61871cc1",
   "metadata": {},
   "outputs": [],
   "source": [
    "<a href=\"\"></a>"
   ]
  },
  {
   "cell_type": "code",
   "execution_count": null,
   "id": "a3b82b37-e216-4b16-b9ff-581b56f1861c",
   "metadata": {},
   "outputs": [],
   "source": [
    "<a href=\"\"></a>"
   ]
  },
  {
   "cell_type": "code",
   "execution_count": null,
   "id": "27f5f0d0-3f36-4741-bdea-35c968769b81",
   "metadata": {},
   "outputs": [],
   "source": [
    "<a href=\"\"></a>"
   ]
  },
  {
   "cell_type": "code",
   "execution_count": null,
   "id": "29b614c8-4d40-4079-b5e6-655eed4df06d",
   "metadata": {},
   "outputs": [],
   "source": [
    "<a href=\"\"></a>"
   ]
  },
  {
   "cell_type": "code",
   "execution_count": null,
   "id": "64c79a92-97b6-45c6-8eb8-9c0d6fe4b3c3",
   "metadata": {},
   "outputs": [],
   "source": [
    "<a href=\"\"></a>"
   ]
  },
  {
   "cell_type": "code",
   "execution_count": null,
   "id": "56e7a51e-2075-4d5c-bb90-b8dad305748a",
   "metadata": {},
   "outputs": [],
   "source": [
    "<a href=\"\"></a>"
   ]
  },
  {
   "cell_type": "code",
   "execution_count": null,
   "id": "b7b9905a-f98e-4cb9-bb74-631b4aa662ba",
   "metadata": {},
   "outputs": [],
   "source": [
    "<a href=\"\"></a>"
   ]
  },
  {
   "cell_type": "code",
   "execution_count": null,
   "id": "a8727733-6d0b-425e-951f-b20c42b78ed2",
   "metadata": {},
   "outputs": [],
   "source": [
    "<a href=\"\"></a>"
   ]
  },
  {
   "cell_type": "code",
   "execution_count": null,
   "id": "2c3f7b0b-ae88-45cc-a727-223165b081ec",
   "metadata": {},
   "outputs": [],
   "source": [
    "<a href=\"\"></a>"
   ]
  },
  {
   "cell_type": "code",
   "execution_count": null,
   "id": "efe8de9b-adf9-47da-8a02-f321c381c053",
   "metadata": {},
   "outputs": [],
   "source": [
    "<a href=\"\"></a>"
   ]
  },
  {
   "cell_type": "code",
   "execution_count": null,
   "id": "f2cbaff6-0bbb-4404-acf9-a1532ff46d63",
   "metadata": {},
   "outputs": [],
   "source": [
    "<a href=\"\"></a>"
   ]
  },
  {
   "cell_type": "code",
   "execution_count": null,
   "id": "0aad2bb0-bfef-4390-b89f-212891229db0",
   "metadata": {},
   "outputs": [],
   "source": [
    "<a href=\"\"></a>"
   ]
  },
  {
   "cell_type": "code",
   "execution_count": null,
   "id": "0d0f6c6c-813d-42b8-a9f7-3c6f2db5705c",
   "metadata": {},
   "outputs": [],
   "source": [
    "<a href=\"\"></a>"
   ]
  },
  {
   "cell_type": "code",
   "execution_count": null,
   "id": "ee631a08-bdc7-4fe3-b1e8-7a2d588cf009",
   "metadata": {},
   "outputs": [],
   "source": [
    "<a href=\"\"></a>"
   ]
  },
  {
   "cell_type": "code",
   "execution_count": null,
   "id": "edacded3-f21c-407c-b677-90d9f326b862",
   "metadata": {},
   "outputs": [],
   "source": [
    "<a href=\"\"></a>"
   ]
  },
  {
   "cell_type": "code",
   "execution_count": null,
   "id": "07c871b1-357c-46e6-82db-1069c1d506fa",
   "metadata": {},
   "outputs": [],
   "source": [
    "<a href=\"\"></a>"
   ]
  },
  {
   "cell_type": "code",
   "execution_count": null,
   "id": "e9e8b825-92e8-4184-b9a1-cd0d593e881a",
   "metadata": {},
   "outputs": [],
   "source": [
    "<a href=\"\"></a>"
   ]
  },
  {
   "cell_type": "code",
   "execution_count": null,
   "id": "409b3d28-ca4f-4d49-b9a8-086e70c4b3bf",
   "metadata": {},
   "outputs": [],
   "source": [
    "<a href=\"\"></a>"
   ]
  },
  {
   "cell_type": "code",
   "execution_count": null,
   "id": "2ce95d6b-58fc-4e07-ad27-0107d1e98ce8",
   "metadata": {},
   "outputs": [],
   "source": [
    "<a href=\"\"></a>"
   ]
  },
  {
   "cell_type": "code",
   "execution_count": null,
   "id": "80cd36e6-6d13-4f2d-808c-226d435e1623",
   "metadata": {},
   "outputs": [],
   "source": [
    "<a href=\"\"></a>"
   ]
  },
  {
   "cell_type": "code",
   "execution_count": null,
   "id": "b26a8b9b-ede3-4111-8278-c048213d7784",
   "metadata": {},
   "outputs": [],
   "source": [
    "<a href=\"\"></a>"
   ]
  },
  {
   "cell_type": "code",
   "execution_count": null,
   "id": "ea6d4dfc-54be-48fa-8984-717094e8d3fa",
   "metadata": {},
   "outputs": [],
   "source": [
    "<a href=\"\"></a>"
   ]
  },
  {
   "cell_type": "code",
   "execution_count": null,
   "id": "11c9f3cc-a489-44cb-9caa-19f0eb56c7f0",
   "metadata": {},
   "outputs": [],
   "source": [
    "<a href=\"\"></a>"
   ]
  },
  {
   "cell_type": "code",
   "execution_count": null,
   "id": "1233982d-e7d7-4ddd-be3c-9abf64dabb9a",
   "metadata": {},
   "outputs": [],
   "source": [
    "<a href=\"\"></a>"
   ]
  },
  {
   "cell_type": "code",
   "execution_count": null,
   "id": "49b0c768-15c5-4d04-a570-f1509e567193",
   "metadata": {},
   "outputs": [],
   "source": [
    "<a href=\"\"></a>"
   ]
  },
  {
   "cell_type": "code",
   "execution_count": null,
   "id": "32b1415d-98b8-47df-ab91-2f976098fd82",
   "metadata": {},
   "outputs": [],
   "source": [
    "<a href=\"\"></a>"
   ]
  },
  {
   "cell_type": "code",
   "execution_count": null,
   "id": "30023e9c-584e-40dd-bb9e-3f23685b1922",
   "metadata": {},
   "outputs": [],
   "source": [
    "<a href=\"\"></a>"
   ]
  },
  {
   "cell_type": "code",
   "execution_count": null,
   "id": "bd381013-cef7-47a8-9f60-ed7538781bd8",
   "metadata": {},
   "outputs": [],
   "source": [
    "<a href=\"\"></a>"
   ]
  },
  {
   "cell_type": "code",
   "execution_count": null,
   "id": "0f4adb06-86f4-497e-a8ff-ddbf728b160d",
   "metadata": {},
   "outputs": [],
   "source": [
    "<a href=\"\"></a>"
   ]
  },
  {
   "cell_type": "code",
   "execution_count": null,
   "id": "961b421a-143d-4641-9ecc-30decc951c0c",
   "metadata": {},
   "outputs": [],
   "source": [
    "<a href=\"\"></a>"
   ]
  },
  {
   "cell_type": "code",
   "execution_count": null,
   "id": "2dff915a-2cc4-413f-8bf5-a386cad9ca94",
   "metadata": {},
   "outputs": [],
   "source": [
    "<a href=\"\"></a>"
   ]
  },
  {
   "cell_type": "code",
   "execution_count": null,
   "id": "d1786ad8-78f3-474e-a854-6aee501278ab",
   "metadata": {},
   "outputs": [],
   "source": [
    "<a href=\"\"></a>"
   ]
  },
  {
   "cell_type": "code",
   "execution_count": null,
   "id": "cb67187e-d04f-4c4a-a835-00c9ee237658",
   "metadata": {},
   "outputs": [],
   "source": [
    "<a href=\"\"></a>"
   ]
  },
  {
   "cell_type": "code",
   "execution_count": null,
   "id": "27909366-4247-4168-991f-4d480d04c1c8",
   "metadata": {},
   "outputs": [],
   "source": [
    "<a href=\"\"></a>"
   ]
  },
  {
   "cell_type": "code",
   "execution_count": null,
   "id": "65ad8ef5-4d66-4151-b8d4-55abd342ea28",
   "metadata": {},
   "outputs": [],
   "source": [
    "<a href=\"\"></a>"
   ]
  },
  {
   "cell_type": "code",
   "execution_count": null,
   "id": "bbe5a960-60c4-43eb-a2b7-41d97e8685c1",
   "metadata": {},
   "outputs": [],
   "source": [
    "<a href=\"\"></a>"
   ]
  },
  {
   "cell_type": "code",
   "execution_count": null,
   "id": "ea9a0010-526d-474f-a3e4-8fc0fcfc12a5",
   "metadata": {},
   "outputs": [],
   "source": [
    "<a href=\"\"></a>"
   ]
  },
  {
   "cell_type": "code",
   "execution_count": null,
   "id": "d20abb3c-77f2-4a25-be1f-b922b75cbdc1",
   "metadata": {},
   "outputs": [],
   "source": [
    "<a href=\"\"></a>"
   ]
  },
  {
   "cell_type": "code",
   "execution_count": null,
   "id": "0ffa6b59-e10f-4be5-8501-1d206efcc68e",
   "metadata": {},
   "outputs": [],
   "source": [
    "<a href=\"\"></a>"
   ]
  },
  {
   "cell_type": "code",
   "execution_count": null,
   "id": "6a7cf05d-5f44-48d8-b1fb-9147dc42b22f",
   "metadata": {},
   "outputs": [],
   "source": [
    "<a href=\"\"></a>"
   ]
  },
  {
   "cell_type": "code",
   "execution_count": null,
   "id": "ae69e1d0-2cf4-4cdc-8ef2-1ee0e59e0f44",
   "metadata": {},
   "outputs": [],
   "source": [
    "<a href=\"\"></a>"
   ]
  },
  {
   "cell_type": "code",
   "execution_count": null,
   "id": "c25b4751-754e-4085-a338-ed94bb07b05c",
   "metadata": {},
   "outputs": [],
   "source": [
    "<a href=\"\"></a>"
   ]
  },
  {
   "cell_type": "code",
   "execution_count": null,
   "id": "6f21f0eb-310c-4b4f-b401-54808f793787",
   "metadata": {},
   "outputs": [],
   "source": [
    "<a href=\"\"></a>"
   ]
  },
  {
   "cell_type": "code",
   "execution_count": null,
   "id": "30474957-5d0f-47e4-8333-a2fb87e8cdc9",
   "metadata": {},
   "outputs": [],
   "source": [
    "<a href=\"\"></a>"
   ]
  },
  {
   "cell_type": "code",
   "execution_count": null,
   "id": "a228637b-004f-43c8-a5d2-39dfbc8f89c0",
   "metadata": {},
   "outputs": [],
   "source": [
    "<a href=\"\"></a>"
   ]
  },
  {
   "cell_type": "code",
   "execution_count": null,
   "id": "bc13d520-b9c6-47de-bba9-0cc72de6448a",
   "metadata": {},
   "outputs": [],
   "source": [
    "<a href=\"\"></a>"
   ]
  },
  {
   "cell_type": "code",
   "execution_count": null,
   "id": "3da057a7-aed8-4d33-9f42-ab2ad285c2dc",
   "metadata": {},
   "outputs": [],
   "source": [
    "<a href=\"\"></a>"
   ]
  },
  {
   "cell_type": "code",
   "execution_count": null,
   "id": "50294db5-73e9-4f0d-9fc9-14bc6783b6da",
   "metadata": {},
   "outputs": [],
   "source": [
    "<a href=\"\"></a>"
   ]
  },
  {
   "cell_type": "code",
   "execution_count": null,
   "id": "f2e59630-b8f2-4e8f-b0b5-ee43aea9a0b1",
   "metadata": {},
   "outputs": [],
   "source": [
    "<a href=\"\"></a>"
   ]
  },
  {
   "cell_type": "code",
   "execution_count": null,
   "id": "9420e916-e794-4302-b366-f9accb2d84a5",
   "metadata": {},
   "outputs": [],
   "source": [
    "<a href=\"\"></a>"
   ]
  },
  {
   "cell_type": "code",
   "execution_count": null,
   "id": "5e60ba6f-891d-46ff-ac47-b1b4cf8af755",
   "metadata": {},
   "outputs": [],
   "source": [
    "<a href=\"\"></a>"
   ]
  },
  {
   "cell_type": "code",
   "execution_count": null,
   "id": "0bc9cc75-f950-4822-91a6-d5e102e0594c",
   "metadata": {},
   "outputs": [],
   "source": [
    "<a href=\"\"></a>"
   ]
  },
  {
   "cell_type": "code",
   "execution_count": null,
   "id": "7da03d0c-326d-417b-b1ab-8acbc5130bdc",
   "metadata": {},
   "outputs": [],
   "source": [
    "<a href=\"\"></a>"
   ]
  },
  {
   "cell_type": "code",
   "execution_count": null,
   "id": "111ab5a1-3e21-4ef8-82d8-17470e5d10fd",
   "metadata": {},
   "outputs": [],
   "source": [
    "<a href=\"\"></a>"
   ]
  },
  {
   "cell_type": "code",
   "execution_count": null,
   "id": "9b957808-49ff-4bc5-b5b8-607ffc4279a3",
   "metadata": {},
   "outputs": [],
   "source": [
    "<a href=\"\"></a>"
   ]
  },
  {
   "cell_type": "code",
   "execution_count": null,
   "id": "5d5ba9ae-c923-45bd-84d0-ce95119ed8a4",
   "metadata": {},
   "outputs": [],
   "source": [
    "<a href=\"\"></a>"
   ]
  },
  {
   "cell_type": "code",
   "execution_count": null,
   "id": "9adc7e6d-6cf4-499a-87aa-503594e17050",
   "metadata": {},
   "outputs": [],
   "source": [
    "<a href=\"\"></a>"
   ]
  },
  {
   "cell_type": "code",
   "execution_count": null,
   "id": "dd2dbb5d-1fcf-4377-a8be-c4d39f1676b6",
   "metadata": {},
   "outputs": [],
   "source": [
    "<a href=\"\"></a>"
   ]
  },
  {
   "cell_type": "code",
   "execution_count": null,
   "id": "de69927c-58be-4a48-86c5-3a0be2c6ee93",
   "metadata": {},
   "outputs": [],
   "source": [
    "<a href=\"\"></a>"
   ]
  },
  {
   "cell_type": "code",
   "execution_count": null,
   "id": "86b80e59-20ef-4a90-836c-649159eb184c",
   "metadata": {},
   "outputs": [],
   "source": [
    "<a href=\"\"></a>"
   ]
  },
  {
   "cell_type": "code",
   "execution_count": null,
   "id": "d926326f-abeb-4565-9009-595918cdf9cf",
   "metadata": {},
   "outputs": [],
   "source": [
    "<a href=\"\"></a>"
   ]
  },
  {
   "cell_type": "code",
   "execution_count": null,
   "id": "8cd60b66-4cd4-467c-8b40-fc89b5dc7faf",
   "metadata": {},
   "outputs": [],
   "source": [
    "<a href=\"\"></a>"
   ]
  },
  {
   "cell_type": "code",
   "execution_count": null,
   "id": "3f08c5ae-5c4b-41ce-bed9-6fbdbaa7e0c2",
   "metadata": {},
   "outputs": [],
   "source": [
    "<a href=\"\"></a>"
   ]
  },
  {
   "cell_type": "code",
   "execution_count": null,
   "id": "3f123a34-3dc3-4e54-af6f-b22d13ee35e0",
   "metadata": {},
   "outputs": [],
   "source": [
    "<a href=\"\"></a>"
   ]
  },
  {
   "cell_type": "code",
   "execution_count": null,
   "id": "8a130074-0981-4c5c-804a-57475ab10991",
   "metadata": {},
   "outputs": [],
   "source": [
    "<a href=\"\"></a>"
   ]
  },
  {
   "cell_type": "code",
   "execution_count": null,
   "id": "c5825171-2a60-4d9b-9085-bdac9be280e5",
   "metadata": {},
   "outputs": [],
   "source": [
    "<a href=\"\"></a>"
   ]
  },
  {
   "cell_type": "code",
   "execution_count": null,
   "id": "9ab9c848-923c-4ade-9d68-a222ce7b1c53",
   "metadata": {},
   "outputs": [],
   "source": [
    "<a href=\"\"></a>"
   ]
  },
  {
   "cell_type": "code",
   "execution_count": null,
   "id": "6cc73545-e3f6-4472-a771-d204f38ed913",
   "metadata": {},
   "outputs": [],
   "source": [
    "<a href=\"\"></a>"
   ]
  }
 ],
 "metadata": {
  "kernelspec": {
   "display_name": "Python 3 (ipykernel)",
   "language": "python",
   "name": "python3"
  },
  "language_info": {
   "codemirror_mode": {
    "name": "ipython",
    "version": 3
   },
   "file_extension": ".py",
   "mimetype": "text/x-python",
   "name": "python",
   "nbconvert_exporter": "python",
   "pygments_lexer": "ipython3",
   "version": "3.8.13"
  }
 },
 "nbformat": 4,
 "nbformat_minor": 5
}
