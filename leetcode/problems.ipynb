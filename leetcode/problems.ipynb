{
 "cells": [
  {
   "cell_type": "markdown",
   "id": "e98ad4d4-29ac-433f-a022-199b07063339",
   "metadata": {
    "jp-MarkdownHeadingCollapsed": true,
    "tags": []
   },
   "source": [
    "# 数组"
   ]
  },
  {
   "cell_type": "markdown",
   "id": "e90b8f9f-d213-4304-bfa6-aa14a4d2fadd",
   "metadata": {},
   "source": [
    "<a href=\"https://leetcode.cn/problems/two-sum/\">1. 两数之和</a>"
   ]
  },
  {
   "cell_type": "code",
   "execution_count": null,
   "id": "6cb83957-7c08-4bc0-bd79-c6b5cf1ef74c",
   "metadata": {},
   "outputs": [],
   "source": [
    "class Solution:\n",
    "    def twoSum(self, nums: List[int], target: int) -> List[int]:\n",
    "        HashMap = {}\n",
    "        # 遍历数组，对于每个元素，在哈希表中找差值，如果找到了就返回这两个数的下标，否则就把这个数放到哈希表中\n",
    "        for i in range(len(nums)):\n",
    "            if HashMap.get(target - nums[i]) == None:\n",
    "                HashMap[nums[i]] = i\n",
    "            else:\n",
    "                return HashMap.get(target - nums[i]), i\n",
    "        return -1, -1"
   ]
  },
  {
   "cell_type": "code",
   "execution_count": null,
   "id": "be6ccd3e-f2f1-4fd2-b09a-32054ea23916",
   "metadata": {},
   "outputs": [],
   "source": []
  },
  {
   "cell_type": "code",
   "execution_count": null,
   "id": "416e3ad9-9aaf-407b-beb6-d8d539a1cb24",
   "metadata": {},
   "outputs": [],
   "source": []
  },
  {
   "cell_type": "markdown",
   "id": "4fa50c0c-915b-4c2b-bbfa-1a84478e5f5a",
   "metadata": {},
   "source": [
    "<a href=\"https://leetcode.cn/problems/container-with-most-water/\">11.盛最多水的容器</a>"
   ]
  },
  {
   "cell_type": "code",
   "execution_count": null,
   "id": "e961d59d-bb99-496d-9244-d7ba2b6441f2",
   "metadata": {},
   "outputs": [],
   "source": [
    "class Solution:\n",
    "    def maxArea(self, height: List[int]) -> int:\n",
    "        i, j = 0, len(height) - 1\n",
    "        result = 0\n",
    "        while i < j:\n",
    "            minHeight = min(height[i], height[j])\n",
    "            if minHeight == height[j]:\n",
    "                j -= 1\n",
    "            else:\n",
    "                i += 1\n",
    "            result = max(result, minHeight * (j - i + 1))\n",
    "        return result"
   ]
  },
  {
   "cell_type": "markdown",
   "id": "d63b5601-ec92-4684-9073-8c943e2fcf00",
   "metadata": {},
   "source": [
    "<a href=\"https://leetcode.cn/problems/3sum/\">15.三数之和</a>"
   ]
  },
  {
   "cell_type": "code",
   "execution_count": null,
   "id": "2b83c1a7-a316-4498-a2fd-9d010142db19",
   "metadata": {},
   "outputs": [],
   "source": [
    "class Solution:\n",
    "    def threeSum(self, nums: List[int]) -> List[List[int]]:\n",
    "        result = []\n",
    "        nums.sort()\n",
    "        n = len(nums)\n",
    "        for i in range(n - 2):\n",
    "            if i > 0 and nums[i] == nums[i - 1]:\n",
    "                continue\n",
    "            j, k = i + 1, n - 1\n",
    "            while j < k:\n",
    "                s = nums[i] + nums[j] + nums[k]\n",
    "                if s > 0:\n",
    "                    k -= 1\n",
    "                elif s < 0:\n",
    "                    j += 1\n",
    "                else:\n",
    "                    result.append([nums[i], nums[j], nums[k]])\n",
    "                    while j < k and nums[k] == nums[k - 1]:\n",
    "                        k -= 1\n",
    "                    while j < k and nums[j] == nums[j + 1]:\n",
    "                        j += 1\n",
    "                    j += 1\n",
    "                    k -= 1\n",
    "        return result"
   ]
  },
  {
   "cell_type": "markdown",
   "id": "df787d7f-9886-4caa-873b-faf8a13704a8",
   "metadata": {},
   "source": [
    "<a href=\"https://leetcode.cn/problems/3sum-closest/\">16. 最接近的三数之和</a>"
   ]
  },
  {
   "cell_type": "code",
   "execution_count": null,
   "id": "51cc3827-6b48-42ef-b0cb-b9d055a35bbd",
   "metadata": {},
   "outputs": [],
   "source": [
    "class Solution:\n",
    "    def threeSumClosest(self, nums: List[int], target: int) -> int:\n",
    "        nums.sort()\n",
    "        n, result = len(nums), 10 ** 7\n",
    "        for i in range(n-2):\n",
    "            if i > 0 and nums[i] == nums[i - 1]:\n",
    "                continue\n",
    "            j, k = i + 1, n - 1\n",
    "            while j < k:\n",
    "                s = nums[i] + nums[j] + nums[k]\n",
    "                if s == target:\n",
    "                    return target\n",
    "                elif s > target:\n",
    "                    # 记录最接近的结果\n",
    "                    result = result if abs(target - result) < abs(target - s) else s\n",
    "                    while j < k and nums[k] == nums[k - 1]:\n",
    "                        k -= 1\n",
    "                    k -= 1\n",
    "                else:\n",
    "                    result = result if abs(target - result) < abs(target - s) else s\n",
    "                    # 寻找下一个不同的数\n",
    "                    while j < k and nums[j] == nums[j + 1]:\n",
    "                        j += 1\n",
    "                    j += 1\n",
    "        return result"
   ]
  },
  {
   "cell_type": "markdown",
   "id": "343a7dcd-e34a-4936-a003-bac8b885b696",
   "metadata": {},
   "source": [
    "<a href=\"https://leetcode.cn/problems/4sum/\">18. 四数之和</a>"
   ]
  },
  {
   "cell_type": "code",
   "execution_count": null,
   "id": "ef23789c-d24f-4ea6-a014-d5051a1de38a",
   "metadata": {},
   "outputs": [],
   "source": [
    "class Solution:\n",
    "    def fourSum(self, nums: List[int], target: int) -> List[List[int]]:\n",
    "        n = len(nums)\n",
    "        nums.sort()\n",
    "        # 去重\n",
    "        result = set()\n",
    "        for i in range(n - 3):\n",
    "            if i > 0 and nums[i] == nums[i - 1]:\n",
    "                continue\n",
    "            for j in range(i + 1, n - 2):\n",
    "                if j > i + 1 and nums[j] == nums[j - 1]:\n",
    "                    continue\n",
    "                lo, hi = j + 1, n - 1\n",
    "                while lo < hi:\n",
    "                    s = nums[i] + nums[j] + nums[lo] + nums[hi]\n",
    "                    if target == s:\n",
    "                        result.add((nums[i], nums[j], nums[lo], nums[hi]))\n",
    "                        while lo < hi and nums[lo] == nums[lo + 1]:\n",
    "                            lo += 1\n",
    "                        while lo < hi and nums[hi] == nums[hi - 1]:\n",
    "                            hi -= 1\n",
    "                        lo += 1\n",
    "                        hi -= 1\n",
    "                    elif s > target:\n",
    "                        while lo < hi and nums[hi] == nums[hi - 1]:\n",
    "                            hi -= 1\n",
    "                        hi -= 1\n",
    "                    else:\n",
    "                        while lo < hi and nums[lo] == nums[lo + 1]:\n",
    "                            lo += 1\n",
    "                        lo += 1\n",
    "        result = list(map(list, result))\n",
    "        result.sort()\n",
    "        return result"
   ]
  },
  {
   "cell_type": "markdown",
   "id": "021fce75-fedd-4ed9-8f87-cecf07dc635e",
   "metadata": {},
   "source": [
    "<a href=\"https://leetcode.cn/problems/remove-duplicates-from-sorted-array/\">26.删除有序数组中的重复项</a>"
   ]
  },
  {
   "cell_type": "code",
   "execution_count": 41,
   "id": "eb2c5cb2-b984-465e-aa09-4de176dbf26b",
   "metadata": {
    "tags": []
   },
   "outputs": [],
   "source": [
    "class Solution:\n",
    "    def removeDuplicates(self, nums: List[int]) -> int:\n",
    "        i, j, n = 0, 0, len(nums)\n",
    "        while i < n:\n",
    "            if i > 0 and nums[i] == nums[i - 1]:\n",
    "                i += 1\n",
    "                continue\n",
    "            else:\n",
    "                nums[j] = nums[i]\n",
    "                j += 1\n",
    "                i += 1\n",
    "        return j"
   ]
  },
  {
   "cell_type": "markdown",
   "id": "a648fccf-cc76-4454-b268-2861396032d2",
   "metadata": {},
   "source": [
    "<a href=\"https://leetcode.cn/problems/remove-element/\">27. 移除元素</a>"
   ]
  },
  {
   "cell_type": "code",
   "execution_count": null,
   "id": "552c02fd-2010-429e-b14e-c24442389ec0",
   "metadata": {},
   "outputs": [],
   "source": [
    "class Solution:\n",
    "    def removeElement(self, nums: List[int], val: int) -> int:\n",
    "        j = 0\n",
    "        for i in range(len(nums)):\n",
    "            if nums[i] != val:\n",
    "                nums[i], nums[j] = nums[j], nums[i]\n",
    "                j += 1\n",
    "        return j"
   ]
  },
  {
   "cell_type": "code",
   "execution_count": null,
   "id": "dcce03ce-315f-4173-880a-1bf9971909de",
   "metadata": {},
   "outputs": [],
   "source": []
  },
  {
   "cell_type": "code",
   "execution_count": null,
   "id": "16dda494-4f23-46ab-860f-960f3babe64d",
   "metadata": {},
   "outputs": [],
   "source": []
  },
  {
   "cell_type": "code",
   "execution_count": null,
   "id": "c4c3aa4c-edd3-4d4e-aee6-76285176c804",
   "metadata": {},
   "outputs": [],
   "source": []
  },
  {
   "cell_type": "code",
   "execution_count": null,
   "id": "b7c6ff4a-5d27-45b3-a5fa-4951a6e37b12",
   "metadata": {},
   "outputs": [],
   "source": []
  },
  {
   "cell_type": "code",
   "execution_count": null,
   "id": "029b3242-5edc-4b41-b77d-716ede04e4f1",
   "metadata": {},
   "outputs": [],
   "source": []
  },
  {
   "cell_type": "code",
   "execution_count": null,
   "id": "6d700731-e591-4ece-adba-11a1a02af8ac",
   "metadata": {},
   "outputs": [],
   "source": []
  },
  {
   "cell_type": "code",
   "execution_count": null,
   "id": "931ecaac-8173-4cb8-886d-f5d39436e363",
   "metadata": {},
   "outputs": [],
   "source": []
  },
  {
   "cell_type": "code",
   "execution_count": null,
   "id": "26d619a8-e449-493c-b3a2-69ba397c1051",
   "metadata": {},
   "outputs": [],
   "source": []
  },
  {
   "cell_type": "markdown",
   "id": "0a7b08ff-fdaf-40b9-8a46-dcea5cf23ee0",
   "metadata": {},
   "source": [
    "<a href=\"https://leetcode.cn/problems/plus-one/\">66.加一</a>"
   ]
  },
  {
   "cell_type": "code",
   "execution_count": 45,
   "id": "f710f873-bfc2-46a4-8bd8-3ca523ad4188",
   "metadata": {
    "tags": []
   },
   "outputs": [],
   "source": [
    "class Solution:\n",
    "    def plusOne(self, digits: List[int]) -> List[int]:\n",
    "        carry = 0\n",
    "        n = len(digits)\n",
    "        i = n - 1\n",
    "        while i >= 0:\n",
    "            if i == n - 1:\n",
    "                _sum = digits[i] + 1\n",
    "            else:\n",
    "                _sum = digits[i] + carry\n",
    "            digits[i] = _sum % 10\n",
    "            carry = _sum // 10\n",
    "            i -= 1\n",
    "        if carry != 0:\n",
    "            digits.insert(0, carry)\n",
    "        return digits"
   ]
  },
  {
   "cell_type": "markdown",
   "id": "81ac647f-beee-497e-af3f-db9f5709ae22",
   "metadata": {},
   "source": [
    "<a href=\"https://leetcode.cn/problems/rotate-array/\">189.轮转数组</a>"
   ]
  },
  {
   "cell_type": "code",
   "execution_count": 46,
   "id": "e74c519d-0963-469d-8916-5bcc328f9b57",
   "metadata": {
    "tags": []
   },
   "outputs": [],
   "source": [
    "class Solution:\n",
    "    def rotate(self, nums: List[int], k: int) -> None:\n",
    "        def reverse(start, end):\n",
    "            while start < end:\n",
    "                nums[start], nums[end] = nums[end], nums[start]\n",
    "                start += 1\n",
    "                end -= 1\n",
    "            return\n",
    "        n = len(nums)\n",
    "        k = k % n\n",
    "        reverse(0, n - 1)\n",
    "        reverse(0, k - 1)\n",
    "        reverse(k, n - 1)\n",
    "        return"
   ]
  },
  {
   "cell_type": "markdown",
   "id": "34c61547-6b3b-46b5-86f2-7e0473946c90",
   "metadata": {
    "jp-MarkdownHeadingCollapsed": true,
    "tags": []
   },
   "source": [
    "# 字符串"
   ]
  },
  {
   "cell_type": "markdown",
   "id": "0099f10e-88cc-4b4d-b406-e8a7e82c8ac1",
   "metadata": {},
   "source": [
    "<a href=\"https://leetcode.cn/problems/longest-substring-without-repeating-characters/\">3. 无重复字符的最长子串</a>"
   ]
  },
  {
   "cell_type": "code",
   "execution_count": null,
   "id": "d4c7bf18-8403-4d71-8d1b-2cbaca587f99",
   "metadata": {},
   "outputs": [],
   "source": [
    "class Solution:\n",
    "    def lengthOfLongestSubstring(self, s: str) -> int:\n",
    "        j, HashMap, result = 0, {}, 0\n",
    "        for i in range(len(s)):\n",
    "            # 统计每个字符出现的次数\n",
    "            if HashMap.get(s[i]) == None:\n",
    "                HashMap[s[i]] = 1\n",
    "            else:\n",
    "                HashMap[s[i]] += 1\n",
    "            # 有字符出现了两次从窗口中找到出现两次的字符\n",
    "            while HashMap.get(s[i]) > 1:\n",
    "                HashMap[s[j]] -= 1\n",
    "                j += 1\n",
    "            # 计算区间长度\n",
    "            result = max(result, i - j + 1)\n",
    "        return result           "
   ]
  },
  {
   "cell_type": "markdown",
   "id": "1a487218-f2b5-49ee-b31e-f3afb5bffde1",
   "metadata": {},
   "source": [
    "<a href=\"https://leetcode.cn/problems/string-to-integer-atoi/\">8. 字符串转换整数 (atoi)</a>"
   ]
  },
  {
   "cell_type": "code",
   "execution_count": null,
   "id": "db92e600-733d-49e4-b618-0b2df137a350",
   "metadata": {},
   "outputs": [],
   "source": [
    "class Solution:\n",
    "    def myAtoi(self, s: str) -> int:\n",
    "        import re\n",
    "        result = re.findall('^[\\+\\-]?\\d+', s.strip())\n",
    "        if len(result) == 0:\n",
    "            return 0\n",
    "        result = int(result[0])\n",
    "        return min(2 ** 31 - 1, result) if result >= 0 else max(-2 ** 31, result)"
   ]
  },
  {
   "cell_type": "markdown",
   "id": "db20d536-904c-4119-8711-1b435a956b57",
   "metadata": {},
   "source": [
    "<a href=\"https://leetcode.cn/problems/valid-parentheses/\">20. 有效的括号</a>"
   ]
  },
  {
   "cell_type": "code",
   "execution_count": null,
   "id": "651737bb-9bd4-4022-abae-631bf542ba5b",
   "metadata": {},
   "outputs": [],
   "source": [
    "class Solution:\n",
    "    def isValid(self, s: str) -> bool:\n",
    "        # 左括号就将左括号压进栈中\n",
    "        match = {']': '[', '}': '{', ')': '('}\n",
    "        stack = []\n",
    "        for c in s:\n",
    "            if c == '[' or c == '(' or c == '{':\n",
    "                stack.append(c)\n",
    "            else:\n",
    "                # 如果栈是空的或者当前栈顶元素和当前右阔号不匹配\n",
    "                if len(stack) == 0 or stack[-1] != match.get(c):\n",
    "                    return False\n",
    "                stack.pop()\n",
    "        return len(stack) == 0"
   ]
  },
  {
   "cell_type": "markdown",
   "id": "0c684e9c-0137-4e77-ac7f-2131638a2b9a",
   "metadata": {},
   "source": [
    "<a href=\"https://leetcode.cn/problems/generate-parentheses/\">22. 括号生成</a>"
   ]
  },
  {
   "cell_type": "code",
   "execution_count": null,
   "id": "2920f107-b29a-472c-80b4-76c9a68800f3",
   "metadata": {},
   "outputs": [],
   "source": [
    "class Solution:\n",
    "    def generateParenthesis(self, n: int) -> List[str]:\n",
    "        result = []\n",
    "        def _generateParenthesis(left, right, s):\n",
    "            nonlocal result\n",
    "            # 左右括号都用完\n",
    "            if left == n and right == n:\n",
    "                result.append(s)\n",
    "                return\n",
    "            # 左括号想什么时候加都可以\n",
    "            if left < n:\n",
    "                _generateParenthesis(left + 1, right, s + '(')\n",
    "            # 添加右括号的时候需要注意前面是否添加了左括号\n",
    "            if left > right:\n",
    "                _generateParenthesis(left, right + 1, s + ')')\n",
    "        _generateParenthesis(0, 0, \"\")\n",
    "        return result"
   ]
  },
  {
   "cell_type": "markdown",
   "id": "0e31ee13-e662-4a9f-be08-a325ffe68a80",
   "metadata": {},
   "source": [
    "<a href=\"https://leetcode.cn/problems/valid-palindrome-ii/\">680.验证回文串 II</a>"
   ]
  },
  {
   "cell_type": "code",
   "execution_count": null,
   "id": "e20266ad-bbcc-4469-883a-bbf9985c591f",
   "metadata": {},
   "outputs": [],
   "source": [
    "class Solution:\n",
    "    def validPalindrome(self, s: str) -> bool:\n",
    "        def _validPalindrome(start, end):\n",
    "            while start < end:\n",
    "                if s[start] != s[end]:\n",
    "                    return False\n",
    "                start += 1\n",
    "                end -= 1\n",
    "            return True\n",
    "        i, j = 0, len(s) - 1\n",
    "        while i < j:\n",
    "            if s[i] == s[j]:\n",
    "                i += 1\n",
    "                j -= 1\n",
    "            else:\n",
    "                # 如果有一个字符不相同验证 s[i+1, j] 或者 s[i, j - 1] 是不是回文串即可\n",
    "                return _validPalindrome(i + 1, j) or _validPalindrome(i, j -1)\n",
    "        return True"
   ]
  },
  {
   "cell_type": "markdown",
   "id": "f0272901-5234-44e4-95ec-5e0caa688e7c",
   "metadata": {
    "jp-MarkdownHeadingCollapsed": true,
    "tags": []
   },
   "source": [
    "# 链表"
   ]
  },
  {
   "cell_type": "markdown",
   "id": "e2d46359-f0d1-4d10-b477-a81fa3f5db9b",
   "metadata": {},
   "source": [
    "<a href=\"https://leetcode.cn/problems/add-two-numbers/\">2. 两数相加</a>"
   ]
  },
  {
   "cell_type": "code",
   "execution_count": null,
   "id": "5e8109e4-bda6-4efb-a49b-3b442f526637",
   "metadata": {},
   "outputs": [],
   "source": [
    "class Solution:\n",
    "    def addTwoNumbers(self, l1: Optional[ListNode], l2: Optional[ListNode]) -> Optional[ListNode]:\n",
    "        result = ListNode(None)\n",
    "        current = result\n",
    "        carry = 0\n",
    "        while l1 and l2:\n",
    "            s = carry + l1.val + l2.val\n",
    "            carry = s // 10\n",
    "            current.next = ListNode(s % 10)\n",
    "            current = current.next\n",
    "            l1 = l1.next\n",
    "            l2 = l2.next\n",
    "        while l1:\n",
    "            s = carry + l1.val\n",
    "            carry = s // 10\n",
    "            current.next = ListNode(s % 10)\n",
    "            current = current.next\n",
    "            l1 = l1.next\n",
    "        while l2:\n",
    "            s = carry + l2.val\n",
    "            carry = s // 10\n",
    "            current.next = ListNode(s % 10)\n",
    "            current = current.next\n",
    "            l2 = l2.next\n",
    "        if carry:\n",
    "            current.next = ListNode(carry)\n",
    "        return result.next"
   ]
  },
  {
   "cell_type": "markdown",
   "id": "b182e7cb-a325-44f8-99fe-9fea88816fe2",
   "metadata": {},
   "source": [
    "<a href=\"https://leetcode.cn/problems/remove-nth-node-from-end-of-list/\">19. 删除链表的倒数第 N 个结点</a>"
   ]
  },
  {
   "cell_type": "code",
   "execution_count": null,
   "id": "62a70bb7-12f0-4cb4-b7fd-fe9ced6d37d7",
   "metadata": {},
   "outputs": [],
   "source": [
    "class Solution:\n",
    "    def removeNthFromEnd(self, head: Optional[ListNode], n: int) -> Optional[ListNode]:\n",
    "        result = ListNode(None)\n",
    "        result.next = head\n",
    "        prev, current = result, head\n",
    "        for i in range(n):\n",
    "            current = current.next\n",
    "        while current:\n",
    "            prev = prev.next\n",
    "            current = current.next\n",
    "        prev.next = prev.next.next\n",
    "        return result.next"
   ]
  },
  {
   "cell_type": "markdown",
   "id": "5722f260-fec4-4cc5-b312-d880d62746c9",
   "metadata": {},
   "source": [
    "<a href=\"https://leetcode.cn/problems/merge-two-sorted-lists/\">21.合并两个有序链表</a>"
   ]
  },
  {
   "cell_type": "code",
   "execution_count": 42,
   "id": "e93d4921-81eb-4461-a14c-a431b175d9ef",
   "metadata": {
    "tags": []
   },
   "outputs": [],
   "source": [
    "class Solution:\n",
    "    def mergeTwoLists(self, list1: Optional[ListNode], list2: Optional[ListNode]) -> Optional[ListNode]:\n",
    "        result = ListNode(None)\n",
    "        current = result\n",
    "        while list1 and list2:\n",
    "            if list1.val > list2.val:\n",
    "                current.next = list2\n",
    "                list2 = list2.next\n",
    "            else:\n",
    "                current.next = list1\n",
    "                list1 = list1.next\n",
    "            current = current.next\n",
    "        current.next = list1 if list1 else list2\n",
    "        return result.next"
   ]
  },
  {
   "cell_type": "markdown",
   "id": "d38c0c92-70fd-49c7-a347-b5907b970d9f",
   "metadata": {},
   "source": [
    "<a href=\"https://leetcode.cn/problems/merge-k-sorted-lists/\">23. 合并 K 个升序链表</a>"
   ]
  },
  {
   "cell_type": "code",
   "execution_count": null,
   "id": "d3412e32-6ee8-46b7-9b6a-53be16c99452",
   "metadata": {},
   "outputs": [],
   "source": [
    "class Solution:\n",
    "    def mergeKLists(self, lists: List[Optional[ListNode]]) -> Optional[ListNode]:\n",
    "        def mergeTwoLists(list1, list2):\n",
    "            result = ListNode(None)\n",
    "            current = result\n",
    "            while list1 and list2:\n",
    "                if list1.val > list2.val:\n",
    "                    current.next = list2\n",
    "                    list2 = list2.next\n",
    "                else:\n",
    "                    current.next = list1\n",
    "                    list1 = list1.next\n",
    "                current = current.next\n",
    "            current.next = list1 if list1 else list2\n",
    "            return result.next\n",
    "        n = len(lists)\n",
    "        if n == 0:\n",
    "            return None\n",
    "        if n == 1:\n",
    "            return lists[0]\n",
    "        mid = n // 2\n",
    "        left = self.mergeKLists(lists[:mid])\n",
    "        right = self.mergeKLists(lists[mid:])\n",
    "        return mergeTwoLists(left, right)"
   ]
  },
  {
   "cell_type": "markdown",
   "id": "b0eebcb4-1f4d-4c30-ab00-dbd5f4e51b8c",
   "metadata": {},
   "source": [
    "<a href=\"https://leetcode.cn/problems/swap-nodes-in-pairs\">24.两两交换链表中的节点</a>"
   ]
  },
  {
   "cell_type": "code",
   "execution_count": 36,
   "id": "e55089bb-931e-4be2-a550-9fef24813049",
   "metadata": {
    "tags": []
   },
   "outputs": [],
   "source": [
    "class Solution:\n",
    "    def swapPairs(self, head: Optional[ListNode]) -> Optional[ListNode]:\n",
    "        prev = ListNode(None)\n",
    "        prev.next = head\n",
    "        result = prev\n",
    "        while prev.next and prev.next.next:\n",
    "            a = prev.next\n",
    "            b = prev.next.next\n",
    "            prev.next, a.next, b.next = b, b.next, a\n",
    "            prev = a\n",
    "        return result.next"
   ]
  },
  {
   "cell_type": "markdown",
   "id": "1f172682-23b7-495b-b09c-ebfb5943f825",
   "metadata": {},
   "source": [
    "<a href=\"https://leetcode.cn/problems/reverse-nodes-in-k-group/\">25.K 个一组翻转链表</a>"
   ]
  },
  {
   "cell_type": "code",
   "execution_count": 39,
   "id": "1f59d717-4b8c-4820-8c9c-54831710e0f2",
   "metadata": {
    "tags": []
   },
   "outputs": [],
   "source": [
    "class Solution:\n",
    "    def reverseKGroup(self, head: Optional[ListNode], k: int) -> Optional[ListNode]:\n",
    "        tail = head\n",
    "        for i in range(k):\n",
    "            # 不够 k 个结点直接返回\n",
    "            if tail == None:\n",
    "                return head\n",
    "            tail = tail.next\n",
    "        result = None\n",
    "        current = head\n",
    "        while current != tail:\n",
    "            temp = current.next\n",
    "            current.next = result\n",
    "            result = current\n",
    "            current = temp\n",
    "        head.next = self.reverseKGroup(tail, k)\n",
    "        return result"
   ]
  },
  {
   "cell_type": "markdown",
   "id": "86bb9cc4-9d02-44d0-905c-8ba4f0741274",
   "metadata": {},
   "source": [
    "<a href=\"https://leetcode.cn/problems/rotate-list/\">61.旋转链表</a>"
   ]
  },
  {
   "cell_type": "code",
   "execution_count": null,
   "id": "d7b55282-b267-44b9-8e51-b5c52207dc0c",
   "metadata": {},
   "outputs": [],
   "source": [
    "class Solution:\n",
    "    def rotateRight(self, head: Optional[ListNode], k: int) -> Optional[ListNode]:\n",
    "        # 空链表或者只有一个结点的链表怎么旋转都是自己本身\n",
    "        if head == None or head.next == None:\n",
    "            return head\n",
    "        # 计算链表长度\n",
    "        n = 0\n",
    "        current = head\n",
    "        while current:\n",
    "            n += 1\n",
    "            current = current.next\n",
    "        k %= n\n",
    "        if k == 0:\n",
    "            return head\n",
    "        result = ListNode(None)\n",
    "        result.next = head\n",
    "        prev, current = result, head\n",
    "        for i in range(n - k):\n",
    "            current = current.next\n",
    "            prev = prev.next\n",
    "        prev.next = None\n",
    "        tail = current\n",
    "        while tail.next:\n",
    "            tail = tail.next\n",
    "        tail.next = result.next\n",
    "        return current"
   ]
  },
  {
   "cell_type": "markdown",
   "id": "de3773a9-53fc-474b-8d96-75103d5e6e6e",
   "metadata": {},
   "source": [
    "<a href=\"https://leetcode.cn/problems/remove-duplicates-from-sorted-list-ii/\">82. 删除排序链表中的重复元素 II</a>"
   ]
  },
  {
   "cell_type": "code",
   "execution_count": null,
   "id": "4e4a4bba-4087-4281-a7dc-bc59cc352da8",
   "metadata": {},
   "outputs": [],
   "source": [
    "class Solution:\n",
    "    def deleteDuplicates(self, head: Optional[ListNode]) -> Optional[ListNode]:\n",
    "        result = ListNode(None)\n",
    "        result.next = head\n",
    "        current = head\n",
    "        # 统计值的出现频率\n",
    "        HashMap = {}\n",
    "        while current:\n",
    "            if HashMap.get(current.val) == None:\n",
    "                HashMap[current.val] = 1\n",
    "            else:\n",
    "                HashMap[current.val] += 1\n",
    "            current = current.next\n",
    "        prev, current = result, head\n",
    "        while current:\n",
    "            # 如果当前结点的值出现的频率大于 1 则删除该结点\n",
    "            if HashMap.get(current.val) > 1:\n",
    "                prev.next = current.next\n",
    "            else:\n",
    "                prev = current\n",
    "            current = current.next\n",
    "        return result.next"
   ]
  },
  {
   "cell_type": "markdown",
   "id": "468409d4-4baa-41c7-b6e2-c64b2fe3c5d2",
   "metadata": {},
   "source": [
    "<a href=\"https://leetcode.cn/problems/remove-duplicates-from-sorted-list/\">83. 删除排序链表中的重复元素</a>"
   ]
  },
  {
   "cell_type": "code",
   "execution_count": null,
   "id": "afe2c795-5534-44d3-80d0-716231bfb799",
   "metadata": {},
   "outputs": [],
   "source": [
    "class Solution:\n",
    "    def deleteDuplicates(self, head: Optional[ListNode]) -> Optional[ListNode]:\n",
    "        current = head\n",
    "        while current and current.next:\n",
    "            if current.val == current.next.val:\n",
    "                current.next = current.next.next\n",
    "            else:\n",
    "                current = current.next\n",
    "        return head"
   ]
  },
  {
   "cell_type": "markdown",
   "id": "d4cb58a4-7f84-4d0c-9485-84780c7c5656",
   "metadata": {},
   "source": [
    "<a href=\"https://leetcode.cn/problems/partition-list/\">86.分隔链表</a>"
   ]
  },
  {
   "cell_type": "code",
   "execution_count": null,
   "id": "6a579243-5074-4f51-b7d1-dfcecfe0b677",
   "metadata": {},
   "outputs": [],
   "source": [
    "class Solution:\n",
    "    def partition(self, head: Optional[ListNode], x: int) -> Optional[ListNode]:\n",
    "        head1 = ListNode(None)\n",
    "        head2 = ListNode(None)\n",
    "        tail1 = head1\n",
    "        tail2 = head2\n",
    "        while head:\n",
    "            if head.val >= x:\n",
    "                tail2.next = ListNode(head.val)\n",
    "                tail2 = tail2.next\n",
    "            else:\n",
    "                tail1.next = ListNode(head.val)\n",
    "                tail1 = tail1.next\n",
    "            head = head.next\n",
    "        tail1.next = head2.next\n",
    "        return head1.next"
   ]
  },
  {
   "cell_type": "markdown",
   "id": "51030a8d-159c-435e-9540-5d9510c386d3",
   "metadata": {},
   "source": [
    "<a href=\"https://leetcode.cn/problems/reverse-linked-list-ii/\">92. 反转链表 II</a>"
   ]
  },
  {
   "cell_type": "code",
   "execution_count": null,
   "id": "05de9aca-57b1-45af-bea5-92fdffd87577",
   "metadata": {},
   "outputs": [],
   "source": [
    "class Solution:\n",
    "    def reverseBetween(self, head: Optional[ListNode], left: int, right: int) -> Optional[ListNode]:\n",
    "        result = ListNode(None)\n",
    "        result.next = head\n",
    "        prev, current = result, head\n",
    "        for i in range(left-1):\n",
    "            prev = prev.next\n",
    "            current = current.next\n",
    "        # 依次将后面的结点插入到 prev 后面\n",
    "        for i in range(left, right):\n",
    "            a = current.next\n",
    "            current.next = a.next\n",
    "            a.next, prev.next = prev.next, a\n",
    "        return result.next"
   ]
  },
  {
   "cell_type": "markdown",
   "id": "7935fdbc-d984-4b9c-bd9b-9b2bc83d9384",
   "metadata": {},
   "source": [
    "<a href=\"https://leetcode.cn/problems/linked-list-cycle\">141.环形链表</a>"
   ]
  },
  {
   "cell_type": "code",
   "execution_count": 37,
   "id": "fd546cef-5f64-4f1b-bfd3-f585df80f1f6",
   "metadata": {
    "tags": []
   },
   "outputs": [],
   "source": [
    "class Solution:\n",
    "    def hasCycle(self, head: Optional[ListNode]) -> bool:\n",
    "        slow, fast = head, head\n",
    "        while fast and fast.next:\n",
    "            slow = slow.next\n",
    "            fast = fast.next.next\n",
    "            if slow == fast:\n",
    "                return True\n",
    "        return False"
   ]
  },
  {
   "cell_type": "markdown",
   "id": "a7b81701-843f-45a9-be1d-a711d2c851a9",
   "metadata": {},
   "source": [
    "<a href=\"https://leetcode.cn/problems/linked-list-cycle-ii/\">142.环形链表 II</a>"
   ]
  },
  {
   "cell_type": "code",
   "execution_count": null,
   "id": "1e7b7ed9-a182-4027-ac92-9a8fb5e2d8ed",
   "metadata": {},
   "outputs": [],
   "source": [
    "class Solution:\n",
    "\n",
    "    def hasCycle(self, head: Optional[ListNode]) -> Optional[ListNode]:\n",
    "        slow, fast = head, head\n",
    "        while fast and fast.next:\n",
    "            slow = slow.next\n",
    "            fast = fast.next.next\n",
    "            if slow == fast:\n",
    "                return slow\n",
    "        return None\n",
    "\n",
    "    def detectCycle(self, head: Optional[ListNode]) -> Optional[ListNode]:\n",
    "        slow, fast = head, self.hasCycle(head)\n",
    "        if fast == None:\n",
    "            return None\n",
    "        while fast != slow:\n",
    "            fast = fast.next\n",
    "            slow = slow.next\n",
    "        return slow"
   ]
  },
  {
   "cell_type": "markdown",
   "id": "0da5ac7a-b6f7-4145-b019-943d48fe4393",
   "metadata": {},
   "source": [
    "<a href=\"https://leetcode.cn/problems/reverse-linked-list/\">206.反转链表</a>"
   ]
  },
  {
   "cell_type": "code",
   "execution_count": 34,
   "id": "59721711-cc3f-4697-b7eb-89d0fd119720",
   "metadata": {
    "tags": []
   },
   "outputs": [],
   "source": [
    "class Solution:\n",
    "    def reverseList(self, head: Optional[ListNode]) -> Optional[ListNode]:\n",
    "        result = None\n",
    "        while head:\n",
    "            temp = head.next\n",
    "            head.next = result\n",
    "            result = head\n",
    "            head = temp\n",
    "        return result"
   ]
  },
  {
   "cell_type": "markdown",
   "id": "7894a59b-cce1-49a4-ac27-06453dae9622",
   "metadata": {},
   "source": [
    "<a href=\"https://leetcode.cn/problems/merge-nodes-in-between-zeros/\">2181. 合并零之间的节点</a>"
   ]
  },
  {
   "cell_type": "code",
   "execution_count": null,
   "id": "581271e2-4fd4-495f-8e84-88f855b7c6f9",
   "metadata": {},
   "outputs": [],
   "source": [
    "class Solution:\n",
    "    def mergeNodes(self, head: Optional[ListNode]) -> Optional[ListNode]:\n",
    "        result = ListNode(None)\n",
    "        current = result\n",
    "        while head:\n",
    "            if head.val != 0:\n",
    "                val = 0\n",
    "                while head and head.val != 0:\n",
    "                    val += head.val\n",
    "                    head = head.next\n",
    "                current.next = ListNode(val)\n",
    "                current = current.next\n",
    "            else:\n",
    "                head = head.next\n",
    "        return result.next"
   ]
  },
  {
   "cell_type": "markdown",
   "id": "e867c750-5f12-496a-b45b-98b6ac8900e2",
   "metadata": {},
   "source": [
    "# 双指针"
   ]
  },
  {
   "cell_type": "markdown",
   "id": "79932620-6f49-465d-ab66-215bba89f76d",
   "metadata": {
    "jp-MarkdownHeadingCollapsed": true,
    "tags": []
   },
   "source": [
    "# 栈"
   ]
  },
  {
   "cell_type": "markdown",
   "id": "cb613ce8-6027-4609-b203-d0461c49e2f2",
   "metadata": {
    "tags": []
   },
   "source": [
    "<a href=\"https://leetcode.cn/problems/valid-parentheses/\">20.有效的括号</a>"
   ]
  },
  {
   "cell_type": "code",
   "execution_count": 7,
   "id": "68b99462-d12d-4612-83f9-49f2d4ae5466",
   "metadata": {
    "tags": []
   },
   "outputs": [],
   "source": [
    "class Solution:\n",
    "    def isValid(self, s: str) -> bool:\n",
    "        match = {']': '[', '}': '{', ')': '('}\n",
    "        stack = []\n",
    "        for c in s:\n",
    "            if c == '[' or c == '(' or c == '{':\n",
    "                stack.append(c)\n",
    "            else:\n",
    "                if len(stack) == 0 or stack[-1] != match.get(c):\n",
    "                    return False\n",
    "                stack.pop()\n",
    "        return len(stack) == 0"
   ]
  },
  {
   "cell_type": "markdown",
   "id": "8fd9e1d6-91a9-45e2-9188-70f7cf0dab86",
   "metadata": {},
   "source": [
    "# 树"
   ]
  },
  {
   "cell_type": "markdown",
   "id": "ebf0c5f5-caa9-4812-a1cb-42a73f50e1a1",
   "metadata": {},
   "source": [
    "# 动态规划"
   ]
  },
  {
   "cell_type": "markdown",
   "id": "fa7eceb3-d28d-4e7f-9f17-bf1af5c21b30",
   "metadata": {},
   "source": [
    "# 回溯"
   ]
  },
  {
   "cell_type": "markdown",
   "id": "dfe3580d-9be9-49f0-82de-11d50c72239d",
   "metadata": {
    "tags": []
   },
   "source": [
    "# 深度优先搜索\n",
    "\n",
    "代码模板\n",
    "\n",
    "```python\n",
    "def dfs():\n",
    "    pass\n",
    "```"
   ]
  },
  {
   "cell_type": "markdown",
   "id": "5a8c2bd7-661c-40c3-9883-5fb4de3bd61f",
   "metadata": {},
   "source": [
    "# 广度优先搜索\n",
    "\n",
    "代码模板\n",
    "```python\n",
    "def bfs():\n",
    "    \n",
    "```"
   ]
  },
  {
   "cell_type": "markdown",
   "id": "0df6d2d2-fa39-496c-9908-e5802a6ac91d",
   "metadata": {},
   "source": [
    "# 二分查找"
   ]
  },
  {
   "cell_type": "markdown",
   "id": "8315ca81-10f1-473a-ba5e-372bfbda3ed1",
   "metadata": {
    "tags": []
   },
   "source": [
    "# 数学"
   ]
  },
  {
   "cell_type": "markdown",
   "id": "bbd3981b-b61e-42c0-8cbf-3f5680ea782d",
   "metadata": {},
   "source": [
    "<a href=\"https://leetcode.cn/problems/reverse-integer/\">7. 整数反转</a>"
   ]
  },
  {
   "cell_type": "code",
   "execution_count": null,
   "id": "b4b767cd-f35d-46b3-9bfa-9f1a09ee92f2",
   "metadata": {},
   "outputs": [],
   "source": [
    "class Solution:\n",
    "    def reverse(self, x: int) -> int:\n",
    "        result, neg, x = 0, True if x < 0 else False, abs(x)\n",
    "        while x:\n",
    "            last = x % 10\n",
    "            x //= 10\n",
    "            result = 10 * result + last\n",
    "        result = -result if neg else result\n",
    "        # 溢出\n",
    "        if result >= 2 ** 31 - 1 or result <= (-2 ** 31):\n",
    "            return 0\n",
    "        return result"
   ]
  },
  {
   "cell_type": "markdown",
   "id": "dbf80607-d12c-4402-ae20-a69a393bbd9d",
   "metadata": {},
   "source": [
    "<a href=\"https://leetcode.cn/problems/palindrome-number/\">9. 回文数</a>"
   ]
  },
  {
   "cell_type": "code",
   "execution_count": null,
   "id": "e38166ad-7ce4-43c4-96c1-27b732dd3f63",
   "metadata": {},
   "outputs": [],
   "source": [
    "class Solution:\n",
    "    def isPalindrome(self, x: int) -> bool:\n",
    "        if x < 0:\n",
    "            return False\n",
    "        # 求取 x 的每一位上的数字\n",
    "        digits = []\n",
    "        while x:\n",
    "            digits.append(x % 10)\n",
    "            x //= 10\n",
    "        # 回文判断\n",
    "        i, j = 0, len(digits) - 1\n",
    "        while i < j:\n",
    "            if digits[i] != digits[j]:\n",
    "                return False\n",
    "            i += 1\n",
    "            j -= 1\n",
    "        return True"
   ]
  },
  {
   "cell_type": "markdown",
   "id": "4e0ed061-ec06-45fb-9b0c-6453ea7a1f09",
   "metadata": {},
   "source": [
    "<a href=\"https://leetcode.cn/problems/integer-to-roman/\">12. 整数转罗马数字</a>"
   ]
  },
  {
   "cell_type": "code",
   "execution_count": null,
   "id": "56951bca-df96-4bd1-b4be-5433617a922b",
   "metadata": {},
   "outputs": [],
   "source": [
    "class Solution:\n",
    "    def intToRoman(self, num: int) -> str:\n",
    "        HashMap = {\n",
    "            1: 'I', \n",
    "            4: 'IV',\n",
    "            5: 'V',\n",
    "            9: 'IX',\n",
    "            10: 'X',\n",
    "            40: 'XL', \n",
    "            50: 'L', \n",
    "            90: 'XC',\n",
    "            100: 'C', \n",
    "            400: \"CD\",\n",
    "            500: 'D', \n",
    "            900: \"CM\",\n",
    "            1000: 'M'\n",
    "        }\n",
    "        digits = [1000, 900, 500, 400, 100, 90, 50, 40, 10, 9, 5, 4, 1]\n",
    "        result = []\n",
    "        while num != 0:\n",
    "            i = 0\n",
    "            # 每次都选择比 num 小一点的罗马数字\n",
    "            while i < len(digits) and digits[i] > num:\n",
    "                i += 1\n",
    "            result.append(HashMap.get(digits[i]))\n",
    "            num -= digits[i]\n",
    "        return ''.join(result)"
   ]
  },
  {
   "cell_type": "markdown",
   "id": "37e41f5a-5511-4750-a35f-489e75be8b8d",
   "metadata": {},
   "source": [
    "<a href=\"https://leetcode.cn/problems/roman-to-integer/\">13. 罗马数字转整数</a>"
   ]
  },
  {
   "cell_type": "code",
   "execution_count": null,
   "id": "f41866b7-7c00-4ef6-bb2d-82310a1921eb",
   "metadata": {},
   "outputs": [],
   "source": [
    "class Solution:\n",
    "    def romanToInt(self, s: str) -> int:\n",
    "        HashMap = {\n",
    "            'I': 1, \n",
    "            'IV': 4,\n",
    "            'V': 5,\n",
    "            'IX': 9,\n",
    "            'X': 10,\n",
    "            'XL': 40, \n",
    "            'L': 50, \n",
    "            'XC': 90,\n",
    "            'C': 100, \n",
    "            \"CD\": 400,\n",
    "            'D': 500, \n",
    "            \"CM\": 900,\n",
    "            'M': 1000\n",
    "        }\n",
    "        result = 0\n",
    "        i = len(s) - 1\n",
    "        # 从右往左遍历整个字符串\n",
    "        while i >= 0:\n",
    "            # 处理特殊的罗马数字\n",
    "            if i - 1 >= 0 and s[i] == 'M' and s[i - 1] == 'C':\n",
    "                i -= 2\n",
    "                result += 900\n",
    "                continue\n",
    "            if i - 1 >= 0 and s[i] == 'D' and s[i - 1] == 'C':\n",
    "                result += 400\n",
    "                i -= 2\n",
    "                continue\n",
    "            if i - 1 >= 0 and s[i] == 'C' and s[i - 1] == 'X':\n",
    "                result += 90\n",
    "                i -= 2\n",
    "                continue\n",
    "            if i - 1 >= 0 and s[i] == 'L' and s[i - 1] == 'X':\n",
    "                result += 40\n",
    "                i -= 2\n",
    "                continue\n",
    "            if i - 1 >= 0 and s[i] == 'X' and s[i - 1] == 'I':\n",
    "                result += 9\n",
    "                i -= 2\n",
    "                continue\n",
    "            if i - 1 >= 0 and s[i] == 'V' and s[i - 1] == 'I':\n",
    "                result += 4\n",
    "                i -= 2\n",
    "                continue\n",
    "            result += HashMap.get(s[i])\n",
    "            i -= 1\n",
    "        return result"
   ]
  },
  {
   "cell_type": "markdown",
   "id": "d7f01539-524b-4fb0-964c-878b7a7f6b75",
   "metadata": {},
   "source": [
    "<a href=\"\"></a>"
   ]
  },
  {
   "cell_type": "code",
   "execution_count": null,
   "id": "f8e39d4c-bcbc-4849-9395-36c52bf7ba0d",
   "metadata": {},
   "outputs": [],
   "source": []
  },
  {
   "cell_type": "markdown",
   "id": "5b9afbf0-d709-4511-9d0b-dcab9ceda9e5",
   "metadata": {},
   "source": [
    "<a href=\"https://leetcode.cn/problems/multiply-strings/\">43. 字符串相乘</a>"
   ]
  },
  {
   "cell_type": "code",
   "execution_count": null,
   "id": "e4e5c2ea-2c35-4891-a297-6900e218f939",
   "metadata": {},
   "outputs": [],
   "source": [
    "class Solution:\n",
    "    def multiply(self, num1: str, num2: str) -> str:\n",
    "        num_1, num_2 = 0, 0\n",
    "        for i in range(len(num1)):\n",
    "            num_1 = 10 * num_1 + (ord(num1[i]) - ord('0'))\n",
    "        for i in range(len(num2)):\n",
    "            num_2 = 10 * num_2 + (ord(num2[i]) - ord('0'))\n",
    "        return str(num_1 * num_2)"
   ]
  },
  {
   "cell_type": "markdown",
   "id": "112daa0c-280d-4fd6-b247-393b23bf7dd9",
   "metadata": {},
   "source": [
    "<a href=\"https://leetcode.cn/problems/rotate-image/\">48.旋转图像</a>"
   ]
  },
  {
   "cell_type": "code",
   "execution_count": null,
   "id": "f89b0880-eeab-43f6-95e5-a3145c6d194f",
   "metadata": {},
   "outputs": [],
   "source": [
    "class Solution:\n",
    "    def rotate(self, matrix: List[List[int]]) -> None:\n",
    "        # 求矩阵的转置\n",
    "        n, m = len(matrix), len(matrix[0])\n",
    "        for i in range(n):\n",
    "            for j in range(i):\n",
    "                # 将行元素变列元素，列元素变行元素\n",
    "                matrix[i][j], matrix[j][i] = matrix[j][i], matrix[i][j]\n",
    "        for i in range(n):\n",
    "            matrix[i].reverse()\n",
    "        return"
   ]
  },
  {
   "cell_type": "markdown",
   "id": "c4d4e5b1-0129-43b7-8799-87c9c5451a54",
   "metadata": {},
   "source": [
    "## 快速幂"
   ]
  },
  {
   "cell_type": "markdown",
   "id": "6c15787e-b234-4b25-83ea-8b6215d6dec0",
   "metadata": {},
   "source": [
    "<a href=\"https://leetcode.cn/problems/powx-n/\">50.Pow(x, n)</a>"
   ]
  },
  {
   "cell_type": "code",
   "execution_count": null,
   "id": "17d7f85b-3bf9-48ee-9498-26f7a8fccf82",
   "metadata": {},
   "outputs": [],
   "source": [
    "class Solution:\n",
    "    def myPow(self, x: float, n: int) -> float:\n",
    "        def _pow(x, n):\n",
    "            if n == 0:\n",
    "                return 1.0\n",
    "            # 拆分问题\n",
    "            half = _pow(x, n // 2)\n",
    "            if n % 2 == 1:\n",
    "                return x * half * half\n",
    "            return half * half\n",
    "        if n < 0:\n",
    "            return 1.0 / _pow(x, -n)\n",
    "        return _pow(x, n)"
   ]
  },
  {
   "cell_type": "markdown",
   "id": "3aea5fea-32d7-4521-a3a0-79d6e22556b5",
   "metadata": {},
   "source": [
    "<a href=\"https://leetcode.cn/problems/fibonacci-number/\">斐波那契数</a>\n",
    "\n",
    "$$F_{n+1}=F_{n}+F_{n-1}$$\n",
    "\n",
    "$$\n",
    "\\begin{bmatrix}\n",
    "{F_{n}}\\\\\n",
    "{F_{n+1}}\n",
    "\\end{bmatrix}=\n",
    "\\begin{bmatrix}\n",
    "{a}&{b}\\\\\n",
    "{c}&{d}\n",
    "\\end{bmatrix}\n",
    "\\begin{bmatrix}\n",
    "{F_{n-1}}\\\\\n",
    "{F_{n}}\n",
    "\\end{bmatrix}=\n",
    "\\begin{bmatrix}\n",
    "{a*F_{n-1}+b*F_{n}}\\\\\n",
    "{c*F_{n-1}+d*F_{n}}\n",
    "\\end{bmatrix}\n",
    "$$\n",
    "即 $$\n",
    "\\begin{bmatrix}\n",
    "{a}&{b}\\\\\n",
    "{c}&{d}\n",
    "\\end{bmatrix}=\\begin{bmatrix}\n",
    "{0}&{1}\\\\\n",
    "{1}&{1}\n",
    "\\end{bmatrix}\n",
    "$$"
   ]
  },
  {
   "cell_type": "code",
   "execution_count": null,
   "id": "dcd1489e-612d-4c0e-907d-d9079bb63391",
   "metadata": {},
   "outputs": [],
   "source": []
  },
  {
   "cell_type": "markdown",
   "id": "334438df-1362-4dc5-88af-458689fcc9ec",
   "metadata": {},
   "source": [
    "<a href=\"\"></a>"
   ]
  },
  {
   "cell_type": "code",
   "execution_count": null,
   "id": "1dd536a9-e0ab-4d18-accc-9f7db68113f5",
   "metadata": {},
   "outputs": [],
   "source": []
  },
  {
   "cell_type": "markdown",
   "id": "82a23b6d-c766-4c4f-8b86-c3d820c935cc",
   "metadata": {},
   "source": [
    "<a href=\"\"></a>"
   ]
  },
  {
   "cell_type": "code",
   "execution_count": null,
   "id": "d861b2a6-5322-4696-ba95-e284231c7998",
   "metadata": {},
   "outputs": [],
   "source": []
  },
  {
   "cell_type": "markdown",
   "id": "6d9b39a9-a5ad-408d-b8a5-e999451dfe7a",
   "metadata": {},
   "source": [
    "<a href=\"\"></a>"
   ]
  },
  {
   "cell_type": "code",
   "execution_count": null,
   "id": "416709a5-1600-4fe8-938b-6e725a86cf51",
   "metadata": {},
   "outputs": [],
   "source": []
  },
  {
   "cell_type": "markdown",
   "id": "d191a7b2-e836-445e-812d-4014e498c917",
   "metadata": {},
   "source": [
    "<a href=\"\"></a>"
   ]
  },
  {
   "cell_type": "code",
   "execution_count": null,
   "id": "7f970d6a-6180-4f8a-8f00-d395a37ed168",
   "metadata": {},
   "outputs": [],
   "source": []
  },
  {
   "cell_type": "markdown",
   "id": "c4f14f58-ee47-4a93-86f6-31d4f6f91802",
   "metadata": {},
   "source": [
    "<a href=\"\"></a>"
   ]
  },
  {
   "cell_type": "code",
   "execution_count": null,
   "id": "63f6e2ce-c074-4920-8ecf-aa7aa41b77e6",
   "metadata": {},
   "outputs": [],
   "source": []
  },
  {
   "cell_type": "markdown",
   "id": "5a31f408-99fd-4a74-b56b-9d7073036a47",
   "metadata": {},
   "source": [
    "<a href=\"\"></a>"
   ]
  },
  {
   "cell_type": "code",
   "execution_count": null,
   "id": "c6ad86a4-bd13-4253-8186-dddc384966fa",
   "metadata": {},
   "outputs": [],
   "source": []
  },
  {
   "cell_type": "markdown",
   "id": "5ccaab28-9664-418e-8aa7-40e7a7e9eecb",
   "metadata": {},
   "source": [
    "<a href=\"\"></a>"
   ]
  },
  {
   "cell_type": "code",
   "execution_count": null,
   "id": "f3c4d83b-658a-448e-b84a-cf8ae00cd257",
   "metadata": {},
   "outputs": [],
   "source": []
  },
  {
   "cell_type": "markdown",
   "id": "d62ac802-d3a2-46a4-b671-37c7d224d66b",
   "metadata": {},
   "source": [
    "<a href=\"\"></a>"
   ]
  },
  {
   "cell_type": "code",
   "execution_count": null,
   "id": "b4b7898b-0b88-47f2-a56a-9f7af3a643af",
   "metadata": {},
   "outputs": [],
   "source": []
  },
  {
   "cell_type": "code",
   "execution_count": null,
   "id": "91a40070-d73c-45f0-82f9-1f48c23101de",
   "metadata": {},
   "outputs": [],
   "source": []
  },
  {
   "cell_type": "markdown",
   "id": "b17d1ab2-efce-43e2-9b49-31f3e6e78dab",
   "metadata": {},
   "source": [
    "## 概率"
   ]
  },
  {
   "cell_type": "markdown",
   "id": "e4e953cd-1e44-4ba8-8570-59b681899776",
   "metadata": {},
   "source": [
    "## 费马小定理与欧拉定理"
   ]
  },
  {
   "cell_type": "markdown",
   "id": "a323446b-aec5-423b-9e40-72908b4c20f8",
   "metadata": {},
   "source": [
    "## 素数筛选和质因数分解"
   ]
  },
  {
   "cell_type": "markdown",
   "id": "cdd4c48e-3916-4fb9-8e6d-e98ca6b187ac",
   "metadata": {},
   "source": [
    "## Euclid"
   ]
  },
  {
   "cell_type": "markdown",
   "id": "17ece2d2-0ae7-486a-a780-cb0b2367cd9f",
   "metadata": {},
   "source": [
    "## 几何"
   ]
  },
  {
   "cell_type": "markdown",
   "id": "3c827060-545a-4a86-b497-152acdc1fa98",
   "metadata": {},
   "source": [
    "# 哈希表"
   ]
  },
  {
   "cell_type": "markdown",
   "id": "50f27dea-bb48-4926-b2bb-242c40d819da",
   "metadata": {},
   "source": [
    "# 排序"
   ]
  },
  {
   "cell_type": "markdown",
   "id": "281be87d-6498-41b1-a773-b06409f25a98",
   "metadata": {},
   "source": [
    "# 位运算"
   ]
  },
  {
   "cell_type": "markdown",
   "id": "6bc668a3-1899-45be-b134-083ae72d8fd0",
   "metadata": {},
   "source": [
    "# 并查集"
   ]
  },
  {
   "cell_type": "markdown",
   "id": "f97009a1-bc12-49e9-979d-37bd35d9d36f",
   "metadata": {},
   "source": [
    "# 滑动窗口"
   ]
  },
  {
   "cell_type": "markdown",
   "id": "6b089a54-c606-4d34-8b46-3ba5b1579cbc",
   "metadata": {},
   "source": [
    "# 线段树"
   ]
  },
  {
   "cell_type": "markdown",
   "id": "89874035-1461-430f-b286-4b0ede1e07ec",
   "metadata": {},
   "source": [
    "# 二叉索引树"
   ]
  },
  {
   "cell_type": "markdown",
   "id": "4d0d1356-1c8d-4321-9b78-9657e6c872e5",
   "metadata": {
    "tags": []
   },
   "source": [
    "# 贪心"
   ]
  },
  {
   "cell_type": "markdown",
   "id": "eca01e8f-a1db-4f66-98ad-e99723df2707",
   "metadata": {},
   "source": [
    "<a href=\"https://leetcode.cn/problems/assign-cookies/\">分发饼干</a>"
   ]
  },
  {
   "cell_type": "code",
   "execution_count": null,
   "id": "e9b68e1a-e36a-419b-a993-77f38ce5db56",
   "metadata": {},
   "outputs": [],
   "source": [
    "class Solution:\n",
    "    def findContentChildren(self, g: List[int], s: List[int]) -> int:\n",
    "        g.sort()\n",
    "        s.sort()\n",
    "        child, cookie = 0, 0\n",
    "        n, m = len(g), len(s)\n",
    "        while child < n and cookie < m:\n",
    "            if g[child] <= s[cookie]:\n",
    "                child += 1\n",
    "            cookie += 1\n",
    "        return child"
   ]
  },
  {
   "cell_type": "markdown",
   "id": "8d10eb9f-bc5b-4e56-8745-6710639fe6fa",
   "metadata": {},
   "source": [
    "<a href=\"https://leetcode.cn/problems/candy/\">分发糖果</a>"
   ]
  },
  {
   "cell_type": "code",
   "execution_count": null,
   "id": "b4fc5cc9-2176-4f11-bf28-e6e8301ac16d",
   "metadata": {},
   "outputs": [],
   "source": [
    "class Solution:\n",
    "    def candy(self, ratings: List[int]) -> int:\n",
    "        n = len(ratings)\n",
    "        # 每个孩子都能得到一块糖果\n",
    "        result = [1 for i in range(n)]\n",
    "        # 如果右边的孩子比左边的孩子的评分高，则右边的孩子的糖果数应该比左边的孩子的糖果数加 1\n",
    "        for i in range(1, n):\n",
    "            if ratings[i] > ratings[i - 1]:\n",
    "                result[i] = result[i - 1] + 1\n",
    "        # 如果左边的孩子比右边的孩子的评分高并且右边的孩子的糖果数大于等于左边孩子的糖果数，那么左边的孩子的糖果数应该是右边孩子的糖果数加 1\n",
    "        for i in range(n-1, 0, -1):\n",
    "            if ratings[i - 1] > ratings[i] and result[i] >= result[i - 1]:\n",
    "                result[i - 1] = result[i] + 1\n",
    "        return sum(result)"
   ]
  },
  {
   "cell_type": "markdown",
   "id": "d8555921-ba84-48db-a0f6-a9c1cf7a927d",
   "metadata": {},
   "source": [
    "<a href=\"https://leetcode.cn/problems/non-overlapping-intervals/\">无重叠区间</a>"
   ]
  },
  {
   "cell_type": "markdown",
   "id": "88147315-b567-4563-8dd6-c317b81793f9",
   "metadata": {},
   "source": [
    "<a href=\"\"></a>"
   ]
  },
  {
   "cell_type": "markdown",
   "id": "87e7b354-faa3-4cca-8d7a-c32bb4a4aba3",
   "metadata": {},
   "source": [
    "<a href=\"\"></a>"
   ]
  },
  {
   "cell_type": "markdown",
   "id": "cd33052f-c0a0-45d7-af09-9677a8790c3b",
   "metadata": {},
   "source": [
    "<a href=\"\"></a>"
   ]
  },
  {
   "cell_type": "markdown",
   "id": "c4601662-787a-40ec-875a-47c64d833c0f",
   "metadata": {},
   "source": [
    "<a href=\"\"></a>"
   ]
  },
  {
   "cell_type": "markdown",
   "id": "98e3a146-08c5-47c6-a850-a8c3056a219b",
   "metadata": {},
   "source": [
    "<a href=\"\"></a>"
   ]
  },
  {
   "cell_type": "markdown",
   "id": "6049f0de-18eb-4182-bcef-e29764d5b95e",
   "metadata": {},
   "source": [
    "<a href=\"https://leetcode.cn/problems/non-decreasing-array/\">非递减数列</a>"
   ]
  },
  {
   "cell_type": "code",
   "execution_count": null,
   "id": "328dd76d-2d8b-46aa-8201-92e8d5bf75a2",
   "metadata": {},
   "outputs": [],
   "source": []
  },
  {
   "cell_type": "markdown",
   "id": "b91998c9-3ea3-4afc-98b1-733eed1984c0",
   "metadata": {},
   "source": [
    "<a href=\"https://leetcode.cn/problems/two-sum-ii-input-array-is-sorted/\">167.两数之和 II - 输入有序数组</a>"
   ]
  },
  {
   "cell_type": "code",
   "execution_count": null,
   "id": "e45e551e-a9ae-4165-8d73-be69576907ba",
   "metadata": {},
   "outputs": [],
   "source": [
    "class Solution:\n",
    "    def twoSum(self, numbers: List[int], target: int) -> List[int]:\n",
    "        i, j = 0, len(numbers) - 1\n",
    "        while i < j:\n",
    "            s = numbers[i] + numbers[j]\n",
    "            if s == target:\n",
    "                return i + 1, j + 1\n",
    "            elif s < target:\n",
    "                i += 1\n",
    "            else:\n",
    "                j -= 1\n",
    "        return 0, 0"
   ]
  },
  {
   "cell_type": "markdown",
   "id": "0a7a7321-9cee-447d-93c2-c785b3080a30",
   "metadata": {},
   "source": [
    "<a href=\"https://leetcode.cn/problems/merge-sorted-array/\">88.合并两个有序数组</a>"
   ]
  },
  {
   "cell_type": "code",
   "execution_count": null,
   "id": "7737ff5d-f84b-4227-a629-447e02197283",
   "metadata": {},
   "outputs": [],
   "source": [
    "class Solution:\n",
    "    def merge(self, nums1: List[int], m: int, nums2: List[int], n: int) -> None:\n",
    "        i, j, k = m - 1, n - 1, n + m - 1\n",
    "        while i >= 0 and j >= 0:\n",
    "            if nums1[i] > nums2[j]:\n",
    "                nums1[k] = nums1[i]\n",
    "                i -= 1\n",
    "            else:\n",
    "                nums1[k] = nums2[j]\n",
    "                j -= 1\n",
    "            k -= 1\n",
    "        while j >= 0:\n",
    "            nums1[k] = nums2[j]\n",
    "            j -= 1\n",
    "            k -= 1\n",
    "        return"
   ]
  },
  {
   "cell_type": "code",
   "execution_count": 32,
   "id": "601821a4-188f-45e6-bbc5-48b270cd45bd",
   "metadata": {
    "tags": []
   },
   "outputs": [],
   "source": []
  },
  {
   "cell_type": "markdown",
   "id": "b4e45db3-a5ba-4baa-a0c2-1d651391414a",
   "metadata": {},
   "source": [
    "<a href=\"https://leetcode.cn/problems/spiral-matrix/\">54.螺旋矩阵</a>"
   ]
  },
  {
   "cell_type": "code",
   "execution_count": null,
   "id": "13c89d35-8b42-4693-90b8-03b86a6da262",
   "metadata": {},
   "outputs": [],
   "source": [
    "class Solution:\n",
    "    def spiralOrder(self, matrix: List[List[int]]) -> List[int]:\n",
    "        up, down, left, right = 0, len(matrix) - 1, 0, len(matrix[0]) - 1\n",
    "        result = []\n",
    "        while up <= down and left <= right:\n",
    "            # 从左到右\n",
    "            for i in range(left, right+1):\n",
    "                result.append(matrix[up][i])\n",
    "            up += 1\n",
    "            if up > down:\n",
    "                break\n",
    "            # 从上到下\n",
    "            for i in range(up, down+1):\n",
    "                result.append(matrix[i][right])\n",
    "            right -= 1\n",
    "            if left > right:\n",
    "                break\n",
    "            # 从左到右\n",
    "            for i in range(right, left-1, -1):\n",
    "                result.append(matrix[down][i])\n",
    "            down -= 1\n",
    "            if up > down:\n",
    "                break\n",
    "            # 从下到上\n",
    "            for i in range(down, up-1, -1):\n",
    "                result.append(matrix[i][left])\n",
    "            left += 1\n",
    "        return result"
   ]
  }
 ],
 "metadata": {
  "kernelspec": {
   "display_name": "Python 3 (ipykernel)",
   "language": "python",
   "name": "python3"
  },
  "language_info": {
   "codemirror_mode": {
    "name": "ipython",
    "version": 3
   },
   "file_extension": ".py",
   "mimetype": "text/x-python",
   "name": "python",
   "nbconvert_exporter": "python",
   "pygments_lexer": "ipython3",
   "version": "3.8.13"
  }
 },
 "nbformat": 4,
 "nbformat_minor": 5
}
