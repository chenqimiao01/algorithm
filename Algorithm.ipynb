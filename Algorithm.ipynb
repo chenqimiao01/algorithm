{
 "cells": [
  {
   "cell_type": "markdown",
   "id": "1a63f9c5-f957-42f1-8547-abe57fd98759",
   "metadata": {},
   "source": [
    "## 分治"
   ]
  },
  {
   "cell_type": "markdown",
   "id": "91303167-80cc-445c-8394-4a37ae134b90",
   "metadata": {},
   "source": [
    "## 贪心\n",
    "\n",
    "在某一个标准下，优先考虑最满足标准的样本，最后考虑最不满足标准的样本，最终得到一个答案的算法，叫做贪心算法。\n",
    "\n",
    "也就是说，不从整体最优上加以考虑，所做出的是在某种意义上的局部最优解。\n",
    "\n",
    "1. 堆和排序常用贪心中被使用"
   ]
  },
  {
   "cell_type": "markdown",
   "id": "76641045-e545-417b-ac83-aeb12aa8cbe4",
   "metadata": {},
   "source": [
    "#### 题目"
   ]
  },
  {
   "cell_type": "markdown",
   "id": "05c90799-0db3-42e7-b3b0-13ed66475d64",
   "metadata": {},
   "source": [
    "1. 一个项目要占用一个会议室宣讲，会议室不能同时容纳两个项目的宣讲。给你每一个项目开始的时间和结束的时间，你来安排宣讲的日程，要求会议室进行的宣讲的场次最多。返回这个最多的宣讲场次。\n",
    "\n",
    "> 根据哪一个会议结束时间早就先安排"
   ]
  },
  {
   "cell_type": "code",
   "execution_count": null,
   "id": "e47abbc4-d98f-477b-9a8d-81e8545c44d1",
   "metadata": {},
   "outputs": [],
   "source": [
    "def solution(startEnd, time):\n",
    "    startEnd = sorted(startEnd, lambda x: x[1])\n",
    "    result = 0\n",
    "    for i in range(len(startEnd)):\n",
    "        if time <= startEnd[i][0]:\n",
    "            result += 1\n",
    "            time = startEnd[i][1]\n",
    "    return result"
   ]
  },
  {
   "cell_type": "markdown",
   "id": "50d4e91c-42f6-45e4-8737-5eb1b20cd7e4",
   "metadata": {},
   "source": [
    "2. 一块金条切成两半，是需要花费和长度数值一样的铜板，比如长度为20的金条，不管切成长度多大的两半，都需要花费20个铜板。一群人想整分整块金条，怎么分最省铜板？\n",
    "\n",
    "> 哈夫曼树"
   ]
  },
  {
   "cell_type": "markdown",
   "id": "a146107c-a2e6-41f0-99b0-b970ddb0443f",
   "metadata": {},
   "source": [
    "3. "
   ]
  },
  {
   "cell_type": "markdown",
   "id": "f61de138-84b0-4832-83b9-ea8310897b94",
   "metadata": {},
   "source": [
    "## 暴力递归\n",
    "\n",
    "暴力递归就是尝试\n",
    "\n",
    "1. 把问题转化为规模缩小了的同类问题的子问题\n",
    "2. 有明确的不需要继续进行递归的条件\n",
    "3. 有当得到了子问题的结果之后的决策过程\n",
    "4. 不记录每一个子问题的解\n",
    "\n",
    "- 递归需要满足的三个条件\n",
    "    1. 一个问题的解可以分解为几个子问题的解\n",
    "    2. 这个问题与分解之后的子问题，除了数据规模不同，求解思路完全一样\n",
    "    3. 存在递归终止条件"
   ]
  },
  {
   "cell_type": "markdown",
   "id": "e5b2ba66-dae1-4608-b859-5a9e6f8d39c5",
   "metadata": {
    "tags": []
   },
   "source": [
    "#### 主定理\n",
    "\n",
    "$$T(N)=a*T(\\frac{N}{b})+O(N^d)$$\n",
    "\n",
    "其中：\n",
    "- $n$ 是问题的数据规模\n",
    "- $\\frac{N}{b}$是每个子问题的数据规模\n",
    "- $a$是子问题的调用次数\n",
    "- $O(N^d)$是除去调用子问题之外剩下的过程\n",
    "\n",
    "对上面的式子\n",
    "> 如果$log_{b}(a)>d$复杂度为$O(N^{log_{b}(a)})$\n",
    "\n",
    "> 如果$log_{b}(a)=d$复杂度为$O(N^{d}*log(N))$\n",
    "\n",
    "> 如果$log_{b}(a)<d$复杂度为$O(N^{d})$\n",
    "\n",
    "**实例**：\n",
    "\n",
    "```python\n",
    "def mergeSort(array):\n",
    "    def _sort(array):\n",
    "        n = len(array)\n",
    "        if n < 1:\n",
    "            return\n",
    "        mid = n // 2\n",
    "        left = array[:mid]\n",
    "        right = array[mid:]\n",
    "        _sort(left)\n",
    "        _sort(right)\n",
    "        # 合并两个有序数组\n",
    "        i, j, k = 0, 0, 0\n",
    "        while i < len(left) and j < len(right):\n",
    "            if left[i] < right[j]:\n",
    "                array[k] = left[i]\n",
    "                i += 1\n",
    "            else:\n",
    "                array[k] = right[j]\n",
    "                j += 1\n",
    "            k += 1\n",
    "        while i < len(left):\n",
    "            array[k] = left[i]\n",
    "            i += 1\n",
    "            k += 1\n",
    "        while j < len(right):\n",
    "            array[k] = right[j]\n",
    "            j += 1\n",
    "            k += 1\n",
    "    _sort(array)\n",
    "    return array\n",
    "```\n",
    "\n",
    "分析：$a=b=2,d=1$由于$log_{b}(a)=d$故时间复杂度为$Nlog(N)$"
   ]
  },
  {
   "cell_type": "markdown",
   "id": "0ee7805b-5e49-4c08-959d-543b7d1c17dd",
   "metadata": {
    "tags": []
   },
   "source": [
    "### 题目"
   ]
  },
  {
   "cell_type": "markdown",
   "id": "712e7335-de1f-4447-9e30-07acb4829ae2",
   "metadata": {},
   "source": [
    "1. 打印 n 层汉诺塔从最左边到最右边的全部过程"
   ]
  },
  {
   "cell_type": "code",
   "execution_count": 6,
   "id": "01221967-d95c-4126-ad8b-9961bacb882d",
   "metadata": {
    "tags": []
   },
   "outputs": [],
   "source": [
    "def solution(n, frm, to, other):\n",
    "    if n == 1:\n",
    "        print(f'move 1 from {frm} to {to}')\n",
    "    else:\n",
    "        solution(n - 1, frm, other, to)\n",
    "        print(f'move {n} from {frm} to {to}')\n",
    "        solution(n - 1, other, to, frm)"
   ]
  },
  {
   "cell_type": "code",
   "execution_count": 7,
   "id": "9faabb20-c1b5-4765-8259-7d375a78ab1d",
   "metadata": {
    "tags": []
   },
   "outputs": [
    {
     "name": "stdout",
     "output_type": "stream",
     "text": [
      "move 1 from A to B\n",
      "move 2 from A to C\n",
      "move 1 from B to C\n",
      "move 3 from A to B\n",
      "move 1 from C to A\n",
      "move 2 from C to B\n",
      "move 1 from A to B\n"
     ]
    }
   ],
   "source": [
    "solution(3, 'A', 'B', 'C')"
   ]
  },
  {
   "cell_type": "markdown",
   "id": "f59078e9-ac1d-4949-b524-c618c49f7a34",
   "metadata": {},
   "source": [
    "2. 打印一个字符串的全部子序列，包括空字符串"
   ]
  },
  {
   "cell_type": "code",
   "execution_count": 8,
   "id": "7bb5b3ae-889e-4fd3-a34e-61b79a8363c3",
   "metadata": {
    "tags": []
   },
   "outputs": [],
   "source": [
    "def solution(s, i, substring):\n",
    "    if i == len(s):\n",
    "        # 由于可能会出现 aaa 的这种情况可以考虑用一个集合去重\n",
    "        print(f'substring: {substring}')\n",
    "        return\n",
    "    solution(s, i + 1, substring)\n",
    "    solution(s, i + 1, substring + s[i])"
   ]
  },
  {
   "cell_type": "markdown",
   "id": "24a23071-cd37-4fb3-a182-d755ec3d980c",
   "metadata": {},
   "source": [
    "3. 打印一个字符串的全部排列"
   ]
  },
  {
   "cell_type": "code",
   "execution_count": null,
   "id": "1c7a3781-b346-4ddf-b21c-524ba3f5fb30",
   "metadata": {},
   "outputs": [],
   "source": [
    "def solution(s, permutation, visited):\n",
    "    if len(permutation) == len(s):\n",
    "        print(permutation)\n",
    "        return\n",
    "    for i in range(len(s)):\n",
    "        \n",
    "        if visited[i] = True:\n",
    "            continue\n",
    "        visited[i] = True\n",
    "        solution(s, permutation + s[i], visited)\n",
    "        visited[i] = False\n",
    "    return"
   ]
  },
  {
   "cell_type": "markdown",
   "id": "536bedb8-112f-44fc-a4a6-a62ae2f574c5",
   "metadata": {},
   "source": [
    "4. 给你一个栈，请你逆序这个栈，不能申请额外的数据结构，只能使用递归函数。"
   ]
  },
  {
   "cell_type": "code",
   "execution_count": null,
   "id": "3be02f69-2d5a-4077-9c50-6f45f54e9893",
   "metadata": {},
   "outputs": [],
   "source": [
    "def solution(stack):\n",
    "    if len(stack) == 1:\n",
    "        return "
   ]
  },
  {
   "cell_type": "markdown",
   "id": "ae48ebd5-1411-40a6-8dd6-dfd9803a3130",
   "metadata": {},
   "source": [
    "5. 给定一个整型数组，代表数值不同的纸牌排成一条线。玩家 A 和玩家 B 依次拿走每张纸牌，规定玩家 A 先拿，玩家 B 后拿，但是每个玩家每次只能拿走最左或最右的字牌，玩家 A 和玩家 B 都绝顶聪明。请返回最后获胜者的分数。"
   ]
  },
  {
   "cell_type": "code",
   "execution_count": null,
   "id": "25cc508b-5912-49ed-ba23-b98b96f407a5",
   "metadata": {},
   "outputs": [],
   "source": [
    "def solution():\n",
    "    pass"
   ]
  },
  {
   "cell_type": "code",
   "execution_count": null,
   "id": "f9f7ce06-9e2f-43ff-8dfa-bda015dd0c91",
   "metadata": {},
   "outputs": [],
   "source": []
  },
  {
   "cell_type": "markdown",
   "id": "b69f889f-1d16-4e8e-8d69-0c7fb12586e7",
   "metadata": {},
   "source": [
    "6. 一个矩阵中只有 0 和 1 两种值，每个位置都可以和自己的上下左右四个位置相连，如果有一片 1 连在一起，这个部分叫做一个岛，求一个矩阵中有多少个岛？\n",
    "\n",
    "如何设计一个并行算法解决这个问题\n",
    "\n",
    "- 使用深度优先搜索得到一个区域岛的数量，然后检测这个区域四周和另外一个区域的四周是否是同一个集合中"
   ]
  },
  {
   "cell_type": "markdown",
   "id": "6c84c10f-b7ca-4292-940b-87f4dbd25e6e",
   "metadata": {},
   "source": [
    "## 动态规划"
   ]
  },
  {
   "cell_type": "markdown",
   "id": "7dbaf2db-fe27-4bbc-8978-7a1518e9fd60",
   "metadata": {},
   "source": [
    "### 树型 DP\n",
    "\n",
    "树型 DP  使用前提：\n",
    "\n",
    "如果题目求解目标是 S 规则，则求解流程可以定成以每一个结点为头结点的子树在 S 规则下的每一个答案，并且最终答案一定在其中。"
   ]
  },
  {
   "cell_type": "markdown",
   "id": "acede8ea-057d-4a14-b1b6-ec46a10891fe",
   "metadata": {},
   "source": [
    "#### 题目"
   ]
  },
  {
   "cell_type": "markdown",
   "id": "558106d0-1cd5-4213-af90-278af8089038",
   "metadata": {},
   "source": [
    "1. 二叉树结点间的最大距离问题\n",
    "\n",
    "从二叉树的结点 $a$ 出发，可以向上或者向下走，但沿途的结点只能经过一次，到达结点 $b$ 时路径上的结点个数就是 $a$ 到 $b$ 的距离，那么二叉树任何两个结点之间都有距离，求整棵树上最大距离。"
   ]
  },
  {
   "cell_type": "code",
   "execution_count": null,
   "id": "814311eb-08aa-42b5-a215-bdb5427d8141",
   "metadata": {},
   "outputs": [],
   "source": []
  },
  {
   "cell_type": "markdown",
   "id": "4b22e12b-6883-431b-a49d-5811c7aa638f",
   "metadata": {
    "tags": []
   },
   "source": [
    "## 数学"
   ]
  },
  {
   "cell_type": "markdown",
   "id": "7e816b70-d1ba-4038-bd4e-c074341ab09b",
   "metadata": {},
   "source": [
    "#### 快速幂"
   ]
  },
  {
   "cell_type": "code",
   "execution_count": 9,
   "id": "88c4258a-33a2-49bc-a320-ae2d8bf42f50",
   "metadata": {
    "tags": []
   },
   "outputs": [],
   "source": [
    "class Solution:\n",
    "    def myPow(self, x: float, n: int) -> float:\n",
    "        def _pow(x, n):\n",
    "            if n == 0:\n",
    "                return 1.0\n",
    "            # 拆分问题\n",
    "            half = _pow(x, n // 2)\n",
    "            if n % 2 == 1:\n",
    "                return x * half * half\n",
    "            return half * half\n",
    "        if n < 0:\n",
    "            return 1.0 / _pow(x, -n)\n",
    "        return _pow(x, n)"
   ]
  },
  {
   "cell_type": "code",
   "execution_count": null,
   "id": "83fa62b0-1ff6-4849-b01a-26c97821e446",
   "metadata": {},
   "outputs": [],
   "source": [
    "class Solution:\n",
    "    \"\"\"矩阵快速幂\n",
    "    \"\"\"\n",
    "    def myPow(self, matrix, n):\n",
    "        def _pow(x, n):\n",
    "            if n == 0:\n",
    "                return 1.0\n",
    "            # 拆分问题\n",
    "            half = _pow(x, n // 2)\n",
    "            if n % 2 == 1:\n",
    "                return x * half * half\n",
    "            return half * half\n",
    "        if n < 0:\n",
    "            return 1.0 / _pow(x, -n)\n",
    "        return _pow(x, n)"
   ]
  }
 ],
 "metadata": {
  "kernelspec": {
   "display_name": "Python 3 (ipykernel)",
   "language": "python",
   "name": "python3"
  },
  "language_info": {
   "codemirror_mode": {
    "name": "ipython",
    "version": 3
   },
   "file_extension": ".py",
   "mimetype": "text/x-python",
   "name": "python",
   "nbconvert_exporter": "python",
   "pygments_lexer": "ipython3",
   "version": "3.8.13"
  }
 },
 "nbformat": 4,
 "nbformat_minor": 5
}
