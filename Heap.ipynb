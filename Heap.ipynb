{
 "cells": [
  {
   "cell_type": "markdown",
   "id": "96a34c5f-a448-4768-8843-a836130e6589",
   "metadata": {},
   "source": [
    "## 二叉堆"
   ]
  },
  {
   "cell_type": "code",
   "execution_count": null,
   "id": "f1416935-c93e-4357-a1a1-802a0a3f8f60",
   "metadata": {},
   "outputs": [],
   "source": [
    "class Heap:\n",
    "    \n",
    "    def __init__(self, seq=[]):\n",
    "        self.seq = seq\n",
    "    \n",
    "    def heapify(self, n, i):\n",
    "        pass\n",
    "    \n",
    "    def insert(self, value):\n",
    "        pass\n",
    "    \n",
    "    def remove(self):\n",
    "        pass"
   ]
  },
  {
   "cell_type": "markdown",
   "id": "ae9a9703-cac1-49a1-a7c0-15f585c5a969",
   "metadata": {},
   "source": [
    "## 斐波那契堆"
   ]
  },
  {
   "cell_type": "code",
   "execution_count": null,
   "id": "28c54bb7-13c3-40b5-b20a-afe3ceca5f56",
   "metadata": {},
   "outputs": [],
   "source": [
    "class FibonacciHeap:\n",
    "    def __init__(self):\n",
    "        pass"
   ]
  }
 ],
 "metadata": {
  "kernelspec": {
   "display_name": "Python 3 (ipykernel)",
   "language": "python",
   "name": "python3"
  },
  "language_info": {
   "codemirror_mode": {
    "name": "ipython",
    "version": 3
   },
   "file_extension": ".py",
   "mimetype": "text/x-python",
   "name": "python",
   "nbconvert_exporter": "python",
   "pygments_lexer": "ipython3",
   "version": "3.8.13"
  }
 },
 "nbformat": 4,
 "nbformat_minor": 5
}
