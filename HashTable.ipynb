{
 "cells": [
  {
   "cell_type": "markdown",
   "id": "6165f0de-9e41-4062-a3ee-4121508e2c25",
   "metadata": {},
   "source": [
    "## 哈希表/集合"
   ]
  },
  {
   "cell_type": "markdown",
   "id": "76ef836f-b3c0-4cc2-aeb5-f1e96feeabaf",
   "metadata": {},
   "source": [
    "### 哈希函数\n",
    "\n",
    "1. 输入无穷 输出有穷\n",
    "2. same input -> same ouput\n",
    "3. diffrence input -> same output 即哈希碰撞\n",
    "4. \n",
    "\n",
    "##### 哈希冲突\n",
    "\n",
    "1. 开放寻址法\n",
    "\n",
    "开放寻址法的核心思想是，如果出现了散列冲突，我们就重新探测一个空闲位置，将其插入。\n",
    "\n",
    "2. 链表法\n",
    "\n",
    "链表法是一种更加常用的散列冲突解决方法，相比开放寻址法，它要简单很多。如图，在散列表中，每个“桶（bucket）”或者“槽（slot）”会对应一条链表，所有散列值相同的元素我们都放到相同槽位对应的链表中。\n",
    "\n",
    "![image.png](./images/a4b77d593e4cb76acb2b0689294ec17f.png)\n",
    "\n",
    "当插入的时候，我们只需要通过散列函数计算出对应的散列槽位，将其插入到对应链表中即可，所以插入的时间复杂度是 O(1)。当查找、删除一个元素时，我们同样通过散列函数计算出对应的槽，然后遍历链表查找或者删除。"
   ]
  },
  {
   "cell_type": "markdown",
   "id": "832e1c04-555c-49f6-a62d-b2069f14efc7",
   "metadata": {},
   "source": [
    "#### 题目"
   ]
  },
  {
   "cell_type": "markdown",
   "id": "20607f0c-0ccc-4d77-90c9-30c39d4eb7b6",
   "metadata": {},
   "source": [
    "1. 设计集合"
   ]
  },
  {
   "cell_type": "code",
   "execution_count": 2,
   "id": "ea35412d-3662-4723-a919-b4b4e2ff9329",
   "metadata": {
    "tags": []
   },
   "outputs": [],
   "source": [
    "class HashSet:\n",
    "\n",
    "    def __init__(self):\n",
    "        self.data = [[], ] * 769\n",
    "    \n",
    "    def _hash(self, key):\n",
    "        return key % 769\n",
    "\n",
    "    def add(self, key: int) -> None:\n",
    "        index = self._hash(key)\n",
    "        for i in range(len(self.data[index])):\n",
    "            if self.data[index][i] == key:\n",
    "                return\n",
    "        self.data[index].append(key)\n",
    "\n",
    "    def remove(self, key: int) -> None:\n",
    "        index = self._hash(key)\n",
    "        for i in range(len(self.data[index])):\n",
    "            if key == self.data[index][i]:\n",
    "                self.data[index].pop(i)\n",
    "                return\n",
    "\n",
    "    def contains(self, key: int) -> bool:\n",
    "        index = self._hash(key)\n",
    "        for i in range(len(self.data[index])):\n",
    "            if self.data[index][i] == key:\n",
    "                return True\n",
    "        return False"
   ]
  },
  {
   "cell_type": "markdown",
   "id": "765de722-2c61-4660-ad6c-b6bba3da0ddf",
   "metadata": {},
   "source": [
    "2. 设计 RandomPool 结构\n",
    "\n",
    "设计一种结构，在该结构中有如下三个功能：\n",
    "\n",
    "- insert(key)：将某个 key 加入到该结构中，做到不重复加入\n",
    "- delete(key)：将原本在结构中的某个 key 移除\n",
    "- getRandom()：等概率随机返回结构中的任何一个 key\n",
    "\n",
    "要求 insert, delete, getRandom 的时间复杂度都是 O(1)"
   ]
  },
  {
   "cell_type": "code",
   "execution_count": 17,
   "id": "19e1017b-01e0-416a-9e29-2696128dc95d",
   "metadata": {
    "tags": []
   },
   "outputs": [],
   "source": [
    "class RandomPool:\n",
    "\n",
    "    def __init__(self):\n",
    "        self.key2index = {}\n",
    "        self.index2key = {}\n",
    "        self.size = 0\n",
    "\n",
    "    def insert(self, key) -> None:\n",
    "        if self.key2index.get(key) == None:\n",
    "            self.key2index[key] = self.size\n",
    "            self.index2key[self.size] = key\n",
    "            self.size += 1\n",
    "        return\n",
    "\n",
    "    def delete(self, key) -> None:\n",
    "        \n",
    "        if key not in self.key2index:\n",
    "            return\n",
    "        if self.size == 1:\n",
    "            self.key2index.pop(self.index2key[0])\n",
    "            self.index2key.pop(0)\n",
    "            return\n",
    "        index = self.key2index.get(key)\n",
    "        lastKey = self.index2key[self.size - 1]\n",
    "        self.key2index[lastKey] = index\n",
    "        self.index2key[index] = lastKey\n",
    "        self.index2key.pop(self.size - 1)\n",
    "        self.key2index.pop(key)\n",
    "        return\n",
    "\n",
    "    def getRandom(self):\n",
    "        if self.size == 0:\n",
    "            return None\n",
    "        import random\n",
    "        index = random.randint(0, self.size - 1)\n",
    "        return self.index2key.get(index)"
   ]
  },
  {
   "cell_type": "markdown",
   "id": "b2a01b8c-ccdf-4260-9080-f5e78cc87e5e",
   "metadata": {},
   "source": [
    "## 布隆过滤器\n",
    "\n",
    "$$m=-\\frac{n*ln{p}}{(ln{2})^{2}}$$\n",
    "\n",
    "\n",
    "$$k=ln{2}*\\frac{m}{n}$$\n",
    "\n",
    "$$p_{1}=(1-e^{-\\frac{n*k_{1}}{m_{1}}})^{k_{1}}$$\n",
    "\n",
    "其中：\n",
    "\n",
    "m 是 bitarray 的大小，n 是样本数量，p 是预计失误率，k 是哈希函数的个数"
   ]
  },
  {
   "cell_type": "code",
   "execution_count": 135,
   "id": "55d744a6-e0d3-4855-838d-05efeb9c76c3",
   "metadata": {
    "tags": []
   },
   "outputs": [],
   "source": [
    "class BloomFilter:\n",
    "    \"\"\"位图是特殊的布隆过滤器\n",
    "    \"\"\"\n",
    "\n",
    "    def __init__(self, n=10, p=0.1):\n",
    "        import math\n",
    "        from hashlib import md5, sha1, sha224, sha512\n",
    "        self.n = n\n",
    "        self.m = int(-n * math.log(p) / (math.log(2) ** 2)) + 1\n",
    "        self.k = int(math.log(2) * self.m / n) + 1\n",
    "        self.bitarray = bytearray(self.m // 8 + 1)\n",
    "        self._hash = array = [md5, sha1, sha224, sha512]\n",
    "    \n",
    "    def _set(self, i, j):\n",
    "        self.bitarray[i] |= 1 << j\n",
    "    \n",
    "    def _get(self, i, j):\n",
    "        return self.bitarray[i] & (1 << j)\n",
    "    \n",
    "    def add(self, item: str):\n",
    "        for k in range(self.k):\n",
    "            digest = int(self._hash[k](item.encode()).hexdigest(), 16) % self.m\n",
    "            i, j = digest // 8, digest % 8 \n",
    "            self._set(i, j)\n",
    "\n",
    "    def check(self, item: str):\n",
    "        for k in range(self.k):\n",
    "            digest = int(self._hash[k](item.encode()).hexdigest(), 16) % self.m\n",
    "            i, j = digest // 8, digest % 8\n",
    "            return self._get(i, j) != 0"
   ]
  },
  {
   "cell_type": "markdown",
   "id": "2abb0244-1337-4667-bd5a-d2f9ad965004",
   "metadata": {
    "tags": []
   },
   "source": [
    "## 一致性哈希原理"
   ]
  }
 ],
 "metadata": {
  "kernelspec": {
   "display_name": "Python 3 (ipykernel)",
   "language": "python",
   "name": "python3"
  },
  "language_info": {
   "codemirror_mode": {
    "name": "ipython",
    "version": 3
   },
   "file_extension": ".py",
   "mimetype": "text/x-python",
   "name": "python",
   "nbconvert_exporter": "python",
   "pygments_lexer": "ipython3",
   "version": "3.8.13"
  }
 },
 "nbformat": 4,
 "nbformat_minor": 5
}
