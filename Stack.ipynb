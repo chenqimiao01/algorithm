{
 "cells": [
  {
   "cell_type": "markdown",
   "id": "e7f9afa5-9423-403b-b691-38debc9be5ca",
   "metadata": {
    "jp-MarkdownHeadingCollapsed": true,
    "tags": []
   },
   "source": [
    "## 实现"
   ]
  },
  {
   "cell_type": "code",
   "execution_count": null,
   "id": "d99b57a6-a487-41aa-8d67-39d1e536594f",
   "metadata": {},
   "outputs": [],
   "source": [
    "class Stack:\n",
    "    \n",
    "    def __init__(self):\n",
    "        self._s = []\n",
    "    \n",
    "    def push(self, item):\n",
    "        self._s.append(item)\n",
    "    \n",
    "    def pop(self):\n",
    "        if self.empty():\n",
    "            raise Exception('stack is empty.')\n",
    "        return self._s.pop()\n",
    "    \n",
    "    def empty(self):\n",
    "        return len(self._s) == 0\n",
    "    \n",
    "    def __str__(self):\n",
    "        return str(self._s)"
   ]
  },
  {
   "cell_type": "markdown",
   "id": "de9550ef-b444-4b7b-9fad-cf570997a008",
   "metadata": {},
   "source": [
    "## 单调栈"
   ]
  },
  {
   "cell_type": "code",
   "execution_count": null,
   "id": "01a29447-3e26-44e3-a855-ce23f5b50adc",
   "metadata": {},
   "outputs": [],
   "source": []
  }
 ],
 "metadata": {
  "kernelspec": {
   "display_name": "Python 3 (ipykernel)",
   "language": "python",
   "name": "python3"
  },
  "language_info": {
   "codemirror_mode": {
    "name": "ipython",
    "version": 3
   },
   "file_extension": ".py",
   "mimetype": "text/x-python",
   "name": "python",
   "nbconvert_exporter": "python",
   "pygments_lexer": "ipython3",
   "version": "3.8.13"
  }
 },
 "nbformat": 4,
 "nbformat_minor": 5
}
