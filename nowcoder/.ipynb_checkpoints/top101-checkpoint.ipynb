{
 "cells": [
  {
   "cell_type": "markdown",
   "id": "26b2b5e8-c919-4c71-b6db-a7a97be44f90",
   "metadata": {
    "jp-MarkdownHeadingCollapsed": true,
    "tags": []
   },
   "source": [
    "# 链表"
   ]
  },
  {
   "cell_type": "markdown",
   "id": "03cc477a-83d9-489f-a618-287f49e5ecaf",
   "metadata": {},
   "source": [
    "### 1.反转链表"
   ]
  },
  {
   "cell_type": "code",
   "execution_count": null,
   "id": "40642cda-7fe6-4a5d-86c2-d872a3f4c194",
   "metadata": {},
   "outputs": [],
   "source": [
    "class Solution:\n",
    "    def ReverseList(self , head: ListNode) -> ListNode:\n",
    "        result = None\n",
    "        while head:\n",
    "            temp = head.next\n",
    "            head.next = result\n",
    "            result = head\n",
    "            head = temp\n",
    "        return result"
   ]
  },
  {
   "cell_type": "markdown",
   "id": "b8509c16-cadc-4203-b1fa-817ffd172722",
   "metadata": {},
   "source": [
    "### 2.链表内指定区间反转"
   ]
  },
  {
   "cell_type": "code",
   "execution_count": null,
   "id": "31baea81-42a5-4dc1-a548-624db507c2c3",
   "metadata": {},
   "outputs": [],
   "source": [
    "class Solution:\n",
    " \n",
    "    def reverseBetween(self , head: ListNode, m: int, n: int) -> ListNode:\n",
    "        res = ListNode(-1)\n",
    "        res.next = head\n",
    "        cur = head\n",
    "        pre = res\n",
    "        for _ in range(1, m):\n",
    "            pre = pre.next\n",
    "            cur = cur.next\n",
    "        for _ in range(m, n):\n",
    "            temp = cur.next\n",
    "            cur.next = temp.next\n",
    "            temp.next = pre.next\n",
    "            pre.next = temp\n",
    "        return res.next"
   ]
  },
  {
   "cell_type": "markdown",
   "id": "faadca10-a9f4-481d-82a4-23f93af76176",
   "metadata": {},
   "source": [
    "### 3.链表中的结点每 k 个一组反转"
   ]
  },
  {
   "cell_type": "code",
   "execution_count": null,
   "id": "bc0dadf7-03e7-4243-a887-f706b58a1610",
   "metadata": {},
   "outputs": [],
   "source": [
    "class Solution:\n",
    "    def reverseKGroup(self , head: ListNode, k: int) -> ListNode:\n",
    "        tail = head\n",
    "        for idx in range(k):\n",
    "            if tail == None:\n",
    "                return head\n",
    "            tail = tail.next\n",
    "        pre = None\n",
    "        cur = head\n",
    "        while cur != tail:\n",
    "            temp = cur.next\n",
    "            cur.next = pre\n",
    "            pre = cur\n",
    "            cur = temp\n",
    "        head.next = self.reverseKGroup(tail, k)\n",
    "        return pre"
   ]
  },
  {
   "cell_type": "markdown",
   "id": "e9a46e38-5e23-4780-8d5b-db0f944a9b19",
   "metadata": {},
   "source": [
    "### 4.合并两个有序链表"
   ]
  },
  {
   "cell_type": "code",
   "execution_count": null,
   "id": "bbc7fe31-6511-4ceb-be89-2013be19dae9",
   "metadata": {},
   "outputs": [],
   "source": [
    "class Solution:\n",
    "    def Merge(self , pHead1: ListNode, pHead2: ListNode) -> ListNode:\n",
    "        result = ListNode(None)\n",
    "        current = result\n",
    "        while pHead1 and pHead2:\n",
    "            if pHead1.val > pHead2.val:\n",
    "                current.next = pHead2\n",
    "                pHead2 = pHead2.next\n",
    "            else:\n",
    "                current.next = pHead1\n",
    "                pHead1 = pHead1.next\n",
    "            current = current.next\n",
    "        current.next = pHead1 if pHead1 else pHead2\n",
    "        return result.next"
   ]
  },
  {
   "cell_type": "markdown",
   "id": "832b9cbb-fe41-49f4-8c09-324c0d72ad4c",
   "metadata": {},
   "source": [
    "### 5.合并 K 个已排序的链表"
   ]
  },
  {
   "cell_type": "code",
   "execution_count": null,
   "id": "bf34b90f-1b34-4eca-9df0-4c69cebe9649",
   "metadata": {},
   "outputs": [],
   "source": [
    "class Solution:\n",
    " \n",
    "    def mergeKLists(self , lists: List[ListNode]) -> ListNode:\n",
    "        def Merge(pHead1: ListNode, pHead2: ListNode) -> ListNode:\n",
    "            if pHead1 == None:\n",
    "                return pHead2\n",
    "            if pHead2 == None:\n",
    "                return pHead1\n",
    "            res = ListNode(-1)\n",
    "            cur = res\n",
    "            while pHead2 and pHead1:\n",
    "                if pHead1.val > pHead2.val:\n",
    "                    cur.next = pHead2\n",
    "                    pHead2 = pHead2.next\n",
    "                else:\n",
    "                    cur.next = pHead1\n",
    "                    pHead1 = pHead1.next\n",
    "                cur = cur.next\n",
    "            if pHead1 == None:\n",
    "                cur.next = pHead2\n",
    "            else:\n",
    "                cur.next = pHead1\n",
    "            return res.next\n",
    " \n",
    "        def devideMerge(left, right):\n",
    "            if left > right:\n",
    "                return None\n",
    "            elif left == right:\n",
    "                return lists[left]\n",
    "            else:\n",
    "                mid = (right + left) // 2\n",
    "                return Merge(devideMerge(left, mid),\n",
    "                devideMerge((mid + 1), right))\n",
    "         \n",
    "        return devideMerge(0, len(lists) - 1)"
   ]
  },
  {
   "cell_type": "markdown",
   "id": "3da72b1e-e138-4150-9a98-24d10b39679b",
   "metadata": {},
   "source": [
    "### 6.判断链表中是否有环"
   ]
  },
  {
   "cell_type": "code",
   "execution_count": null,
   "id": "4e10526e-9615-4e16-84e3-8dbfc71f0f25",
   "metadata": {},
   "outputs": [],
   "source": [
    "class Solution:\n",
    "    def hasCycle(self , head: ListNode) -> bool:\n",
    "        slow, fast = head, head\n",
    "        while fast and fast.next:\n",
    "            slow = slow.next\n",
    "            fast = fast.next.next\n",
    "            if slow == fast:\n",
    "                return True\n",
    "        return False"
   ]
  },
  {
   "cell_type": "markdown",
   "id": "d72dbfd1-99a0-49d1-bda0-b5c05a43c1bc",
   "metadata": {},
   "source": [
    "### 7.链表中环的入口结点"
   ]
  },
  {
   "cell_type": "code",
   "execution_count": null,
   "id": "1906e336-5079-4307-87fb-07f5e6626d91",
   "metadata": {},
   "outputs": [],
   "source": [
    "class Solution:\n",
    "    def EntryNodeOfLoop(self, pHead):\n",
    "        slow, fast = pHead, pHead\n",
    "        while fast and fast.next:\n",
    "            slow = slow.next\n",
    "            fast = fast.next.next\n",
    "            if slow == fast:\n",
    "                slow = pHead\n",
    "                while slow != fast:\n",
    "                    slow = slow.next\n",
    "                    fast = fast.next\n",
    "                return slow\n",
    "        return None"
   ]
  },
  {
   "cell_type": "markdown",
   "id": "da1de9fd-a107-4cb4-bbce-5a0e2d6a67cb",
   "metadata": {},
   "source": [
    "### 8.链表中倒数最后 k 个结点"
   ]
  },
  {
   "cell_type": "code",
   "execution_count": null,
   "id": "6f526e7f-67d5-424e-8025-7955dc6e7925",
   "metadata": {},
   "outputs": [],
   "source": [
    "class Solution:\n",
    "    def FindKthToTail(self , pHead: ListNode, k: int) -> ListNode:\n",
    "        length = 0\n",
    "        current = pHead\n",
    "        while current:\n",
    "            current = current.next\n",
    "            length += 1\n",
    "        if k > length:\n",
    "            return None\n",
    "        # 找到倒数第 k 个结点\n",
    "        for i in range(length - k):\n",
    "            pHead = pHead.next\n",
    "        return pHead"
   ]
  },
  {
   "cell_type": "markdown",
   "id": "85f8969f-6007-408f-81d9-0d4541d1b265",
   "metadata": {},
   "source": [
    "### 9.删除链表的倒数第 n 个结点"
   ]
  },
  {
   "cell_type": "code",
   "execution_count": null,
   "id": "9015e4e8-8728-4d2a-ac02-3f5b255afd9a",
   "metadata": {},
   "outputs": [],
   "source": [
    "class Solution:\n",
    "    def removeNthFromEnd(self , head: ListNode, n: int) -> ListNode:\n",
    "        prev = ListNode(None)\n",
    "        prev.next = head\n",
    "        result = prev\n",
    "        def length(head):\n",
    "            _length = 0\n",
    "            while head:\n",
    "                _length += 1\n",
    "                head = head.next\n",
    "            return _length\n",
    "        length_ = length(head)\n",
    "        # 找到倒数第 n 个结点的前驱结点\n",
    "        for i in range(length_ - n):\n",
    "            prev = prev.next\n",
    "        # 删除倒数第 n 个结点\n",
    "        prev.next = prev.next.next\n",
    "        return result.next"
   ]
  },
  {
   "cell_type": "markdown",
   "id": "d7934977-9e36-4787-ae51-598a01c484f9",
   "metadata": {},
   "source": [
    "### 10.两个链表的第一个公共结点"
   ]
  },
  {
   "cell_type": "code",
   "execution_count": null,
   "id": "69569a0e-b972-4334-b26a-5c54f559204d",
   "metadata": {},
   "outputs": [],
   "source": [
    "class Solution:\n",
    "    def FindFirstCommonNode(self , pHead1 , pHead2 ):\n",
    "        # 统计链表的长度\n",
    "        def length(head):\n",
    "            _length = 0\n",
    "            while head:\n",
    "                _length += 1\n",
    "                head = head.next\n",
    "            return _length\n",
    "        length1 = length(pHead1)\n",
    "        length2 = length(pHead2)\n",
    "        if length1 > length2:\n",
    "            # 先让第一个链表走 length1 - length2 步\n",
    "            step = length1 - length2\n",
    "            while step != 0:\n",
    "                pHead1 = pHead1.next\n",
    "                step -= 1\n",
    "        else:\n",
    "            step = length2 - length1\n",
    "            while step != 0:\n",
    "                pHead2 = pHead2.next\n",
    "                step -= 1\n",
    "        # 同跨度一起走如果相等则表明是第一个公共结点\n",
    "        while pHead1 != pHead2:\n",
    "            pHead2 = pHead2.next\n",
    "            pHead1 = pHead1.next\n",
    "        return pHead1"
   ]
  },
  {
   "cell_type": "markdown",
   "id": "0191ef17-cab4-4149-beaa-0b2b44fe9954",
   "metadata": {},
   "source": [
    "### 11.链表相加（二）"
   ]
  },
  {
   "cell_type": "code",
   "execution_count": null,
   "id": "ada968e4-5790-4347-9e99-4f12155242d3",
   "metadata": {},
   "outputs": [],
   "source": [
    "class Solution:\n",
    "    def addInList(self , head1: ListNode, head2: ListNode) -> ListNode:\n",
    "        def reverse(head):\n",
    "            result = None\n",
    "            while head:\n",
    "                temp = head.next\n",
    "                head.next = result\n",
    "                result = head\n",
    "                head = temp\n",
    "            return result\n",
    "        # 将链表翻转使得低位数据放在最高位\n",
    "        head1 = reverse(head1)\n",
    "        head2 = reverse(head2)\n",
    "        carry = 0\n",
    "        result = None\n",
    "        while head1 and head2:\n",
    "            _sum = head1.val + head2.val + carry\n",
    "            carry = _sum // 10\n",
    "            _sum = _sum % 10\n",
    "            new_node = ListNode(_sum)\n",
    "            new_node.next = result\n",
    "            result = new_node\n",
    "            head1 = head1.next\n",
    "            head2 = head2.next\n",
    "        while head1:\n",
    "            _sum = head1.val + carry\n",
    "            carry = _sum // 10\n",
    "            _sum = _sum % 10\n",
    "            new_node = ListNode(_sum)\n",
    "            new_node.next = result\n",
    "            result = new_node\n",
    "            head1 = head1.next\n",
    "        while head2:\n",
    "            _sum = head2.val + carry\n",
    "            carry = _sum // 10\n",
    "            _sum = _sum % 10\n",
    "            new_node = ListNode(_sum)\n",
    "            new_node.next = result\n",
    "            result = new_node\n",
    "            head2 = head2.next\n",
    "        if carry:\n",
    "            new_node = ListNode(carry)\n",
    "            new_node.next = result\n",
    "            result = new_node\n",
    "        return result"
   ]
  },
  {
   "cell_type": "markdown",
   "id": "eb8f2549-8d79-4fff-9642-af40af7d2a81",
   "metadata": {},
   "source": [
    "### 12.单链表排序"
   ]
  },
  {
   "cell_type": "code",
   "execution_count": null,
   "id": "9ea05047-9b7c-4f58-9501-2827a0ed38f9",
   "metadata": {},
   "outputs": [],
   "source": [
    "class Solution:\n",
    "    def sortInList(self , head: ListNode) -> ListNode:\n",
    "        def merge(pHead1, pHead2):\n",
    "            result = ListNode(None)\n",
    "            current = result\n",
    "            while pHead1 and pHead2:\n",
    "                if pHead1.val > pHead2.val:\n",
    "                    current.next = pHead2\n",
    "                    pHead2 = pHead2.next\n",
    "                else:\n",
    "                    current.next = pHead1\n",
    "                    pHead1 = pHead1.next\n",
    "                current = current.next\n",
    "            current.next = pHead1 if pHead1 else pHead2\n",
    "            return result.next\n",
    "        def mergeSort(head):\n",
    "            if head.next == None or head == None:\n",
    "                return head\n",
    "            left, mid, right = head, head.next, head.next.next\n",
    "            # 找到链表的中点\n",
    "            while right and right.next:\n",
    "                left = left.next\n",
    "                mid = mid.next\n",
    "                right = right.next.next\n",
    "            left.next = None\n",
    "            return merge(mergeSort(head), mergeSort(mid))\n",
    "        return mergeSort(head)"
   ]
  },
  {
   "cell_type": "markdown",
   "id": "021cc3ba-a639-401d-b89e-166c0af26995",
   "metadata": {},
   "source": [
    "### 13.判断一个链表是否为回文结构"
   ]
  },
  {
   "cell_type": "code",
   "execution_count": null,
   "id": "4dbd9768-8323-4583-b2ee-14b2fc98cfdc",
   "metadata": {},
   "outputs": [],
   "source": [
    "class Solution:\n",
    "    def isPail(self , head: ListNode) -> bool:\n",
    "        def reverse(head):\n",
    "            result = None\n",
    "            while head:\n",
    "                temp = head.next\n",
    "                head.next = result\n",
    "                result = head\n",
    "                head = temp\n",
    "            return result\n",
    "        # 先找到链表的中点\n",
    "        slow, fast = head, head\n",
    "        while fast and fast.next:\n",
    "            fast = fast.next.next\n",
    "            slow = slow.next\n",
    "        # 将链表后半部分翻转\n",
    "        tail = reverse(slow)\n",
    "        while tail:\n",
    "            if tail.val != head.val:\n",
    "                return False\n",
    "            tail = tail.next\n",
    "            head = head.next\n",
    "        return True"
   ]
  },
  {
   "cell_type": "markdown",
   "id": "bce220a0-f403-4e07-a8e7-98d5eac536c3",
   "metadata": {},
   "source": [
    "### 14.链表的奇偶重排"
   ]
  },
  {
   "cell_type": "code",
   "execution_count": null,
   "id": "32845025-54a2-4f37-a4ea-dc1fff312e83",
   "metadata": {},
   "outputs": [],
   "source": [
    "class Solution:\n",
    "    def oddEvenList(self , head: ListNode) -> ListNode:\n",
    "        if head == None:\n",
    "            return head\n",
    "        odd = head\n",
    "        even = head.next\n",
    "        even_ = even\n",
    "        while even and even.next:\n",
    "            odd.next = even.next\n",
    "            odd = odd.next\n",
    "            even.next = odd.next\n",
    "            even = even.next\n",
    "        odd.next = even_\n",
    "        return head"
   ]
  },
  {
   "cell_type": "markdown",
   "id": "72c14782-004a-4d7d-87aa-8e6d37d79855",
   "metadata": {},
   "source": [
    "### 15.删除有序链表中重复的元素-Ⅰ"
   ]
  },
  {
   "cell_type": "code",
   "execution_count": null,
   "id": "655ccb9a-a15b-4c8a-8a5c-06908390d1a5",
   "metadata": {},
   "outputs": [],
   "source": [
    "class Solution:\n",
    "    def deleteDuplicates(self , head: ListNode) -> ListNode:\n",
    "        current = head\n",
    "        while current:\n",
    "            tail = current.next\n",
    "            while tail and tail.val == current.val:\n",
    "                current.next = tail.next\n",
    "                tail = tail.next\n",
    "            current = current.next\n",
    "        return head"
   ]
  },
  {
   "cell_type": "markdown",
   "id": "e3762b4b-01c4-4e12-9c99-7c99aba0f520",
   "metadata": {},
   "source": [
    "### 16.删除有序链表中重复的元素-Ⅱ"
   ]
  },
  {
   "cell_type": "code",
   "execution_count": null,
   "id": "5279b3b4-9a5b-4403-9ce9-93f5b2b88bce",
   "metadata": {},
   "outputs": [],
   "source": [
    "class Solution:\n",
    "    def deleteDuplicates(self , head: ListNode) -> ListNode:\n",
    "        HashMap = {}\n",
    "        current = head\n",
    "        # 使用哈希表记录每个值出现的次数\n",
    "        while current:\n",
    "            if HashMap.get(current.val) == None:\n",
    "                HashMap[current.val] = 1\n",
    "            else:\n",
    "                HashMap[current.val] += 1\n",
    "            current = current.next\n",
    "        current = head\n",
    "        prev = ListNode(None)\n",
    "        prev.next = head\n",
    "        result = prev\n",
    "        while current:\n",
    "            # 如果当前值不止出现一次就将当前值从链表中删除\n",
    "            if HashMap.get(current.val) > 1:\n",
    "                prev.next = current.next\n",
    "            else:\n",
    "                # 不然的话将前驱结点指针指向当前\n",
    "                prev = current\n",
    "            current = current.next\n",
    "        return result.next"
   ]
  },
  {
   "cell_type": "markdown",
   "id": "78ebbad4-0c6f-470b-ab8c-33e01e9d4d6c",
   "metadata": {
    "jp-MarkdownHeadingCollapsed": true,
    "tags": []
   },
   "source": [
    "# 二分查找/排序"
   ]
  },
  {
   "cell_type": "markdown",
   "id": "1eb90c95-7739-4a3a-8d6b-4b05763edeed",
   "metadata": {
    "tags": []
   },
   "source": [
    "### 17.二分查找-Ⅰ"
   ]
  },
  {
   "cell_type": "code",
   "execution_count": null,
   "id": "ffcf7c46-3a0d-4961-ae68-ef7e4c2e9a1e",
   "metadata": {},
   "outputs": [],
   "source": [
    "class Solution:\n",
    "    def search(self , nums: List[int], target: int) -> int:\n",
    "        lo, hi = 0, len(nums) - 1\n",
    "        while lo <= hi:\n",
    "            mid = (lo + hi) // 2\n",
    "            if nums[mid] == target:\n",
    "                return mid\n",
    "            elif target > nums[mid]:\n",
    "                lo = mid + 1\n",
    "            else:\n",
    "                hi = mid - 1\n",
    "        return -1"
   ]
  },
  {
   "cell_type": "markdown",
   "id": "2e4869be-a0e5-48d8-a3a2-de3b7791007e",
   "metadata": {},
   "source": [
    "### 18.二维数组中的查找"
   ]
  },
  {
   "cell_type": "code",
   "execution_count": null,
   "id": "995df5b3-52b4-477c-81b8-e8a1956426bb",
   "metadata": {},
   "outputs": [],
   "source": [
    "class Solution:\n",
    "    def Find(self , target: int, array: List[List[int]]) -> bool:\n",
    "        row, col = 0, len(array[0]) - 1\n",
    "        # 从右上角往左下角查找\n",
    "        while col >= 0 and row <= len(array) - 1:\n",
    "            if array[row][col] == target:\n",
    "                return True\n",
    "            elif array[row][col] > target:\n",
    "                col -= 1\n",
    "            else:\n",
    "                row += 1\n",
    "        return False"
   ]
  },
  {
   "cell_type": "markdown",
   "id": "64a88d2c-07db-4f3a-beb3-a536bd6e107f",
   "metadata": {},
   "source": [
    "### 19.寻找峰值"
   ]
  },
  {
   "cell_type": "code",
   "execution_count": null,
   "id": "6fbced38-0e2e-4d53-ad78-6481e8749a50",
   "metadata": {},
   "outputs": [],
   "source": []
  },
  {
   "cell_type": "markdown",
   "id": "1d09c3de-843f-4389-9732-6043d463e35d",
   "metadata": {},
   "source": [
    "### 20.数组中的逆序对"
   ]
  },
  {
   "cell_type": "code",
   "execution_count": null,
   "id": "9d499ea4-915c-4a20-849b-af1604c8eded",
   "metadata": {},
   "outputs": [],
   "source": []
  },
  {
   "cell_type": "markdown",
   "id": "9e0b2467-98c4-472a-a894-0e838eb27bcb",
   "metadata": {},
   "source": [
    "### 21.旋转数组中的最小数字"
   ]
  },
  {
   "cell_type": "code",
   "execution_count": null,
   "id": "1990ada5-cad7-4218-8094-76fdc2ede0c8",
   "metadata": {},
   "outputs": [],
   "source": []
  },
  {
   "cell_type": "markdown",
   "id": "373650cf-912a-472e-8209-9ea64317d31b",
   "metadata": {},
   "source": [
    "### 22.比较版本号"
   ]
  },
  {
   "cell_type": "code",
   "execution_count": null,
   "id": "9255639c-4782-4983-bae4-4d8fda5a37ac",
   "metadata": {},
   "outputs": [],
   "source": []
  },
  {
   "cell_type": "markdown",
   "id": "2b600cb6-0dca-4e11-84a8-e651dfcd1452",
   "metadata": {
    "jp-MarkdownHeadingCollapsed": true,
    "tags": []
   },
   "source": [
    "# 二叉树"
   ]
  },
  {
   "cell_type": "markdown",
   "id": "79cccb2a-d215-44d3-93ae-e1404f98e50d",
   "metadata": {},
   "source": [
    "### 23.二叉树的前序遍历"
   ]
  },
  {
   "cell_type": "code",
   "execution_count": null,
   "id": "62b9f03a-822c-4d6c-893e-19c3764befb8",
   "metadata": {},
   "outputs": [],
   "source": [
    "class Solution:\n",
    "    def preorderTraversal(self , root: TreeNode) -> List[int]:\n",
    "        result = []\n",
    "        def _preorderTraversal(root):\n",
    "            # 根左右\n",
    "            nonlocal result\n",
    "            if root == None:\n",
    "                return\n",
    "            result.append(root.val)\n",
    "            _preorderTraversal(root.left)\n",
    "            _preorderTraversal(root.right)\n",
    "            return\n",
    "        _preorderTraversal(root)\n",
    "        return result"
   ]
  },
  {
   "cell_type": "markdown",
   "id": "ed421f8d-3645-49fa-a095-4b342d44096e",
   "metadata": {},
   "source": [
    "### 24.二叉树的中序遍历"
   ]
  },
  {
   "cell_type": "code",
   "execution_count": null,
   "id": "ccdef962-f2b2-445f-a17e-9796b122564e",
   "metadata": {},
   "outputs": [],
   "source": [
    "class Solution:\n",
    "    def inorderTraversal(self , root: TreeNode) -> List[int]:\n",
    "        # 左根右\n",
    "        result = []\n",
    "        def _inorderTraversal(root):\n",
    "            nonlocal result\n",
    "            if root == None:\n",
    "                return\n",
    "            _inorderTraversal(root.left)\n",
    "            result.append(root.val)\n",
    "            _inorderTraversal(root.right)\n",
    "        _inorderTraversal(root)\n",
    "        return result"
   ]
  },
  {
   "cell_type": "markdown",
   "id": "e5885e4e-d754-4d82-9db2-ad107b3d4a2f",
   "metadata": {},
   "source": [
    "### 25.二叉树的后序遍历"
   ]
  },
  {
   "cell_type": "code",
   "execution_count": null,
   "id": "348f2efc-6951-4246-ae45-46649480ad2f",
   "metadata": {},
   "outputs": [],
   "source": [
    "class Solution:\n",
    "    def postorderTraversal(self , root: TreeNode) -> List[int]:\n",
    "        # 左右根\n",
    "        result = []\n",
    "        def _postorderTraversal(root):\n",
    "            nonlocal result\n",
    "            if root == None:\n",
    "                return\n",
    "            _postorderTraversal(root.left)\n",
    "            _postorderTraversal(root.right)\n",
    "            result.append(root.val)\n",
    "        _postorderTraversal(root)\n",
    "        return result"
   ]
  },
  {
   "cell_type": "markdown",
   "id": "9209ec41-5b61-4e3e-8d24-624e595e07a7",
   "metadata": {},
   "source": [
    "### 26.求二叉树的层序遍历"
   ]
  },
  {
   "cell_type": "code",
   "execution_count": null,
   "id": "1198075b-4b5a-4c7d-9dc1-0efe6413e39d",
   "metadata": {},
   "outputs": [],
   "source": [
    "class Solution:\n",
    "    def levelOrder(self , root: TreeNode) -> List[List[int]]:\n",
    "        import collections\n",
    "        deque = collections.deque()\n",
    "        if root == None:\n",
    "            return list()\n",
    "        deque.append(root)\n",
    "        results = []\n",
    "        while deque:\n",
    "            size = len(deque)\n",
    "            result = []\n",
    "            for i in range(size):\n",
    "                temp = deque.popleft()\n",
    "                if temp.left:\n",
    "                    deque.append(temp.left)\n",
    "                if temp.right:\n",
    "                    deque.append(temp.right)\n",
    "                result.append(temp.val)\n",
    "            results.append(result)\n",
    "        return results"
   ]
  },
  {
   "cell_type": "markdown",
   "id": "85ed4d15-753b-433b-81f2-b0a2617ac6c2",
   "metadata": {},
   "source": [
    "### 27.按之字形顺序打印二叉树"
   ]
  },
  {
   "cell_type": "code",
   "execution_count": null,
   "id": "d4873c54-1146-4b39-8653-6587658b3447",
   "metadata": {},
   "outputs": [],
   "source": [
    "class Solution:\n",
    "    def Print(self , pRoot: TreeNode) -> List[List[int]]:\n",
    "        # 层序遍历隔行翻转\n",
    "        import collections\n",
    "        deque = collections.deque()\n",
    "        if pRoot == None:\n",
    "            return list()\n",
    "        deque.append(pRoot)\n",
    "        results = []\n",
    "        toggle = False\n",
    "        while deque:\n",
    "            size = len(deque)\n",
    "            result = []\n",
    "            for i in range(size):\n",
    "                temp = deque.popleft()\n",
    "                if temp.left:\n",
    "                    deque.append(temp.left)\n",
    "                if temp.right:\n",
    "                    deque.append(temp.right)\n",
    "                result.append(temp.val)\n",
    "            if toggle:\n",
    "                result.reverse()\n",
    "            toggle = not toggle\n",
    "            results.append(result)\n",
    "        return results"
   ]
  },
  {
   "cell_type": "markdown",
   "id": "27dea1cc-eaf8-477d-984a-04f1c5d55242",
   "metadata": {},
   "source": [
    "### 28.二叉树的最大深度"
   ]
  },
  {
   "cell_type": "code",
   "execution_count": null,
   "id": "a1e8c7a5-d07c-4172-9c7c-92f6cb4135e1",
   "metadata": {},
   "outputs": [],
   "source": [
    "class Solution:\n",
    "    def maxDepth(self , root: TreeNode) -> int:\n",
    "        def _depth(root):\n",
    "            if root == None:\n",
    "                return 0\n",
    "            return max(_depth(root.left), _depth(root.right)) + 1\n",
    "        return _depth(root)"
   ]
  },
  {
   "cell_type": "markdown",
   "id": "ee46fea3-e6ad-48e4-b2a1-a7f3b0a43f50",
   "metadata": {},
   "source": [
    "### 29.二叉树中和为某一值的路径（一）"
   ]
  },
  {
   "cell_type": "code",
   "execution_count": null,
   "id": "a650f93a-ac31-43f6-bbee-79762051c18a",
   "metadata": {},
   "outputs": [],
   "source": [
    "class Solution:\n",
    "    def hasPathSum(self , root: TreeNode, _sum: int) -> bool:\n",
    "        def _hasPathSum(root, _sum):\n",
    "            if root == None:\n",
    "                return False\n",
    "            _sum -= root.val\n",
    "            # 如果当前结点是叶子并且和是零则证明存在一条路径\n",
    "            if _sum == 0 and root.left == None and root.right == None:\n",
    "                return True\n",
    "            return _hasPathSum(root.left, _sum) or _hasPathSum(root.right, _sum)\n",
    "        return _hasPathSum(root, _sum)"
   ]
  },
  {
   "cell_type": "markdown",
   "id": "bcd25772-5373-41da-88bf-76526617e2e4",
   "metadata": {},
   "source": [
    "### 30.二叉搜索树与双向链表"
   ]
  },
  {
   "cell_type": "code",
   "execution_count": null,
   "id": "e747366a-2726-4030-973a-d2331d3d16e8",
   "metadata": {},
   "outputs": [],
   "source": [
    "class Solution:\n",
    "    def Convert(self , pRootOfTree ):\n",
    "        # write code here\n",
    "        result = []\n",
    "        def inorderTraversal(root):\n",
    "            nonlocal result\n",
    "            if root == None:\n",
    "                return\n",
    "            inorderTraversal(root.left)\n",
    "            result.append(root)\n",
    "            inorderTraversal(root.right)\n",
    "        inorderTraversal(pRootOfTree)\n",
    "        if len(result) == 0:\n",
    "            return None\n",
    "        prev = result[0]\n",
    "        for i in range(1, len(result)):\n",
    "            prev.right = result[i]\n",
    "            result[i].left = prev\n",
    "            prev = result[i]\n",
    "        return result[0]"
   ]
  },
  {
   "cell_type": "markdown",
   "id": "7a9b4857-3086-4b43-8ab3-be7eb90c6064",
   "metadata": {},
   "source": [
    "### 31.对称的二叉树"
   ]
  },
  {
   "cell_type": "code",
   "execution_count": null,
   "id": "992b2a55-3bf1-4bd6-b02f-9fa18c6787f2",
   "metadata": {},
   "outputs": [],
   "source": [
    "class Solution:\n",
    "    def isSymmetrical(self , pRoot: TreeNode) -> bool:\n",
    "        def _isSymmetrical(root1, root2):\n",
    "            # 同时为空是对称的\n",
    "            if root1 == None and root2 == None:\n",
    "                return True\n",
    "            # 一棵树为空另一棵树不为空是非对称的\n",
    "            # 两棵树的值不相等也是非对称的\n",
    "            if root1 == None or root2 == None or root1.val != root2.val:\n",
    "                return False\n",
    "            return _isSymmetrical(root1.left, root2.right) and _isSymmetrical(root1.right, root2.left)\n",
    "        return _isSymmetrical(pRoot, pRoot)"
   ]
  },
  {
   "cell_type": "markdown",
   "id": "bec025c8-4072-4997-8836-6e5d13d91be2",
   "metadata": {},
   "source": [
    "### 32.合并二叉树"
   ]
  },
  {
   "cell_type": "code",
   "execution_count": null,
   "id": "e8bf5d36-6d6b-4f6f-9ec1-f936dda2a382",
   "metadata": {},
   "outputs": [],
   "source": [
    "class Solution:\n",
    "    def mergeTrees(self , t1: TreeNode, t2: TreeNode) -> TreeNode:\n",
    "        # write code here\n",
    "        def _mergeTrees(root1, root2):\n",
    "            if root1 == None:\n",
    "                return root2\n",
    "            elif root2 == None:\n",
    "                return root1\n",
    "            else:\n",
    "                head = TreeNode(root1.val + root2.val)\n",
    "                head.left = _mergeTrees(root1.left, root2.left)\n",
    "                head.right = _mergeTrees(root1.right, root2.right)\n",
    "                return head\n",
    "        return recursion(t1, t2)"
   ]
  },
  {
   "cell_type": "markdown",
   "id": "85950ac8-5d46-40fa-a1fa-8c06f1ecca01",
   "metadata": {},
   "source": [
    "### 33.二叉树的镜像"
   ]
  },
  {
   "cell_type": "code",
   "execution_count": null,
   "id": "b969d84b-3672-4ed1-b245-cf921619ceb1",
   "metadata": {},
   "outputs": [],
   "source": [
    "class Solution:\n",
    "    def Mirror(self , pRoot: TreeNode) -> TreeNode:\n",
    "        def _Mirror(root):\n",
    "            if root == None:\n",
    "                return None\n",
    "            left = _Mirror(root.left)\n",
    "            right = _Mirror(root.right)\n",
    "            root.left, root.right = right, left\n",
    "            return root\n",
    "        return recursion(pRoot)"
   ]
  },
  {
   "cell_type": "markdown",
   "id": "25ca5e99-a63a-4a68-a3da-88a961eea8b7",
   "metadata": {},
   "source": [
    "### 34.判断是不是二叉搜索树"
   ]
  },
  {
   "cell_type": "code",
   "execution_count": null,
   "id": "0789f883-d2fb-49d4-bd97-ed48a3636b3b",
   "metadata": {},
   "outputs": [],
   "source": [
    "class Solution:\n",
    "    def isValidBST(self , root: TreeNode) -> bool:\n",
    "        # write code here\n",
    "        def inorderTraversal(root: TreeNode):\n",
    "            if root == None:\n",
    "                return\n",
    "            inorderTraversal(root.left)\n",
    "            nodes.append(root.val)\n",
    "            inorderTraversal(root.right)\n",
    "        if root == None:\n",
    "            return True\n",
    "        nodes = []\n",
    "        # 二叉搜索树的中序遍历结果是一个递增序列\n",
    "        inorderTraversal(root)\n",
    "        cur = nodes[0]\n",
    "        for i in range(len(nodes)):\n",
    "            if nodes[i] < cur:\n",
    "                return False\n",
    "            cur = nodes[i]\n",
    "        return True"
   ]
  },
  {
   "cell_type": "markdown",
   "id": "88a035f3-ea67-409a-b5a5-c381bd84c4d5",
   "metadata": {},
   "source": [
    "### 35.判断是不是完全二叉树"
   ]
  },
  {
   "cell_type": "code",
   "execution_count": null,
   "id": "e0d1eb87-f72d-4104-82be-29c35dac261d",
   "metadata": {},
   "outputs": [],
   "source": [
    "class Solution:\n",
    "    def isCompleteTree(self , root: TreeNode) -> bool:\n",
    "        import collections\n",
    "        if root == None:\n",
    "            return True\n",
    "        deque = collections.deque()\n",
    "        deque.append(root)\n",
    "        flag = False\n",
    "        # 层序遍历二叉树\n",
    "        while deque:\n",
    "            size = len(deque)\n",
    "            for _ in range(size):\n",
    "                curr = deque.popleft()\n",
    "                # 空结点之后还有结点就不可能是完全二叉树\n",
    "                if curr == None:\n",
    "                    flag = True\n",
    "                else:\n",
    "                    if flag:\n",
    "                        return False\n",
    "                    deque.append(curr.left)\n",
    "                    deque.append(curr.right)\n",
    "        return True"
   ]
  },
  {
   "cell_type": "markdown",
   "id": "0060f5f6-f24e-48b1-8b9f-cc23eaf923fa",
   "metadata": {},
   "source": [
    "### 36.判断是不是平衡二叉树"
   ]
  },
  {
   "cell_type": "code",
   "execution_count": null,
   "id": "6ad97a8d-0a5c-4c0c-963c-e7af8c382251",
   "metadata": {},
   "outputs": [],
   "source": [
    "class Solution:\n",
    "    def IsBalanced_Solution(self , pRoot: TreeNode) -> bool:\n",
    "        # write code here\n",
    "        def height(root):\n",
    "            if root == None:\n",
    "                return 0\n",
    "            # 二叉树的高等于左子树和右子树的最大高度加 1\n",
    "            return max(height(root.left), height(root.right)) + 1\n",
    "        # 平衡二叉树的高度差小于等于 1\n",
    "        def recursion(root):\n",
    "            if root == None:\n",
    "                return True\n",
    "            if abs(height(root.left) - height(root.right)) > 1:\n",
    "                return False\n",
    "            return recursion(root.left) and recursion(root.right)\n",
    "        return recursion(pRoot)"
   ]
  },
  {
   "cell_type": "markdown",
   "id": "a10367ba-3c25-45d3-abc3-40dfdd298b96",
   "metadata": {},
   "source": [
    "### 37.二叉搜索树的最近公共祖先"
   ]
  },
  {
   "cell_type": "code",
   "execution_count": null,
   "id": "690df12a-174b-46ea-a3eb-4837bd57099f",
   "metadata": {},
   "outputs": [],
   "source": [
    "class Solution:\n",
    "    def lowestCommonAncestor(self , root: TreeNode, p: int, q: int) -> int:\n",
    "        # write code here\n",
    "        def _lowestCommonAncestor(root):\n",
    "            if root == None:\n",
    "                return -1\n",
    "            # 一大一小当前结点就是这两个结点的最近公共祖先\n",
    "            if (p >= root.val and q <= root.val) or (p <= root.val and q >= root.val):\n",
    "                return root.val\n",
    "            # 在左子树中找\n",
    "            elif (p < root.val and q < root.val):\n",
    "                return _lowestCommonAncestor(root.left)\n",
    "            # 在右子树中找\n",
    "            else:\n",
    "                return _lowestCommonAncestor(root.right)\n",
    "        return _lowestCommonAncestor(root)"
   ]
  },
  {
   "cell_type": "markdown",
   "id": "fb6d6dd9-d633-46dc-b6fa-524eb8b6fae5",
   "metadata": {},
   "source": [
    "### 38.在二叉树中找到两个结点的最近公共祖先"
   ]
  },
  {
   "cell_type": "code",
   "execution_count": null,
   "id": "4da65573-42e4-4605-b169-a5101e80f190",
   "metadata": {},
   "outputs": [],
   "source": [
    "class Solution:\n",
    "    def lowestCommonAncestor(self , root: TreeNode, o1: int, o2: int) -> int:\n",
    "        def _lowestCommonAncestor(root, o1, o2):\n",
    "            if not root or root.val == o1 or root.val == o2:\n",
    "                return root\n",
    "            left = _lowestCommonAncestor(root.left, o1, o2)\n",
    "            right = _lowestCommonAncestor(root.right, o1, o2)\n",
    "            if left and right:\n",
    "                return root\n",
    "            return left if left else right\n",
    "        result = _lowestCommonAncestor(root, o1, o2)\n",
    "        if result == None:\n",
    "            return -1\n",
    "        return result.val"
   ]
  },
  {
   "cell_type": "markdown",
   "id": "02647c94-b052-4a2a-bd85-ead49afd35f2",
   "metadata": {},
   "source": [
    "### 39.序列化二叉树"
   ]
  },
  {
   "cell_type": "code",
   "execution_count": null,
   "id": "9f254059-78b8-4679-b657-bff4b8e76cc4",
   "metadata": {},
   "outputs": [],
   "source": [
    "class Solution:\n",
    "    def Serialize(self, root):\n",
    "        # 先序遍历二叉树\n",
    "        def SerializeFunction(root):\n",
    "            if root == None:\n",
    "                # 空结点使用 # 符号来代替\n",
    "                vals.append('#')\n",
    "                return\n",
    "            vals.append(str(root.val))\n",
    "            vals.append('!') # 结点与结点的分割符\n",
    "            SerializeFunction(root.left)\n",
    "            SerializeFunction(root.right)\n",
    "        vals = []\n",
    "        if root == None:\n",
    "            return '#'\n",
    "        SerializeFunction(root)\n",
    "        return ''.join(vals)\n",
    "\n",
    "    def Deserialize(self, s):\n",
    "        index = 0\n",
    "        def DeserializeFunction():\n",
    "            nonlocal index\n",
    "            if s[index] == '#':\n",
    "                index += 1\n",
    "                return None\n",
    "            val = 0\n",
    "            while s[index] != '!' and index < len(s):\n",
    "                val = val * 10 + (ord(s[index]) - ord('0'))\n",
    "                index = index + 1\n",
    "            root = TreeNode(val)\n",
    "            if index >= len(s):\n",
    "                return root\n",
    "            else:\n",
    "                index = index + 1\n",
    "            root.left = DeserializeFunction()\n",
    "            root.right = DeserializeFunction()\n",
    "            return root\n",
    "        if s == '#':\n",
    "            return None\n",
    "        return DeserializeFunction()"
   ]
  },
  {
   "cell_type": "markdown",
   "id": "57e235b0-c50d-4057-abeb-d8f7115a428a",
   "metadata": {},
   "source": [
    "### 40.重建二叉树"
   ]
  },
  {
   "cell_type": "code",
   "execution_count": null,
   "id": "477f021e-21c8-456c-a469-6932a80ba030",
   "metadata": {},
   "outputs": [],
   "source": [
    "class Solution:\n",
    "    def reConstructBinaryTree(self , pre: List[int], vin: List[int]) -> TreeNode:\n",
    "        def _reConstructBinaryTree(pre, vin):\n",
    "            if len(pre) == 0 or len(vin) == 0:\n",
    "                return None\n",
    "            root = TreeNode(pre[0])\n",
    "            for i in range(len(vin)):\n",
    "                # 找到根结点\n",
    "                if vin[i] == pre[0]:\n",
    "                    # 将中序遍历得到的结果分成左子树结点和右子树结点\n",
    "                    root.left = _reConstructBinaryTree(pre[1: i+1], vin[:i])\n",
    "                    root.right = _reConstructBinaryTree(pre[i+1:], vin[i+1:])\n",
    "                    break\n",
    "            return root\n",
    "        return _reConstructBinaryTree(pre, vin)"
   ]
  },
  {
   "cell_type": "markdown",
   "id": "b48c67d8-dfca-40b5-8b5c-588bcc6e1be6",
   "metadata": {},
   "source": [
    "### 41.输出二叉树的右视图"
   ]
  },
  {
   "cell_type": "code",
   "execution_count": null,
   "id": "2d26df4a-f5a6-427f-b786-deee166e3ec2",
   "metadata": {},
   "outputs": [],
   "source": [
    "class Solution:\n",
    "    def solve(self , xianxu: List[int], zhongxu: List[int]) -> List[int]:\n",
    "        # write code here\n",
    "        def reConstructBinaryTree(pre, vin):\n",
    "            n = len(pre)\n",
    "            m = len(vin)\n",
    "            if m == 0 or n == 0:\n",
    "                return None\n",
    "            root = TreeNode(pre[0])\n",
    "            for i in range(m):\n",
    "                if pre[0] == vin[i]:\n",
    "                    leftpre = pre[1: i + 1]\n",
    "                    leftvin = vin[:i]\n",
    "                    root.left = reConstructBinaryTree(leftpre, leftvin)\n",
    "                    rightpre = pre[i+1: n]\n",
    "                    rightvin = vin[i+1: m]\n",
    "                    root.right = reConstructBinaryTree(rightpre, rightvin)\n",
    "                    break\n",
    "            return root\n",
    "        def rightSideView(root):\n",
    "            import collections\n",
    "            res = []\n",
    "            queue = collections.deque()\n",
    "            queue.append(root)\n",
    "            while queue:\n",
    "                size = len(queue)\n",
    "                # 层序遍历二叉树\n",
    "                for i in range(size):\n",
    "                    temp = queue.popleft()\n",
    "                    if temp.left:\n",
    "                        queue.append(temp.left)\n",
    "                    if temp.right:\n",
    "                        queue.append(temp.right)\n",
    "                    # 判断当前结点是不是当前层的最后一个结点\n",
    "                    if i + 1 == size:\n",
    "                        res.append(temp.val)\n",
    "            return res\n",
    "        # 重构二叉树\n",
    "        root = reConstructBinaryTree(xianxu, zhongxu)\n",
    "        return rightSideView(root)"
   ]
  },
  {
   "cell_type": "markdown",
   "id": "56342203-cfed-462e-98ab-eb0d29990087",
   "metadata": {
    "tags": []
   },
   "source": [
    "# 堆/栈/队列"
   ]
  },
  {
   "cell_type": "markdown",
   "id": "83422c17-7e6b-4b7b-bbaa-57e5fbd65742",
   "metadata": {},
   "source": [
    "### 42.用两个栈实现队列"
   ]
  },
  {
   "cell_type": "code",
   "execution_count": null,
   "id": "17790931-bbe7-402f-987b-16be85d5c944",
   "metadata": {},
   "outputs": [],
   "source": [
    "class Solution:\n",
    "    def __init__(self):\n",
    "        self.stack1 = []\n",
    "        self.stack2 = []\n",
    "\n",
    "    def push(self, node):\n",
    "        self.stack1.append(node)\n",
    "\n",
    "    def pop(self):\n",
    "        if len(self.stack2) == 0:\n",
    "            while len(self.stack1):\n",
    "                self.stack2.append(self.stack1.pop())\n",
    "        return self.stack2.pop()"
   ]
  },
  {
   "cell_type": "markdown",
   "id": "f758bf2e-1eb5-4662-8f4c-844094283f5e",
   "metadata": {},
   "source": [
    "### 43.包含 min 函数的栈"
   ]
  },
  {
   "cell_type": "code",
   "execution_count": null,
   "id": "c7496993-0c90-42d9-9a3c-990b5b843243",
   "metadata": {},
   "outputs": [],
   "source": [
    "class Solution:\n",
    "    \n",
    "    def __init__(self) -> None:\n",
    "        self.s1 = []\n",
    "        self.s2 = []\n",
    "\n",
    "    def push(self, node):\n",
    "        self.s1.append(node)\n",
    "        if len(self.s2) == 0:\n",
    "            self.s2.append(node)\n",
    "        self.s2.append(min(self.s2[-1], node))\n",
    "\n",
    "    def pop(self):\n",
    "        self.s2.pop()\n",
    "        return self.s1.pop()\n",
    "\n",
    "    def top(self):\n",
    "        return self.s1[-1]\n",
    "\n",
    "    def min(self):\n",
    "        return self.s2[-1]"
   ]
  },
  {
   "cell_type": "markdown",
   "id": "148d7d09-8505-4c41-afa9-7389f5690cf5",
   "metadata": {},
   "source": [
    "### 44.有效括号序列"
   ]
  },
  {
   "cell_type": "code",
   "execution_count": null,
   "id": "03086013-765c-4e41-a5c9-af31abe9614a",
   "metadata": {},
   "outputs": [],
   "source": [
    "class Solution:\n",
    "    def isValid(self , s: str) -> bool:\n",
    "        stack = []\n",
    "        match = {'}': '{', ']': '[', ')': '('}\n",
    "        for c in s:\n",
    "            # 左括号就进栈\n",
    "            if c in '{([':\n",
    "                stack.append(c)\n",
    "            else:\n",
    "                # 如果栈是空的则不匹配\n",
    "                # 如果栈顶元素和当前的右括号不匹配则不匹配\n",
    "                if len(stack) == 0 or stack[-1] != match.get(c):\n",
    "                    return False\n",
    "                stack.pop()\n",
    "        return len(stack) == 0"
   ]
  },
  {
   "cell_type": "markdown",
   "id": "ea7a4f3f-68a8-4430-a2c3-36c325a93059",
   "metadata": {},
   "source": [
    "### 45.滑动窗口的最大值"
   ]
  },
  {
   "cell_type": "code",
   "execution_count": null,
   "id": "92b2da58-621d-45b2-9e24-b84729892233",
   "metadata": {},
   "outputs": [],
   "source": [
    "class Solution:\n",
    "    def maxInWindows(self , num: List[int], size: int) -> List[int]:\n",
    "        from collections import deque\n",
    "        res = []\n",
    "        if size > len(num) or size == 0:\n",
    "            return res\n",
    "        dq = deque()\n",
    "        for i in range(size):\n",
    "            while len(dq) != 0 and num[dq[-1]] < num[i]:\n",
    "                dq.pop()\n",
    "            dq.append(i)\n",
    "        for i in range(size, len(num)):\n",
    "            res.append(num[dq[0]])\n",
    "            while len(dq) != 0 and dq[0] < (i - size + 1):\n",
    "                dq.popleft()\n",
    "            while len(dq) != 0 and num[dq[-1]] < num[i]:\n",
    "                dq.pop()\n",
    "            dq.append(i)\n",
    "        res.append(num[dq[0]])\n",
    "        return res"
   ]
  },
  {
   "cell_type": "markdown",
   "id": "1c6c99a5-9173-45d6-86c1-107f94fbf2a8",
   "metadata": {},
   "source": [
    "### 46.最小的 K 个数"
   ]
  },
  {
   "cell_type": "code",
   "execution_count": null,
   "id": "9125fa07-2a7e-4354-a62a-3e8aca94d8e0",
   "metadata": {},
   "outputs": [],
   "source": [
    "class Solution:\n",
    "    def GetLeastNumbers_Solution(self , inputs: List[int], k: int) -> List[int]:\n",
    "        if k == 0:\n",
    "            return []\n",
    "        # 由于 python 实现的是小顶堆当对每个元素都取相反数时最小值就会变最大值\n",
    "        import heapq\n",
    "        inputs_ = [-inputs[i] for i in range(k)]\n",
    "        heapq.heapify(inputs_)\n",
    "        for i in range(k, len(inputs)):\n",
    "            # 堆顶元素小于 -input[i] 说明堆顶元素大于 input[i]\n",
    "            if inputs_[0] < -inputs[i]:\n",
    "                # 将堆顶元素弹出\n",
    "                heapq.heappop(inputs_)\n",
    "                # 将元素压入堆中\n",
    "                heapq.heappush(inputs_, -inputs[i])\n",
    "        result = [-inputs_[i] for i in range(len(inputs_))]\n",
    "        result.sort()\n",
    "        return result"
   ]
  },
  {
   "cell_type": "markdown",
   "id": "03907191-2370-46fb-a9fa-6ce58be7ac0f",
   "metadata": {},
   "source": [
    "### 47.寻找第 K 大"
   ]
  },
  {
   "cell_type": "code",
   "execution_count": null,
   "id": "bf7b01dd-d6e3-4dae-abe4-1f28cfd4a854",
   "metadata": {},
   "outputs": [],
   "source": [
    "class Solution:\n",
    "    def findKth(self , a: List[int], n: int, K: int) -> int:\n",
    "        a.sort()\n",
    "        return a[n - K]"
   ]
  },
  {
   "cell_type": "markdown",
   "id": "a3ea88cb-7377-41cd-b555-7ce8e80d7492",
   "metadata": {},
   "source": [
    "### 48.数据流中的中位数"
   ]
  },
  {
   "cell_type": "code",
   "execution_count": null,
   "id": "f41f0eb9-f9ff-44dd-b1f1-d8962bb845dd",
   "metadata": {},
   "outputs": [],
   "source": [
    "class Solution:\n",
    "    def __init__(self) -> None:\n",
    "        self.data = []\n",
    "\n",
    "    def Insert(self, num):\n",
    "        # write code here\n",
    "        self.data.append(num)\n",
    "    \n",
    "    def GetMedian(self):\n",
    "        self.data.sort()\n",
    "        if len(self.data) & 1:\n",
    "            return self.data[len(self.data) // 2]\n",
    "        return (self.data[len(self.data) // 2] + self.data[len(self.data) // 2 - 1]) / 2"
   ]
  },
  {
   "cell_type": "markdown",
   "id": "6ed454a2-5abd-468f-8d12-409a0fe2dc46",
   "metadata": {},
   "source": [
    "### 49.表达式求值"
   ]
  },
  {
   "cell_type": "code",
   "execution_count": null,
   "id": "f1fe1bb7-cbe3-4a31-aa65-817eb1389780",
   "metadata": {},
   "outputs": [],
   "source": [
    "class Solution:\n",
    "    def solve(self , s: str) -> int:\n",
    "        import string\n",
    "        def _solve(index, n):\n",
    "            stack = []\n",
    "            # 操作符\n",
    "            op = '+'\n",
    "            # 操作数\n",
    "            num = 0\n",
    "            while index < n:\n",
    "                # 如果当前字符是数字\n",
    "                if s[index] in string.digits:\n",
    "                    num = num * 10 + ord(s[index]) - ord('0')\n",
    "                if s[index] in '+-*':\n",
    "                    if op == '+':\n",
    "                        stack.append(num)\n",
    "                    elif op == '-':\n",
    "                        stack.append(-num)\n",
    "                    else:\n",
    "                        stack.append(stack.pop() * num)\n",
    "                    num = 0\n",
    "                    op = s[index]\n",
    "                # 出现在左括号前的符号必定是左括号或者操作符\n",
    "                if s[index] == '(':\n",
    "                    subproblem = _solve(index + 1, n)\n",
    "                    num = subproblem[0]\n",
    "                    index = subproblem[1]\n",
    "                    continue\n",
    "                if s[index] == ')':\n",
    "                    break\n",
    "                index += 1\n",
    "            if num != 0:\n",
    "                if op == '+':\n",
    "                    stack.append(num)\n",
    "                elif op == '-':\n",
    "                    stack.append(-num)\n",
    "                else:\n",
    "                    stack.append(stack.pop() * num)\n",
    "            return sum(stack), index + 1\n",
    "        return _solve(0, len(s))[0] "
   ]
  },
  {
   "cell_type": "markdown",
   "id": "c665e10a-302d-4c77-8e66-91f8a7c3643e",
   "metadata": {
    "jp-MarkdownHeadingCollapsed": true,
    "tags": []
   },
   "source": [
    "# 哈希"
   ]
  },
  {
   "cell_type": "markdown",
   "id": "38a67987-ea54-4a64-a0dd-0e4be62d3f4a",
   "metadata": {},
   "source": [
    "### 50.两数之和"
   ]
  },
  {
   "cell_type": "code",
   "execution_count": null,
   "id": "7c311f52-c550-4d13-95f6-f453d808389d",
   "metadata": {},
   "outputs": [],
   "source": [
    "class Solution:\n",
    "    def twoSum(self , numbers: List[int], target: int) -> List[int]:\n",
    "        HashMap = {}\n",
    "        for i in range(len(numbers)):\n",
    "            if HashMap.get(target - numbers[i]) == None:\n",
    "                HashMap[numbers[i]] = i\n",
    "            else:\n",
    "                return HashMap.get(target - numbers[i]) + 1, i + 1\n",
    "        return -1, -1"
   ]
  },
  {
   "cell_type": "markdown",
   "id": "30de98a7-b778-49e9-b5ee-8e71a8753e44",
   "metadata": {},
   "source": [
    "### 51.数组中出现次数超过一半的数字"
   ]
  },
  {
   "cell_type": "code",
   "execution_count": null,
   "id": "ebb5d99a-0095-4e4c-b628-9e1bd3bfa6b9",
   "metadata": {},
   "outputs": [],
   "source": [
    "class Solution:\n",
    "    def MoreThanHalfNum_Solution(self , numbers: List[int]) -> int:\n",
    "        if len(numbers) == 1:\n",
    "            return numbers[0]\n",
    "        HashMap = {}\n",
    "        for i in range(len(numbers)):\n",
    "            if HashMap.get(numbers[i]) == None:\n",
    "                HashMap[numbers[i]] = 1\n",
    "            else:\n",
    "                HashMap[numbers[i]] += 1\n",
    "                if HashMap[numbers[i]] > len(numbers) // 2:\n",
    "                    return numbers[i]\n",
    "        return 0"
   ]
  },
  {
   "cell_type": "markdown",
   "id": "f7e88787-1ff3-41b5-8642-d6e025880f0b",
   "metadata": {},
   "source": [
    "### 52.数组中只出现一次的两个数字"
   ]
  },
  {
   "cell_type": "code",
   "execution_count": null,
   "id": "dec6dd17-c951-4f4e-8040-36f7fa064f40",
   "metadata": {},
   "outputs": [],
   "source": [
    "class Solution:\n",
    "    def FindNumsAppearOnce(self , array: List[int]) -> List[int]:\n",
    "        xor = 0\n",
    "        for i in range(len(array)):\n",
    "            xor ^= array[i]\n",
    "        last = xor & (~xor + 1)\n",
    "        num1 = 0\n",
    "        for i in range(len(array)):\n",
    "            if array[i] & last:\n",
    "                num1 ^= array[i]\n",
    "        num2 = num1 ^ xor\n",
    "        return [num1, num2] if num1 < num2 else [num2, num1]"
   ]
  },
  {
   "cell_type": "markdown",
   "id": "172e1203-7565-4a78-bebf-22d7e9c5ca23",
   "metadata": {
    "tags": []
   },
   "source": [
    "### 53.缺失的第一个正整数"
   ]
  },
  {
   "cell_type": "code",
   "execution_count": null,
   "id": "e43c1900-7e5c-4961-be78-6477c4551d96",
   "metadata": {},
   "outputs": [],
   "source": [
    "class Solution:\n",
    "    def minNumberDisappeared(self , nums: List[int]) -> int:\n",
    "        HashMap = {}\n",
    "        for num in nums:\n",
    "            # 记录每个元素出现的次数\n",
    "            if HashMap.get(num) == None:\n",
    "                HashMap[num] = 1\n",
    "            else:\n",
    "                HashMap[num] += 1\n",
    "        n = 1\n",
    "        # 从 1 开始找如果当前的数在哈希表中没有记录则就是最小的正整数\n",
    "        while HashMap.get(n, 0):\n",
    "            n += 1\n",
    "        return n"
   ]
  },
  {
   "cell_type": "markdown",
   "id": "33ec161b-7a6f-4940-80e7-765cf55e4759",
   "metadata": {},
   "source": [
    "### 54.三数之和"
   ]
  },
  {
   "cell_type": "code",
   "execution_count": null,
   "id": "7251b97c-0ca4-4572-808b-194bd50aa555",
   "metadata": {},
   "outputs": [],
   "source": [
    "class Solution:\n",
    "    def threeSum(self , num: List[int]) -> List[List[int]]:\n",
    "        num.sort()\n",
    "        HashMap = {}\n",
    "        result = set()\n",
    "        for i in range(len(num)-2):\n",
    "            if i > 0 and num[i] == num[i-1]:\n",
    "                continue\n",
    "            HashMap.clear()\n",
    "            for j in range(i+1, len(num)):\n",
    "                if HashMap.get(num[j]) == None:\n",
    "                    HashMap[-(num[i] + num[j])] = i\n",
    "                else:\n",
    "                    result.add((num[i], -(num[i] + num[j]), num[j]))\n",
    "        result = list(map(list, result))\n",
    "        result.sort()\n",
    "        return result"
   ]
  },
  {
   "cell_type": "code",
   "execution_count": null,
   "id": "f8e7c1d8-9e48-44df-af39-df9179123988",
   "metadata": {},
   "outputs": [],
   "source": [
    "class Solution:\n",
    "    def threeSum(self , num: List[int]) -> List[List[int]]:\n",
    "        num.sort()\n",
    "        result = []\n",
    "        for i in range(len(num)-2):\n",
    "            if i > 0 and num[i] == num[i-1]:\n",
    "                continue\n",
    "            left, right = i + 1, len(num) - 1\n",
    "            while left < right:\n",
    "                if num[i] + num[left] + num[right] > 0:\n",
    "                    right -= 1\n",
    "                elif num[i] + num[left] + num[right] < 0:\n",
    "                    left += 1\n",
    "                else:\n",
    "                    result.append([num[i], num[left], num[right]])\n",
    "                    # 跳过右边相同的元素\n",
    "                    while left < right and num[right] == num[right - 1]:\n",
    "                        right -= 1\n",
    "                    # 跳过左边相同的元素\n",
    "                    while left < right and num[left] == num[left + 1]:\n",
    "                        left += 1\n",
    "                    left += 1\n",
    "                    right -= 1\n",
    "        return result"
   ]
  },
  {
   "cell_type": "markdown",
   "id": "f484b8c5-5dee-40e2-98ac-6e6d877cf3e6",
   "metadata": {
    "tags": []
   },
   "source": [
    "# 递归/回溯"
   ]
  },
  {
   "cell_type": "markdown",
   "id": "c8b78bc4-be94-4f60-875f-36cd3a40e6c9",
   "metadata": {},
   "source": [
    "### 55.没有重复项数字的全排列"
   ]
  },
  {
   "cell_type": "code",
   "execution_count": null,
   "id": "67fcfa04-4708-4463-b703-880961f9562d",
   "metadata": {},
   "outputs": [],
   "source": [
    "class Solution:\n",
    "    def permute(self , num: List[int]) -> List[List[int]]:\n",
    "        # 使用 python 自带库函数\n",
    "        import itertools\n",
    "        result = []\n",
    "        for permutation in itertools.permutations(num):\n",
    "            result.append(permutation)\n",
    "        return result"
   ]
  },
  {
   "cell_type": "code",
   "execution_count": null,
   "id": "d7f19265-62a9-4eac-8b59-015d59379c18",
   "metadata": {},
   "outputs": [],
   "source": [
    "class Solution:\n",
    "    def permute(self , num: List[int]) -> List[List[int]]:\n",
    "        result = []\n",
    "        def backtrack(n, permutation, visited):\n",
    "            nonlocal result\n",
    "            if len(permutation) == n:\n",
    "                result.append([permutation[i] for i in range(n)])\n",
    "                return\n",
    "            for i in range(len(num)):\n",
    "                if visited[i] == 1:\n",
    "                    continue\n",
    "                permutation.append(num[i])\n",
    "                visited[i] = 1\n",
    "                backtrack(n, permutation, visited)\n",
    "                permutation.pop()\n",
    "                visited[i] = 0\n",
    "            return\n",
    "        # 使用 visited 数组标记元素是否被使用过\n",
    "        backtrack(len(num), [], [0 for i in range(len(num))])\n",
    "        return result"
   ]
  },
  {
   "cell_type": "markdown",
   "id": "887aeb8e-c239-40d6-bb04-46f8ad86c5c6",
   "metadata": {},
   "source": [
    "### 56.有重复项数字的全排列"
   ]
  },
  {
   "cell_type": "code",
   "execution_count": 42,
   "id": "5def4f49-fc1e-4c86-bc63-24c067171fb1",
   "metadata": {},
   "outputs": [],
   "source": [
    "class Solution:\n",
    "    def permuteUnique(self , num: List[int]) -> List[List[int]]:\n",
    "        result = []\n",
    "        def backtrack(n, permutation, visited):\n",
    "            nonlocal result\n",
    "            if len(permutation) == n:\n",
    "                result.append([permutation[i] for i in range(n)])\n",
    "                return\n",
    "            for i in range(n):\n",
    "                if visited[i] == 1:\n",
    "                    continue\n",
    "                if i > 0 and num[i] == num[i-1] and visited[i-1] != 0:\n",
    "                    continue\n",
    "                permutation.append(num[i])\n",
    "                visited[i] = 1\n",
    "                backtrack(n, permutation, visited)\n",
    "                permutation.pop()\n",
    "                visited[i] = 0\n",
    "            return\n",
    "        num.sort()\n",
    "        n = len(num)\n",
    "        backtrack(n, [], [0 for i in range(n)])\n",
    "        return result"
   ]
  },
  {
   "cell_type": "markdown",
   "id": "27240b2a-936c-42a8-af83-cdb4fedba069",
   "metadata": {},
   "source": [
    "### 57.岛屿数量"
   ]
  },
  {
   "cell_type": "code",
   "execution_count": null,
   "id": "cd09d2c8-5212-4421-891d-1d3b02ea0230",
   "metadata": {},
   "outputs": [],
   "source": [
    "class Solution:\n",
    "    def solve(self , grid: List[List[str]]) -> int:\n",
    "        def dfs(i, j, n, m):\n",
    "            grid[i][j] = 0\n",
    "            if i + 1< n and grid[i + 1][j] == '1':\n",
    "                dfs(i + 1, j, n, m)\n",
    "            if i - 1 >= 0 and grid[i - 1][j] == '1':\n",
    "                dfs(i - 1, j, n, m)\n",
    "            if j + 1 < m and grid[i][j + 1] == '1':\n",
    "                dfs(i, j+1, n, m)\n",
    "            if j - 1 >= 0 and grid[i][j-1] == '1':\n",
    "                dfs(i, j - 1, n,m)\n",
    "        if len(grid) == 0:\n",
    "            return 0\n",
    "        n, m = len(grid), len(grid[0])\n",
    "        result = 0\n",
    "        for i in range(n):\n",
    "            for j in range(m):\n",
    "                # 如果遇到岛屿就将岛屿打沉\n",
    "                if grid[i][j] == '1':\n",
    "                    result += 1\n",
    "                    dfs(i, j, n, m)\n",
    "        return result"
   ]
  },
  {
   "cell_type": "markdown",
   "id": "4cdabcc5-95bc-4e75-be94-28e8d8597c07",
   "metadata": {},
   "source": [
    "### 58.字符串的排列"
   ]
  },
  {
   "cell_type": "code",
   "execution_count": 40,
   "id": "61f34000-2793-49f4-8ec4-9a0a57b3fa5a",
   "metadata": {},
   "outputs": [],
   "source": [
    "class Solution:\n",
    "    def Permutation(self , str1: str) -> List[str]:\n",
    "        # 和有重复数字的全排列思路一样\n",
    "        result = []\n",
    "        n = len(str1)\n",
    "        def backtrack(n, permutation,visited):\n",
    "            nonlocal result\n",
    "            if n == len(permutation):\n",
    "                result.append(''.join(permutation))\n",
    "                return\n",
    "            for i in range(n):\n",
    "                if visited[i] == 1:\n",
    "                    continue\n",
    "                if i > 0 and str1[i] == str1[i - 1] and visited[i - 1] != 0:\n",
    "                    continue\n",
    "                permutation.append(str1[i])\n",
    "                visited[i] = 1\n",
    "                backtrack(n, permutation, visited)\n",
    "                permutation.pop()\n",
    "                visited[i] = 0\n",
    "            return\n",
    "        # 先对字符串进行排序\n",
    "        str1 = sorted(str1)\n",
    "        backtrack(n, [], [0 for i in range(n)])\n",
    "        return result"
   ]
  },
  {
   "cell_type": "markdown",
   "id": "c2dc8b32-44e5-43b4-9b76-3c9767bfb4b4",
   "metadata": {},
   "source": [
    "### 59.N 皇后问题"
   ]
  },
  {
   "cell_type": "code",
   "execution_count": null,
   "id": "22ddbe45-c650-43b8-8c24-49fb775c0b43",
   "metadata": {},
   "outputs": [],
   "source": [
    "class Solution:\n",
    "    def Nqueen(self , n: int) -> int:\n",
    "        # write code here\n",
    "        result = 0\n",
    "        def backtrack(row, colums, diagonal1, diagonal2):\n",
    "            nonlocal result\n",
    "            if row == n:\n",
    "                result += 1\n",
    "                return\n",
    "            for col in range(n):\n",
    "                # 皇后能攻击到的范围\n",
    "                if col in colums or row + col in diagonal1 or row - col in diagonal2:\n",
    "                    continue\n",
    "                colums.add(col)\n",
    "                diagonal1.add(row+col)\n",
    "                diagonal2.add(row-col)\n",
    "                backtrack(row+1, colums, diagonal1, diagonal2)\n",
    "                colums.remove(col)\n",
    "                diagonal1.remove(row+col)\n",
    "                diagonal2.remove(row-col)\n",
    "            return\n",
    "        backtrack(0, set(), set(), set())\n",
    "        return result"
   ]
  },
  {
   "cell_type": "markdown",
   "id": "b43ffe69-3c10-4979-9680-98db199ac888",
   "metadata": {},
   "source": [
    "### 60.括号生成"
   ]
  },
  {
   "cell_type": "code",
   "execution_count": null,
   "id": "bbe34848-c23a-48f7-a980-2277b22bd795",
   "metadata": {},
   "outputs": [],
   "source": [
    "class Solution:\n",
    "    def generateParenthesis(self , n: int) -> List[str]:\n",
    "        # write code here\n",
    "        result = []\n",
    "        def recursion(left, right, parenthesis):\n",
    "            nonlocal result\n",
    "            if left == 0 and right == 0:\n",
    "                result.append(parenthesis)\n",
    "                return\n",
    "            # 左括号随时加进去都可以\n",
    "            if left > 0:\n",
    "                recursion(left-1, right, parenthesis + \"(\")\n",
    "            # 右括号的添加需要注意前面的左括号是否已经使用了不然就会造成括号不匹配\n",
    "            if right > left:\n",
    "                recursion(left, right-1, parenthesis + \")\")\n",
    "        recursion(n, n, \"\")\n",
    "        return result"
   ]
  },
  {
   "cell_type": "markdown",
   "id": "d61b0bc2-c5dd-4157-a361-5ff2c4260813",
   "metadata": {},
   "source": [
    "### 61.矩阵最长递增路径"
   ]
  },
  {
   "cell_type": "code",
   "execution_count": null,
   "id": "f335ba4a-4483-40f6-b6a1-47aa7f5de4fa",
   "metadata": {},
   "outputs": [],
   "source": []
  },
  {
   "cell_type": "markdown",
   "id": "86bc41e6-7aa8-4cfe-a68b-be0a14c484a5",
   "metadata": {
    "tags": []
   },
   "source": [
    "# 动态规划"
   ]
  },
  {
   "cell_type": "markdown",
   "id": "7377c206-2424-428c-a3e7-5d383d2c643b",
   "metadata": {},
   "source": [
    "### 62.斐波那契数列"
   ]
  },
  {
   "cell_type": "code",
   "execution_count": null,
   "id": "84d7764f-9c27-4d0a-887a-1af7e0093bd2",
   "metadata": {},
   "outputs": [],
   "source": [
    "class Solution:\n",
    "    def Fibonacci(self , n: int) -> int:\n",
    "        if n <= 1:\n",
    "            return n\n",
    "        dp = [0] * (n + 1)\n",
    "        dp[1] = 1\n",
    "        for i in range(2, n+1):\n",
    "            dp[i] = dp[i - 1] + dp[i - 2]\n",
    "        return dp[n]"
   ]
  },
  {
   "cell_type": "markdown",
   "id": "f1f3fa25-2074-45f3-9bbb-567fd5811306",
   "metadata": {},
   "source": [
    "### 63.跳台阶"
   ]
  },
  {
   "cell_type": "code",
   "execution_count": null,
   "id": "b45e56ba-ba1f-4956-aba1-48463aa53f50",
   "metadata": {},
   "outputs": [],
   "source": [
    "class Solution:\n",
    "    def jumpFloor(self , number: int) -> int:\n",
    "        if number <= 2:\n",
    "            return number\n",
    "        dp = [0] * (number + 1)\n",
    "        dp[1], dp[2] = 1, 2\n",
    "        for i in range(3, number+1):\n",
    "            dp[i] = dp[i - 1] + dp[i - 2]\n",
    "        return dp[number]"
   ]
  },
  {
   "cell_type": "markdown",
   "id": "0fc6f9a7-a7d8-4c7a-823f-45b2cfcbe39b",
   "metadata": {},
   "source": [
    "### 64.最小花费爬楼梯"
   ]
  },
  {
   "cell_type": "code",
   "execution_count": null,
   "id": "0d6a7e41-2eec-473a-8ed6-7d94a1de7fa0",
   "metadata": {},
   "outputs": [],
   "source": [
    "class Solution:\n",
    "    def minCostClimbingStairs(self , cost: List[int]) -> int:\n",
    "        # 由于可以选择从 0 或 1 的台阶开始爬所以这两阶台阶的花费是 0\n",
    "        dp = [0] * (len(cost) + 1)\n",
    "        n = len(cost)\n",
    "        for i in range(2, n + 1):\n",
    "            # 到达 i - 1 阶台阶的最小花费和到达 i - 2 阶台阶的最小花费\n",
    "            dp[i] = min(dp[i - 1] + cost[i - 1], dp[i - 2] + cost[i - 2])\n",
    "        return dp[n]"
   ]
  },
  {
   "cell_type": "markdown",
   "id": "09ba9765-ddbf-43e7-9ce3-6d566653534b",
   "metadata": {},
   "source": [
    "### 65.最长公共子序列（二）"
   ]
  },
  {
   "cell_type": "code",
   "execution_count": null,
   "id": "59489915-dc2c-47b6-88ae-0c1c70b97c01",
   "metadata": {},
   "outputs": [],
   "source": []
  },
  {
   "cell_type": "markdown",
   "id": "c0694a70-483c-47cb-9969-814a0bf5887b",
   "metadata": {},
   "source": [
    "### 66.最长公共子串"
   ]
  },
  {
   "cell_type": "code",
   "execution_count": null,
   "id": "4e37f798-720b-433e-94cf-4bb3ab3827eb",
   "metadata": {},
   "outputs": [],
   "source": []
  },
  {
   "cell_type": "markdown",
   "id": "e4c9d240-4f16-4210-8108-c84ecc66c49a",
   "metadata": {},
   "source": [
    "### 67.不同路径的数目（一）"
   ]
  },
  {
   "cell_type": "code",
   "execution_count": null,
   "id": "3632edaa-b95c-4fc7-8372-614c674149b4",
   "metadata": {},
   "outputs": [],
   "source": [
    "class Solution:\n",
    "    def uniquePaths(self , m: int, n: int) -> int:\n",
    "        dp = [[0] * n] * m\n",
    "        # 由于每次只能想下或者向右走\n",
    "        # 对于最右的一行的走法只有 1 种\n",
    "        for i in range(m):\n",
    "            dp[i][n-1] = 1\n",
    "        # 对于最下的一行的走法只有 1 种\n",
    "        for i in range(n):\n",
    "            dp[m - 1][i] = 1\n",
    "        for i in range(m - 2, -1, -1):\n",
    "            for j in range(n - 2, -1, -1):\n",
    "                # 任一点到达终点的路径数目等于向下走和向右走的数目之和\n",
    "                dp[i][j] = dp[i + 1][j] + dp[i][j + 1]\n",
    "        return dp[0][0]"
   ]
  },
  {
   "cell_type": "markdown",
   "id": "401ae352-94d2-4838-8808-8f11e1ae906e",
   "metadata": {},
   "source": [
    "### 68.矩阵的最小路径和"
   ]
  },
  {
   "cell_type": "code",
   "execution_count": null,
   "id": "e76cacb2-c5d6-412b-a658-ce99d83fce00",
   "metadata": {},
   "outputs": [],
   "source": [
    "class Solution:\n",
    "    def minPathSum(self , matrix: List[List[int]]) -> int:\n",
    "        # write code here\n",
    "        # dp[i][j] = min(dp[i-1][j], dp[i][j-1]) + matrix[i][j]\n",
    "        n, m = len(matrix), len(matrix[0])\n",
    "        dp = [[0 for j in range(m + 1)] for i in range(n + 1)]\n",
    "        # 预处理第一行和第一列使得对于 dp[0][j] == dp[1][j-1], dp[i][0] == d[i - 1][0]\n",
    "        for i in range(2, n+1):\n",
    "            dp[i][0] = dp[i-1][0] + matrix[i-2][0]\n",
    "        for j in range(2, m+1):\n",
    "            dp[0][j] = dp[0][j-1] + matrix[0][j-2]\n",
    "        for i in range(1, n+1):\n",
    "            for j in range(1, m+1):\n",
    "                dp[i][j] = min(dp[i-1][j], dp[i][j-1]) + matrix[i-1][j-1]\n",
    "        return dp[n][m]"
   ]
  },
  {
   "cell_type": "markdown",
   "id": "9edcb794-fe99-41a9-8e37-b443e1579f2e",
   "metadata": {},
   "source": [
    "### 69.把数字翻译成字符串"
   ]
  },
  {
   "cell_type": "code",
   "execution_count": null,
   "id": "2201bbdd-8f4a-4efb-b8a6-937bc9fa0731",
   "metadata": {},
   "outputs": [],
   "source": [
    "class Solution:\n",
    "    def solve(self , nums: str) -> int:\n",
    "        n = len(nums)\n",
    "        dp = [0] * (n + 1)\n",
    "        dp[0] = 1\n",
    "        # 0 是无法单独译码的\n",
    "        dp[1] = 0 if nums[0] == '0' else 1\n",
    "        for i in range(2, n + 1):\n",
    "            if nums[i - 1] != '0':\n",
    "                dp[i] += dp[i - 1]\n",
    "            if nums[i - 2] == '1' or (nums[i - 2] == '2' and (ord(nums[i - 1]) - ord('0')) < 7):\n",
    "                dp[i] += dp[i - 2]\n",
    "        return dp[n]"
   ]
  },
  {
   "cell_type": "markdown",
   "id": "445b0592-8a1e-4ebb-a438-49db43006f8b",
   "metadata": {},
   "source": [
    "### 70.兑换零钱（一）"
   ]
  },
  {
   "cell_type": "code",
   "execution_count": null,
   "id": "dcb166de-05b6-4cb9-936d-493d2e435b7b",
   "metadata": {},
   "outputs": [],
   "source": [
    "class Solution:\n",
    "    def minMoney(self , arr: List[int], aim: int) -> int:\n",
    "        dp = [aim + 1] * (aim + 1)\n",
    "        dp[0] = 0\n",
    "        # dp[i] 表示 i 元最少需要多少张货币\n",
    "        for i in range(1, aim + 1):\n",
    "            for j in range(len(arr)):\n",
    "                if arr[j] <= i:\n",
    "                    dp[i] = min(dp[i], dp[i - arr[j]] + 1)\n",
    "        return -1 if dp[aim] > aim else dp[aim]"
   ]
  },
  {
   "cell_type": "markdown",
   "id": "99c55ac4-512f-4f90-a711-6aae284367af",
   "metadata": {},
   "source": [
    "### 71.最长上升子序列（一）"
   ]
  },
  {
   "cell_type": "code",
   "execution_count": null,
   "id": "87fa6afd-89ad-4cca-a707-eaacccf161d9",
   "metadata": {},
   "outputs": [],
   "source": []
  },
  {
   "cell_type": "markdown",
   "id": "7a5af2c0-2a84-4771-99c9-54b7bd5ebbd3",
   "metadata": {},
   "source": [
    "### 72.连续子数组的最大和"
   ]
  },
  {
   "cell_type": "code",
   "execution_count": null,
   "id": "f7dd70d2-4165-43b9-b901-6cbb1a4edfe3",
   "metadata": {},
   "outputs": [],
   "source": [
    "class Solution:\n",
    "    def FindGreatestSumOfSubArray(self , array: List[int]) -> int:\n",
    "        # dp[i] = max(dp[i - 1], 0) + array[i]\n",
    "        # 等价于 dp[i] = max(dp[i-1] + array[i-1], array[i-1])\n",
    "        n = len(array)\n",
    "        dp = [0] * (n + 1)\n",
    "        for i in range(1, n+1):\n",
    "            dp[i] = max(dp[i-1], 0) + array[i - 1]\n",
    "        return max(dp[1:])"
   ]
  },
  {
   "cell_type": "markdown",
   "id": "0701f9d6-0113-4e6b-8828-f7f30989c8c8",
   "metadata": {},
   "source": [
    "### 73.最长回文子串"
   ]
  },
  {
   "cell_type": "code",
   "execution_count": null,
   "id": "d3c07df8-f1f0-49fd-9338-4f7c7f862b68",
   "metadata": {},
   "outputs": [],
   "source": []
  },
  {
   "cell_type": "markdown",
   "id": "3af38002-fe19-4930-b008-91c5d6b7c468",
   "metadata": {},
   "source": [
    "### 74.数字字符串转化成IP地址"
   ]
  },
  {
   "cell_type": "code",
   "execution_count": null,
   "id": "e085e1e9-21ea-43ad-a08a-ea73799d2c75",
   "metadata": {},
   "outputs": [],
   "source": []
  },
  {
   "cell_type": "markdown",
   "id": "9d8cf32a-3e3a-41c0-83eb-daa96aa58dca",
   "metadata": {},
   "source": [
    "### 75.编辑距离（一）"
   ]
  },
  {
   "cell_type": "code",
   "execution_count": null,
   "id": "8a9e67a2-40aa-4e9c-a66e-dc171c5aaac9",
   "metadata": {},
   "outputs": [],
   "source": []
  },
  {
   "cell_type": "markdown",
   "id": "634b0ca3-2ffa-4605-8d05-4b7b8bda32be",
   "metadata": {},
   "source": [
    "### 76.正则表达式匹配"
   ]
  },
  {
   "cell_type": "code",
   "execution_count": null,
   "id": "fa024a21-e951-45cf-acf2-875ad6d9519d",
   "metadata": {},
   "outputs": [],
   "source": []
  },
  {
   "cell_type": "markdown",
   "id": "fd3ab3f5-2661-4a68-bf92-fa45a931b8cb",
   "metadata": {},
   "source": [
    "### 77.最长的括号子串"
   ]
  },
  {
   "cell_type": "code",
   "execution_count": null,
   "id": "26b18c83-a73f-4505-b5c0-89455566f328",
   "metadata": {},
   "outputs": [],
   "source": []
  },
  {
   "cell_type": "markdown",
   "id": "142444b7-0b02-4370-95e6-240db787ddad",
   "metadata": {},
   "source": [
    "### 78.打家劫舍（一）"
   ]
  },
  {
   "cell_type": "code",
   "execution_count": null,
   "id": "8446dc44-70dd-4dc9-a005-c41f9455e855",
   "metadata": {},
   "outputs": [],
   "source": [
    "class Solution:\n",
    "    def rob(self , nums: List[int]) -> int:\n",
    "        # dp[i] = max(dp[i-1], nums[i - 1] + dp[i-2])\n",
    "        n = len(nums)\n",
    "        dp = [0 for i in range(n + 1)]\n",
    "        dp[1] = nums[0]\n",
    "        for i in range(2, n + 1):\n",
    "            dp[i] = max(dp[i - 1], nums[i - 1] + dp[i - 2])\n",
    "        return dp[n]"
   ]
  },
  {
   "cell_type": "markdown",
   "id": "37bbb700-3b08-4bb8-a5aa-73a023c26ed2",
   "metadata": {},
   "source": [
    "### 79.打家劫舍（二）"
   ]
  },
  {
   "cell_type": "code",
   "execution_count": null,
   "id": "7c93af03-f081-4e0d-a418-8264bed1bbc3",
   "metadata": {},
   "outputs": [],
   "source": [
    "class Solution:\n",
    "    def rob(self , nums: List[int]) -> int:\n",
    "        n = len(nums)\n",
    "        dp = [0 for i in range(n + 1)]\n",
    "        # 偷第一家\n",
    "        dp[1] = nums[0]\n",
    "        for i in range(2, n):\n",
    "            dp[i] = max(dp[i - 1], dp[i - 2] + nums[i - 1])\n",
    "        # 不偷第一家偷最后一家\n",
    "        dp1 = [0 for i in range(n + 1)]\n",
    "        for i in range(2, n + 1):\n",
    "            dp1[i] = max(dp1[i - 1], nums[i - 1] + dp1[i - 2])\n",
    "        return max(dp[n - 1], dp1[n])"
   ]
  },
  {
   "cell_type": "markdown",
   "id": "7cb957a4-6860-4875-8d7e-1169a824732d",
   "metadata": {},
   "source": [
    "### 80.买卖股票的最好时机（一）"
   ]
  },
  {
   "cell_type": "code",
   "execution_count": null,
   "id": "7ff22697-cfd7-40c5-bd9b-66aaf0b5e60c",
   "metadata": {},
   "outputs": [],
   "source": []
  },
  {
   "cell_type": "markdown",
   "id": "46b0f70f-cb98-4dea-8c3e-2b81e961434b",
   "metadata": {},
   "source": [
    "### 81.买卖股票的最好时间（二）"
   ]
  },
  {
   "cell_type": "code",
   "execution_count": null,
   "id": "51c6b64a-fdd5-4e8d-9750-d659398d15e9",
   "metadata": {},
   "outputs": [],
   "source": []
  },
  {
   "cell_type": "markdown",
   "id": "ef4bd884-0583-4c8a-98e4-087a08146892",
   "metadata": {},
   "source": [
    "### 82.买卖股票的最好时机（三）"
   ]
  },
  {
   "cell_type": "code",
   "execution_count": null,
   "id": "d8048ed2-d854-4497-a05d-65d8dc5a2484",
   "metadata": {},
   "outputs": [],
   "source": []
  },
  {
   "cell_type": "markdown",
   "id": "b68b59fc-1dbc-4fcf-8a22-d8444e644135",
   "metadata": {
    "jp-MarkdownHeadingCollapsed": true,
    "tags": []
   },
   "source": [
    "# 字符串"
   ]
  },
  {
   "cell_type": "markdown",
   "id": "1829fa13-7c15-4ae2-9fa3-36a5470bd813",
   "metadata": {},
   "source": [
    "### 83.字符串变形"
   ]
  },
  {
   "cell_type": "code",
   "execution_count": null,
   "id": "ff90bd14-a308-4f58-9d6e-5c2e0c7f3ae9",
   "metadata": {},
   "outputs": [],
   "source": [
    "class Solution:\n",
    "    def trans(self , s: str, n: int) -> str:\n",
    "        import string\n",
    "        result = []\n",
    "        def reverse(start, end):\n",
    "            while start < end:\n",
    "                result[start], result[end] = result[end], result[start]\n",
    "                start += 1\n",
    "                end -= 1\n",
    "        index = 0\n",
    "        while index < n:\n",
    "            # 如果是小写字母就变成大写字母\n",
    "            if s[index] in string.ascii_lowercase:\n",
    "                result.append(s[index].upper())\n",
    "            # 如果是大写字母就变成小写字母\n",
    "            elif s[index] in string.ascii_uppercase:\n",
    "                result.append(s[index].lower())\n",
    "            # 其他字母不处理\n",
    "            else:\n",
    "                result.append(s[index])\n",
    "            index += 1\n",
    "        reverse(0, n - 1)\n",
    "        start = 0\n",
    "        for i in range(n):\n",
    "            if result[i] == ' ':\n",
    "                reverse(start, i - 1)\n",
    "                start = i + 1\n",
    "        reverse(start, n - 1)\n",
    "        return ''.join(result)"
   ]
  },
  {
   "cell_type": "markdown",
   "id": "cabd4a3b-71a2-4298-b741-17801b74bbbc",
   "metadata": {},
   "source": [
    "### 84.最长公共前缀"
   ]
  },
  {
   "cell_type": "code",
   "execution_count": null,
   "id": "31cdd07f-2076-41f7-94b3-2dc31949d5fb",
   "metadata": {},
   "outputs": [],
   "source": [
    "class Solution:\n",
    "\n",
    "    def longestCommonPrefix(self , strs: List[str]) -> str:\n",
    "        if len(strs) == 0:\n",
    "            return str()\n",
    "        minIndex = 0\n",
    "        # 找到最短的字符串的索引\n",
    "        for i in range(len(strs)):\n",
    "            if len(strs[i]) < len(strs[minIndex]):\n",
    "                minIndex = i\n",
    "        result = []\n",
    "        # 遍历最短的字符串\n",
    "        for i in range(len(strs[minIndex])):\n",
    "            # 遍历字符串数组\n",
    "            for j in range(0, len(strs)):\n",
    "                # 对于所有相同位置的字符不相同的话直接返回\n",
    "                if strs[j][i] != strs[minIndex][i]:\n",
    "                    return ''.join(result)\n",
    "            # 将该字符添加进结果数组中\n",
    "            result.append(strs[0][i])\n",
    "        # 对于字符串数组中所有字符串都相同的情况上面的循环不会返回结果需要在这里返回结果\n",
    "        return ''.join(result)"
   ]
  },
  {
   "cell_type": "markdown",
   "id": "81187bbe-a263-40f8-bc50-92bebd5b9187",
   "metadata": {},
   "source": [
    "### 85.验证 IP 地址"
   ]
  },
  {
   "cell_type": "code",
   "execution_count": null,
   "id": "e62c2d99-9d3e-406c-aeb3-d3a714e57719",
   "metadata": {},
   "outputs": [],
   "source": [
    "import string\n",
    "class Solution:\n",
    "    def solve(self , IP: str) -> str:\n",
    "        # write code here\n",
    "        def isIPv4(IP: str):\n",
    "            s = IP.split('.')\n",
    "            if len(s) != 4:\n",
    "                return False\n",
    "            for i in range(len(s)):\n",
    "                # 有一个分割为零，说明两个点相连\n",
    "                if len(s[i]) == 0:\n",
    "                    return False\n",
    "                # 不能有前缀 0\n",
    "                if len(s[i]) > 3 or (s[i][0] == '0' and len(s[i]) != 1):\n",
    "                    return False\n",
    "                for j in range(len(s[i])):\n",
    "                    if s[i][j] not in string.digits:\n",
    "                        return False\n",
    "                num = int(s[i])\n",
    "                # 转化位数字比较是否再 0-255 之间\n",
    "                if num <0 or num > 255:\n",
    "                    return False\n",
    "            return True\n",
    "         \n",
    "        def isIPv6(IP):\n",
    "            s = IP.split(':')\n",
    "            # IPv6 必定为8组\n",
    "            if len(s) != 8:\n",
    "                return False\n",
    "            for i in range(len(s)):\n",
    "                # 每个分隔符都不能缺省，不能超过4位\n",
    "                if len(s[i]) == 0 or len(s[i]) > 4:\n",
    "                    return False\n",
    "                for j in range(len(s[i])):\n",
    "                    # 不能出现除数字 a-fA-F以外的字符\n",
    "                    if not (s[i][j] in string.digits or (s[i][j] >= 'a' and s[i][j] <= 'f') or \\\n",
    "                        (s[i][j] >= 'A' and s[i][j] <= 'F')):\n",
    "                        return False\n",
    "            return True\n",
    "         \n",
    "        if isIPv4(IP):\n",
    "            return \"IPv4\"\n",
    "        elif isIPv6(IP):\n",
    "            return \"IPv6\"\n",
    "        else:\n",
    "            return \"Neither\""
   ]
  },
  {
   "cell_type": "markdown",
   "id": "90f4a09f-22d1-4806-98a2-925c6565923d",
   "metadata": {},
   "source": [
    "### 86.大数加法"
   ]
  },
  {
   "cell_type": "code",
   "execution_count": null,
   "id": "64e6a403-de74-4e8e-a67d-51f479400542",
   "metadata": {},
   "outputs": [],
   "source": [
    "class Solution:\n",
    "    def solve(self , s: str, t: str) -> str:\n",
    "        if len(t) == 0:\n",
    "            return s\n",
    "        if len(s) == 0:\n",
    "            return t\n",
    "        # 进位\n",
    "        carry = 0\n",
    "        index1 = len(s) - 1\n",
    "        index2 = len(t) - 1\n",
    "        result = []\n",
    "        while index1 >= 0 and index2 >= 0:\n",
    "            # 从右往左每位依次相加\n",
    "            _sum = carry + int(s[index1]) + int(t[index2])\n",
    "            # 求进位\n",
    "            carry = _sum // 10\n",
    "            _sum = _sum % 10\n",
    "            result.append(str(_sum))\n",
    "            index1 -= 1\n",
    "            index2 -= 1\n",
    "        while index1 >= 0:\n",
    "            _sum = carry + int(s[index1])\n",
    "            carry = _sum // 10\n",
    "            _sum %= 10\n",
    "            result.append(str(_sum))\n",
    "            index1 -= 1\n",
    "        while index2 >= 0:\n",
    "            _sum = carry + int(t[index2])\n",
    "            carry = _sum // 10\n",
    "            _sum %= 10\n",
    "            result.append(str(_sum))\n",
    "            index2 -= 1\n",
    "        if carry:\n",
    "            result.append(str(carry))\n",
    "        result.reverse()\n",
    "        return ''.join(result)"
   ]
  },
  {
   "cell_type": "markdown",
   "id": "05cc1fe5-651f-48d7-b7bf-96614dbef93e",
   "metadata": {
    "tags": []
   },
   "source": [
    "# 双指针"
   ]
  },
  {
   "cell_type": "markdown",
   "id": "22b609f7-e6d2-45a2-8a38-9a97ddff7b24",
   "metadata": {},
   "source": [
    "### 87.合并两个有序数组"
   ]
  },
  {
   "cell_type": "code",
   "execution_count": 38,
   "id": "3d20a35b-3f58-4303-8465-a5b2eda10462",
   "metadata": {
    "tags": []
   },
   "outputs": [],
   "source": [
    "class Solution:\n",
    "    def merge(self , A, m, B, n):\n",
    "        # 从后向前合并\n",
    "        i, j, k = m - 1, n - 1, m + n - 1\n",
    "        while i >= 0 and j >= 0:\n",
    "            if A[i] > B[j]:\n",
    "                A[k] = A[i]\n",
    "                i -= 1\n",
    "            else:\n",
    "                A[k] = B[j]\n",
    "                j -= 1\n",
    "            k -= 1\n",
    "        while j >= 0:\n",
    "            A[k] = B[j]\n",
    "            j -= 1\n",
    "            k -= 1"
   ]
  },
  {
   "cell_type": "markdown",
   "id": "86c6501b-685f-417f-9191-b52c92234fd6",
   "metadata": {},
   "source": [
    "### 88.判断是否为回文字符串"
   ]
  },
  {
   "cell_type": "code",
   "execution_count": null,
   "id": "a2902f27-0800-4ef9-bad0-31356d21e97d",
   "metadata": {},
   "outputs": [],
   "source": [
    "class Solution:\n",
    "    def judge(self , str1: str) -> bool:\n",
    "        start, end = 0, len(str1) - 1\n",
    "        while start < end:\n",
    "            if str1[start] != str1[end]:\n",
    "                return False\n",
    "            start += 1\n",
    "            end -= 1\n",
    "        return True"
   ]
  },
  {
   "cell_type": "markdown",
   "id": "e68f20de-1296-4bf5-a3bd-1d1c5f2e739f",
   "metadata": {},
   "source": [
    "### 89.合并区间"
   ]
  },
  {
   "cell_type": "code",
   "execution_count": null,
   "id": "65823047-e9d8-47a2-b76b-aa2c50de54ee",
   "metadata": {},
   "outputs": [],
   "source": [
    "class Solution:\n",
    "    def merge(self , intervals: List[Interval]) -> List[Interval]:\n",
    "        if len(intervals) == 0:\n",
    "            return []\n",
    "        intervals = sorted(intervals, key=lambda x: x.start)\n",
    "        result = [intervals[0]]\n",
    "        j = 0\n",
    "        for i in range(1, len(intervals)):\n",
    "            if intervals[i].start >= result[j].start and intervals[i].start <= result[j].end:\n",
    "                result[j].end = max(result[j].end, intervals[i].end)\n",
    "            else:\n",
    "                result.append(intervals[i])\n",
    "                j += 1\n",
    "        return result"
   ]
  },
  {
   "cell_type": "markdown",
   "id": "12949a99-219b-4429-9b9c-18a5bb4957d5",
   "metadata": {},
   "source": [
    "### 90.最小覆盖子串"
   ]
  },
  {
   "cell_type": "code",
   "execution_count": null,
   "id": "50a7a3e6-b58b-49be-b13a-9e22c896ff7a",
   "metadata": {},
   "outputs": [],
   "source": []
  },
  {
   "cell_type": "code",
   "execution_count": null,
   "id": "2c0e148d-71f7-4ae6-ad63-54678436d34a",
   "metadata": {},
   "outputs": [],
   "source": []
  },
  {
   "cell_type": "code",
   "execution_count": null,
   "id": "a31f5705-4778-4e15-b53a-d303fe989f23",
   "metadata": {},
   "outputs": [],
   "source": []
  },
  {
   "cell_type": "markdown",
   "id": "290e34a6-9d1c-4208-9e00-cccffdfcf4f9",
   "metadata": {},
   "source": [
    "### 91.反转字符串"
   ]
  },
  {
   "cell_type": "code",
   "execution_count": null,
   "id": "ceedc2f7-9743-4b81-b651-fdc0aae1de03",
   "metadata": {},
   "outputs": [],
   "source": [
    "class Solution:\n",
    "    def solve(self , str1: str) -> str:\n",
    "        result = []\n",
    "        for i in range(len(str1)):\n",
    "            result.append(str1[i])\n",
    "        start, end = 0, len(str1) - 1\n",
    "        while start < end:\n",
    "            result[start], result[end] = result[end], result[start]\n",
    "            start += 1\n",
    "            end -= 1\n",
    "        return ''.join(result)"
   ]
  },
  {
   "cell_type": "markdown",
   "id": "ee06613d-5b10-46f2-a479-e1dfb8c79132",
   "metadata": {},
   "source": [
    "### 92.最长无重复子数组"
   ]
  },
  {
   "cell_type": "code",
   "execution_count": null,
   "id": "8d76eddf-6f57-4d6e-92e2-539f21b91f14",
   "metadata": {},
   "outputs": [],
   "source": [
    "class Solution:\n",
    "    def maxLength(self , arr: List[int]) -> int:\n",
    "        result = 0\n",
    "        lo, hi = 0, 0\n",
    "        HashMap = {}\n",
    "        while hi < len(arr):\n",
    "            if HashMap.get(arr[hi]) == None:\n",
    "                HashMap[arr[hi]] = 1\n",
    "            else:\n",
    "                HashMap[arr[hi]] += 1\n",
    "            # 窗口中有重复的数\n",
    "            # 在窗口中找到重复的数的位置\n",
    "            while HashMap[arr[hi]] > 1:\n",
    "                HashMap[arr[lo]] -= 1\n",
    "                lo += 1\n",
    "            result = max(result, hi - lo + 1)\n",
    "            hi += 1\n",
    "        return result"
   ]
  },
  {
   "cell_type": "markdown",
   "id": "803829e6-0483-4c88-8a9b-d51b4056abb4",
   "metadata": {},
   "source": [
    "### 93.盛水最多的容器"
   ]
  },
  {
   "cell_type": "code",
   "execution_count": null,
   "id": "743fb9d4-ddd3-4969-b8b4-a5baf6151b39",
   "metadata": {},
   "outputs": [],
   "source": [
    "class Solution:\n",
    "    def maxArea(self , height: List[int]) -> int:\n",
    "        result = 0\n",
    "        i, j = 0, len(height) - 1\n",
    "        while i < j:\n",
    "            minHeight = min(height[i], height[j])\n",
    "            if minHeight == height[j]:\n",
    "                j -= 1\n",
    "            else:\n",
    "                i += 1\n",
    "            result = max(result, (j - i + 1) * minHeight)\n",
    "        return result"
   ]
  },
  {
   "cell_type": "markdown",
   "id": "ae238d55-95cc-4576-9546-2751fecbed1a",
   "metadata": {},
   "source": [
    "### 94.接雨水问题"
   ]
  },
  {
   "cell_type": "code",
   "execution_count": null,
   "id": "1b8903c3-3711-41a4-887e-8a386e331b9c",
   "metadata": {},
   "outputs": [],
   "source": [
    "class Solution:\n",
    "    def maxWater(self , arr: List[int]) -> int:\n",
    "        lo, hi = 0, len(arr) - 1\n",
    "        left, right, result = 0, 0, 0\n",
    "        while lo < hi:\n",
    "            left = max(left, arr[lo])\n",
    "            right = max(right, arr[hi])\n",
    "            if right > left:\n",
    "                result += left - arr[lo]\n",
    "                lo += 1\n",
    "            else:\n",
    "                result += right - arr[hi]\n",
    "                hi -= 1\n",
    "        return result"
   ]
  },
  {
   "cell_type": "markdown",
   "id": "9da11d7e-1815-4b2a-b1c5-31d64e6149ec",
   "metadata": {
    "jp-MarkdownHeadingCollapsed": true,
    "tags": []
   },
   "source": [
    "# 贪心算法"
   ]
  },
  {
   "cell_type": "markdown",
   "id": "da6cce2a-ffd7-4056-b746-21c83acbe8ed",
   "metadata": {},
   "source": [
    "### 95.分糖果问题"
   ]
  },
  {
   "cell_type": "code",
   "execution_count": 27,
   "id": "9db01f22-42c4-4803-9f7a-0d2d22c9b13a",
   "metadata": {
    "tags": []
   },
   "outputs": [],
   "source": [
    "class Solution:\n",
    "    def candy(self , arr: List[int]) -> int:\n",
    "        # 先给每个小孩分一块糖果\n",
    "        result = [1 for _ in range(len(arr))]\n",
    "        for i in range(1, len(arr)):\n",
    "            # 如果右边的孩子的分数比左边的孩子的分数高\n",
    "            if arr[i] > arr[i-1]:\n",
    "                result[i] = result[i-1] + 1\n",
    "        for i in range(len(arr) - 2, -1, -1):\n",
    "            # 如果左边的孩子的分数比右边的孩子的分数高并且左边孩子的糖果数没有比右边孩子的糖果数大\n",
    "            if arr[i] > arr[i+1] and result[i] <= result[i+1]:\n",
    "                result[i] = result[i+1] + 1\n",
    "        return sum(result)"
   ]
  },
  {
   "cell_type": "markdown",
   "id": "f7151292-3fdc-4ecd-875e-4d9677bb7daf",
   "metadata": {},
   "source": [
    "### 96.主持人调度（二）"
   ]
  },
  {
   "cell_type": "code",
   "execution_count": null,
   "id": "0206716d-cebc-4ebc-b6ee-cf474d81f5a0",
   "metadata": {},
   "outputs": [],
   "source": [
    "class Solution:\n",
    "    def minmumNumberOfHost(self , n: int, startEnd: List[List[int]]) -> int:\n",
    "        start = []\n",
    "        end = []\n",
    "        for i in range(len(startEnd)):\n",
    "            start.append(startEnd[i][0])\n",
    "            end.append(startEnd[i][1])\n",
    "        start.sort()\n",
    "        end.sort()\n",
    "        result = 0\n",
    "        j = 0\n",
    "        for i in range(len(startEnd)):\n",
    "            # 活动开始时间大于结束时间\n",
    "            if start[i] >= end[j]:\n",
    "                j += 1\n",
    "            else:\n",
    "                result += 1\n",
    "        return result"
   ]
  },
  {
   "cell_type": "markdown",
   "id": "4bf6e945-6619-4261-8610-c32376325305",
   "metadata": {
    "jp-MarkdownHeadingCollapsed": true,
    "tags": []
   },
   "source": [
    "# 模拟"
   ]
  },
  {
   "cell_type": "markdown",
   "id": "cae8cc57-125b-41f1-8d13-092f0c65d932",
   "metadata": {},
   "source": [
    "### 97.旋转数组"
   ]
  },
  {
   "cell_type": "code",
   "execution_count": 20,
   "id": "33607376-b508-469c-b828-1c64317f05c4",
   "metadata": {
    "tags": []
   },
   "outputs": [],
   "source": [
    "class Solution:\n",
    "    def solve(self , n: int, m: int, a: List[int]) -> List[int]:\n",
    "        def reverse(start, end):\n",
    "            while start < end:\n",
    "                a[start], a[end] = a[end], a[start]\n",
    "                start += 1\n",
    "                end -= 1\n",
    "        m %= n\n",
    "        reverse(0, n - 1)\n",
    "        reverse(0, m - 1)\n",
    "        reverse(m, n - 1)\n",
    "        return a"
   ]
  },
  {
   "cell_type": "markdown",
   "id": "b792962d-dbf9-4bad-84ac-41f8e31e73a2",
   "metadata": {},
   "source": [
    "### 98.螺旋矩阵"
   ]
  },
  {
   "cell_type": "code",
   "execution_count": 21,
   "id": "ff1ddc91-2c42-413c-ad39-da2319e79164",
   "metadata": {
    "tags": []
   },
   "outputs": [],
   "source": [
    "class Solution:\n",
    "    def spiralOrder(self , matrix: List[List[int]]) -> List[int]:\n",
    "        result = []\n",
    "        # 空矩阵\n",
    "        if len(matrix) == 0:\n",
    "            return result\n",
    "        up, down, left, right = 0, len(matrix) - 1, 0, len(matrix[0]) - 1\n",
    "        while up <= down and left <= right:\n",
    "            # 从左到右\n",
    "            for i in range(left, right+1):\n",
    "                result.append(matrix[up][i])\n",
    "            up += 1\n",
    "            if up > down:\n",
    "                break\n",
    "            # 从上到下\n",
    "            for i in range(up, down+1):\n",
    "                result.append(matrix[i][right])\n",
    "            right -= 1\n",
    "            if left > right:\n",
    "                break\n",
    "            # 从右到左\n",
    "            for i in range(right, left - 1, -1):\n",
    "                result.append(matrix[down][i])\n",
    "            down -= 1\n",
    "            if up > down:\n",
    "                break\n",
    "            # 从下到上\n",
    "            for i in range(down, up - 1, -1):\n",
    "                result.append(matrix[i][left])\n",
    "            left += 1\n",
    "        return result"
   ]
  },
  {
   "cell_type": "markdown",
   "id": "3e7e43dc-7bb7-4c18-8787-4226590f3813",
   "metadata": {},
   "source": [
    "### 99.顺时针旋转矩阵"
   ]
  },
  {
   "cell_type": "code",
   "execution_count": 26,
   "id": "ec730b3e-d630-4673-a22d-782639a301e8",
   "metadata": {
    "tags": []
   },
   "outputs": [],
   "source": [
    "class Solution:\n",
    "    def rotateMatrix(self , mat: List[List[int]], n: int) -> List[List[int]]:\n",
    "        # 本质上是求矩阵的转置\n",
    "        # 将行元素变成列元素并反转\n",
    "        for i in range(n):\n",
    "            for j in range(i):\n",
    "                mat[i][j], mat[j][i] = mat[j][i], mat[i][j]\n",
    "        for i in range(n):\n",
    "            mat[i].reverse()\n",
    "        return mat"
   ]
  },
  {
   "cell_type": "markdown",
   "id": "d77d7298-4919-4446-852e-1db71f8459ea",
   "metadata": {},
   "source": [
    "### 100.设计 LRU 缓存"
   ]
  },
  {
   "cell_type": "code",
   "execution_count": 24,
   "id": "3e6280ed-d88a-45cf-b9de-8e8edd8fde61",
   "metadata": {
    "tags": []
   },
   "outputs": [],
   "source": [
    "class Solution:\n",
    "    class ListNode:\n",
    "\n",
    "        def __init__(self, key, val):\n",
    "            self.key, self.val = key, val\n",
    "            self.prev, self.next = None, None\n",
    "\n",
    "    def __init__(self, capacity: int):\n",
    "        self.capacity = capacity\n",
    "        self.HashMap = {}\n",
    "        self.head, self.tail = type(self).ListNode(None, None), type(self).ListNode(None, None)\n",
    "        self.head.next, self.tail.prev = self.tail, self.head\n",
    "\n",
    "    def get(self, key: int) -> int:\n",
    "        if self.HashMap.get(key) == None:\n",
    "            return -1\n",
    "        item = self.HashMap.get(key)\n",
    "        # 将结点从链表中删除\n",
    "        item.prev.next = item.next\n",
    "        item.next.prev = item.prev\n",
    "        # 将结点插入到链表头\n",
    "        item.next = self.head.next\n",
    "        self.head.next.prev = item\n",
    "        self.head.next = item\n",
    "        item.prev = self.head\n",
    "        return item.val\n",
    "\n",
    "\n",
    "    def set(self, key: int, value: int) -> None:\n",
    "        # 没有出现在缓存中则添加进缓存\n",
    "        if self.HashMap.get(key) == None:\n",
    "            # 如果缓存中没有容量了就将最后一个删除\n",
    "            if len(self.HashMap) >= self.capacity:\n",
    "                item = self.tail.prev\n",
    "                item.prev.next = item.next\n",
    "                item.next.prev = item.prev\n",
    "                self.HashMap.pop(item.key)\n",
    "            item = type(self).ListNode(key, value)\n",
    "            self.HashMap[key] = item\n",
    "            # 将结点插入到链表头\n",
    "            item.next = self.head.next\n",
    "            self.head.next.prev = item\n",
    "            self.head.next = item\n",
    "            item.prev = self.head\n",
    "        # 在缓存中则更新其值\n",
    "        else:\n",
    "            item = self.HashMap.get(key)\n",
    "            # 更新值\n",
    "            item.val = value\n",
    "            # 将结点从链表中删除\n",
    "            item.prev.next = item.next\n",
    "            item.next.prev = item.prev\n",
    "            # 将结点插入到链表头\n",
    "            item.next = self.head.next\n",
    "            self.head.next.prev = item\n",
    "            self.head.next = item\n",
    "            item.prev = self.head"
   ]
  },
  {
   "cell_type": "markdown",
   "id": "ead9440a-eada-461f-ac7c-85b82a9416ca",
   "metadata": {},
   "source": [
    "### 101.设计 LFU 缓存"
   ]
  },
  {
   "cell_type": "code",
   "execution_count": null,
   "id": "a66acf90-bc6c-40e0-ad34-6442a35010d8",
   "metadata": {},
   "outputs": [],
   "source": [
    "class Solution:\n",
    "    class LinkedList:\n",
    "\n",
    "        class ListNode:\n",
    "            def __init__(self, key, val):\n",
    "                self.key = key\n",
    "                self.val = val\n",
    "                self.freq = 1\n",
    "                self.prev, self.next = None, None\n",
    "\n",
    "        def __init__(self):\n",
    "            self.head = type(self).ListNode(None, None)\n",
    "            self.head.next = self.head\n",
    "            self.head.prev = self.head\n",
    "            self.size = 0\n",
    "\n",
    "        def append(self, node: ListNode):\n",
    "            # 尾插入, 加到双向链表尾部\n",
    "            node.prev = self.head.prev\n",
    "            node.next = self.head\n",
    "            node.prev.next = node\n",
    "            self.head.prev = node\n",
    "            self.size += 1\n",
    "\n",
    "        def pop(self, node: ListNode = None):\n",
    "            if self.size == 0:\n",
    "                return\n",
    "            # 删除头部\n",
    "            if node is None:\n",
    "                node = self.head.next\n",
    "            node.prev.next = node.next\n",
    "            node.next.prev = node.prev\n",
    "            self.size -= 1\n",
    "            return node\n",
    "\n",
    "    def __init__(self, capacity: int=10):\n",
    "        from collections import defaultdict\n",
    "        self.key_to_node = {}\n",
    "        self.freq = defaultdict(type(self).LinkedList)\n",
    "        self.min_freq = 0\n",
    "        self.capacity = capacity\n",
    "\n",
    "    def get(self, key: int) -> int:\n",
    "        if key not in self.key_to_node:\n",
    "            return -1\n",
    "        node = self.key_to_node[key]\n",
    "        node_freq = node.freq\n",
    "        # 从当前频率的队列中删除该结点\n",
    "        self.freq[node_freq].pop(node)\n",
    "        # 如果当前结点的使用频率是最小的并且在该频率下的节点个数是 0\n",
    "        # 那么最小频率应该随着该结点的访问频率增加而增加\n",
    "        if self.min_freq == node_freq and self.freq[node_freq].size == 0:\n",
    "            self.min_freq += 1\n",
    "        # 当前结点的使用频率自增\n",
    "        node.freq += 1\n",
    "        # 将结点加入到相应频率的队列中\n",
    "        self.freq[node.freq].append(node)\n",
    "        return node.val\n",
    "\n",
    "    def set(self, key: int, value: int) -> None:\n",
    "        if self.capacity == 0: return\n",
    "        # 命中\n",
    "        if key in self.key_to_node:\n",
    "            node = self.key_to_node[key]\n",
    "            node_freq = node.freq\n",
    "            self.freq[node_freq].pop(node)\n",
    "            if self.min_freq == node_freq and self.freq[node_freq].size == 0:\n",
    "                self.min_freq += 1\n",
    "            node.freq += 1\n",
    "            node.val = value\n",
    "            self.freq[node.freq].append(node)\n",
    "        else:\n",
    "            # 缓存的容量没有剩余\n",
    "            if len(self.key_to_node) == self.capacity:\n",
    "                node = self.freq[self.min_freq].pop()\n",
    "                self.key_to_node.pop(node.key)\n",
    "            node = type(self).LinkedList.ListNode(key, value)\n",
    "            self.key_to_node[key] = node\n",
    "            self.freq[1].append(node)\n",
    "            self.min_freq = 1\n",
    "\n",
    "    def LFU(self , operators: List[List[int]], k: int) -> List[int]:\n",
    "        result = []\n",
    "        self.capacity = k\n",
    "        for operator in operators:\n",
    "            if operator[0] == 1:\n",
    "                self.set(operator[1], operator[2])\n",
    "            else:\n",
    "                result.append(self.get(operator[1]))\n",
    "        return result"
   ]
  }
 ],
 "metadata": {
  "kernelspec": {
   "display_name": "Python 3 (ipykernel)",
   "language": "python",
   "name": "python3"
  },
  "language_info": {
   "codemirror_mode": {
    "name": "ipython",
    "version": 3
   },
   "file_extension": ".py",
   "mimetype": "text/x-python",
   "name": "python",
   "nbconvert_exporter": "python",
   "pygments_lexer": "ipython3",
   "version": "3.8.13"
  }
 },
 "nbformat": 4,
 "nbformat_minor": 5
}
