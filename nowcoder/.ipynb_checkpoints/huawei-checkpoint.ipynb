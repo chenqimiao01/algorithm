{
 "cells": [
  {
   "cell_type": "markdown",
   "id": "b08fadb1-96d2-497c-beb4-5847315775b6",
   "metadata": {},
   "source": [
    "HJ1 字符串最后一个单词的长度"
   ]
  },
  {
   "cell_type": "code",
   "execution_count": null,
   "id": "3c57255d-ee88-4167-a77a-82c05b9f34d2",
   "metadata": {},
   "outputs": [],
   "source": [
    "s = input().strip()\n",
    "result = 0\n",
    "n = len(s) - 1\n",
    "while s[n] != ' ' and n >= 0:\n",
    "    result += 1\n",
    "    n -= 1\n",
    "print(result)"
   ]
  },
  {
   "cell_type": "markdown",
   "id": "ff435f5f-d29a-4c98-8ef3-3a2e43700469",
   "metadata": {},
   "source": [
    "HJ2 计算某字符出现次数"
   ]
  },
  {
   "cell_type": "code",
   "execution_count": null,
   "id": "b6c36f70-0051-4b6a-a41f-3f099499fff7",
   "metadata": {},
   "outputs": [],
   "source": [
    "s = input()\n",
    "c = input()\n",
    "\n",
    "result = 0\n",
    "for i in range(len(s)):\n",
    "    if c.lower() == s[i].lower():\n",
    "        result += 1\n",
    "print(result)"
   ]
  },
  {
   "cell_type": "markdown",
   "id": "2265c948-a8f1-4310-a86d-06765e29c4f0",
   "metadata": {},
   "source": [
    "HJ3 明明的随机数"
   ]
  },
  {
   "cell_type": "code",
   "execution_count": null,
   "id": "73ecbb20-2160-4902-bf53-ab344872fb1c",
   "metadata": {},
   "outputs": [],
   "source": [
    "class BitMap:\n",
    "\n",
    "    def __init__(self, n: int=10) -> None:\n",
    "        self.bitarray = bytearray(n // 8 + 1)\n",
    "    \n",
    "    def add(self, item):\n",
    "        i, j = item // 8, item % 8\n",
    "        self.bitarray[i] |= (1 << j)\n",
    "\n",
    "    def check(self, item):\n",
    "        i, j = item // 8, item % 8\n",
    "        return (self.bitarray[i] >> j) & 1\n",
    "\n",
    "n = int(input().strip())\n",
    "bitmap = BitMap(1000)\n",
    "result = []\n",
    "for i in range(n):\n",
    "    item = int(input().strip())\n",
    "    if bitmap.check(item) == False:\n",
    "        bitmap.add(item)\n",
    "\n",
    "for i in range(1000):\n",
    "    if bitmap.check(i):\n",
    "        result.append(i)\n",
    "\n",
    "for i in range(len(result)):\n",
    "    print(result[i])"
   ]
  },
  {
   "cell_type": "markdown",
   "id": "e79bfe46-133f-42f1-88ac-29f1a209cd0b",
   "metadata": {},
   "source": [
    "HJ4 字符串分隔"
   ]
  },
  {
   "cell_type": "code",
   "execution_count": null,
   "id": "a5d8d029-1acd-4cc2-b805-d320951d24e1",
   "metadata": {},
   "outputs": [],
   "source": [
    "def rfill(string, r):\n",
    "    length = len(string)\n",
    "    substr = string[length-r:]\n",
    "    l = list(substr)\n",
    "    length = len(substr)\n",
    "    for _ in range(8 - length):\n",
    "        l.append('0')\n",
    "    return ''.join(l)\n",
    "\n",
    "while True:\n",
    "    try:\n",
    "        string = input()\n",
    "        length = len(string)\n",
    "        r = length % 8\n",
    "        l = length // 8\n",
    "        # 如果字符串长度小于8，则直接在该字符串后面填充字符0\n",
    "        if l == 0:\n",
    "            l = list(string)\n",
    "            for _ in range(8 - length):\n",
    "                l.append('0')\n",
    "            print(''.join(l))\n",
    "        else:\n",
    "            for index in range(l):\n",
    "                start = index * 8\n",
    "                print(string[start:start + 8])\n",
    "                # 如果字符串不是8的倍数，将后面的那部分字符串截取下来再填充字符0\n",
    "            if r != 0:\n",
    "                print(rfill(string, r))\n",
    "    except:\n",
    "        break"
   ]
  },
  {
   "cell_type": "markdown",
   "id": "ab0a661f-c9fb-4b9a-828d-63d661b52c77",
   "metadata": {},
   "source": [
    "HJ5 进制转换"
   ]
  },
  {
   "cell_type": "code",
   "execution_count": null,
   "id": "a4cdfa7a-1084-46d2-a01f-2f0bf77eb906",
   "metadata": {},
   "outputs": [],
   "source": [
    "HashMap = {\n",
    "    '0': 0,\n",
    "    '1': 1,\n",
    "    '2': 2,\n",
    "    '3': 3,\n",
    "    '4': 4,\n",
    "    '5': 5,\n",
    "    '6': 6,\n",
    "    '7': 7,\n",
    "    '8': 8,\n",
    "    '9': 9,\n",
    "    'A': 10,\n",
    "    'B': 11,\n",
    "    'C': 12,\n",
    "    'D': 13,\n",
    "    'E': 14,\n",
    "    'F': 15,\n",
    "    'a': 10,\n",
    "    'b': 11,\n",
    "    'c': 12,\n",
    "    'd': 13,\n",
    "    'e': 14,\n",
    "    'f': 15\n",
    "}\n",
    "while True:\n",
    "    try:\n",
    "        s = input().strip()\n",
    "        j = 0\n",
    "        result = 0\n",
    "        for i in range(len(s) - 1, 1, -1):\n",
    "            result = (16 ** j) * HashMap.get(s[i]) + result\n",
    "            j += 1\n",
    "        print(result)\n",
    "    except:\n",
    "        break"
   ]
  },
  {
   "cell_type": "markdown",
   "id": "4de9dfe8-ea17-4a22-8e89-0b9b15733481",
   "metadata": {},
   "source": [
    "HJ6 质数因子"
   ]
  },
  {
   "cell_type": "code",
   "execution_count": null,
   "id": "c87010e5-94cf-48ae-af1d-04e31d28a3ec",
   "metadata": {},
   "outputs": [],
   "source": [
    "import math\n",
    "while True:\n",
    "    try:\n",
    "        n = int(input())\n",
    "        for i in range(2, int(math.sqrt(n)) + 1):\n",
    "            while n % i == 0:\n",
    "                print(i, end=' ')\n",
    "                n //= i\n",
    "        if n > 1:\n",
    "            print(n, end=' ')\n",
    "    except:\n",
    "        break"
   ]
  },
  {
   "cell_type": "markdown",
   "id": "ddd88f9b-8910-498f-b8b4-06e50fa78ea2",
   "metadata": {},
   "source": [
    "HJ7 取近似值"
   ]
  },
  {
   "cell_type": "code",
   "execution_count": null,
   "id": "57a2d964-6758-4094-a30a-2ce837f3f4df",
   "metadata": {},
   "outputs": [],
   "source": [
    "d = input().split('.')\n",
    "\n",
    "if int(d[1][0]) >= 5:\n",
    "    print(int(d[0]) + 1)\n",
    "else:\n",
    "    print(int(d[0]))"
   ]
  },
  {
   "cell_type": "markdown",
   "id": "87373fa5-9aa5-43bb-bb93-0d510ec4763f",
   "metadata": {},
   "source": [
    "HJ8 合并表记录"
   ]
  },
  {
   "cell_type": "code",
   "execution_count": null,
   "id": "2e43b38b-1de5-4380-8d0b-0ff30e2a0f08",
   "metadata": {},
   "outputs": [],
   "source": [
    "n = int(input())\n",
    "HashMap = {}\n",
    "for i in range(n):\n",
    "    a, b = map(int, input().strip().split())\n",
    "    if HashMap.get(a) == None:\n",
    "        HashMap[a] = b\n",
    "    else:\n",
    "        HashMap[a] += b\n",
    "items = sorted(HashMap.items(), key=lambda x: x[0])\n",
    "for item in items:\n",
    "    print(item[0], item[1])"
   ]
  },
  {
   "cell_type": "markdown",
   "id": "750fae82-32ca-4a15-80f0-90be629602f1",
   "metadata": {},
   "source": [
    "HJ9 提取不重复的整数"
   ]
  },
  {
   "cell_type": "code",
   "execution_count": null,
   "id": "f7b0e19f-c7fc-4a71-98b0-3e4fad469220",
   "metadata": {},
   "outputs": [],
   "source": [
    "while True:\n",
    "    try:\n",
    "        s = input()\n",
    "        stack = []\n",
    "        HashMap = {}\n",
    "        for i in range(len(s) - 1, -1, -1):\n",
    "            if HashMap.get(s[i]) == None:\n",
    "                HashMap[s[i]] = 1\n",
    "                stack.append(s[i])\n",
    "        print(''.join(stack))\n",
    "    except:\n",
    "        break"
   ]
  },
  {
   "cell_type": "markdown",
   "id": "8a659540-16a3-427a-9925-519fc10a68b7",
   "metadata": {},
   "source": [
    "HJ10 字符个数统计"
   ]
  },
  {
   "cell_type": "code",
   "execution_count": null,
   "id": "bc11a307-aa9e-46b4-b68a-6577e12e0236",
   "metadata": {},
   "outputs": [],
   "source": [
    "while True:\n",
    "    try:\n",
    "        HashMap = {}\n",
    "        s = input()\n",
    "        for c in s:\n",
    "            if ord(c) >= 0 and ord(c) <= 127:\n",
    "                if HashMap.get(c) == None:\n",
    "                    HashMap[c] = 1\n",
    "        print(len(HashMap))\n",
    "    except:\n",
    "        break"
   ]
  },
  {
   "cell_type": "markdown",
   "id": "db97efa3-8111-46b0-a653-202c6d635d61",
   "metadata": {},
   "source": [
    "HJ11 数字颠倒"
   ]
  },
  {
   "cell_type": "code",
   "execution_count": null,
   "id": "92824749-7351-4b7c-8852-7978830e91b8",
   "metadata": {},
   "outputs": [],
   "source": [
    "while True:\n",
    "    try:\n",
    "        s = input()\n",
    "        result = list(s)\n",
    "        i, j = 0, len(s) - 1\n",
    "        while i < j:\n",
    "            result[i], result[j] = result[j], result[i]\n",
    "            i += 1\n",
    "            j -= 1\n",
    "        print(''.join(result))\n",
    "    except:\n",
    "        break"
   ]
  },
  {
   "cell_type": "markdown",
   "id": "20ebe115-b900-41f0-a1c0-7ed095392cb1",
   "metadata": {},
   "source": [
    "HJ12 字符串反转"
   ]
  },
  {
   "cell_type": "code",
   "execution_count": null,
   "id": "9020c104-b739-4426-9793-28fe26629473",
   "metadata": {},
   "outputs": [],
   "source": [
    "while True:\n",
    "    try:\n",
    "        s = input()\n",
    "        result = list(s)\n",
    "        i, j = 0, len(s) - 1\n",
    "        while i < j:\n",
    "            result[i], result[j] = result[j], result[i]\n",
    "            i += 1\n",
    "            j -= 1\n",
    "        print(''.join(result))\n",
    "    except:\n",
    "        break"
   ]
  },
  {
   "cell_type": "markdown",
   "id": "95ed046e-091e-4a9d-8c54-bbe1bac038bc",
   "metadata": {},
   "source": [
    "HJ13 句子逆序"
   ]
  },
  {
   "cell_type": "code",
   "execution_count": null,
   "id": "303d8e46-c5fa-4cfb-9fd7-d979629b6db0",
   "metadata": {},
   "outputs": [],
   "source": [
    "def reverse(result, start, end):\n",
    "    while start < end:\n",
    "        result[start], result[end] = result[end], result[start]\n",
    "        start += 1\n",
    "        end -= 1\n",
    "\n",
    "while True:\n",
    "    try:\n",
    "        s = input().strip()\n",
    "        result = list(s)\n",
    "        reverse(result, 0, len(s) - 1)\n",
    "        start = 0\n",
    "        for i in range(len(result)):\n",
    "            if result[i] == ' ':\n",
    "                reverse(result, start, i - 1)\n",
    "                start = i + 1\n",
    "        else:\n",
    "            reverse(result, start, len(s) - 1)\n",
    "        print(''.join(result))\n",
    "    except:\n",
    "        break"
   ]
  },
  {
   "cell_type": "markdown",
   "id": "1174855c-f148-43c0-aee3-71ff98e17b21",
   "metadata": {},
   "source": [
    "HJ14 字符串排序"
   ]
  },
  {
   "cell_type": "code",
   "execution_count": null,
   "id": "b6de18ea-1b4d-4d66-b0d6-9337e93c0a48",
   "metadata": {},
   "outputs": [],
   "source": [
    "n = int(input())\n",
    "s = []\n",
    "for i in range(n):\n",
    "    s.append(input())\n",
    "s.sort()\n",
    "for item in s:\n",
    "    print(item)"
   ]
  },
  {
   "cell_type": "markdown",
   "id": "4b13ba1f-3443-4bff-9f50-6910b9183e2e",
   "metadata": {},
   "source": [
    "HJ15 求int型正整数在内存中存储时1的个数"
   ]
  },
  {
   "cell_type": "code",
   "execution_count": null,
   "id": "7fa17ee4-693d-4b39-a712-70fe3377a632",
   "metadata": {},
   "outputs": [],
   "source": [
    "while True:\n",
    "    try:\n",
    "        n = int(input())\n",
    "        result = 0\n",
    "        while n != 0:\n",
    "            result += n & 1\n",
    "            n >>= 1\n",
    "        print(result)\n",
    "    except:\n",
    "        break"
   ]
  },
  {
   "cell_type": "markdown",
   "id": "b0e60912-d93c-41fc-b16b-8411670e9d35",
   "metadata": {},
   "source": [
    "HJ16 购物单"
   ]
  },
  {
   "cell_type": "code",
   "execution_count": null,
   "id": "4559f1dd-f346-498b-b52c-7b63590c6594",
   "metadata": {},
   "outputs": [],
   "source": [
    "while True:\n",
    "    try:\n",
    "        n, m = map(int, input().strip().split())\n",
    "        n //= 10\n",
    "        price = [[0 for i in range(3)] for j in range(m + 1)]\n",
    "        value = [[0 for i in range(3)] for j in range(m + 1)]\n",
    "        for i in range(1, m + 1):\n",
    "            # 价格 满意度 主件或者附件\n",
    "            a, b, c = map(int, input().strip().split())\n",
    "            # 主件\n",
    "            if c == 0:\n",
    "                # 该物品的价格\n",
    "                price[i][0] = a // 10\n",
    "                # 该物品的满意度\n",
    "                value[i][0] = b\n",
    "            # 附件\n",
    "            # 由于每个主件最多有两个附件\n",
    "            else:\n",
    "                # 如果第一个附件是空的\n",
    "                if price[c][1] != 0:\n",
    "                    price[c][2] = a // 10\n",
    "                    value[c][2] = b\n",
    "                else:\n",
    "                    price[c][1] = a // 10\n",
    "                    value[c][1] = b\n",
    "        dp = [[0 for i in range(n + 1)] for j in range(m + 1)]\n",
    "        for i in range(1, m + 1):\n",
    "            for j in range(1, n + 1):\n",
    "                a, b = price[i][0], value[i][0]\n",
    "                c, d = price[i][1], value[i][1]\n",
    "                e, f = price[i][2], value[i][2]\n",
    "                dp[i][j] = max(dp[i - 1][j - a] + a * b, dp[i- 1][j]) if j >= a else dp[i - 1][j]\n",
    "                dp[i][j] = max(dp[i - 1][j - a -c] + a * b + c * d, dp[i][j]) if j >= a + c else dp[i][j]\n",
    "                dp[i][j] = max(dp[i - 1][j - a - e] + a * b + e * f, dp[i][j]) if j >= a + e else dp[i][j]\n",
    "                dp[i][j] = max(dp[i - 1][j - a - e - c] + a * b + c * d + e * f, dp[i][j]) if j >= a + c + e else dp[i][j]\n",
    "        print(dp[m][n] * 10)\n",
    "\n",
    "    except:\n",
    "        break"
   ]
  },
  {
   "cell_type": "markdown",
   "id": "d9b8bb38-a49a-48ac-930b-617be8cc1646",
   "metadata": {},
   "source": [
    "HJ17 坐标移动"
   ]
  },
  {
   "cell_type": "code",
   "execution_count": null,
   "id": "c7a8b271-1930-404f-bc44-04e6dc0289e0",
   "metadata": {},
   "outputs": [],
   "source": [
    "import string\n",
    "while True:\n",
    "    try:\n",
    "        start = [0, 0]\n",
    "        s = input().strip().split(';')\n",
    "        for i in range(len(s)):\n",
    "            if len(s[i]) == 0:\n",
    "                continue\n",
    "            num = 0\n",
    "            # 左\n",
    "            if s[i].startswith('A'):\n",
    "                for j in range(1, len(s[i])):\n",
    "                    if s[i][j] in string.digits:\n",
    "                        num = 10 * num + (ord(s[i][j]) - ord('0'))\n",
    "                    else:\n",
    "                        num = 0\n",
    "                        break\n",
    "                start[0] -= num\n",
    "            # 右\n",
    "            elif s[i].startswith('D'):\n",
    "                for j in range(1, len(s[i])):\n",
    "                    if s[i][j] in string.digits:\n",
    "                        num = 10 * num + (ord(s[i][j]) - ord('0'))\n",
    "                    else:\n",
    "                        num = 0\n",
    "                        break\n",
    "                start[0] += num\n",
    "            # 上\n",
    "            elif s[i].startswith('W'):\n",
    "                for j in range(1, len(s[i])):\n",
    "                    if s[i][j] in string.digits:\n",
    "                        num = 10 * num + (ord(s[i][j]) - ord('0'))\n",
    "                    else:\n",
    "                        num = 0\n",
    "                        break\n",
    "                start[1] += num\n",
    "            # 下\n",
    "            elif s[i].startswith('S'):\n",
    "                for j in range(1, len(s[i])):\n",
    "                    if s[i][j] in string.digits:\n",
    "                        num = 10 * num + (ord(s[i][j]) - ord('0'))\n",
    "                    else:\n",
    "                        num = 0\n",
    "                        break\n",
    "                start[1] -= num\n",
    "            else:\n",
    "                continue\n",
    "        print(start[0], start[1], sep=',')\n",
    "    except:\n",
    "        break"
   ]
  },
  {
   "cell_type": "markdown",
   "id": "7e5a7139-6c88-480a-9164-35e4059e0a89",
   "metadata": {},
   "source": [
    "HJ18 识别有效的IP地址和掩码并进行分类统计"
   ]
  },
  {
   "cell_type": "code",
   "execution_count": null,
   "id": "daafb5a0-79ec-4531-a3b4-5dd2a21067c2",
   "metadata": {},
   "outputs": [],
   "source": [
    "result = {'A': 0, 'B': 0, 'C': 0, 'D': 0, 'E': 0, 'FAILED': 0, 'PRIVATE': 0}\n",
    "\n",
    "def check_ip(ip):\n",
    "    items = ip.split('.')\n",
    "    if len(items) != 4:\n",
    "        return False\n",
    "    for i in range(len(items)):\n",
    "        if len(items[i]) == 0:\n",
    "            return False\n",
    "        if int(items[i]) < 0 or int(items[i]) > 255:\n",
    "            return False\n",
    "    return True\n",
    "\n",
    "def check_pri_ip(ip):\n",
    "    items = ip.split('.')\n",
    "    if items[0] == '10':\n",
    "        return True\n",
    "    if items[0] == '172' and 16 <= int(items[1]) <= 31:\n",
    "        return True\n",
    "    if items[0] == '192' and items[1] == '168':\n",
    "        return True\n",
    "    return False\n",
    "\n",
    "def check_mask(mask):\n",
    "    # 子网掩码是特殊的 IP\n",
    "    if not check_ip(mask):\n",
    "        return False\n",
    "    if mask == '255.255.255.255' or mask == '0.0.0.0':\n",
    "        return False\n",
    "    items = mask.split('.')\n",
    "    mask_bits = []\n",
    "    for i in range(len(items)):\n",
    "        item = bin(int(items[i]))\n",
    "        # 去掉 ob\n",
    "        item = item[2:]\n",
    "        mask_bits.append(item.zfill(8))\n",
    "    whole_mask = ''.join(mask_bits)\n",
    "    left = whole_mask.find('0')\n",
    "    right = whole_mask.rfind('1')\n",
    "    # 子网掩码的特点是 一串连续的 1 以及一串连续的 0\n",
    "    if right + 1 == left:\n",
    "        return True\n",
    "    return False\n",
    "\n",
    "while True:\n",
    "    try:\n",
    "        ip, mask = input().strip().split('~')\n",
    "        if check_ip(ip):\n",
    "            num = int(ip.split('.')[0])\n",
    "            if num == 0 or num == 127:\n",
    "                continue\n",
    "            if check_mask(mask):\n",
    "                if check_pri_ip(ip):\n",
    "                    result['PRIVATE'] += 1\n",
    "                if num < 127:\n",
    "                    result['A'] += 1\n",
    "                elif num <= 191:\n",
    "                    result['B'] += 1\n",
    "                elif num <= 223:\n",
    "                    result['C'] += 1\n",
    "                elif num <= 239:\n",
    "                    result['D'] += 1\n",
    "                elif num <= 255:\n",
    "                    result['E'] += 1\n",
    "                else:\n",
    "                    continue\n",
    "            else:\n",
    "                result['FAILED'] += 1\n",
    "        else:\n",
    "            result['FAILED'] += 1\n",
    "    except:\n",
    "        break\n",
    "for value in result.values():\n",
    "    print(value, end=' ')"
   ]
  },
  {
   "cell_type": "code",
   "execution_count": null,
   "id": "6f99118e-f5a7-4881-9309-19ee47ce0ff3",
   "metadata": {},
   "outputs": [],
   "source": []
  },
  {
   "cell_type": "code",
   "execution_count": null,
   "id": "614466e0-ed9d-4206-abba-143e9ea5bfdb",
   "metadata": {},
   "outputs": [],
   "source": []
  },
  {
   "cell_type": "markdown",
   "id": "5580b1f6-7832-4f3a-b147-84d291ed6071",
   "metadata": {},
   "source": [
    "HJ20 密码验证合格程序"
   ]
  },
  {
   "cell_type": "code",
   "execution_count": null,
   "id": "98b54c6a-22e0-4f02-963f-af2103eb68ce",
   "metadata": {},
   "outputs": [],
   "source": [
    "import re\n",
    "while True:\n",
    "    try:\n",
    "        s = input()\n",
    "        n = len(s)\n",
    "        if n <= 8:\n",
    "            print('NG')\n",
    "            continue\n",
    "        # 只要出现过三种即可\n",
    "        regexs = [r'\\d', r'[A-Z]', r'[a-z]', '[^A-Za-z0-9]']\n",
    "        count = 0\n",
    "        for regex in regexs:\n",
    "            if len(re.findall(regex, s)) >= 1:\n",
    "                count += 1\n",
    "        if count < 3:\n",
    "            print('NG')\n",
    "            continue\n",
    "        for i in range(n - 4):\n",
    "            if s.count(s[i: i+3]) > 1:\n",
    "                print('NG')\n",
    "                break\n",
    "        else:\n",
    "            print('OK')\n",
    "    except:\n",
    "        break"
   ]
  },
  {
   "cell_type": "markdown",
   "id": "39931e8b-ae65-45d4-9e68-46a7bc3f0e7f",
   "metadata": {},
   "source": [
    "HJ21 简单密码"
   ]
  },
  {
   "cell_type": "code",
   "execution_count": null,
   "id": "e8f342cf-e296-425f-9a39-58a79b1db815",
   "metadata": {},
   "outputs": [],
   "source": [
    "char2digit = {\n",
    "    'a': 2,\n",
    "    'b': 2,\n",
    "    'c': 2,\n",
    "    'd': 3,\n",
    "    'e': 3,\n",
    "    'f': 3,\n",
    "    'g': 4,\n",
    "    'h': 4,\n",
    "    'i': 4,\n",
    "    'j': 5,\n",
    "    'k': 5,\n",
    "    'l': 5,\n",
    "    'm': 6,\n",
    "    'n': 6,\n",
    "    'o': 6,\n",
    "    'p': 7,\n",
    "    'q': 7,\n",
    "    'r': 7,\n",
    "    's': 7,\n",
    "    't': 8,\n",
    "    'u': 8,\n",
    "    'v': 8,\n",
    "    'w': 9,\n",
    "    'x': 9,\n",
    "    'y': 9,\n",
    "    'z': 9   \n",
    "}\n",
    "import string\n",
    "while True:\n",
    "    try:\n",
    "        s = input()\n",
    "        result = []\n",
    "        for c in s:\n",
    "            if c in string.ascii_lowercase:\n",
    "                result.append(str(char2digit.get(c)))\n",
    "            elif c in string.ascii_uppercase:\n",
    "                result.append(chr((ord(c.lower()) - ord('a') + 1) % 26 + ord('a')))\n",
    "            else:\n",
    "                result.append(c)\n",
    "        print(''.join(result))\n",
    "    except:\n",
    "        break"
   ]
  },
  {
   "cell_type": "markdown",
   "id": "e225efca-4cea-4f15-a8a0-a5073662be18",
   "metadata": {},
   "source": [
    "HJ22 汽水瓶"
   ]
  },
  {
   "cell_type": "code",
   "execution_count": null,
   "id": "d70a1372-9268-42db-af4b-5d00806a9087",
   "metadata": {},
   "outputs": [],
   "source": [
    "def recursion(n):\n",
    "    # 没有空瓶子或者只有一个空瓶子啥也喝不着\n",
    "    if n <= 1:\n",
    "        return 0\n",
    "    # 手上有两个空瓶子向老板借一个凑成三个换一瓶再还给老板一个\n",
    "    if n == 2:\n",
    "        return 1\n",
    "    temp = n // 3\n",
    "    return temp + recursion(temp + n % 3)\n",
    "\n",
    "while True:\n",
    "    n = int(input())\n",
    "    if n == 0:\n",
    "        break\n",
    "    print(recursion(n))"
   ]
  },
  {
   "cell_type": "markdown",
   "id": "f4a32bbf-c56d-459b-92f7-a47598ddcf20",
   "metadata": {},
   "source": [
    "HJ23 删除字符串中出现次数最少的字符"
   ]
  },
  {
   "cell_type": "code",
   "execution_count": null,
   "id": "bbebb418-beac-4378-920b-536929960dc7",
   "metadata": {},
   "outputs": [],
   "source": [
    "while True:\n",
    "    try:\n",
    "        s = input()\n",
    "        HashMap = {}\n",
    "        for c in s:\n",
    "            if HashMap.get(c) == None:\n",
    "                HashMap[c] = 1\n",
    "            else:\n",
    "                HashMap[c] += 1\n",
    "        minValue = min(HashMap.values())\n",
    "        result = []\n",
    "        for c in s:\n",
    "            if HashMap.get(c) != minValue:\n",
    "                result.append(c)\n",
    "        print(''.join(result))\n",
    "    except:\n",
    "        break"
   ]
  },
  {
   "cell_type": "code",
   "execution_count": null,
   "id": "4792457d-2851-4f5b-981d-c1fd45e20624",
   "metadata": {},
   "outputs": [],
   "source": []
  },
  {
   "cell_type": "code",
   "execution_count": null,
   "id": "d8203a5e-e85c-49d1-9ad7-21d350f1a574",
   "metadata": {},
   "outputs": [],
   "source": []
  },
  {
   "cell_type": "code",
   "execution_count": null,
   "id": "09727bc8-6350-4807-b9ee-6d72bc8ad9a9",
   "metadata": {},
   "outputs": [],
   "source": []
  },
  {
   "cell_type": "code",
   "execution_count": null,
   "id": "9c7c71e0-ece3-409b-8ffe-6b46d979c877",
   "metadata": {},
   "outputs": [],
   "source": []
  },
  {
   "cell_type": "markdown",
   "id": "9c194c3f-7227-4cb0-a2f0-9b3e89b83600",
   "metadata": {},
   "source": [
    "HJ26 字符串排序"
   ]
  },
  {
   "cell_type": "code",
   "execution_count": null,
   "id": "ff56e5fc-4aa4-4a2c-9120-b3292e6fbe90",
   "metadata": {},
   "outputs": [],
   "source": [
    "while True:\n",
    "    try:\n",
    "        s = input()\n",
    "        n = len(s)\n",
    "        stack = []\n",
    "        for i in range(26):\n",
    "            for j in range(n):\n",
    "                # 将 s 中所有英文字母不区分大小写排列\n",
    "                # 将 s 中所有英文字母按照输入顺序排列\n",
    "                if ord(s[j]) - ord('a') == i or ord(s[j]) - ord('A') == i:\n",
    "                    stack.append(s[j])\n",
    "        result = []\n",
    "        for c in s:\n",
    "            result.append(c)\n",
    "        i, k = 0, 0\n",
    "        while i < n and k < len(stack):\n",
    "            # 替换所有英文字母\n",
    "            if 'a' <= result[i] <= 'z' or 'A' <= result[i] <= 'Z':\n",
    "                result[i] = stack[k]\n",
    "                k += 1\n",
    "            i += 1\n",
    "        print(''.join(result))\n",
    "    except:\n",
    "        break"
   ]
  },
  {
   "cell_type": "code",
   "execution_count": null,
   "id": "aea52871-2a50-4d95-9337-2733c6c15df8",
   "metadata": {},
   "outputs": [],
   "source": []
  },
  {
   "cell_type": "code",
   "execution_count": null,
   "id": "2b812c59-bbe2-4fd2-b15d-e25c0497b5e9",
   "metadata": {},
   "outputs": [],
   "source": [
    "while True:\n",
    "    try:\n",
    "        inputs = input().split()\n",
    "        words = inputs[1:-2]\n",
    "        keyword = inputs[-2]\n",
    "        index = int(inputs[-1])\n",
    "        result = []\n",
    "        for word in words:\n",
    "            if word == keyword:\n",
    "                continue\n",
    "            if sorted(word) == sorted(inputs[-2]):\n",
    "                result.append(word)\n",
    "        result.sort()\n",
    "        length = len(result)\n",
    "        print(length)\n",
    "        if 0 <= index - 1 < length:\n",
    "            print(result[index - 1])\n",
    "    except:\n",
    "        break"
   ]
  },
  {
   "cell_type": "code",
   "execution_count": null,
   "id": "1dea5908-f811-401d-a761-783e2e1f0775",
   "metadata": {},
   "outputs": [],
   "source": []
  },
  {
   "cell_type": "code",
   "execution_count": null,
   "id": "34e2187c-c398-476c-9733-5bf1c3a66aa1",
   "metadata": {},
   "outputs": [],
   "source": []
  },
  {
   "cell_type": "markdown",
   "id": "73855610-cf95-4233-8a7f-2e836b6fa8c6",
   "metadata": {},
   "source": [
    "HJ29 字符串加解密"
   ]
  },
  {
   "cell_type": "code",
   "execution_count": null,
   "id": "545a5044-a123-4d3c-a807-9244a1b2d6f7",
   "metadata": {},
   "outputs": [],
   "source": [
    "import string\n",
    "while True:\n",
    "    try:\n",
    "        s = input()\n",
    "        s1 = input()\n",
    "        # encrypt\n",
    "        encrypt = []\n",
    "        for c in s:\n",
    "            # 小写字母\n",
    "            if c in string.ascii_lowercase:\n",
    "                encrypt.append(chr((ord(c.upper()) - ord('A') + 1) % 26 + ord('A')))\n",
    "            # 大写字母\n",
    "            elif c in string.ascii_uppercase:\n",
    "                encrypt.append(chr((ord(c.lower()) - ord('a') + 1) % 26 + ord('a')))\n",
    "            # 数字\n",
    "            elif c in string.digits:\n",
    "                encrypt.append(chr((ord(c) - ord('0') + 1) % 10 + ord('0')))\n",
    "            else:\n",
    "                encrypt.append(c)\n",
    "        print(''.join(encrypt))\n",
    "        decrypt = []\n",
    "        for c in s1:\n",
    "            if c in string.ascii_lowercase:\n",
    "                decrypt.append(chr((ord(c.upper()) - ord('A') - 1) % 26 + ord('A')))\n",
    "            elif c in string.ascii_uppercase:\n",
    "                decrypt.append(chr((ord(c.lower()) - ord('a') - 1) % 26 + ord('a')))\n",
    "            # 数字\n",
    "            elif c in string.digits:\n",
    "                decrypt.append(chr((ord(c) - ord('0') - 1) % 10 + ord('0')))\n",
    "            else:\n",
    "                decrypt.append(c)\n",
    "        print(''.join(decrypt))\n",
    "    except:\n",
    "        break"
   ]
  },
  {
   "cell_type": "markdown",
   "id": "6977738c-6338-4bba-822d-7e1d95bf1ac7",
   "metadata": {},
   "source": [
    "HJ30 字符串合并处理"
   ]
  },
  {
   "cell_type": "code",
   "execution_count": null,
   "id": "4284f564-e533-44ea-8e5f-ac8b4ff782e7",
   "metadata": {},
   "outputs": [],
   "source": [
    "transform = {'0': '0000', '1': '1000', '2': '0100', '3': '1100', '4': '0010', '5': '1010',\n",
    "     '6': '0110', '7': '1110', '8': '0001', '9': '1001', 'a': '0101', 'b': '1101',\n",
    "     'c': '0011', 'd': '1011', 'e': '0111', 'f': '1111', 'A': '0101', 'B': '1101',\n",
    "     'C': '0011', 'D': '1011', 'E': '0111', 'F': '1111'}\n",
    "h = {0: '0', 1: '1', 2: '2', 3: '3', 4: '4', 5: '5', 6: '6',\n",
    "     7: '7', 8: '8', 9: '9', 10: 'A', 11: 'B', 12: 'C', 13: 'D',\n",
    "     14: 'E', 15: 'F'}\n",
    "\n",
    "for k, v in transform.items():\n",
    "    transform[k] = h.get(int(v, 2))\n",
    "\n",
    "while True:\n",
    "    try:\n",
    "        a, b = input().strip().split()\n",
    "        s = ''.join([a, b])\n",
    "        e = sorted(s[::2], key=ord)\n",
    "        o = sorted(s[1::2], key=ord)\n",
    "        c, j, k = [], 0, 0\n",
    "        for i in range(len(e) + len(o)):\n",
    "            # 奇\n",
    "            if i & 1 == 1:\n",
    "                c.append(o[j])\n",
    "                j += 1\n",
    "            # 偶\n",
    "            else:\n",
    "                c.append(e[k])\n",
    "                k += 1\n",
    "        result = []\n",
    "        for i in range(len(c)):\n",
    "            if c[i] in transform.keys():\n",
    "                result.append(transform.get(c[i]))\n",
    "            else:\n",
    "                result.append(c[i])\n",
    "        print(''.join(result))\n",
    "    except:\n",
    "        break"
   ]
  },
  {
   "cell_type": "markdown",
   "id": "17797b34-b96a-4243-999c-9a4121f6ce22",
   "metadata": {},
   "source": [
    "HJ31 单词倒排"
   ]
  },
  {
   "cell_type": "code",
   "execution_count": null,
   "id": "832c9522-e734-4494-8fb8-6c06f62a16ed",
   "metadata": {},
   "outputs": [],
   "source": [
    "import string\n",
    "\n",
    "def reverse(result, i, j):\n",
    "    while i < j:\n",
    "        result[i], result[j] = result[j], result[i]\n",
    "        i += 1\n",
    "        j -= 1\n",
    "\n",
    "while True:\n",
    "    try:\n",
    "        s = input()\n",
    "        i, n = 0, len(s)\n",
    "        # 找到第一个字母的位置\n",
    "        while i < n and s[i] not in string.ascii_letters:\n",
    "            i += 1\n",
    "        result = []\n",
    "        for j in range(i, n):\n",
    "            # 不是字母\n",
    "            if s[j] not in string.ascii_letters:\n",
    "                if result[- 1] == ' ':\n",
    "                    continue\n",
    "                else:\n",
    "                    result.append(' ')\n",
    "            else:\n",
    "                # 是字母\n",
    "                result.append(s[j])\n",
    "        reverse(result, 0, len(result) - 1)\n",
    "\n",
    "        start = 0\n",
    "        for i in range(len(result)):\n",
    "            if result[i] == ' ':\n",
    "                reverse(result, start, i - 1)\n",
    "                start = i + 1\n",
    "        else:\n",
    "            reverse(result, start, len(result) - 1)\n",
    "        print(''.join(result))\n",
    "    except:\n",
    "        break"
   ]
  },
  {
   "cell_type": "markdown",
   "id": "aa1b29bc-a134-4206-bdd5-8d5c8a6728db",
   "metadata": {},
   "source": [
    "HJ32 密码截取"
   ]
  },
  {
   "cell_type": "code",
   "execution_count": null,
   "id": "0c32dea4-8e1a-4be7-859d-0c6bbabd1011",
   "metadata": {},
   "outputs": [],
   "source": [
    "# Manacher\n",
    "# 检测最长回文子串\n",
    "while True:\n",
    "    try:\n",
    "        s = input()\n",
    "        s1, i = [], 0\n",
    "        while i < len(s):\n",
    "            if len(s1) & 1 == 0:\n",
    "                s1.append('#')\n",
    "            else:\n",
    "                s1.append(s[i])\n",
    "                i += 1\n",
    "        else:\n",
    "            s1.append('#')\n",
    "        result, n = [], len(s1)\n",
    "        for i in range(n):\n",
    "            if i == 0 or i == n - 1:\n",
    "                result.append(1)\n",
    "            else:\n",
    "                j, k = i - 1, i + 1\n",
    "                step = 0\n",
    "                while j >= 0 and k < len(s1):\n",
    "                    if s1[j] == s1[k]:\n",
    "                        j -= 1\n",
    "                        k += 1\n",
    "                        step += 1\n",
    "                    else:\n",
    "                        break\n",
    "                result.append(1 + 2 * step)\n",
    "        print(max(result) // 2)\n",
    "    except:\n",
    "        break"
   ]
  },
  {
   "cell_type": "markdown",
   "id": "7173f7e6-7119-4479-9dbf-02c0c03c416d",
   "metadata": {},
   "source": [
    "HJ33 整数与IP地址间的转换"
   ]
  },
  {
   "cell_type": "code",
   "execution_count": null,
   "id": "b0d7e1c7-65c0-4daa-a010-75202dd4c7f0",
   "metadata": {},
   "outputs": [],
   "source": [
    "while True:\n",
    "    try:\n",
    "        items = input().split('.')\n",
    "        n = int(input())\n",
    "        result = []\n",
    "        for item in items:\n",
    "            result.append(bin(int(item))[2:].zfill(8))\n",
    "        print(int(''.join(result), 2))\n",
    "        bits = []\n",
    "        for i in range(32):\n",
    "            if n & 1 == 1:\n",
    "                bits.append('1')\n",
    "            else:\n",
    "                bits.append('0')\n",
    "            n >>= 1\n",
    "        bits.reverse()\n",
    "        result = [str(int(''.join(bits[0:8]), 2)), str(int(''.join(bits[8:16]), 2)), \n",
    "                  str(int(''.join(bits[16:24]), 2)), str(int(''.join(bits[24:]), 2))]\n",
    "        print('.'.join(result))\n",
    "    except:\n",
    "        break"
   ]
  },
  {
   "cell_type": "markdown",
   "id": "1bcac615-7408-429d-b786-dc14a2c8e856",
   "metadata": {},
   "source": [
    "HJ34 图片整理"
   ]
  },
  {
   "cell_type": "code",
   "execution_count": null,
   "id": "41f6eada-4ba9-4203-a1fb-7642a32c6bf3",
   "metadata": {},
   "outputs": [],
   "source": [
    "s = input()\n",
    "\n",
    "s = list(s)\n",
    "s = sorted(s, key=ord)\n",
    "print(''.join(s))"
   ]
  },
  {
   "cell_type": "markdown",
   "id": "da7cf39c-5241-4258-b865-7c4d5b445327",
   "metadata": {},
   "source": [
    "HJ35 蛇形矩阵"
   ]
  },
  {
   "cell_type": "code",
   "execution_count": null,
   "id": "5ea02748-f3f9-4820-a74b-e3d59e2a62d7",
   "metadata": {},
   "outputs": [],
   "source": [
    "\"\"\"观察矩阵可以发现 matrix[i][j] = 1 + matrix[i + 1][j - 1]\n",
    "\"\"\"\n",
    "while True:\n",
    "    try:\n",
    "        n = int(input().strip())\n",
    "        matrix = [[0 for i in range(n)] for j in range(n)]\n",
    "        # 初始化第一列\n",
    "        a = 1\n",
    "        for i in range(n):\n",
    "            matrix[i][0] = a\n",
    "            a = matrix[i][0] + (i + 1)\n",
    "        # 列\n",
    "        for j in range(1, n):\n",
    "            # 行\n",
    "            for i in range(n - j):\n",
    "                matrix[i][j] = matrix[i + 1][j - 1] + 1\n",
    "        for i in range(n):\n",
    "            for j in range(n - i):\n",
    "                print(matrix[i][j], end=' ')\n",
    "            print()\n",
    "    except:\n",
    "        break"
   ]
  },
  {
   "cell_type": "markdown",
   "id": "263d0da1-7528-4c37-9cd1-853dfb7f0963",
   "metadata": {},
   "source": [
    "HJ36 字符串加密"
   ]
  },
  {
   "cell_type": "code",
   "execution_count": null,
   "id": "4dd9d52c-797d-4d3e-b13b-a9b910a7eea8",
   "metadata": {},
   "outputs": [],
   "source": [
    "import string\n",
    "KEYWORD = string.ascii_lowercase\n",
    "\n",
    "while True:\n",
    "    try:\n",
    "        # 先输入 key 再输入需要加密的消息\n",
    "        key = input().lower()\n",
    "        msg = input().lower()\n",
    "        a = []\n",
    "        # 去掉 key 中重复的字符\n",
    "        for char in key:\n",
    "            if char not in a:\n",
    "                a.append(char)\n",
    "        b = []\n",
    "        # 凑够 26 个字母\n",
    "        for char in KEYWORD:\n",
    "            if char not in a:\n",
    "                b.append(char)\n",
    "        string = ''.join(a + b)\n",
    "        # 建立映射关系\n",
    "        d = dict(zip(KEYWORD, string))\n",
    "        c = []\n",
    "        for item in msg:\n",
    "            c.append(d.get(item))\n",
    "        print(''.join(c))\n",
    "    except:\n",
    "        break"
   ]
  },
  {
   "cell_type": "markdown",
   "id": "154d9e96-db65-4028-9966-c1b4a13b2603",
   "metadata": {},
   "source": [
    "HJ37 统计每个月兔子的总数"
   ]
  },
  {
   "cell_type": "code",
   "execution_count": null,
   "id": "8b10736d-3318-4473-a27e-2a5c558dc3fc",
   "metadata": {},
   "outputs": [],
   "source": [
    "while True:\n",
    "    try:\n",
    "        n = int(input().strip())\n",
    "        if n <= 2:\n",
    "            print(1)\n",
    "            continue\n",
    "        a, b, c = 1, 1, 2\n",
    "        for i in range(2, n):\n",
    "            c = a + b\n",
    "            a = b\n",
    "            b = c\n",
    "        print(c)\n",
    "    except:\n",
    "        break"
   ]
  },
  {
   "cell_type": "code",
   "execution_count": null,
   "id": "532bf0a6-8b40-4709-bce7-f2737a104858",
   "metadata": {},
   "outputs": [],
   "source": []
  },
  {
   "cell_type": "code",
   "execution_count": null,
   "id": "f03e9053-f76d-417b-a3d9-3026185d0542",
   "metadata": {},
   "outputs": [],
   "source": []
  },
  {
   "cell_type": "code",
   "execution_count": null,
   "id": "d96f3f4f-68dc-403e-aa83-cb06e4d99003",
   "metadata": {},
   "outputs": [],
   "source": []
  },
  {
   "cell_type": "code",
   "execution_count": null,
   "id": "daf22db4-fdba-494f-a2d3-68e17571f732",
   "metadata": {},
   "outputs": [],
   "source": []
  },
  {
   "cell_type": "code",
   "execution_count": null,
   "id": "11116531-364c-48a3-8d00-190c48bc11db",
   "metadata": {},
   "outputs": [],
   "source": []
  },
  {
   "cell_type": "code",
   "execution_count": null,
   "id": "8631228e-a673-4354-ae09-4aceb59c2597",
   "metadata": {},
   "outputs": [],
   "source": []
  },
  {
   "cell_type": "code",
   "execution_count": null,
   "id": "31fa073a-7849-4912-bbc5-6fff98979b53",
   "metadata": {},
   "outputs": [],
   "source": []
  },
  {
   "cell_type": "code",
   "execution_count": null,
   "id": "b86b41e9-c0f2-47b5-a634-6fc3fc47463f",
   "metadata": {},
   "outputs": [],
   "source": []
  },
  {
   "cell_type": "code",
   "execution_count": null,
   "id": "9a7b35f1-ff72-4b94-bd74-274acebe12fc",
   "metadata": {},
   "outputs": [],
   "source": []
  },
  {
   "cell_type": "code",
   "execution_count": null,
   "id": "a9ca8dcd-6c41-4ae7-a74b-cf163a5f2d00",
   "metadata": {},
   "outputs": [],
   "source": []
  },
  {
   "cell_type": "code",
   "execution_count": null,
   "id": "3d4fafaf-2ffa-484b-8b10-8b99f167b3c2",
   "metadata": {},
   "outputs": [],
   "source": []
  },
  {
   "cell_type": "code",
   "execution_count": null,
   "id": "d5d7c3b9-9879-47e3-a9b6-c9a7e01a157c",
   "metadata": {},
   "outputs": [],
   "source": []
  },
  {
   "cell_type": "code",
   "execution_count": null,
   "id": "38897301-ecf3-4f0f-b6ce-7bc17626604f",
   "metadata": {},
   "outputs": [],
   "source": []
  },
  {
   "cell_type": "code",
   "execution_count": null,
   "id": "7da4bbbf-c19a-48d2-9df7-2c83a841bb0a",
   "metadata": {},
   "outputs": [],
   "source": []
  },
  {
   "cell_type": "markdown",
   "id": "dea98469-5e57-43d6-b695-9ab82b259c31",
   "metadata": {},
   "source": [
    "HJ45 名字的漂亮度"
   ]
  },
  {
   "cell_type": "code",
   "execution_count": null,
   "id": "fb8c1970-a3eb-4def-9166-582b98bb6257",
   "metadata": {},
   "outputs": [],
   "source": [
    "while True:\n",
    "    try:\n",
    "        n = int(input())\n",
    "        for i in range(n):\n",
    "            s = input().lower()\n",
    "            HashMap = {}\n",
    "            for c in s:\n",
    "                if HashMap.get(c) == None:\n",
    "                    HashMap[c] = 1\n",
    "                else:\n",
    "                    HashMap[c] += 1\n",
    "            items = sorted(HashMap.items(), key=lambda x: x[1])\n",
    "            b = 26 # 漂亮度\n",
    "            result = 0\n",
    "            for i in range(len(items) - 1, -1, -1):\n",
    "                result += b * items[i][1]\n",
    "                b -= 1\n",
    "            print(result)\n",
    "    except:\n",
    "        break"
   ]
  },
  {
   "cell_type": "code",
   "execution_count": null,
   "id": "e5cab586-ef3b-4b2e-a1fc-f2b2a490a945",
   "metadata": {},
   "outputs": [],
   "source": []
  },
  {
   "cell_type": "code",
   "execution_count": null,
   "id": "c6cb36cb-1ba8-4a03-8dc2-2f99a8d980aa",
   "metadata": {},
   "outputs": [],
   "source": []
  },
  {
   "cell_type": "code",
   "execution_count": null,
   "id": "1e82e7f0-83b8-47ec-8f7e-a4b3cfad98a3",
   "metadata": {},
   "outputs": [],
   "source": []
  },
  {
   "cell_type": "code",
   "execution_count": null,
   "id": "99c15336-1949-4daa-aa38-4b7b5032d211",
   "metadata": {},
   "outputs": [],
   "source": []
  },
  {
   "cell_type": "code",
   "execution_count": null,
   "id": "bbb9eede-7cb2-4680-992a-da5626ecccb7",
   "metadata": {},
   "outputs": [],
   "source": []
  },
  {
   "cell_type": "code",
   "execution_count": null,
   "id": "5a188414-f560-41ef-9e3e-6a37525651a8",
   "metadata": {},
   "outputs": [],
   "source": []
  },
  {
   "cell_type": "code",
   "execution_count": null,
   "id": "8ee039af-9132-4239-b87b-b41f3f50a2a4",
   "metadata": {},
   "outputs": [],
   "source": []
  },
  {
   "cell_type": "code",
   "execution_count": null,
   "id": "58044bfc-8725-4579-ac4f-99e8abae1221",
   "metadata": {},
   "outputs": [],
   "source": []
  },
  {
   "cell_type": "markdown",
   "id": "d8b1c8eb-69a2-429d-8437-a2902c9bc157",
   "metadata": {},
   "source": [
    "HJ50 四则运算"
   ]
  },
  {
   "cell_type": "code",
   "execution_count": null,
   "id": "a0d83b14-81fe-41cf-ab1b-465c44afb2b5",
   "metadata": {},
   "outputs": [],
   "source": [
    "def calc(s, index, n):\n",
    "    stack = []\n",
    "    num = 0\n",
    "    op = '+'\n",
    "    while index < n:\n",
    "        if s[index] >= '0' and s[index] <= '9':\n",
    "            num = num * 10 + (ord(s[index]) - ord('0'))\n",
    "        if s[index] == '+' or s[index] == '-' or s[index] == '*' or s[index] == '/':\n",
    "            if op == '+':\n",
    "                stack.append(num)\n",
    "            elif op == '-':\n",
    "                stack.append(-num)\n",
    "            elif op == '*':\n",
    "                stack.append(stack.pop() * num)\n",
    "            else:\n",
    "                stack.append(stack.pop() / num)\n",
    "            op = s[index]\n",
    "            num = 0\n",
    "        if s[index] == '[' or s[index] == '(' or s[index] == '{':\n",
    "            subproblem = calc(s, index + 1, n)\n",
    "            index = subproblem[1]\n",
    "            num = subproblem[0]\n",
    "            continue\n",
    "        if s[index] == '}' or s[index] == ']' or s[index] == ')':\n",
    "            break\n",
    "        index += 1\n",
    "    \n",
    "    if num != 0:\n",
    "        if op == '+':\n",
    "            stack.append(num)\n",
    "        elif op == '-':\n",
    "            stack.append(-num)\n",
    "        elif op == '*':\n",
    "            stack.append(stack.pop() * num)\n",
    "        else:\n",
    "            stack.append(stack.pop() / num)\n",
    "    return sum(stack), index + 1\n",
    "\n",
    "while True:\n",
    "    try:\n",
    "        s = input()\n",
    "        print(int(calc(s, 0, len(s))[0]))\n",
    "    except:\n",
    "        break"
   ]
  },
  {
   "cell_type": "markdown",
   "id": "ed75d99c-7f4a-4ea7-9037-780e2990d276",
   "metadata": {},
   "source": [
    "HJ51 输出单向链表中倒数第k个结点"
   ]
  },
  {
   "cell_type": "code",
   "execution_count": null,
   "id": "eb3d90c0-e7fc-431c-b8c3-37c15f9266f1",
   "metadata": {},
   "outputs": [],
   "source": [
    "while True:\n",
    "    try:\n",
    "        n = int(input())\n",
    "        array = list(map(int, input().strip().split()))\n",
    "        k = int(input())\n",
    "        if k == 0:\n",
    "            print(array[0])\n",
    "        else:\n",
    "            print(array[len(array) - k])\n",
    "    except:\n",
    "        break"
   ]
  },
  {
   "cell_type": "code",
   "execution_count": null,
   "id": "9bb03bdc-2fd3-4b4a-8653-1dc61735af54",
   "metadata": {},
   "outputs": [],
   "source": []
  },
  {
   "cell_type": "code",
   "execution_count": null,
   "id": "c15d0b2d-48a7-4409-b5b5-60ae30e26424",
   "metadata": {},
   "outputs": [],
   "source": []
  },
  {
   "cell_type": "code",
   "execution_count": null,
   "id": "324ca023-a99f-4443-9daf-21f90c5f4f25",
   "metadata": {},
   "outputs": [],
   "source": []
  },
  {
   "cell_type": "code",
   "execution_count": null,
   "id": "7e8afec3-00d4-481a-b135-e07ae329a8f0",
   "metadata": {},
   "outputs": [],
   "source": []
  },
  {
   "cell_type": "markdown",
   "id": "34e9ed78-7cc7-4c02-880f-71dad6e0f74d",
   "metadata": {},
   "source": [
    "HJ54 表达式求值"
   ]
  },
  {
   "cell_type": "code",
   "execution_count": null,
   "id": "0e8ebfd4-ada5-49f7-a211-982894a3cb81",
   "metadata": {},
   "outputs": [],
   "source": [
    "def calc(s, index, n):\n",
    "    stack = []\n",
    "    num = 0\n",
    "    op = '+'\n",
    "    while index < n:\n",
    "        if s[index] >= '0' and s[index] <= '9':\n",
    "            num = num * 10 + (ord(s[index]) - ord('0'))\n",
    "        if s[index] == '+' or s[index] == '-' or s[index] == '*' or s[index] == '/':\n",
    "            if op == '+':\n",
    "                stack.append(num)\n",
    "            elif op == '-':\n",
    "                stack.append(-num)\n",
    "            elif op == '*':\n",
    "                stack.append(stack.pop() * num)\n",
    "            else:\n",
    "                stack.append(stack.pop() / num)\n",
    "            op = s[index]\n",
    "            num = 0\n",
    "        if s[index] == '(':\n",
    "            subproblem = calc(s, index + 1, n)\n",
    "            index = subproblem[1]\n",
    "            num = subproblem[0]\n",
    "            continue\n",
    "        if s[index] == ')':\n",
    "            break\n",
    "        index += 1\n",
    "    \n",
    "    if num != 0:\n",
    "        if op == '+':\n",
    "            stack.append(num)\n",
    "        elif op == '-':\n",
    "            stack.append(-num)\n",
    "        elif op == '*':\n",
    "            stack.append(stack.pop() * num)\n",
    "        else:\n",
    "            stack.append(stack.pop() / num)\n",
    "    return sum(stack), index + 1\n",
    "\n",
    "while True:\n",
    "    try:\n",
    "        s = input()\n",
    "        print(int(calc(s, 0, len(s))[0]))\n",
    "    except:\n",
    "        break"
   ]
  },
  {
   "cell_type": "code",
   "execution_count": null,
   "id": "13780328-522e-43e9-be21-86c8e7255a48",
   "metadata": {},
   "outputs": [],
   "source": []
  },
  {
   "cell_type": "code",
   "execution_count": null,
   "id": "59416be3-1e65-46b5-aec5-0b1dd6fc0232",
   "metadata": {},
   "outputs": [],
   "source": []
  },
  {
   "cell_type": "code",
   "execution_count": null,
   "id": "717e7823-d164-4119-9639-614f092f729f",
   "metadata": {},
   "outputs": [],
   "source": []
  },
  {
   "cell_type": "code",
   "execution_count": null,
   "id": "6e8656ed-eeeb-4fed-8961-cb6bff3b16c8",
   "metadata": {},
   "outputs": [],
   "source": []
  },
  {
   "cell_type": "markdown",
   "id": "82543e02-d965-4d90-bb07-8f4cc24b2530",
   "metadata": {},
   "source": [
    "HJ57 高精度整数加法"
   ]
  },
  {
   "cell_type": "code",
   "execution_count": null,
   "id": "39c2587c-ad45-4c89-8048-85f00c2fffb9",
   "metadata": {},
   "outputs": [],
   "source": [
    "while True:\n",
    "    try:\n",
    "        s = input()\n",
    "        s1 = input()\n",
    "        i, j = len(s) - 1, len(s1) - 1\n",
    "        carry = 0\n",
    "        result = []\n",
    "        while i >= 0 and j >= 0:\n",
    "            s_ = (ord(s[i]) - ord('0')) + carry + (ord(s1[j]) - ord('0'))\n",
    "            carry = s_ // 10\n",
    "            result.append(chr(ord('0') + (s_ % 10)))\n",
    "            i -= 1\n",
    "            j -= 1\n",
    "        while i >= 0:\n",
    "            s_ = (ord(s[i]) - ord('0')) + carry\n",
    "            carry = s_ // 10\n",
    "            result.append(chr(ord('0') + (s_ % 10)))\n",
    "            i -= 1\n",
    "        while j >= 0:\n",
    "            s_ = carry + (ord(s1[j]) - ord('0'))\n",
    "            carry = s_ // 10\n",
    "            result.append(chr(ord('0') + (s_ % 10)))\n",
    "            j -= 1\n",
    "        if carry:\n",
    "            result.append(chr(ord('0') + carry))\n",
    "        start, end = 0, len(result) - 1\n",
    "        while start < end:\n",
    "            result[start], result[end] = result[end], result[start]\n",
    "            start += 1\n",
    "            end -= 1\n",
    "        print(''.join(result))\n",
    "    except:\n",
    "        break"
   ]
  },
  {
   "cell_type": "code",
   "execution_count": null,
   "id": "14de2507-1e77-44cb-b82d-ce28de2dc15c",
   "metadata": {},
   "outputs": [],
   "source": []
  },
  {
   "cell_type": "code",
   "execution_count": null,
   "id": "eb69f567-683d-4afd-a9a6-075c56e3a8e2",
   "metadata": {},
   "outputs": [],
   "source": []
  },
  {
   "cell_type": "code",
   "execution_count": null,
   "id": "26364ead-289f-4aae-ba3a-6e260294618c",
   "metadata": {},
   "outputs": [],
   "source": []
  },
  {
   "cell_type": "code",
   "execution_count": null,
   "id": "338abf72-bd12-47d9-a8f4-541efcd64abd",
   "metadata": {},
   "outputs": [],
   "source": []
  },
  {
   "cell_type": "code",
   "execution_count": null,
   "id": "95de91c0-c530-4089-9610-bd448030cd4f",
   "metadata": {},
   "outputs": [],
   "source": []
  },
  {
   "cell_type": "code",
   "execution_count": null,
   "id": "c1830690-5e78-4524-b4f2-487d7235eb79",
   "metadata": {},
   "outputs": [],
   "source": []
  },
  {
   "cell_type": "code",
   "execution_count": null,
   "id": "5c7aee51-4a86-47da-a1af-8c0d80e9cc19",
   "metadata": {},
   "outputs": [],
   "source": []
  },
  {
   "cell_type": "code",
   "execution_count": null,
   "id": "7908f556-563c-425f-a83f-f6bc603b58e0",
   "metadata": {},
   "outputs": [],
   "source": []
  },
  {
   "cell_type": "code",
   "execution_count": null,
   "id": "ec18a70f-b650-410a-a03b-358d07d0d658",
   "metadata": {},
   "outputs": [],
   "source": []
  },
  {
   "cell_type": "code",
   "execution_count": null,
   "id": "2bcdcea9-c15e-41f4-a3b2-72da6479aa49",
   "metadata": {},
   "outputs": [],
   "source": []
  },
  {
   "cell_type": "code",
   "execution_count": null,
   "id": "89944af8-29f7-4214-bfdd-d93cf74faa2e",
   "metadata": {},
   "outputs": [],
   "source": []
  },
  {
   "cell_type": "code",
   "execution_count": null,
   "id": "e7dbfba8-3273-46a8-b57b-ecbd23ca23e5",
   "metadata": {},
   "outputs": [],
   "source": []
  },
  {
   "cell_type": "code",
   "execution_count": null,
   "id": "84ee71e0-c5ec-4ebb-a9db-36bc2731f698",
   "metadata": {},
   "outputs": [],
   "source": []
  },
  {
   "cell_type": "code",
   "execution_count": null,
   "id": "0cd3197e-8a2c-44f9-9508-5ed000da10da",
   "metadata": {},
   "outputs": [],
   "source": []
  },
  {
   "cell_type": "code",
   "execution_count": null,
   "id": "862ae683-296d-45e7-8221-7ac1451694a3",
   "metadata": {},
   "outputs": [],
   "source": []
  },
  {
   "cell_type": "code",
   "execution_count": null,
   "id": "0ac7d851-da0d-4a76-bd60-358c32a86fc7",
   "metadata": {},
   "outputs": [],
   "source": []
  },
  {
   "cell_type": "code",
   "execution_count": null,
   "id": "99f4f9a1-d3cf-413d-a994-e86085535436",
   "metadata": {},
   "outputs": [],
   "source": []
  },
  {
   "cell_type": "code",
   "execution_count": null,
   "id": "71a3c83c-78f7-437c-850c-afc8eee67129",
   "metadata": {},
   "outputs": [],
   "source": []
  },
  {
   "cell_type": "code",
   "execution_count": null,
   "id": "cc1e7d1b-6c09-4129-a376-b0570d1c970a",
   "metadata": {},
   "outputs": [],
   "source": []
  },
  {
   "cell_type": "code",
   "execution_count": null,
   "id": "e34cb301-d7a9-4614-833f-df87a6581f5e",
   "metadata": {},
   "outputs": [],
   "source": []
  },
  {
   "cell_type": "code",
   "execution_count": null,
   "id": "222e81c2-5c20-4d69-97d5-b2cc7382769c",
   "metadata": {},
   "outputs": [],
   "source": []
  },
  {
   "cell_type": "code",
   "execution_count": null,
   "id": "a35bc88b-2b1d-4be9-a61f-fd03c6c257c0",
   "metadata": {},
   "outputs": [],
   "source": []
  },
  {
   "cell_type": "markdown",
   "id": "1056aafa-032f-4c8c-805d-86db2def2fd4",
   "metadata": {},
   "source": [
    "HJ69 矩阵乘法"
   ]
  },
  {
   "cell_type": "code",
   "execution_count": null,
   "id": "0c4d285c-673c-4c22-bca9-43d96d20cda6",
   "metadata": {},
   "outputs": [],
   "source": [
    "while True:\n",
    "    try:\n",
    "        # 第一个矩阵的行数\n",
    "        row1 = int(input())\n",
    "        # 第二个矩阵的行数和第一个矩阵的列数\n",
    "        row2 = int(input())\n",
    "        # 第二个矩阵的列数\n",
    "        col2 = int(input())\n",
    "        result = [[0 for i in range(col2)] for j in range(row1)]\n",
    "        matrix1 = []\n",
    "        for i in range(row1):\n",
    "            matrix1.append(list(map(int, input().strip().split())))\n",
    "        matrix2 = []\n",
    "        for i in range(row2):\n",
    "            matrix2.append(list(map(int, input().strip().split())))\n",
    "        # 矩阵 A 的行\n",
    "        for i in range(len(result)):\n",
    "            # 矩阵 B 的列\n",
    "            for j in range(len(result[i])):\n",
    "                for k in range(row2):\n",
    "                    result[i][j] += matrix1[i][k] * matrix2[k][j]\n",
    "                print(result[i][j], end=' ')\n",
    "            print()\n",
    "    except:\n",
    "        break"
   ]
  },
  {
   "cell_type": "code",
   "execution_count": null,
   "id": "3cbd1918-b30d-43d7-b959-c3e15808ce34",
   "metadata": {},
   "outputs": [],
   "source": []
  },
  {
   "cell_type": "code",
   "execution_count": null,
   "id": "2511cf42-6689-4ff6-b62a-908541ef0dc9",
   "metadata": {},
   "outputs": [],
   "source": []
  },
  {
   "cell_type": "code",
   "execution_count": null,
   "id": "ea097678-4db1-47c1-ab8f-efbc90f39a9d",
   "metadata": {},
   "outputs": [],
   "source": []
  },
  {
   "cell_type": "code",
   "execution_count": null,
   "id": "66874552-8a37-4dd3-aaf1-786d0a40c35f",
   "metadata": {},
   "outputs": [],
   "source": []
  },
  {
   "cell_type": "markdown",
   "id": "c5b38391-eee4-4668-9662-3dca3ab2894d",
   "metadata": {},
   "source": [
    "HJ72 百钱买百鸡问题"
   ]
  },
  {
   "cell_type": "code",
   "execution_count": null,
   "id": "7acf7f56-a3fa-40c5-b8e1-bfbff0d74991",
   "metadata": {},
   "outputs": [],
   "source": [
    "n = input()\n",
    "for i in range(20):\n",
    "    for j in range(33):\n",
    "        k = 100 - i - j\n",
    "        if k % 3 == 0 and i * 5 + j * 3 + k // 3 == 100:\n",
    "            print(i, j, k)"
   ]
  },
  {
   "cell_type": "code",
   "execution_count": null,
   "id": "e1a6f73a-4597-4ae6-b7e7-9850946ed29e",
   "metadata": {},
   "outputs": [],
   "source": []
  },
  {
   "cell_type": "code",
   "execution_count": null,
   "id": "aaef03bb-3add-4d1b-91cf-29a9cdfe423f",
   "metadata": {},
   "outputs": [],
   "source": []
  },
  {
   "cell_type": "code",
   "execution_count": null,
   "id": "84dfc740-9d65-4df1-80b4-31b1881e6374",
   "metadata": {},
   "outputs": [],
   "source": []
  },
  {
   "cell_type": "code",
   "execution_count": null,
   "id": "01036912-d4f6-4554-8ea7-a8352a3f23fb",
   "metadata": {},
   "outputs": [],
   "source": []
  },
  {
   "cell_type": "code",
   "execution_count": null,
   "id": "fe1a4039-d3c7-46ff-801f-408ebb46da45",
   "metadata": {},
   "outputs": [],
   "source": []
  },
  {
   "cell_type": "code",
   "execution_count": null,
   "id": "27f61a11-9044-401d-a8d6-3d87ac2a6c48",
   "metadata": {},
   "outputs": [],
   "source": []
  },
  {
   "cell_type": "code",
   "execution_count": null,
   "id": "1a497daf-246c-4bc1-b6d7-0ac15451d4e3",
   "metadata": {},
   "outputs": [],
   "source": []
  },
  {
   "cell_type": "code",
   "execution_count": null,
   "id": "d6b58f78-63a5-4a52-9f9f-10eb730c5e08",
   "metadata": {},
   "outputs": [],
   "source": []
  },
  {
   "cell_type": "code",
   "execution_count": null,
   "id": "585aab3d-71a6-4df1-9d2a-094ddddf6b39",
   "metadata": {},
   "outputs": [],
   "source": []
  },
  {
   "cell_type": "code",
   "execution_count": null,
   "id": "644583cd-7018-4940-81c9-e1ef55b7e557",
   "metadata": {},
   "outputs": [],
   "source": []
  },
  {
   "cell_type": "code",
   "execution_count": null,
   "id": "dce387f6-717f-4217-bf51-ee75320078b9",
   "metadata": {},
   "outputs": [],
   "source": []
  },
  {
   "cell_type": "code",
   "execution_count": null,
   "id": "c3501690-154c-4310-81fe-d45d00e647fa",
   "metadata": {},
   "outputs": [],
   "source": []
  },
  {
   "cell_type": "code",
   "execution_count": null,
   "id": "72a9b8c8-fb3b-427a-9f76-85c413272bed",
   "metadata": {},
   "outputs": [],
   "source": []
  },
  {
   "cell_type": "code",
   "execution_count": null,
   "id": "633b4241-9057-48a1-be66-42595410c31a",
   "metadata": {},
   "outputs": [],
   "source": []
  },
  {
   "cell_type": "markdown",
   "id": "9a93ff4b-59f3-4c84-b3b8-e1bf2e0eb793",
   "metadata": {},
   "source": [
    "HJ80 整型数组合并"
   ]
  },
  {
   "cell_type": "code",
   "execution_count": null,
   "id": "c6b0302f-7442-431f-b7d6-c52bdc29d8ee",
   "metadata": {},
   "outputs": [],
   "source": [
    "while True:\n",
    "    try:\n",
    "        n = int(input())\n",
    "        array1 = list(map(int, input().strip().split()))\n",
    "        m = int(input())\n",
    "        array2 = list(map(int, input().strip().split()))\n",
    "        HashMap = {}\n",
    "        result = []\n",
    "        for i in range(len(array1)):\n",
    "            if HashMap.get(array1[i]) == None:\n",
    "                result.append(array1[i])\n",
    "                HashMap[array1[i]] = 1\n",
    "        for i in range(len(array2)):\n",
    "            if HashMap.get(array2[i]) == None:\n",
    "                result.append(array2[i])\n",
    "                HashMap[array2[i]] = 1\n",
    "        result.sort()\n",
    "        for i in range(len(result)):\n",
    "            print(result[i], end='')\n",
    "        print()\n",
    "    except:\n",
    "        break"
   ]
  },
  {
   "cell_type": "code",
   "execution_count": null,
   "id": "de5d9245-c2f8-4869-8a5d-ce0f5d848736",
   "metadata": {},
   "outputs": [],
   "source": []
  },
  {
   "cell_type": "code",
   "execution_count": null,
   "id": "eb69d011-592a-4fd1-9b29-713e6ca7daf6",
   "metadata": {},
   "outputs": [],
   "source": []
  },
  {
   "cell_type": "code",
   "execution_count": null,
   "id": "ad3b7b19-b629-402e-871d-77a310fd6d0a",
   "metadata": {},
   "outputs": [],
   "source": []
  },
  {
   "cell_type": "code",
   "execution_count": null,
   "id": "ab3f9da4-0b37-44af-aa2d-4e5246a10c7b",
   "metadata": {},
   "outputs": [],
   "source": []
  },
  {
   "cell_type": "code",
   "execution_count": null,
   "id": "fbf9d431-a8ac-4748-9e72-70b89f82f91c",
   "metadata": {},
   "outputs": [],
   "source": []
  },
  {
   "cell_type": "code",
   "execution_count": null,
   "id": "e45865a5-1dfa-4a07-84f9-c4a5db553abe",
   "metadata": {},
   "outputs": [],
   "source": []
  },
  {
   "cell_type": "code",
   "execution_count": null,
   "id": "77ae2340-8553-4043-b272-2b5918d74978",
   "metadata": {},
   "outputs": [],
   "source": []
  },
  {
   "cell_type": "code",
   "execution_count": null,
   "id": "e1364f61-426e-4fb7-b667-61b4c4d43fd6",
   "metadata": {},
   "outputs": [],
   "source": []
  },
  {
   "cell_type": "code",
   "execution_count": null,
   "id": "875f1071-76ce-43c9-bee8-035c32811e40",
   "metadata": {},
   "outputs": [],
   "source": []
  },
  {
   "cell_type": "code",
   "execution_count": null,
   "id": "cc1a32b9-5548-49da-8df3-ca16008b6f8e",
   "metadata": {},
   "outputs": [],
   "source": []
  },
  {
   "cell_type": "markdown",
   "id": "123f5607-63d4-41cb-a105-775a832a444b",
   "metadata": {},
   "source": [
    "HJ86 求最大连续bit数"
   ]
  },
  {
   "cell_type": "code",
   "execution_count": null,
   "id": "b0d978d6-b0bb-4373-ba0e-4cb9bb7123bc",
   "metadata": {},
   "outputs": [],
   "source": [
    "while True:\n",
    "    try:\n",
    "        n = int(input())\n",
    "        a = []\n",
    "        b = []\n",
    "        # 求取每一位上的 0 和 1\n",
    "        for _ in range(32):\n",
    "            a.append(n & 0x01)\n",
    "            n = n >> 1\n",
    "        cnt = 0\n",
    "        # 统计连续是 1 的数量\n",
    "        for index in range(32):\n",
    "            if a[index] == 1:\n",
    "                cnt = cnt + 1\n",
    "            else:\n",
    "                b.append(cnt)\n",
    "                cnt = 0\n",
    "        else:\n",
    "            print(max(b))\n",
    "    except:\n",
    "        break"
   ]
  },
  {
   "cell_type": "markdown",
   "id": "88cb45c6-88e2-4296-be5b-fd45fb648cca",
   "metadata": {},
   "source": [
    "HJ87 密码强度等级"
   ]
  },
  {
   "cell_type": "code",
   "execution_count": null,
   "id": "2f27b8f8-9b0b-43c5-9fcb-8a799eed1cac",
   "metadata": {},
   "outputs": [],
   "source": [
    "import re\n",
    "while True:\n",
    "    try:\n",
    "        s = input()\n",
    "        score = 0\n",
    "        n = len(s)\n",
    "        # 规则 1\n",
    "        if n <= 4:\n",
    "            score += 5\n",
    "        elif n >= 5 and n <= 7:\n",
    "            score += 10\n",
    "        else:\n",
    "            score += 25\n",
    "        # 规则 2\n",
    "        rule2 = False\n",
    "        rule2_ = False\n",
    "        if len(re.findall('[a-z]', s)) != 0 and len(re.findall('[A-Z]', s)) != 0:\n",
    "            score += 20\n",
    "            rule2_ = True\n",
    "        elif len(re.findall('[a-z]', s)) != 0 or len(re.findall('[A-Z]', s)) != 0:\n",
    "            score += 10\n",
    "            rule2 = True\n",
    "        else:\n",
    "            score += 0\n",
    "        # 规则 3\n",
    "        rule3 = False\n",
    "        if len(re.findall('\\d', s)) == 1:\n",
    "            score += 10\n",
    "            rule3 = True\n",
    "        elif len(re.findall('\\d', s)) > 1:\n",
    "            score += 20\n",
    "            rule3 = True\n",
    "        else:\n",
    "             score += 0\n",
    "        # 规则 4\n",
    "        rule4 = False\n",
    "        if len(re.findall('[^a-zA-Z0-9]', s)) > 1:\n",
    "            score += 25\n",
    "            rule4 = True\n",
    "        elif len(re.findall('[^a-zA-Z0-9]', s)) == 1:\n",
    "            score += 10\n",
    "            rule4 = True\n",
    "        else:\n",
    "            score += 0\n",
    "        if rule4 and rule3 and rule2_:\n",
    "            score += 5\n",
    "        elif rule2 and rule3 and rule4:\n",
    "            score += 3\n",
    "        elif rule2 and rule3:\n",
    "            score += 2\n",
    "        else:\n",
    "            score += 0\n",
    "        \n",
    "        if score >= 90:\n",
    "            print('VERY_SECURE')\n",
    "        elif score >= 80:\n",
    "            print('SECURE')\n",
    "        elif score >= 70:\n",
    "            print('VERY_STRONG')\n",
    "        elif score >= 60:\n",
    "            print('STRONG')\n",
    "        elif score >= 50:\n",
    "            print('AVERAGE')\n",
    "        elif score >= 25:\n",
    "            print('WEAK')\n",
    "        else:\n",
    "            print('VERY_WEAK')\n",
    "    except:\n",
    "        break"
   ]
  },
  {
   "cell_type": "code",
   "execution_count": null,
   "id": "2ff549c9-1c82-45b9-9275-e2a407113821",
   "metadata": {},
   "outputs": [],
   "source": []
  },
  {
   "cell_type": "code",
   "execution_count": null,
   "id": "b7989e01-6882-4f42-91ce-cec2727a832f",
   "metadata": {},
   "outputs": [],
   "source": []
  },
  {
   "cell_type": "code",
   "execution_count": null,
   "id": "a16761c1-35aa-4fb0-ad74-abe0112e1a47",
   "metadata": {},
   "outputs": [],
   "source": []
  },
  {
   "cell_type": "code",
   "execution_count": null,
   "id": "2fd2bbeb-bd9b-4c79-ab98-e5c68844d90b",
   "metadata": {},
   "outputs": [],
   "source": []
  },
  {
   "cell_type": "code",
   "execution_count": null,
   "id": "2e3e0bf4-8678-47ac-abb5-d8693dc54a87",
   "metadata": {},
   "outputs": [],
   "source": []
  },
  {
   "cell_type": "code",
   "execution_count": null,
   "id": "fdae8eef-2a1c-4526-9f6b-0c859da90bd9",
   "metadata": {},
   "outputs": [],
   "source": []
  },
  {
   "cell_type": "code",
   "execution_count": null,
   "id": "bff396c9-0587-452a-b2cb-295347fb128a",
   "metadata": {},
   "outputs": [],
   "source": []
  },
  {
   "cell_type": "code",
   "execution_count": null,
   "id": "3a939075-8263-44dd-a072-062fbe990a9e",
   "metadata": {},
   "outputs": [],
   "source": []
  },
  {
   "cell_type": "markdown",
   "id": "01c4aef4-25f9-44c3-a3d2-f5ea6bbd152f",
   "metadata": {},
   "source": [
    "HJ92 在字符串中找出连续最长的数字串"
   ]
  },
  {
   "cell_type": "code",
   "execution_count": null,
   "id": "65b754fa-094e-40ee-a24c-04901db02f6d",
   "metadata": {},
   "outputs": [],
   "source": [
    "import string\n",
    "while True:\n",
    "    try:\n",
    "        s = input()\n",
    "        maxValue = 0\n",
    "        items = []\n",
    "        i = 0\n",
    "        while i < len(s):\n",
    "            if s[i] in string.digits:\n",
    "                j = i\n",
    "                while j < len(s) and s[j] in string.digits:\n",
    "                    j += 1\n",
    "                else:\n",
    "                    maxValue = max(maxValue, j - i)\n",
    "                    items.append(s[i:j])\n",
    "                    i = j\n",
    "            else:\n",
    "                i += 1\n",
    "        result = []\n",
    "        for item in items:\n",
    "            if len(item) == maxValue:\n",
    "                result.append(item)\n",
    "        print(''.join(result), end=',')\n",
    "        print(maxValue)\n",
    "    except:\n",
    "        break"
   ]
  },
  {
   "cell_type": "code",
   "execution_count": null,
   "id": "aa432bfa-e911-474a-b8ba-a118c593bb29",
   "metadata": {},
   "outputs": [],
   "source": []
  },
  {
   "cell_type": "code",
   "execution_count": null,
   "id": "ee25aa32-d3d6-442b-9c09-6f048f128fe5",
   "metadata": {},
   "outputs": [],
   "source": []
  },
  {
   "cell_type": "code",
   "execution_count": null,
   "id": "24b906f0-0c69-4044-a433-d14233e21329",
   "metadata": {},
   "outputs": [],
   "source": []
  },
  {
   "cell_type": "code",
   "execution_count": null,
   "id": "c009dee6-e484-404c-aa89-8d416ec0c850",
   "metadata": {},
   "outputs": [],
   "source": []
  },
  {
   "cell_type": "code",
   "execution_count": null,
   "id": "aff282c5-f9e5-4c9f-b8f3-644c65578813",
   "metadata": {},
   "outputs": [],
   "source": []
  },
  {
   "cell_type": "code",
   "execution_count": null,
   "id": "4a9d6f66-7891-40f4-bf23-3132c1ee1aa7",
   "metadata": {},
   "outputs": [],
   "source": []
  },
  {
   "cell_type": "code",
   "execution_count": null,
   "id": "1b885ca8-543c-49ae-8b4d-1ddb29b4f366",
   "metadata": {},
   "outputs": [],
   "source": []
  },
  {
   "cell_type": "code",
   "execution_count": null,
   "id": "e09d30d6-6aed-46fd-aa15-c2fc12740ce4",
   "metadata": {},
   "outputs": [],
   "source": []
  },
  {
   "cell_type": "code",
   "execution_count": null,
   "id": "4454eb9d-9bd6-4751-9e8f-a66f95692da5",
   "metadata": {},
   "outputs": [],
   "source": []
  },
  {
   "cell_type": "code",
   "execution_count": null,
   "id": "224be890-fc29-4e4c-af6d-76239709a8b6",
   "metadata": {},
   "outputs": [],
   "source": []
  },
  {
   "cell_type": "code",
   "execution_count": null,
   "id": "5464b8c8-1263-4026-a902-8fb275c9569a",
   "metadata": {},
   "outputs": [],
   "source": []
  },
  {
   "cell_type": "code",
   "execution_count": null,
   "id": "475fd220-729a-49fa-8e8a-4531c2526eef",
   "metadata": {},
   "outputs": [],
   "source": []
  },
  {
   "cell_type": "markdown",
   "id": "b0db8693-9448-4e9c-99b1-cb823e5b3f9a",
   "metadata": {},
   "source": [
    "HJ99 自守数"
   ]
  },
  {
   "cell_type": "code",
   "execution_count": null,
   "id": "e4f878be-5c31-49b0-8dd4-d49bc3181b71",
   "metadata": {},
   "outputs": [],
   "source": [
    "while True:\n",
    "    try:\n",
    "        n = int(input())\n",
    "        result = 0\n",
    "        for i in range(n+1):\n",
    "            temp = str(i ** 2)\n",
    "            if temp.endswith(str(i)):\n",
    "                result += 1\n",
    "        print(result)\n",
    "    except:\n",
    "        break"
   ]
  },
  {
   "cell_type": "markdown",
   "id": "1d6d0c8e-595f-40c6-8dee-071b3b916d9c",
   "metadata": {},
   "source": [
    "HJ100 等差数列"
   ]
  },
  {
   "cell_type": "code",
   "execution_count": null,
   "id": "5d0d809a-5f6d-4b13-a4bc-e41812e108c6",
   "metadata": {},
   "outputs": [],
   "source": [
    "while True:\n",
    "    try:\n",
    "        n = int(input())\n",
    "        a1 = 2\n",
    "        d = 3\n",
    "        # Sn=n*a1+n(n-1)d/2\n",
    "        print(a1 * n + n * (n - 1) * d // 2)\n",
    "    except:\n",
    "        break"
   ]
  },
  {
   "cell_type": "code",
   "execution_count": null,
   "id": "b080ec2e-df03-43b7-858a-acceb111e236",
   "metadata": {},
   "outputs": [],
   "source": []
  },
  {
   "cell_type": "code",
   "execution_count": null,
   "id": "cb6b640b-a095-428b-a692-d0928d6099b8",
   "metadata": {},
   "outputs": [],
   "source": []
  },
  {
   "cell_type": "code",
   "execution_count": null,
   "id": "b488a8cc-bfba-4779-b0bf-84174d9dbff8",
   "metadata": {},
   "outputs": [],
   "source": []
  },
  {
   "cell_type": "code",
   "execution_count": null,
   "id": "cf81cc22-ce33-421e-8682-73f0add5304b",
   "metadata": {},
   "outputs": [],
   "source": []
  },
  {
   "cell_type": "code",
   "execution_count": null,
   "id": "3208bbfe-6890-42f9-8d6c-95312b074485",
   "metadata": {},
   "outputs": [],
   "source": []
  },
  {
   "cell_type": "code",
   "execution_count": null,
   "id": "355efb57-94a1-4fc4-8890-ab7fa271b862",
   "metadata": {},
   "outputs": [],
   "source": []
  },
  {
   "cell_type": "code",
   "execution_count": null,
   "id": "d2ea7726-a8fe-4fb3-828e-ba20aebcd7ef",
   "metadata": {},
   "outputs": [],
   "source": []
  },
  {
   "cell_type": "code",
   "execution_count": null,
   "id": "53f43b81-426c-450b-ad80-03f669e2dd77",
   "metadata": {},
   "outputs": [],
   "source": []
  },
  {
   "cell_type": "code",
   "execution_count": null,
   "id": "fe19f41e-10bf-4acc-81fc-2d2cae273249",
   "metadata": {},
   "outputs": [],
   "source": []
  },
  {
   "cell_type": "code",
   "execution_count": null,
   "id": "84759b46-8b7a-4420-af29-b4577ef9bcce",
   "metadata": {},
   "outputs": [],
   "source": []
  },
  {
   "cell_type": "code",
   "execution_count": null,
   "id": "cf59e831-d1f9-45aa-bfc5-b989e80f8ad2",
   "metadata": {},
   "outputs": [],
   "source": [
    "HJ106 字符逆序"
   ]
  },
  {
   "cell_type": "code",
   "execution_count": null,
   "id": "2347fb7b-7824-4b04-bf26-78a0e673360b",
   "metadata": {},
   "outputs": [],
   "source": [
    "s = input()\n",
    "i = len(s) - 1\n",
    "result = []\n",
    "while i >= 0:\n",
    "    result.append(s[i])\n",
    "    i -= 1\n",
    "print(''.join(result))"
   ]
  },
  {
   "cell_type": "markdown",
   "id": "6983b1d9-72ad-458c-ba87-403a32705b26",
   "metadata": {
    "tags": []
   },
   "source": [
    "HJ107 求解立方根"
   ]
  },
  {
   "cell_type": "code",
   "execution_count": null,
   "id": "6c0b8686-a737-4038-a960-32acfaba3e90",
   "metadata": {},
   "outputs": [],
   "source": [
    "a = float(input().strip())\n",
    "x = 1.0\n",
    "# 牛顿迭代法\n",
    "while abs(x * x * x - a) >= 1e-7:\n",
    "    x = (x - x / 3 + a / (3 * x * x))\n",
    "print(round(x, 1))"
   ]
  },
  {
   "cell_type": "markdown",
   "id": "a326e0e0-b916-41e0-8442-063066fb0e0e",
   "metadata": {},
   "source": [
    "HJ108 求最小公倍数"
   ]
  },
  {
   "cell_type": "code",
   "execution_count": null,
   "id": "f0f991ee-a0cf-413f-9b42-2a29bafe9991",
   "metadata": {},
   "outputs": [],
   "source": [
    "import math\n",
    "def lcm(a, b):\n",
    "    # 最小公倍数 = 两数的乘积 / 最大公约数\n",
    "    return a * b // math.gcd(a, b)\n",
    "\n",
    "while True:\n",
    "    try:\n",
    "        a, b = map(int, input().strip().split())\n",
    "        print(lcm(a, b))\n",
    "    except:\n",
    "        break"
   ]
  }
 ],
 "metadata": {
  "kernelspec": {
   "display_name": "Python 3 (ipykernel)",
   "language": "python",
   "name": "python3"
  },
  "language_info": {
   "codemirror_mode": {
    "name": "ipython",
    "version": 3
   },
   "file_extension": ".py",
   "mimetype": "text/x-python",
   "name": "python",
   "nbconvert_exporter": "python",
   "pygments_lexer": "ipython3",
   "version": "3.8.13"
  }
 },
 "nbformat": 4,
 "nbformat_minor": 5
}
