{
 "cells": [
  {
   "cell_type": "markdown",
   "id": "d502cd2e-2469-4282-a40b-64508a197125",
   "metadata": {},
   "source": [
    "## 程序员代码面试指南"
   ]
  },
  {
   "cell_type": "code",
   "execution_count": null,
   "id": "c0ac6877-794d-43bb-ba39-974f093639af",
   "metadata": {},
   "outputs": [],
   "source": []
  }
 ],
 "metadata": {
  "kernelspec": {
   "display_name": "Python 3 (ipykernel)",
   "language": "python",
   "name": "python3"
  },
  "language_info": {
   "codemirror_mode": {
    "name": "ipython",
    "version": 3
   },
   "file_extension": ".py",
   "mimetype": "text/x-python",
   "name": "python",
   "nbconvert_exporter": "python",
   "pygments_lexer": "ipython3",
   "version": "3.8.13"
  }
 },
 "nbformat": 4,
 "nbformat_minor": 5
}
